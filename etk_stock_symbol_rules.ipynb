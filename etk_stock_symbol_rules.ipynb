{
 "cells": [
  {
   "cell_type": "markdown",
   "metadata": {
    "collapsed": true
   },
   "source": [
    "# Custom Spacy Rules"
   ]
  },
  {
   "cell_type": "code",
   "execution_count": 130,
   "metadata": {
    "collapsed": true
   },
   "outputs": [],
   "source": [
    "def generic_token(type=\"word\", token=[], shape=[], number =[], capitalization=[], part_of_speech=[], length=[], minimum=\"\", maximum=\"\", prefix=\"\", suffix=\"\", is_followed_by_space=\"\", is_required=\"true\", is_in_output=\"true\", is_out_of_vocabulary=\"\", is_in_vocabulary=\"\", contain_digit=\"\"):\n",
    "    return {\n",
    "        \"type\": type,\n",
    "        \"token\": token,\n",
    "        \"shapes\": shape,\n",
    "        \"numbers\": number,\n",
    "        \"capitalization\": capitalization,\n",
    "        \"part_of_speech\": part_of_speech,\n",
    "        \"length\": length,\n",
    "        \"minimum\": minimum,\n",
    "        \"maximum\": maximum,\n",
    "        \"prefix\": prefix,\n",
    "        \"suffix\": suffix,\n",
    "        \"is_required\": is_required,\n",
    "        \"is_in_output\": is_in_output,\n",
    "        \"is_out_of_vocabulary\": is_out_of_vocabulary,\n",
    "        \"is_in_vocabulary\": is_in_vocabulary,\n",
    "        \"contain_digit\": contain_digit\n",
    "    }\n",
    "def word_token(token=[], capitalization=[], part_of_speech=[], length=[], minimum=\"\", maximum=\"\", prefix=\"\", suffix=\"\", is_required=\"true\", is_in_output=\"false\", is_out_of_vocabulary=\"\", is_in_vocabulary=\"\", contain_digit=\"\"):\n",
    "     return generic_token(type=\"word\", token=token, capitalization=capitalization, part_of_speech=part_of_speech, length=length, minimum=minimum, maximum=maximum,prefix=prefix, suffix=suffix, is_required=is_required, is_in_output=is_in_output, is_out_of_vocabulary=is_out_of_vocabulary, is_in_vocabulary=is_in_vocabulary, contain_digit=contain_digit)\n",
    "    \n",
    "def punctuation_token(token=[], capitalization=[], part_of_speech=[], length=[], minimum=\"\", maximum=\"\", prefix=\"\", suffix=\"\",  is_required=\"true\", is_in_output=\"false\", is_out_of_vocabulary=\"\", is_in_vocabulary=\"\", contain_digit=\"\"):\n",
    "     return generic_token(type=\"punctuation\", token=token, capitalization=capitalization, part_of_speech=part_of_speech, length=length, minimum=minimum, maximum=maximum,prefix=prefix, suffix=suffix, is_required=is_required, is_in_output=is_in_output, is_out_of_vocabulary=is_out_of_vocabulary, is_in_vocabulary=is_in_vocabulary, contain_digit=contain_digit)\n",
    "\n",
    "def shape_token(shape=[], capitalization=[], part_of_speech=[], length=[], minimum=\"\", maximum=\"\", prefix=\"\", suffix=\"\",is_required=\"true\", is_in_output=\"false\", is_out_of_vocabulary=\"\", is_in_vocabulary=\"\", contain_digit=\"\"):\n",
    "     return generic_token(type=\"shape\", shape=shape, capitalization=capitalization, part_of_speech=part_of_speech, length=length, minimum=minimum, maximum=maximum,prefix=prefix, suffix=suffix, is_required=is_required, is_in_output=is_in_output, is_out_of_vocabulary=is_out_of_vocabulary, is_in_vocabulary=is_in_vocabulary, contain_digit=contain_digit)\n",
    "\n",
    "def number_token(number =[], capitalization=[], part_of_speech=[], length=[], minimum=\"\", maximum=\"\", prefix=\"\", suffix=\"\",is_required=\"true\", is_in_output=\"false\", is_out_of_vocabulary=\"\", is_in_vocabulary=\"\", contain_digit=\"\"):\n",
    "     return generic_token(type=\"number\", number=number, capitalization=capitalization, part_of_speech=part_of_speech, length=length, minimum=minimum, maximum=maximum,prefix=prefix, suffix=suffix, is_required=is_required, is_in_output=is_in_output, is_out_of_vocabulary=is_out_of_vocabulary, is_in_vocabulary=is_in_vocabulary, contain_digit=contain_digit)\n",
    "\n",
    "\n",
    "    \n",
    "    \n"
   ]
  },
  {
   "cell_type": "code",
   "execution_count": 131,
   "metadata": {
    "collapsed": true
   },
   "outputs": [],
   "source": [
    "sampe_rules = {\n",
    "  \"rules\": [\n",
    "      {\n",
    "      \"identifier\": \"an indentifier\",\n",
    "      \"description\": \"a description\",\n",
    "      \"is_active\": \"true/false\",\n",
    "      \"output_format\": \"\",\n",
    "      \"pattern\": [\n",
    "        {\n",
    "          \"type\": \"word\",\n",
    "          \"token\": [\"tOWN\", \"job\"],\n",
    "          \"capitalization\": [\"title\", \"upper\", \"mixed\", \"lower\", \"exact\"],\n",
    "          \"part_of_speech\": [\"noun\", \"pronoun\", \"NOT punctuation\"],\n",
    "          \"length\": [],\n",
    "          \"can_include_digits\": \"true/false\",\n",
    "          \"prefix\": \"ssss\",\n",
    "          \"suffix\": \"\",\n",
    "#           \"is_followed_by_space\": \"true/false\",\n",
    "          \"is_required\": \"false\",\n",
    "          \"is_in_output\": \"true/false\",\n",
    "          \"is_out_of_vocabulary\": \"true\",\n",
    "          \"is_in_vocabulary\":\"\",\n",
    "          \"contain_digit\":\"\"\n",
    "        },\n",
    "        {\n",
    "          \"type\": \"word\",\n",
    "          \"token\": [],\n",
    "          \"capitalization\": [\"lower\", \"upper\", \"mixed\"],\n",
    "          \"part_of_speech\": [],\n",
    "          \"length\": [5, 7],\n",
    "          \"prefix\": \"SA\",\n",
    "          \"suffix\": \"WF\",\n",
    "          \"is_followed_by_space\": \"true/false\",\n",
    "          \"is_required\": \"true\",\n",
    "          \"is_in_output\": \"true/false\",\n",
    "          \"is_out_of_vocabulary\": \"true\",\n",
    "          \"is_in_vocabulary\":\"\",\n",
    "          \"contain_digit\":\"\"\n",
    "        },\n",
    "        {\n",
    "          \"type\": \"word\",\n",
    "          \"token\": [],\n",
    "          \"capitalization\": [],\n",
    "          \"part_of_speech\": [],\n",
    "          \"length\": [],\n",
    "          \"prefix\": \"EEW\",\n",
    "          \"suffix\": \"RHI\",\n",
    "          \"is_followed_by_space\": \"true/false\",\n",
    "          \"is_required\": \"false\",\n",
    "          \"is_in_output\": \"true/false\",\n",
    "          \"is_out_of_vocabulary\": \"true\",\n",
    "          \"is_in_vocabulary\":\"\",\n",
    "          \"contain_digit\":\"\"\n",
    "        },\n",
    "        {\n",
    "          \"type\": \"number\",\n",
    "          \"tokens\": [],\n",
    "          \"length\": [],\n",
    "          \"prefix\": [],\n",
    "          \"suffix\": [],\n",
    "          \"min\":\"\",\n",
    "          \"max\":\"\",\n",
    "          \"is_followed_by_space\": \"true/false\",\n",
    "          \"is_required\": \"true/false\",\n",
    "          \"is_in_output\": \"true/false\"\n",
    "        },\n",
    "        {\n",
    "          \"type\": \"shape\",\n",
    "          \"shapes\": [\"xxxx\", \"xxxxxx\", \"XXXXXdd.dddXXxxxxxxx\"],\n",
    "          \"part_of_speech\": [],\n",
    "          \"prefix\": \"ss\",\n",
    "          \"suffix\": \"pp\",\n",
    "          \"is_followed_by_space\": \"true/false\",\n",
    "          \"is_required\": \"true\",\n",
    "          \"is_in_output\": \"true\"\n",
    "        },\n",
    "        {\n",
    "          \"type\": \"punctuation\",\n",
    "          \"token\": [\",\", \"?\"],\n",
    "          \"is_followed_by_space\": \"true/false\",\n",
    "          \"is_required\": \"false\",\n",
    "          \"is_in_output\": \"true\"\n",
    "        },\n",
    "        {\n",
    "          \"type\": \"symbol\",\n",
    "          \"token\": [],\n",
    "          \"is_followed_by_space\": \"true/false\",\n",
    "          \"is_required\": \"true/false\",\n",
    "          \"is_in_output\": \"true/false\"\n",
    "        }\n",
    "      ]\n",
    "    }\n",
    "  ]\n",
    "}"
   ]
  },
  {
   "cell_type": "code",
   "execution_count": 132,
   "metadata": {
    "collapsed": true
   },
   "outputs": [],
   "source": [
    "import json\n",
    "from etk.core import Core\n",
    "c = Core()"
   ]
  },
  {
   "cell_type": "code",
   "execution_count": 133,
   "metadata": {},
   "outputs": [
    {
     "name": "stdout",
     "output_type": "stream",
     "text": [
      "{'text': u\" A, BA,  \\n C^J,        BAC,      C-C,         JW.B,    \\n BK^C,       ABRN,     NS-A,  \\n ADK^A,      ABEOW ,    ABC-A,      BAC.A,       HK.WS,  \\n MITT^A,                             HCAC.U,     BTX.WS,     ,       C.WS.A,\\n                                                 IMUC.WS,   \\n                                                                   BAC.WS.A \\n CHSP^A.CL \\n Alibaba Group Holding Ltd (NYSE:BABA) dealt another ,  (NASDAQ:AMZN) this week \\n $USCR, $TSLA \\n common Stock (AAPL) , Apple Inc. (AAPL). \\nAAPL is looking to, |  for AAPQ was 8.31 For the fiscal y  | ,AAPW has efficiently invested ,| AAPE comes one wee,,AAPR may refer to:  |,AAPl closed at ab|including AAPT news, historical|The bank lowered its AAPY price target to $150, |Earnings estimates for AAPU from thousands of | View the basic AAPO stock chart \\nAAPA: Get the latest Apple, AMZA - Free Report, unveiled, AAPD's stock sold off\\nGOOGL 919.46 -10.22 -1.10%,AAPL 146.28 0.65 0.45% :\", 'simple_tokens_original_case': [u'A', u',', u'BA', u',', u'\\n', u'C', u'^', u'J', u',', u'BAC', u',', u'C', u'-', u'C', u',', u'JW', u'.', u'B', u',', u'\\n', u'BK', u'^', u'C', u',', u'ABRN', u',', u'NS', u'-', u'A', u',', u'\\n', u'ADK', u'^', u'A', u',', u'ABEOW', u',', u'ABC', u'-', u'A', u',', u'BAC', u'.', u'A', u',', u'HK', u'.', u'WS', u',', u'\\n', u'MITT', u'^', u'A', u',', u'HCAC', u'.', u'U', u',', u'BTX', u'.', u'WS', u',', u',', u'C', u'.', u'WS', u'.', u'A', u',', u'\\n', u'IMUC', u'.', u'WS', u',', u'\\n', u'BAC', u'.', u'WS', u'.', u'A', u'\\n', u'CHSP', u'^', u'A', u'.', u'CL', u'\\n', u'Alibaba', u'Group', u'Holding', u'Ltd', u'(', u'NYSE', u':', u'BABA', u')', u'dealt', u'another', u',', u'(', u'NASDAQ', u':', u'AMZN', u')', u'this', u'week', u'\\n', u'$', u'USCR', u',', u'$', u'TSLA', u'\\n', u'common', u'Stock', u'(', u'AAPL', u')', u',', u'Apple', u'Inc', u'.', u'(', u'AAPL', u')', u'.', u'\\n', u'AAPL', u'is', u'looking', u'to', u',', u'|', u'for', u'AAPQ', u'was', u'8', u'.', u'31', u'For', u'the', u'fiscal', u'y', u'|', u',', u'AAPW', u'has', u'efficiently', u'invested', u',', u'|', u'AAPE', u'comes', u'one', u'wee', u',', u',', u'AAPR', u'may', u'refer', u'to', u':', u'|', u',', u'AAPl', u'closed', u'at', u'ab', u'|', u'including', u'AAPT', u'news', u',', u'historical', u'|', u'The', u'bank', u'lowered', u'its', u'AAPY', u'price', u'target', u'to', u'$', u'150', u',', u'|', u'Earnings', u'estimates', u'for', u'AAPU', u'from', u'thousands', u'of', u'|', u'View', u'the', u'basic', u'AAPO', u'stock', u'chart', u'\\n', u'AAPA', u':', u'Get', u'the', u'latest', u'Apple', u',', u'AMZA', u'-', u'Free', u'Report', u',', u'unveiled', u',', u'AAPD', u\"'\", u's', u'stock', u'sold', u'off', u'\\n', u'GOOGL', u'919', u'.', u'46', u'-', u'10', u'.', u'22', u'-', u'1', u'.', u'10', u'%', u',', u'AAPL', u'146', u'.', u'28', u'0', u'.', u'65', u'0', u'.', u'45', u'%', u':']}\n"
     ]
    }
   ],
   "source": [
    "# Text to test the rules\n",
    "t = []\n",
    "t.append(u\" A, BA,  \")\n",
    "t.append(u\" C^J,        BAC,      C-C,         JW.B,    \")\n",
    "t.append(u\" BK^C,       ABRN,     NS-A,  \")\n",
    "t.append(u\" ADK^A,      ABEOW ,    ABC-A,      BAC.A,       HK.WS,  \") #5\n",
    "t.append(u\" MITT^A,                             HCAC.U,     BTX.WS,     ,       C.WS.A,\") #6\n",
    "t.append(u\"                                                 IMUC.WS,   \") #7\n",
    "t.append(u\"                                                                   BAC.WS.A \") #8\n",
    "t.append(u\" CHSP^A.CL \") #9\n",
    "\n",
    "\n",
    "t.append(u\" Alibaba Group Holding Ltd (NYSE:BABA) dealt another ,  (NASDAQ:AMZN) this week \")\n",
    "t.append(u\" $USCR, $TSLA \")\n",
    "t.append(u\" common Stock (AAPL) , Apple Inc. (AAPL). \")\n",
    "\n",
    "\n",
    "t.append(u\"AAPL is looking to, |  for AAPQ was 8.31 For the fiscal y  | ,AAPW has efficiently invested ,| AAPE comes one wee,,AAPR may refer to:  |,AAPl closed at ab|including AAPT news, historical|The bank lowered its AAPY price target to $150, |Earnings estimates for AAPU from thousands of | View the basic AAPO stock chart \")\n",
    "\n",
    "t.append(u\"AAPA: Get the latest Apple, AMZA - Free Report, unveiled, AAPD's stock sold off\")\n",
    "    \n",
    "    \n",
    "    \n",
    "t.append(u\"GOOGL 919.46 -10.22 -1.10%,AAPL 146.28 0.65 0.45% :\")\n",
    "         \n",
    "\n",
    "d = dict()\n",
    "d['text'] = \"\\n\".join(t)\n",
    "d['simple_tokens_original_case'] = c.extract_tokens_from_crf(c.extract_crftokens(d['text'], lowercase=False))\n",
    "\n",
    "print d\n",
    "\n",
    "config = dict()\n",
    "config['field_name'] = 'field02'\n"
   ]
  },
  {
   "cell_type": "code",
   "execution_count": 134,
   "metadata": {},
   "outputs": [
    {
     "name": "stdout",
     "output_type": "stream",
     "text": [
      "text:  A, BA,  \n",
      " C^J,        BAC,      C-C,         JW.B,    \n",
      " BK^C,       ABRN,     NS-A,  \n",
      " ADK^A,      ABEOW ,    ABC-A,      BAC.A,       HK.WS,  \n",
      " MITT^A,                             HCAC.U,     BTX.WS,     ,       C.WS.A,\n",
      "                                                 IMUC.WS,   \n",
      "                                                                   BAC.WS.A \n",
      " CHSP^A.CL \n",
      " Alibaba Group Holding Ltd (NYSE:BABA) dealt another ,  (NASDAQ:AMZN) this week \n",
      " $USCR, $TSLA \n",
      " common Stock (AAPL) , Apple Inc. (AAPL). \n",
      "AAPL is looking to, |  for AAPQ was 8.31 For the fiscal y  | ,AAPW has efficiently invested ,| AAPE comes one wee,,AAPR may refer to:  |,AAPl closed at ab|including AAPT news, historical|The bank lowered its AAPY price target to $150, |Earnings estimates for AAPU from thousands of | View the basic AAPO stock chart \n",
      "AAPA: Get the latest Apple, AMZA - Free Report, unveiled, AAPD's stock sold off\n",
      "GOOGL 919.46 -10.22 -1.10%,AAPL 146.28 0.65 0.45% :\n"
     ]
    },
    {
     "data": {
      "text/plain": [
       "[]"
      ]
     },
     "execution_count": 134,
     "metadata": {},
     "output_type": "execute_result"
    }
   ],
   "source": [
    "# C^J, BK^C, ADK^A, MITT^A,\n",
    "\n",
    "rule_01 = {\n",
    "      \"identifier\": \"stock_symbol_rule_us\",\n",
    "      \"description\": \"a description\",\n",
    "      \"is_active\": \"false\",\n",
    "      \"output_format\": \"\",\n",
    "      \"pattern\": [\n",
    "            shape_token(shape =[\"X\",\"XX\",\"XXX\",\"XXXX\"],  is_in_output=\"true\"),\n",
    "            punctuation_token(token=[\"^\"],  is_in_output=\"true\"),\n",
    "            shape_token(shape =[\"X\"],  is_in_output=\"true\")\n",
    "      ]\n",
    "    }\n",
    "\n",
    "field_rules = {\n",
    "  \"rules\": [\n",
    "      rule_01\n",
    "  ]\n",
    "}\n",
    "\n",
    "print \"text:\", d['text']\n",
    "results = c.extract_using_custom_spacy(d, config, field_rules=field_rules)\n",
    "tele_lst = []\n",
    "for i in results:\n",
    "    tele_lst.append(''.join((i.values()[1]).split()))\n",
    "tele_lst"
   ]
  },
  {
   "cell_type": "code",
   "execution_count": 135,
   "metadata": {},
   "outputs": [
    {
     "name": "stdout",
     "output_type": "stream",
     "text": [
      "text:  A, BA,  \n",
      " C^J,        BAC,      C-C,         JW.B,    \n",
      " BK^C,       ABRN,     NS-A,  \n",
      " ADK^A,      ABEOW ,    ABC-A,      BAC.A,       HK.WS,  \n",
      " MITT^A,                             HCAC.U,     BTX.WS,     ,       C.WS.A,\n",
      "                                                 IMUC.WS,   \n",
      "                                                                   BAC.WS.A \n",
      " CHSP^A.CL \n",
      " Alibaba Group Holding Ltd (NYSE:BABA) dealt another ,  (NASDAQ:AMZN) this week \n",
      " $USCR, $TSLA \n",
      " common Stock (AAPL) , Apple Inc. (AAPL). \n",
      "AAPL is looking to, |  for AAPQ was 8.31 For the fiscal y  | ,AAPW has efficiently invested ,| AAPE comes one wee,,AAPR may refer to:  |,AAPl closed at ab|including AAPT news, historical|The bank lowered its AAPY price target to $150, |Earnings estimates for AAPU from thousands of | View the basic AAPO stock chart \n",
      "AAPA: Get the latest Apple, AMZA - Free Report, unveiled, AAPD's stock sold off\n",
      "GOOGL 919.46 -10.22 -1.10%,AAPL 146.28 0.65 0.45% :\n"
     ]
    },
    {
     "data": {
      "text/plain": [
       "[]"
      ]
     },
     "execution_count": 135,
     "metadata": {},
     "output_type": "execute_result"
    }
   ],
   "source": [
    "# CHSP^A.CL \n",
    "rule_02 = {\n",
    "      \"identifier\": \"stock_symbol_rule_us\",\n",
    "      \"description\": \"a description\",\n",
    "      \"is_active\": \"false\",\n",
    "      \"output_format\": \"\",\n",
    "      \"pattern\": [\n",
    "            shape_token(shape =[\"X\",\"XX\",\"XXX\",\"XXXX\"],  is_in_output=\"true\"),\n",
    "            punctuation_token(token=[\"^\"],  is_in_output=\"true\"),\n",
    "            shape_token(shape =[\"X\"],  is_in_output=\"true\"),\n",
    "            punctuation_token(token=[\".\"],  is_in_output=\"true\"),\n",
    "            shape_token(shape =[\"XX\"],  is_in_output=\"true\"),\n",
    "      ]\n",
    "    }\n",
    "\n",
    "field_rules = {\n",
    "  \"rules\": [\n",
    "      rule_02\n",
    "  ]\n",
    "}\n",
    "\n",
    "print \"text:\", d['text']\n",
    "results = c.extract_using_custom_spacy(d, config, field_rules=field_rules)\n",
    "tele_lst = []\n",
    "for i in results:\n",
    "    tele_lst.append(''.join((i.values()[1]).split()))\n",
    "tele_lst"
   ]
  },
  {
   "cell_type": "code",
   "execution_count": 136,
   "metadata": {},
   "outputs": [
    {
     "name": "stdout",
     "output_type": "stream",
     "text": [
      "text:  A, BA,  \n",
      " C^J,        BAC,      C-C,         JW.B,    \n",
      " BK^C,       ABRN,     NS-A,  \n",
      " ADK^A,      ABEOW ,    ABC-A,      BAC.A,       HK.WS,  \n",
      " MITT^A,                             HCAC.U,     BTX.WS,     ,       C.WS.A,\n",
      "                                                 IMUC.WS,   \n",
      "                                                                   BAC.WS.A \n",
      " CHSP^A.CL \n",
      " Alibaba Group Holding Ltd (NYSE:BABA) dealt another ,  (NASDAQ:AMZN) this week \n",
      " $USCR, $TSLA \n",
      " common Stock (AAPL) , Apple Inc. (AAPL). \n",
      "AAPL is looking to, |  for AAPQ was 8.31 For the fiscal y  | ,AAPW has efficiently invested ,| AAPE comes one wee,,AAPR may refer to:  |,AAPl closed at ab|including AAPT news, historical|The bank lowered its AAPY price target to $150, |Earnings estimates for AAPU from thousands of | View the basic AAPO stock chart \n",
      "AAPA: Get the latest Apple, AMZA - Free Report, unveiled, AAPD's stock sold off\n",
      "GOOGL 919.46 -10.22 -1.10%,AAPL 146.28 0.65 0.45% :\n"
     ]
    },
    {
     "data": {
      "text/plain": [
       "[]"
      ]
     },
     "execution_count": 136,
     "metadata": {},
     "output_type": "execute_result"
    }
   ],
   "source": [
    "# BAC, ABRN, ABEOW ,\n",
    "\n",
    "rule_03 = {\n",
    "      \"identifier\": \"stock_symbol_rule_us\",\n",
    "      \"description\": \"a description\",\n",
    "      \"is_active\": \"false\",\n",
    "      \"output_format\": \"\",\n",
    "      \"pattern\": [\n",
    "            shape_token(shape =[\"X\",\"XX\",\"XXX\",\"XXXX\",\"XXXXX\"],  is_in_output=\"true\")\n",
    "      ]\n",
    "    }\n",
    "\n",
    "field_rules = {\n",
    "  \"rules\": [\n",
    "      rule_03\n",
    "  ]\n",
    "}\n",
    "\n",
    "print \"text:\", d['text']\n",
    "results = c.extract_using_custom_spacy(d, config, field_rules=field_rules)\n",
    "tele_lst = []\n",
    "for i in results:\n",
    "    tele_lst.append(''.join((i.values()[1]).split()))\n",
    "tele_lst"
   ]
  },
  {
   "cell_type": "code",
   "execution_count": 137,
   "metadata": {},
   "outputs": [
    {
     "name": "stdout",
     "output_type": "stream",
     "text": [
      "text:  A, BA,  \n",
      " C^J,        BAC,      C-C,         JW.B,    \n",
      " BK^C,       ABRN,     NS-A,  \n",
      " ADK^A,      ABEOW ,    ABC-A,      BAC.A,       HK.WS,  \n",
      " MITT^A,                             HCAC.U,     BTX.WS,     ,       C.WS.A,\n",
      "                                                 IMUC.WS,   \n",
      "                                                                   BAC.WS.A \n",
      " CHSP^A.CL \n",
      " Alibaba Group Holding Ltd (NYSE:BABA) dealt another ,  (NASDAQ:AMZN) this week \n",
      " $USCR, $TSLA \n",
      " common Stock (AAPL) , Apple Inc. (AAPL). \n",
      "AAPL is looking to, |  for AAPQ was 8.31 For the fiscal y  | ,AAPW has efficiently invested ,| AAPE comes one wee,,AAPR may refer to:  |,AAPl closed at ab|including AAPT news, historical|The bank lowered its AAPY price target to $150, |Earnings estimates for AAPU from thousands of | View the basic AAPO stock chart \n",
      "AAPA: Get the latest Apple, AMZA - Free Report, unveiled, AAPD's stock sold off\n",
      "GOOGL 919.46 -10.22 -1.10%,AAPL 146.28 0.65 0.45% :\n"
     ]
    },
    {
     "data": {
      "text/plain": [
       "[]"
      ]
     },
     "execution_count": 137,
     "metadata": {},
     "output_type": "execute_result"
    }
   ],
   "source": [
    "# C-C, NS-A, ABC-A,\n",
    "rule_04 = {\n",
    "      \"identifier\": \"stock_symbol_rule_us\",\n",
    "      \"description\": \"a description\",\n",
    "      \"is_active\": \"false\",\n",
    "      \"output_format\": \"\",\n",
    "      \"pattern\": [\n",
    "            shape_token(shape =[\"X\",\"XX\",\"XXX\"],  is_in_output=\"true\"),\n",
    "            punctuation_token(token=[\"-\"],  is_in_output=\"true\"),\n",
    "            shape_token(shape =[\"X\"],  is_in_output=\"true\")\n",
    "      ]\n",
    "    }\n",
    "\n",
    "field_rules = {\n",
    "  \"rules\": [\n",
    "      rule_04\n",
    "  ]\n",
    "}\n",
    "\n",
    "print \"text:\", d['text']\n",
    "results = c.extract_using_custom_spacy(d, config, field_rules=field_rules)\n",
    "tele_lst = []\n",
    "for i in results:\n",
    "    tele_lst.append(''.join((i.values()[1]).split()))\n",
    "tele_lst"
   ]
  },
  {
   "cell_type": "code",
   "execution_count": 138,
   "metadata": {},
   "outputs": [
    {
     "name": "stdout",
     "output_type": "stream",
     "text": [
      "text:  A, BA,  \n",
      " C^J,        BAC,      C-C,         JW.B,    \n",
      " BK^C,       ABRN,     NS-A,  \n",
      " ADK^A,      ABEOW ,    ABC-A,      BAC.A,       HK.WS,  \n",
      " MITT^A,                             HCAC.U,     BTX.WS,     ,       C.WS.A,\n",
      "                                                 IMUC.WS,   \n",
      "                                                                   BAC.WS.A \n",
      " CHSP^A.CL \n",
      " Alibaba Group Holding Ltd (NYSE:BABA) dealt another ,  (NASDAQ:AMZN) this week \n",
      " $USCR, $TSLA \n",
      " common Stock (AAPL) , Apple Inc. (AAPL). \n",
      "AAPL is looking to, |  for AAPQ was 8.31 For the fiscal y  | ,AAPW has efficiently invested ,| AAPE comes one wee,,AAPR may refer to:  |,AAPl closed at ab|including AAPT news, historical|The bank lowered its AAPY price target to $150, |Earnings estimates for AAPU from thousands of | View the basic AAPO stock chart \n",
      "AAPA: Get the latest Apple, AMZA - Free Report, unveiled, AAPD's stock sold off\n",
      "GOOGL 919.46 -10.22 -1.10%,AAPL 146.28 0.65 0.45% :\n"
     ]
    },
    {
     "data": {
      "text/plain": [
       "[]"
      ]
     },
     "execution_count": 138,
     "metadata": {},
     "output_type": "execute_result"
    }
   ],
   "source": [
    "# JW.B, BAC.A, HCAC.U,\n",
    "\n",
    "rule_05 = {\n",
    "      \"identifier\": \"stock_symbol_rule_us\",\n",
    "      \"description\": \"a description\",\n",
    "      \"is_active\": \"false\",\n",
    "      \"output_format\": \"\",\n",
    "      \"pattern\": [\n",
    "            shape_token(shape =[\"XX\",\"XXX\",\"XXXX\"],  is_in_output=\"true\"),\n",
    "            punctuation_token(token=[\".\"],  is_in_output=\"true\"),\n",
    "            shape_token(shape =[\"X\"],  is_in_output=\"true\")\n",
    "      ]\n",
    "    }\n",
    "\n",
    "field_rules = {\n",
    "  \"rules\": [\n",
    "      rule_05\n",
    "  ]\n",
    "}\n",
    "\n",
    "print \"text:\", d['text']\n",
    "results = c.extract_using_custom_spacy(d, config, field_rules=field_rules)\n",
    "tele_lst = []\n",
    "for i in results:\n",
    "    tele_lst.append(''.join((i.values()[1]).split()))\n",
    "tele_lst"
   ]
  },
  {
   "cell_type": "code",
   "execution_count": 139,
   "metadata": {},
   "outputs": [
    {
     "name": "stdout",
     "output_type": "stream",
     "text": [
      "text:  A, BA,  \n",
      " C^J,        BAC,      C-C,         JW.B,    \n",
      " BK^C,       ABRN,     NS-A,  \n",
      " ADK^A,      ABEOW ,    ABC-A,      BAC.A,       HK.WS,  \n",
      " MITT^A,                             HCAC.U,     BTX.WS,     ,       C.WS.A,\n",
      "                                                 IMUC.WS,   \n",
      "                                                                   BAC.WS.A \n",
      " CHSP^A.CL \n",
      " Alibaba Group Holding Ltd (NYSE:BABA) dealt another ,  (NASDAQ:AMZN) this week \n",
      " $USCR, $TSLA \n",
      " common Stock (AAPL) , Apple Inc. (AAPL). \n",
      "AAPL is looking to, |  for AAPQ was 8.31 For the fiscal y  | ,AAPW has efficiently invested ,| AAPE comes one wee,,AAPR may refer to:  |,AAPl closed at ab|including AAPT news, historical|The bank lowered its AAPY price target to $150, |Earnings estimates for AAPU from thousands of | View the basic AAPO stock chart \n",
      "AAPA: Get the latest Apple, AMZA - Free Report, unveiled, AAPD's stock sold off\n",
      "GOOGL 919.46 -10.22 -1.10%,AAPL 146.28 0.65 0.45% :\n"
     ]
    },
    {
     "data": {
      "text/plain": [
       "[]"
      ]
     },
     "execution_count": 139,
     "metadata": {},
     "output_type": "execute_result"
    }
   ],
   "source": [
    "# HK.WS, BTX.WS,  IMUC.WS, \n",
    "\n",
    "rule_06 = {\n",
    "      \"identifier\": \"stock_symbol_rule_us\",\n",
    "      \"description\": \"a description\",\n",
    "      \"is_active\": \"false\",\n",
    "      \"output_format\": \"\",\n",
    "      \"pattern\": [\n",
    "            shape_token(shape =[\"XX\",\"XXX\",\"XXXX\"],  is_in_output=\"true\"),\n",
    "            punctuation_token(token=[\".\"],  is_in_output=\"true\"),\n",
    "            shape_token(shape =[\"XX\"],  is_in_output=\"true\")\n",
    "      ]\n",
    "    }\n",
    "\n",
    "field_rules = {\n",
    "  \"rules\": [\n",
    "      rule_06\n",
    "  ]\n",
    "}\n",
    "\n",
    "print \"text:\", d['text']\n",
    "results = c.extract_using_custom_spacy(d, config, field_rules=field_rules)\n",
    "tele_lst = []\n",
    "for i in results:\n",
    "    tele_lst.append(''.join((i.values()[1]).split()))\n",
    "tele_lst"
   ]
  },
  {
   "cell_type": "code",
   "execution_count": 140,
   "metadata": {},
   "outputs": [
    {
     "name": "stdout",
     "output_type": "stream",
     "text": [
      "text:  A, BA,  \n",
      " C^J,        BAC,      C-C,         JW.B,    \n",
      " BK^C,       ABRN,     NS-A,  \n",
      " ADK^A,      ABEOW ,    ABC-A,      BAC.A,       HK.WS,  \n",
      " MITT^A,                             HCAC.U,     BTX.WS,     ,       C.WS.A,\n",
      "                                                 IMUC.WS,   \n",
      "                                                                   BAC.WS.A \n",
      " CHSP^A.CL \n",
      " Alibaba Group Holding Ltd (NYSE:BABA) dealt another ,  (NASDAQ:AMZN) this week \n",
      " $USCR, $TSLA \n",
      " common Stock (AAPL) , Apple Inc. (AAPL). \n",
      "AAPL is looking to, |  for AAPQ was 8.31 For the fiscal y  | ,AAPW has efficiently invested ,| AAPE comes one wee,,AAPR may refer to:  |,AAPl closed at ab|including AAPT news, historical|The bank lowered its AAPY price target to $150, |Earnings estimates for AAPU from thousands of | View the basic AAPO stock chart \n",
      "AAPA: Get the latest Apple, AMZA - Free Report, unveiled, AAPD's stock sold off\n",
      "GOOGL 919.46 -10.22 -1.10%,AAPL 146.28 0.65 0.45% :\n"
     ]
    },
    {
     "data": {
      "text/plain": [
       "[]"
      ]
     },
     "execution_count": 140,
     "metadata": {},
     "output_type": "execute_result"
    }
   ],
   "source": [
    "# C.WS.A,  BAC.WS.A\n",
    "\n",
    "rule_07 = {\n",
    "      \"identifier\": \"stock_symbol_rule_us\",\n",
    "      \"description\": \"a description\",\n",
    "      \"is_active\": \"false\",\n",
    "      \"output_format\": \"\",\n",
    "      \"pattern\": [\n",
    "            shape_token(shape =[\"X\",\"XXX\"],  is_in_output=\"true\"),\n",
    "            punctuation_token(token=[\".\"],  is_in_output=\"true\"),\n",
    "            shape_token(shape =[\"XX\"],  is_in_output=\"true\"),\n",
    "            punctuation_token(token=[\".\"],  is_in_output=\"true\"),\n",
    "            shape_token(shape =[\"X\"],  is_in_output=\"true\")\n",
    "\n",
    "      ]\n",
    "    }\n",
    "\n",
    "field_rules = {\n",
    "  \"rules\": [\n",
    "      rule_07\n",
    "  ]\n",
    "}\n",
    "\n",
    "print \"text:\", d['text']\n",
    "results = c.extract_using_custom_spacy(d, config, field_rules=field_rules)\n",
    "tele_lst = []\n",
    "for i in results:\n",
    "    tele_lst.append(''.join((i.values()[1]).split()))\n",
    "tele_lst"
   ]
  },
  {
   "cell_type": "code",
   "execution_count": 141,
   "metadata": {},
   "outputs": [
    {
     "name": "stdout",
     "output_type": "stream",
     "text": [
      "text:  A, BA,  \n",
      " C^J,        BAC,      C-C,         JW.B,    \n",
      " BK^C,       ABRN,     NS-A,  \n",
      " ADK^A,      ABEOW ,    ABC-A,      BAC.A,       HK.WS,  \n",
      " MITT^A,                             HCAC.U,     BTX.WS,     ,       C.WS.A,\n",
      "                                                 IMUC.WS,   \n",
      "                                                                   BAC.WS.A \n",
      " CHSP^A.CL \n",
      " Alibaba Group Holding Ltd (NYSE:BABA) dealt another ,  (NASDAQ:AMZN) this week \n",
      " $USCR, $TSLA \n",
      " common Stock (AAPL) , Apple Inc. (AAPL). \n",
      "AAPL is looking to, |  for AAPQ was 8.31 For the fiscal y  | ,AAPW has efficiently invested ,| AAPE comes one wee,,AAPR may refer to:  |,AAPl closed at ab|including AAPT news, historical|The bank lowered its AAPY price target to $150, |Earnings estimates for AAPU from thousands of | View the basic AAPO stock chart \n",
      "AAPA: Get the latest Apple, AMZA - Free Report, unveiled, AAPD's stock sold off\n",
      "GOOGL 919.46 -10.22 -1.10%,AAPL 146.28 0.65 0.45% :\n"
     ]
    },
    {
     "data": {
      "text/plain": [
       "[]"
      ]
     },
     "execution_count": 141,
     "metadata": {},
     "output_type": "execute_result"
    }
   ],
   "source": [
    "# C^J, BK^C, ADK^A, MITT^A,   (NYSE:BABA) dealt another ,  (NASDAQ:AMZN) this \n",
    "\n",
    "rule_08 = {\n",
    "      \"identifier\": \"stock_symbol_rule_us\",\n",
    "      \"description\": \"a description\",\n",
    "      \"is_active\": \"true\",\n",
    "      \"output_format\": \"{1}{2}{3}\",\n",
    "      \"pattern\": [\n",
    "            word_token(token=[\"NYSE\",\"NASDAQ\"],is_in_output=\"false\"),\n",
    "            punctuation_token(token=[\":\"],  is_in_output=\"false\"),\n",
    "\n",
    "            shape_token(shape =[\"X\",\"XX\",\"XXX\",\"XXXX\"],  is_in_output=\"true\"),\n",
    "            punctuation_token(token=[\"^\"],  is_in_output=\"true\"),\n",
    "            shape_token(shape =[\"X\"],  is_in_output=\"true\")\n",
    "      ]\n",
    "    }\n",
    "\n",
    "field_rules = {\n",
    "  \"rules\": [\n",
    "      rule_08\n",
    "  ]\n",
    "}\n",
    "\n",
    "print \"text:\", d['text']\n",
    "results = c.extract_using_custom_spacy(d, config, field_rules=field_rules)\n",
    "tele_lst = []\n",
    "for i in results:\n",
    "    tele_lst.append(''.join((i.values()[1]).split()))\n",
    "tele_lst"
   ]
  },
  {
   "cell_type": "code",
   "execution_count": 142,
   "metadata": {},
   "outputs": [
    {
     "name": "stdout",
     "output_type": "stream",
     "text": [
      "text:  A, BA,  \n",
      " C^J,        BAC,      C-C,         JW.B,    \n",
      " BK^C,       ABRN,     NS-A,  \n",
      " ADK^A,      ABEOW ,    ABC-A,      BAC.A,       HK.WS,  \n",
      " MITT^A,                             HCAC.U,     BTX.WS,     ,       C.WS.A,\n",
      "                                                 IMUC.WS,   \n",
      "                                                                   BAC.WS.A \n",
      " CHSP^A.CL \n",
      " Alibaba Group Holding Ltd (NYSE:BABA) dealt another ,  (NASDAQ:AMZN) this week \n",
      " $USCR, $TSLA \n",
      " common Stock (AAPL) , Apple Inc. (AAPL). \n",
      "AAPL is looking to, |  for AAPQ was 8.31 For the fiscal y  | ,AAPW has efficiently invested ,| AAPE comes one wee,,AAPR may refer to:  |,AAPl closed at ab|including AAPT news, historical|The bank lowered its AAPY price target to $150, |Earnings estimates for AAPU from thousands of | View the basic AAPO stock chart \n",
      "AAPA: Get the latest Apple, AMZA - Free Report, unveiled, AAPD's stock sold off\n",
      "GOOGL 919.46 -10.22 -1.10%,AAPL 146.28 0.65 0.45% :\n"
     ]
    },
    {
     "data": {
      "text/plain": [
       "[]"
      ]
     },
     "execution_count": 142,
     "metadata": {},
     "output_type": "execute_result"
    }
   ],
   "source": [
    "# CHSP^A.CL \n",
    "rule_09 = {\n",
    "      \"identifier\": \"stock_symbol_rule_us\",\n",
    "      \"description\": \"a description\",\n",
    "      \"is_active\": \"true\",\n",
    "      \"output_format\": \"{1}{2}{3}{4}{5}\",\n",
    "      \"pattern\": [\n",
    "            word_token(token=[\"NYSE\",\"NASDAQ\"],is_in_output=\"false\"),\n",
    "            punctuation_token(token=[\":\"],  is_in_output=\"false\"),\n",
    "\n",
    "            shape_token(shape =[\"X\",\"XX\",\"XXX\",\"XXXX\"],  is_in_output=\"true\"),\n",
    "            punctuation_token(token=[\"^\"],  is_in_output=\"true\"),\n",
    "            shape_token(shape =[\"X\"],  is_in_output=\"true\"),\n",
    "            punctuation_token(token=[\".\"],  is_in_output=\"true\"),\n",
    "            shape_token(shape =[\"XX\"],  is_in_output=\"true\"),\n",
    "      ]\n",
    "    }\n",
    "\n",
    "field_rules = {\n",
    "  \"rules\": [\n",
    "      rule_09\n",
    "  ]\n",
    "}\n",
    "\n",
    "print \"text:\", d['text']\n",
    "results = c.extract_using_custom_spacy(d, config, field_rules=field_rules)\n",
    "tele_lst = []\n",
    "for i in results:\n",
    "    tele_lst.append(''.join((i.values()[1]).split()))\n",
    "tele_lst"
   ]
  },
  {
   "cell_type": "code",
   "execution_count": 143,
   "metadata": {},
   "outputs": [
    {
     "name": "stdout",
     "output_type": "stream",
     "text": [
      "text:  A, BA,  \n",
      " C^J,        BAC,      C-C,         JW.B,    \n",
      " BK^C,       ABRN,     NS-A,  \n",
      " ADK^A,      ABEOW ,    ABC-A,      BAC.A,       HK.WS,  \n",
      " MITT^A,                             HCAC.U,     BTX.WS,     ,       C.WS.A,\n",
      "                                                 IMUC.WS,   \n",
      "                                                                   BAC.WS.A \n",
      " CHSP^A.CL \n",
      " Alibaba Group Holding Ltd (NYSE:BABA) dealt another ,  (NASDAQ:AMZN) this week \n",
      " $USCR, $TSLA \n",
      " common Stock (AAPL) , Apple Inc. (AAPL). \n",
      "AAPL is looking to, |  for AAPQ was 8.31 For the fiscal y  | ,AAPW has efficiently invested ,| AAPE comes one wee,,AAPR may refer to:  |,AAPl closed at ab|including AAPT news, historical|The bank lowered its AAPY price target to $150, |Earnings estimates for AAPU from thousands of | View the basic AAPO stock chart \n",
      "AAPA: Get the latest Apple, AMZA - Free Report, unveiled, AAPD's stock sold off\n",
      "GOOGL 919.46 -10.22 -1.10%,AAPL 146.28 0.65 0.45% :\n"
     ]
    },
    {
     "data": {
      "text/plain": [
       "['BABA', 'AMZN']"
      ]
     },
     "execution_count": 143,
     "metadata": {},
     "output_type": "execute_result"
    }
   ],
   "source": [
    "# BAC, ABRN, ABEOW ,\n",
    "\n",
    "rule_10 = {\n",
    "      \"identifier\": \"stock_symbol_rule_us\",\n",
    "      \"description\": \"a description\",\n",
    "      \"is_active\": \"true\",\n",
    "      \"output_format\": \"{1}\",\n",
    "      \"pattern\": [\n",
    "            word_token(token=[\"NYSE\",\"NASDAQ\"],is_in_output=\"false\"),\n",
    "            punctuation_token(token=[\":\"],  is_in_output=\"false\"),\n",
    "\n",
    "            shape_token(shape =[\"X\",\"XX\",\"XXX\",\"XXXX\",\"XXXXX\"],  is_in_output=\"true\")\n",
    "      ]\n",
    "    }\n",
    "\n",
    "field_rules = {\n",
    "  \"rules\": [\n",
    "      rule_10\n",
    "  ]\n",
    "}\n",
    "\n",
    "print \"text:\", d['text']\n",
    "results = c.extract_using_custom_spacy(d, config, field_rules=field_rules)\n",
    "tele_lst = []\n",
    "for i in results:\n",
    "    tele_lst.append(''.join((i.values()[1]).split()))\n",
    "tele_lst"
   ]
  },
  {
   "cell_type": "code",
   "execution_count": 144,
   "metadata": {},
   "outputs": [
    {
     "name": "stdout",
     "output_type": "stream",
     "text": [
      "text:  A, BA,  \n",
      " C^J,        BAC,      C-C,         JW.B,    \n",
      " BK^C,       ABRN,     NS-A,  \n",
      " ADK^A,      ABEOW ,    ABC-A,      BAC.A,       HK.WS,  \n",
      " MITT^A,                             HCAC.U,     BTX.WS,     ,       C.WS.A,\n",
      "                                                 IMUC.WS,   \n",
      "                                                                   BAC.WS.A \n",
      " CHSP^A.CL \n",
      " Alibaba Group Holding Ltd (NYSE:BABA) dealt another ,  (NASDAQ:AMZN) this week \n",
      " $USCR, $TSLA \n",
      " common Stock (AAPL) , Apple Inc. (AAPL). \n",
      "AAPL is looking to, |  for AAPQ was 8.31 For the fiscal y  | ,AAPW has efficiently invested ,| AAPE comes one wee,,AAPR may refer to:  |,AAPl closed at ab|including AAPT news, historical|The bank lowered its AAPY price target to $150, |Earnings estimates for AAPU from thousands of | View the basic AAPO stock chart \n",
      "AAPA: Get the latest Apple, AMZA - Free Report, unveiled, AAPD's stock sold off\n",
      "GOOGL 919.46 -10.22 -1.10%,AAPL 146.28 0.65 0.45% :\n"
     ]
    },
    {
     "data": {
      "text/plain": [
       "[]"
      ]
     },
     "execution_count": 144,
     "metadata": {},
     "output_type": "execute_result"
    }
   ],
   "source": [
    "# C-C, NS-A, ABC-A,\n",
    "rule_11 = {\n",
    "      \"identifier\": \"stock_symbol_rule_us\",\n",
    "      \"description\": \"a description\",\n",
    "      \"is_active\": \"true\",\n",
    "      \"output_format\": \"{1}{2}{3}\",\n",
    "      \"pattern\": [\n",
    "            word_token(token=[\"NYSE\",\"NASDAQ\"],is_in_output=\"false\"),\n",
    "            punctuation_token(token=[\":\"],  is_in_output=\"false\"),\n",
    "\n",
    "            shape_token(shape =[\"X\",\"XX\",\"XXX\"],  is_in_output=\"true\"),\n",
    "            punctuation_token(token=[\"-\"],  is_in_output=\"true\"),\n",
    "            shape_token(shape =[\"X\"],  is_in_output=\"true\")\n",
    "      ]\n",
    "    }\n",
    "\n",
    "field_rules = {\n",
    "  \"rules\": [\n",
    "      rule_11\n",
    "  ]\n",
    "}\n",
    "\n",
    "print \"text:\", d['text']\n",
    "results = c.extract_using_custom_spacy(d, config, field_rules=field_rules)\n",
    "tele_lst = []\n",
    "for i in results:\n",
    "    tele_lst.append(''.join((i.values()[1]).split()))\n",
    "tele_lst"
   ]
  },
  {
   "cell_type": "code",
   "execution_count": 145,
   "metadata": {},
   "outputs": [
    {
     "name": "stdout",
     "output_type": "stream",
     "text": [
      "text:  A, BA,  \n",
      " C^J,        BAC,      C-C,         JW.B,    \n",
      " BK^C,       ABRN,     NS-A,  \n",
      " ADK^A,      ABEOW ,    ABC-A,      BAC.A,       HK.WS,  \n",
      " MITT^A,                             HCAC.U,     BTX.WS,     ,       C.WS.A,\n",
      "                                                 IMUC.WS,   \n",
      "                                                                   BAC.WS.A \n",
      " CHSP^A.CL \n",
      " Alibaba Group Holding Ltd (NYSE:BABA) dealt another ,  (NASDAQ:AMZN) this week \n",
      " $USCR, $TSLA \n",
      " common Stock (AAPL) , Apple Inc. (AAPL). \n",
      "AAPL is looking to, |  for AAPQ was 8.31 For the fiscal y  | ,AAPW has efficiently invested ,| AAPE comes one wee,,AAPR may refer to:  |,AAPl closed at ab|including AAPT news, historical|The bank lowered its AAPY price target to $150, |Earnings estimates for AAPU from thousands of | View the basic AAPO stock chart \n",
      "AAPA: Get the latest Apple, AMZA - Free Report, unveiled, AAPD's stock sold off\n",
      "GOOGL 919.46 -10.22 -1.10%,AAPL 146.28 0.65 0.45% :\n"
     ]
    },
    {
     "data": {
      "text/plain": [
       "[]"
      ]
     },
     "execution_count": 145,
     "metadata": {},
     "output_type": "execute_result"
    }
   ],
   "source": [
    "# JW.B, BAC.A, HCAC.U,\n",
    "\n",
    "rule_12 = {\n",
    "      \"identifier\": \"stock_symbol_rule_us\",\n",
    "      \"description\": \"a description\",\n",
    "      \"is_active\": \"true\",\n",
    "      \"output_format\": \"{1}{2}{3}\",\n",
    "      \"pattern\": [\n",
    "            word_token(token=[\"NYSE\",\"NASDAQ\"],is_in_output=\"false\"),\n",
    "            punctuation_token(token=[\":\"],  is_in_output=\"false\"),\n",
    "\n",
    "            shape_token(shape =[\"XX\",\"XXX\",\"XXXX\"],  is_in_output=\"true\"),\n",
    "            punctuation_token(token=[\".\"],  is_in_output=\"true\"),\n",
    "            shape_token(shape =[\"X\"],  is_in_output=\"true\")\n",
    "      ]\n",
    "    }\n",
    "\n",
    "field_rules = {\n",
    "  \"rules\": [\n",
    "      rule_12\n",
    "  ]\n",
    "}\n",
    "\n",
    "print \"text:\", d['text']\n",
    "results = c.extract_using_custom_spacy(d, config, field_rules=field_rules)\n",
    "tele_lst = []\n",
    "for i in results:\n",
    "    tele_lst.append(''.join((i.values()[1]).split()))\n",
    "tele_lst"
   ]
  },
  {
   "cell_type": "code",
   "execution_count": 146,
   "metadata": {},
   "outputs": [
    {
     "name": "stdout",
     "output_type": "stream",
     "text": [
      "text:  A, BA,  \n",
      " C^J,        BAC,      C-C,         JW.B,    \n",
      " BK^C,       ABRN,     NS-A,  \n",
      " ADK^A,      ABEOW ,    ABC-A,      BAC.A,       HK.WS,  \n",
      " MITT^A,                             HCAC.U,     BTX.WS,     ,       C.WS.A,\n",
      "                                                 IMUC.WS,   \n",
      "                                                                   BAC.WS.A \n",
      " CHSP^A.CL \n",
      " Alibaba Group Holding Ltd (NYSE:BABA) dealt another ,  (NASDAQ:AMZN) this week \n",
      " $USCR, $TSLA \n",
      " common Stock (AAPL) , Apple Inc. (AAPL). \n",
      "AAPL is looking to, |  for AAPQ was 8.31 For the fiscal y  | ,AAPW has efficiently invested ,| AAPE comes one wee,,AAPR may refer to:  |,AAPl closed at ab|including AAPT news, historical|The bank lowered its AAPY price target to $150, |Earnings estimates for AAPU from thousands of | View the basic AAPO stock chart \n",
      "AAPA: Get the latest Apple, AMZA - Free Report, unveiled, AAPD's stock sold off\n",
      "GOOGL 919.46 -10.22 -1.10%,AAPL 146.28 0.65 0.45% :\n"
     ]
    },
    {
     "data": {
      "text/plain": [
       "[]"
      ]
     },
     "execution_count": 146,
     "metadata": {},
     "output_type": "execute_result"
    }
   ],
   "source": [
    "# HK.WS, BTX.WS,  IMUC.WS, \n",
    "\n",
    "rule_13 = {\n",
    "      \"identifier\": \"stock_symbol_rule_us\",\n",
    "      \"description\": \"a description\",\n",
    "      \"is_active\": \"true\",\n",
    "      \"output_format\": \"{1}{2}{3}\",\n",
    "      \"pattern\": [\n",
    "            word_token(token=[\"NYSE\",\"NASDAQ\"],is_in_output=\"false\"),\n",
    "            punctuation_token(token=[\":\"],  is_in_output=\"false\"),\n",
    "\n",
    "            shape_token(shape =[\"XX\",\"XXX\",\"XXXX\"],  is_in_output=\"true\"),\n",
    "            punctuation_token(token=[\".\"],  is_in_output=\"true\"),\n",
    "            shape_token(shape =[\"XX\"],  is_in_output=\"true\")\n",
    "      ]\n",
    "    }\n",
    "\n",
    "field_rules = {\n",
    "  \"rules\": [\n",
    "      rule_13\n",
    "  ]\n",
    "}\n",
    "\n",
    "print \"text:\", d['text']\n",
    "results = c.extract_using_custom_spacy(d, config, field_rules=field_rules)\n",
    "tele_lst = []\n",
    "for i in results:\n",
    "    tele_lst.append(''.join((i.values()[1]).split()))\n",
    "tele_lst"
   ]
  },
  {
   "cell_type": "code",
   "execution_count": 147,
   "metadata": {},
   "outputs": [
    {
     "name": "stdout",
     "output_type": "stream",
     "text": [
      "text:  A, BA,  \n",
      " C^J,        BAC,      C-C,         JW.B,    \n",
      " BK^C,       ABRN,     NS-A,  \n",
      " ADK^A,      ABEOW ,    ABC-A,      BAC.A,       HK.WS,  \n",
      " MITT^A,                             HCAC.U,     BTX.WS,     ,       C.WS.A,\n",
      "                                                 IMUC.WS,   \n",
      "                                                                   BAC.WS.A \n",
      " CHSP^A.CL \n",
      " Alibaba Group Holding Ltd (NYSE:BABA) dealt another ,  (NASDAQ:AMZN) this week \n",
      " $USCR, $TSLA \n",
      " common Stock (AAPL) , Apple Inc. (AAPL). \n",
      "AAPL is looking to, |  for AAPQ was 8.31 For the fiscal y  | ,AAPW has efficiently invested ,| AAPE comes one wee,,AAPR may refer to:  |,AAPl closed at ab|including AAPT news, historical|The bank lowered its AAPY price target to $150, |Earnings estimates for AAPU from thousands of | View the basic AAPO stock chart \n",
      "AAPA: Get the latest Apple, AMZA - Free Report, unveiled, AAPD's stock sold off\n",
      "GOOGL 919.46 -10.22 -1.10%,AAPL 146.28 0.65 0.45% :\n"
     ]
    },
    {
     "data": {
      "text/plain": [
       "[]"
      ]
     },
     "execution_count": 147,
     "metadata": {},
     "output_type": "execute_result"
    }
   ],
   "source": [
    "# C.WS.A,  BAC.WS.A\n",
    "\n",
    "rule_14 = {\n",
    "      \"identifier\": \"stock_symbol_rule_us\",\n",
    "      \"description\": \"a description\",\n",
    "      \"is_active\": \"true\",\n",
    "      \"output_format\": \"{1}{2}{3}{4}{5}\",\n",
    "      \"pattern\": [\n",
    "            word_token(token=[\"NYSE\",\"NASDAQ\"],is_in_output=\"false\"),\n",
    "            punctuation_token(token=[\":\"],  is_in_output=\"false\"),\n",
    "\n",
    "            shape_token(shape =[\"X\",\"XXX\"],  is_in_output=\"true\"),\n",
    "            punctuation_token(token=[\".\"],  is_in_output=\"true\"),\n",
    "            shape_token(shape =[\"XX\"],  is_in_output=\"true\"),\n",
    "            punctuation_token(token=[\".\"],  is_in_output=\"true\"),\n",
    "            shape_token(shape =[\"X\"],  is_in_output=\"true\")\n",
    "\n",
    "      ]\n",
    "    }\n",
    "\n",
    "field_rules = {\n",
    "  \"rules\": [\n",
    "      rule_14\n",
    "  ]\n",
    "}\n",
    "\n",
    "print \"text:\", d['text']\n",
    "results = c.extract_using_custom_spacy(d, config, field_rules=field_rules)\n",
    "tele_lst = []\n",
    "for i in results:\n",
    "    tele_lst.append(''.join((i.values()[1]).split()))\n",
    "tele_lst"
   ]
  },
  {
   "cell_type": "code",
   "execution_count": 148,
   "metadata": {},
   "outputs": [
    {
     "name": "stdout",
     "output_type": "stream",
     "text": [
      "text:  A, BA,  \n",
      " C^J,        BAC,      C-C,         JW.B,    \n",
      " BK^C,       ABRN,     NS-A,  \n",
      " ADK^A,      ABEOW ,    ABC-A,      BAC.A,       HK.WS,  \n",
      " MITT^A,                             HCAC.U,     BTX.WS,     ,       C.WS.A,\n",
      "                                                 IMUC.WS,   \n",
      "                                                                   BAC.WS.A \n",
      " CHSP^A.CL \n",
      " Alibaba Group Holding Ltd (NYSE:BABA) dealt another ,  (NASDAQ:AMZN) this week \n",
      " $USCR, $TSLA \n",
      " common Stock (AAPL) , Apple Inc. (AAPL). \n",
      "AAPL is looking to, |  for AAPQ was 8.31 For the fiscal y  | ,AAPW has efficiently invested ,| AAPE comes one wee,,AAPR may refer to:  |,AAPl closed at ab|including AAPT news, historical|The bank lowered its AAPY price target to $150, |Earnings estimates for AAPU from thousands of | View the basic AAPO stock chart \n",
      "AAPA: Get the latest Apple, AMZA - Free Report, unveiled, AAPD's stock sold off\n",
      "GOOGL 919.46 -10.22 -1.10%,AAPL 146.28 0.65 0.45% :\n"
     ]
    },
    {
     "data": {
      "text/plain": [
       "[]"
      ]
     },
     "execution_count": 148,
     "metadata": {},
     "output_type": "execute_result"
    }
   ],
   "source": [
    "# C^J, BK^C, ADK^A, MITT^A,   $USCR, $TSLA\n",
    "\n",
    "rule_15 = {\n",
    "      \"identifier\": \"stock_symbol_rule_us\",\n",
    "      \"description\": \"a description\",\n",
    "      \"is_active\": \"true\",\n",
    "      \"output_format\": \"{1}{2}{3}\",\n",
    "      \"pattern\": [\n",
    "            punctuation_token(token=[\"$\"],  is_in_output=\"false\"),\n",
    "\n",
    "            shape_token(shape =[\"X\",\"XX\",\"XXX\",\"XXXX\"],  is_in_output=\"true\"),\n",
    "            punctuation_token(token=[\"^\"],  is_in_output=\"true\"),\n",
    "            shape_token(shape =[\"X\"],  is_in_output=\"true\")\n",
    "      ]\n",
    "    }\n",
    "\n",
    "field_rules = {\n",
    "  \"rules\": [\n",
    "      rule_15\n",
    "  ]\n",
    "}\n",
    "\n",
    "print \"text:\", d['text']\n",
    "results = c.extract_using_custom_spacy(d, config, field_rules=field_rules)\n",
    "tele_lst = []\n",
    "for i in results:\n",
    "    tele_lst.append(''.join((i.values()[1]).split()))\n",
    "tele_lst"
   ]
  },
  {
   "cell_type": "code",
   "execution_count": 149,
   "metadata": {},
   "outputs": [
    {
     "name": "stdout",
     "output_type": "stream",
     "text": [
      "text:  A, BA,  \n",
      " C^J,        BAC,      C-C,         JW.B,    \n",
      " BK^C,       ABRN,     NS-A,  \n",
      " ADK^A,      ABEOW ,    ABC-A,      BAC.A,       HK.WS,  \n",
      " MITT^A,                             HCAC.U,     BTX.WS,     ,       C.WS.A,\n",
      "                                                 IMUC.WS,   \n",
      "                                                                   BAC.WS.A \n",
      " CHSP^A.CL \n",
      " Alibaba Group Holding Ltd (NYSE:BABA) dealt another ,  (NASDAQ:AMZN) this week \n",
      " $USCR, $TSLA \n",
      " common Stock (AAPL) , Apple Inc. (AAPL). \n",
      "AAPL is looking to, |  for AAPQ was 8.31 For the fiscal y  | ,AAPW has efficiently invested ,| AAPE comes one wee,,AAPR may refer to:  |,AAPl closed at ab|including AAPT news, historical|The bank lowered its AAPY price target to $150, |Earnings estimates for AAPU from thousands of | View the basic AAPO stock chart \n",
      "AAPA: Get the latest Apple, AMZA - Free Report, unveiled, AAPD's stock sold off\n",
      "GOOGL 919.46 -10.22 -1.10%,AAPL 146.28 0.65 0.45% :\n"
     ]
    },
    {
     "data": {
      "text/plain": [
       "[]"
      ]
     },
     "execution_count": 149,
     "metadata": {},
     "output_type": "execute_result"
    }
   ],
   "source": [
    "# CHSP^A.CL \n",
    "rule_16 = {\n",
    "      \"identifier\": \"stock_symbol_rule_us\",\n",
    "      \"description\": \"a description\",\n",
    "      \"is_active\": \"true\",\n",
    "      \"output_format\": \"{1}{2}{3}{4}{5}\",\n",
    "      \"pattern\": [\n",
    "            punctuation_token(token=[\"$\"],  is_in_output=\"false\"),\n",
    "\n",
    "            shape_token(shape =[\"X\",\"XX\",\"XXX\",\"XXXX\"],  is_in_output=\"true\"),\n",
    "            punctuation_token(token=[\"^\"],  is_in_output=\"true\"),\n",
    "            shape_token(shape =[\"X\"],  is_in_output=\"true\"),\n",
    "            punctuation_token(token=[\".\"],  is_in_output=\"true\"),\n",
    "            shape_token(shape =[\"XX\"],  is_in_output=\"true\"),\n",
    "      ]\n",
    "    }\n",
    "\n",
    "field_rules = {\n",
    "  \"rules\": [\n",
    "      rule_16\n",
    "  ]\n",
    "}\n",
    "\n",
    "print \"text:\", d['text']\n",
    "results = c.extract_using_custom_spacy(d, config, field_rules=field_rules)\n",
    "tele_lst = []\n",
    "for i in results:\n",
    "    tele_lst.append(''.join((i.values()[1]).split()))\n",
    "tele_lst"
   ]
  },
  {
   "cell_type": "code",
   "execution_count": 150,
   "metadata": {},
   "outputs": [
    {
     "name": "stdout",
     "output_type": "stream",
     "text": [
      "text:  A, BA,  \n",
      " C^J,        BAC,      C-C,         JW.B,    \n",
      " BK^C,       ABRN,     NS-A,  \n",
      " ADK^A,      ABEOW ,    ABC-A,      BAC.A,       HK.WS,  \n",
      " MITT^A,                             HCAC.U,     BTX.WS,     ,       C.WS.A,\n",
      "                                                 IMUC.WS,   \n",
      "                                                                   BAC.WS.A \n",
      " CHSP^A.CL \n",
      " Alibaba Group Holding Ltd (NYSE:BABA) dealt another ,  (NASDAQ:AMZN) this week \n",
      " $USCR, $TSLA \n",
      " common Stock (AAPL) , Apple Inc. (AAPL). \n",
      "AAPL is looking to, |  for AAPQ was 8.31 For the fiscal y  | ,AAPW has efficiently invested ,| AAPE comes one wee,,AAPR may refer to:  |,AAPl closed at ab|including AAPT news, historical|The bank lowered its AAPY price target to $150, |Earnings estimates for AAPU from thousands of | View the basic AAPO stock chart \n",
      "AAPA: Get the latest Apple, AMZA - Free Report, unveiled, AAPD's stock sold off\n",
      "GOOGL 919.46 -10.22 -1.10%,AAPL 146.28 0.65 0.45% :\n"
     ]
    },
    {
     "data": {
      "text/plain": [
       "['USCR', 'TSLA']"
      ]
     },
     "execution_count": 150,
     "metadata": {},
     "output_type": "execute_result"
    }
   ],
   "source": [
    "# BAC, ABRN, ABEOW ,\n",
    "\n",
    "rule_17 = {\n",
    "      \"identifier\": \"stock_symbol_rule_us\",\n",
    "      \"description\": \"a description\",\n",
    "      \"is_active\": \"true\",\n",
    "      \"output_format\": \"{1}\",\n",
    "      \"pattern\": [\n",
    "            punctuation_token(token=[\"$\"],  is_in_output=\"false\"),\n",
    "\n",
    "            shape_token(shape =[\"X\",\"XX\",\"XXX\",\"XXXX\",\"XXXXX\"],  is_in_output=\"true\")\n",
    "      ]\n",
    "    }\n",
    "\n",
    "field_rules = {\n",
    "  \"rules\": [\n",
    "      rule_17\n",
    "  ]\n",
    "}\n",
    "\n",
    "print \"text:\", d['text']\n",
    "results = c.extract_using_custom_spacy(d, config, field_rules=field_rules)\n",
    "tele_lst = []\n",
    "for i in results:\n",
    "    tele_lst.append(''.join((i.values()[1]).split()))\n",
    "tele_lst"
   ]
  },
  {
   "cell_type": "code",
   "execution_count": 151,
   "metadata": {},
   "outputs": [
    {
     "name": "stdout",
     "output_type": "stream",
     "text": [
      "text:  A, BA,  \n",
      " C^J,        BAC,      C-C,         JW.B,    \n",
      " BK^C,       ABRN,     NS-A,  \n",
      " ADK^A,      ABEOW ,    ABC-A,      BAC.A,       HK.WS,  \n",
      " MITT^A,                             HCAC.U,     BTX.WS,     ,       C.WS.A,\n",
      "                                                 IMUC.WS,   \n",
      "                                                                   BAC.WS.A \n",
      " CHSP^A.CL \n",
      " Alibaba Group Holding Ltd (NYSE:BABA) dealt another ,  (NASDAQ:AMZN) this week \n",
      " $USCR, $TSLA \n",
      " common Stock (AAPL) , Apple Inc. (AAPL). \n",
      "AAPL is looking to, |  for AAPQ was 8.31 For the fiscal y  | ,AAPW has efficiently invested ,| AAPE comes one wee,,AAPR may refer to:  |,AAPl closed at ab|including AAPT news, historical|The bank lowered its AAPY price target to $150, |Earnings estimates for AAPU from thousands of | View the basic AAPO stock chart \n",
      "AAPA: Get the latest Apple, AMZA - Free Report, unveiled, AAPD's stock sold off\n",
      "GOOGL 919.46 -10.22 -1.10%,AAPL 146.28 0.65 0.45% :\n"
     ]
    },
    {
     "data": {
      "text/plain": [
       "[]"
      ]
     },
     "execution_count": 151,
     "metadata": {},
     "output_type": "execute_result"
    }
   ],
   "source": [
    "# C-C, NS-A, ABC-A,\n",
    "rule_18 = {\n",
    "      \"identifier\": \"stock_symbol_rule_us\",\n",
    "      \"description\": \"a description\",\n",
    "      \"is_active\": \"true\",\n",
    "      \"output_format\": \"{1}{2}{3}\",\n",
    "      \"pattern\": [\n",
    "            punctuation_token(token=[\"$\"],  is_in_output=\"false\"),\n",
    "\n",
    "            shape_token(shape =[\"X\",\"XX\",\"XXX\"],  is_in_output=\"true\"),\n",
    "            punctuation_token(token=[\"-\"],  is_in_output=\"true\"),\n",
    "            shape_token(shape =[\"X\"],  is_in_output=\"true\")\n",
    "      ]\n",
    "    }\n",
    "\n",
    "field_rules = {\n",
    "  \"rules\": [\n",
    "      rule_18\n",
    "  ]\n",
    "}\n",
    "\n",
    "print \"text:\", d['text']\n",
    "results = c.extract_using_custom_spacy(d, config, field_rules=field_rules)\n",
    "tele_lst = []\n",
    "for i in results:\n",
    "    tele_lst.append(''.join((i.values()[1]).split()))\n",
    "tele_lst"
   ]
  },
  {
   "cell_type": "code",
   "execution_count": 152,
   "metadata": {},
   "outputs": [
    {
     "name": "stdout",
     "output_type": "stream",
     "text": [
      "text:  A, BA,  \n",
      " C^J,        BAC,      C-C,         JW.B,    \n",
      " BK^C,       ABRN,     NS-A,  \n",
      " ADK^A,      ABEOW ,    ABC-A,      BAC.A,       HK.WS,  \n",
      " MITT^A,                             HCAC.U,     BTX.WS,     ,       C.WS.A,\n",
      "                                                 IMUC.WS,   \n",
      "                                                                   BAC.WS.A \n",
      " CHSP^A.CL \n",
      " Alibaba Group Holding Ltd (NYSE:BABA) dealt another ,  (NASDAQ:AMZN) this week \n",
      " $USCR, $TSLA \n",
      " common Stock (AAPL) , Apple Inc. (AAPL). \n",
      "AAPL is looking to, |  for AAPQ was 8.31 For the fiscal y  | ,AAPW has efficiently invested ,| AAPE comes one wee,,AAPR may refer to:  |,AAPl closed at ab|including AAPT news, historical|The bank lowered its AAPY price target to $150, |Earnings estimates for AAPU from thousands of | View the basic AAPO stock chart \n",
      "AAPA: Get the latest Apple, AMZA - Free Report, unveiled, AAPD's stock sold off\n",
      "GOOGL 919.46 -10.22 -1.10%,AAPL 146.28 0.65 0.45% :\n"
     ]
    },
    {
     "data": {
      "text/plain": [
       "[]"
      ]
     },
     "execution_count": 152,
     "metadata": {},
     "output_type": "execute_result"
    }
   ],
   "source": [
    "# JW.B, BAC.A, HCAC.U,\n",
    "\n",
    "rule_19 = {\n",
    "      \"identifier\": \"stock_symbol_rule_us\",\n",
    "      \"description\": \"a description\",\n",
    "      \"is_active\": \"true\",\n",
    "      \"output_format\": \"{1}{2}{3}\",\n",
    "      \"pattern\": [\n",
    "            punctuation_token(token=[\"$\"],  is_in_output=\"false\"),\n",
    "\n",
    "            shape_token(shape =[\"XX\",\"XXX\",\"XXXX\"],  is_in_output=\"true\"),\n",
    "            punctuation_token(token=[\".\"],  is_in_output=\"true\"),\n",
    "            shape_token(shape =[\"X\"],  is_in_output=\"true\")\n",
    "      ]\n",
    "    }\n",
    "\n",
    "field_rules = {\n",
    "  \"rules\": [\n",
    "      rule_19\n",
    "  ]\n",
    "}\n",
    "\n",
    "print \"text:\", d['text']\n",
    "results = c.extract_using_custom_spacy(d, config, field_rules=field_rules)\n",
    "tele_lst = []\n",
    "for i in results:\n",
    "    tele_lst.append(''.join((i.values()[1]).split()))\n",
    "tele_lst"
   ]
  },
  {
   "cell_type": "code",
   "execution_count": 153,
   "metadata": {},
   "outputs": [
    {
     "name": "stdout",
     "output_type": "stream",
     "text": [
      "text:  A, BA,  \n",
      " C^J,        BAC,      C-C,         JW.B,    \n",
      " BK^C,       ABRN,     NS-A,  \n",
      " ADK^A,      ABEOW ,    ABC-A,      BAC.A,       HK.WS,  \n",
      " MITT^A,                             HCAC.U,     BTX.WS,     ,       C.WS.A,\n",
      "                                                 IMUC.WS,   \n",
      "                                                                   BAC.WS.A \n",
      " CHSP^A.CL \n",
      " Alibaba Group Holding Ltd (NYSE:BABA) dealt another ,  (NASDAQ:AMZN) this week \n",
      " $USCR, $TSLA \n",
      " common Stock (AAPL) , Apple Inc. (AAPL). \n",
      "AAPL is looking to, |  for AAPQ was 8.31 For the fiscal y  | ,AAPW has efficiently invested ,| AAPE comes one wee,,AAPR may refer to:  |,AAPl closed at ab|including AAPT news, historical|The bank lowered its AAPY price target to $150, |Earnings estimates for AAPU from thousands of | View the basic AAPO stock chart \n",
      "AAPA: Get the latest Apple, AMZA - Free Report, unveiled, AAPD's stock sold off\n",
      "GOOGL 919.46 -10.22 -1.10%,AAPL 146.28 0.65 0.45% :\n"
     ]
    },
    {
     "data": {
      "text/plain": [
       "[]"
      ]
     },
     "execution_count": 153,
     "metadata": {},
     "output_type": "execute_result"
    }
   ],
   "source": [
    "# HK.WS, BTX.WS,  IMUC.WS, \n",
    "\n",
    "rule_20 = {\n",
    "      \"identifier\": \"stock_symbol_rule_us\",\n",
    "      \"description\": \"a description\",\n",
    "      \"is_active\": \"true\",\n",
    "      \"output_format\": \"{1}{2}{3}\",\n",
    "      \"pattern\": [\n",
    "            punctuation_token(token=[\"$\"],  is_in_output=\"false\"),\n",
    "\n",
    "            shape_token(shape =[\"XX\",\"XXX\",\"XXXX\"],  is_in_output=\"true\"),\n",
    "            punctuation_token(token=[\".\"],  is_in_output=\"true\"),\n",
    "            shape_token(shape =[\"XX\"],  is_in_output=\"true\")\n",
    "      ]\n",
    "    }\n",
    "\n",
    "field_rules = {\n",
    "  \"rules\": [\n",
    "      rule_20\n",
    "  ]\n",
    "}\n",
    "\n",
    "print \"text:\", d['text']\n",
    "results = c.extract_using_custom_spacy(d, config, field_rules=field_rules)\n",
    "tele_lst = []\n",
    "for i in results:\n",
    "    tele_lst.append(''.join((i.values()[1]).split()))\n",
    "tele_lst"
   ]
  },
  {
   "cell_type": "code",
   "execution_count": 154,
   "metadata": {},
   "outputs": [
    {
     "name": "stdout",
     "output_type": "stream",
     "text": [
      "text:  A, BA,  \n",
      " C^J,        BAC,      C-C,         JW.B,    \n",
      " BK^C,       ABRN,     NS-A,  \n",
      " ADK^A,      ABEOW ,    ABC-A,      BAC.A,       HK.WS,  \n",
      " MITT^A,                             HCAC.U,     BTX.WS,     ,       C.WS.A,\n",
      "                                                 IMUC.WS,   \n",
      "                                                                   BAC.WS.A \n",
      " CHSP^A.CL \n",
      " Alibaba Group Holding Ltd (NYSE:BABA) dealt another ,  (NASDAQ:AMZN) this week \n",
      " $USCR, $TSLA \n",
      " common Stock (AAPL) , Apple Inc. (AAPL). \n",
      "AAPL is looking to, |  for AAPQ was 8.31 For the fiscal y  | ,AAPW has efficiently invested ,| AAPE comes one wee,,AAPR may refer to:  |,AAPl closed at ab|including AAPT news, historical|The bank lowered its AAPY price target to $150, |Earnings estimates for AAPU from thousands of | View the basic AAPO stock chart \n",
      "AAPA: Get the latest Apple, AMZA - Free Report, unveiled, AAPD's stock sold off\n",
      "GOOGL 919.46 -10.22 -1.10%,AAPL 146.28 0.65 0.45% :\n"
     ]
    },
    {
     "data": {
      "text/plain": [
       "[]"
      ]
     },
     "execution_count": 154,
     "metadata": {},
     "output_type": "execute_result"
    }
   ],
   "source": [
    "# C.WS.A,  BAC.WS.A\n",
    "\n",
    "rule_21 = {\n",
    "      \"identifier\": \"stock_symbol_rule_us\",\n",
    "      \"description\": \"a description\",\n",
    "      \"is_active\": \"true\",\n",
    "      \"output_format\": \"{1}{2}{3}{4}{5}\",\n",
    "      \"pattern\": [\n",
    "            punctuation_token(token=[\"$\"],  is_in_output=\"false\"),\n",
    "\n",
    "            shape_token(shape =[\"X\",\"XXX\"],  is_in_output=\"true\"),\n",
    "            punctuation_token(token=[\".\"],  is_in_output=\"true\"),\n",
    "            shape_token(shape =[\"XX\"],  is_in_output=\"true\"),\n",
    "            punctuation_token(token=[\".\"],  is_in_output=\"true\"),\n",
    "            shape_token(shape =[\"X\"],  is_in_output=\"true\")\n",
    "\n",
    "      ]\n",
    "    }\n",
    "\n",
    "field_rules = {\n",
    "  \"rules\": [\n",
    "      rule_21\n",
    "  ]\n",
    "}\n",
    "\n",
    "print \"text:\", d['text']\n",
    "results = c.extract_using_custom_spacy(d, config, field_rules=field_rules)\n",
    "tele_lst = []\n",
    "for i in results:\n",
    "    tele_lst.append(''.join((i.values()[1]).split()))\n",
    "tele_lst"
   ]
  },
  {
   "cell_type": "code",
   "execution_count": 155,
   "metadata": {},
   "outputs": [
    {
     "name": "stdout",
     "output_type": "stream",
     "text": [
      "text:  A, BA,  \n",
      " C^J,        BAC,      C-C,         JW.B,    \n",
      " BK^C,       ABRN,     NS-A,  \n",
      " ADK^A,      ABEOW ,    ABC-A,      BAC.A,       HK.WS,  \n",
      " MITT^A,                             HCAC.U,     BTX.WS,     ,       C.WS.A,\n",
      "                                                 IMUC.WS,   \n",
      "                                                                   BAC.WS.A \n",
      " CHSP^A.CL \n",
      " Alibaba Group Holding Ltd (NYSE:BABA) dealt another ,  (NASDAQ:AMZN) this week \n",
      " $USCR, $TSLA \n",
      " common Stock (AAPL) , Apple Inc. (AAPL). \n",
      "AAPL is looking to, |  for AAPQ was 8.31 For the fiscal y  | ,AAPW has efficiently invested ,| AAPE comes one wee,,AAPR may refer to:  |,AAPl closed at ab|including AAPT news, historical|The bank lowered its AAPY price target to $150, |Earnings estimates for AAPU from thousands of | View the basic AAPO stock chart \n",
      "AAPA: Get the latest Apple, AMZA - Free Report, unveiled, AAPD's stock sold off\n",
      "GOOGL 919.46 -10.22 -1.10%,AAPL 146.28 0.65 0.45% :\n"
     ]
    },
    {
     "data": {
      "text/plain": [
       "[]"
      ]
     },
     "execution_count": 155,
     "metadata": {},
     "output_type": "execute_result"
    }
   ],
   "source": [
    "# C^J, BK^C, ADK^A, MITT^A,   Stock (AAPL) , Apple Inc. (AAPL).\n",
    "\n",
    "rule_22 = {\n",
    "      \"identifier\": \"stock_symbol_rule_us\",\n",
    "      \"description\": \"a description\",\n",
    "      \"is_active\": \"true\",\n",
    "      \"output_format\": \"{1}{2}{3}\",\n",
    "      \"pattern\": [\n",
    "            punctuation_token(token=[\"(\"],  is_in_output=\"false\"),\n",
    "          \n",
    "            shape_token(shape =[\"X\",\"XX\",\"XXX\",\"XXXX\"],  is_in_output=\"true\"),\n",
    "            punctuation_token(token=[\"^\"],  is_in_output=\"true\"),\n",
    "            shape_token(shape =[\"X\"],  is_in_output=\"true\"),\n",
    "          \n",
    "            punctuation_token(token=[\")\"],  is_in_output=\"false\")\n",
    "\n",
    "      ]\n",
    "    }\n",
    "\n",
    "field_rules = {\n",
    "  \"rules\": [\n",
    "      rule_22\n",
    "  ]\n",
    "}\n",
    "\n",
    "print \"text:\", d['text']\n",
    "results = c.extract_using_custom_spacy(d, config, field_rules=field_rules)\n",
    "tele_lst = []\n",
    "for i in results:\n",
    "    tele_lst.append(''.join((i.values()[1]).split()))\n",
    "tele_lst"
   ]
  },
  {
   "cell_type": "code",
   "execution_count": 156,
   "metadata": {},
   "outputs": [
    {
     "name": "stdout",
     "output_type": "stream",
     "text": [
      "text:  A, BA,  \n",
      " C^J,        BAC,      C-C,         JW.B,    \n",
      " BK^C,       ABRN,     NS-A,  \n",
      " ADK^A,      ABEOW ,    ABC-A,      BAC.A,       HK.WS,  \n",
      " MITT^A,                             HCAC.U,     BTX.WS,     ,       C.WS.A,\n",
      "                                                 IMUC.WS,   \n",
      "                                                                   BAC.WS.A \n",
      " CHSP^A.CL \n",
      " Alibaba Group Holding Ltd (NYSE:BABA) dealt another ,  (NASDAQ:AMZN) this week \n",
      " $USCR, $TSLA \n",
      " common Stock (AAPL) , Apple Inc. (AAPL). \n",
      "AAPL is looking to, |  for AAPQ was 8.31 For the fiscal y  | ,AAPW has efficiently invested ,| AAPE comes one wee,,AAPR may refer to:  |,AAPl closed at ab|including AAPT news, historical|The bank lowered its AAPY price target to $150, |Earnings estimates for AAPU from thousands of | View the basic AAPO stock chart \n",
      "AAPA: Get the latest Apple, AMZA - Free Report, unveiled, AAPD's stock sold off\n",
      "GOOGL 919.46 -10.22 -1.10%,AAPL 146.28 0.65 0.45% :\n"
     ]
    },
    {
     "data": {
      "text/plain": [
       "[]"
      ]
     },
     "execution_count": 156,
     "metadata": {},
     "output_type": "execute_result"
    }
   ],
   "source": [
    "# CHSP^A.CL \n",
    "rule_23 = {\n",
    "      \"identifier\": \"stock_symbol_rule_us\",\n",
    "      \"description\": \"a description\",\n",
    "      \"is_active\": \"true\",\n",
    "      \"output_format\": \"{1}{2}{3}{4}{5}\",\n",
    "      \"pattern\": [\n",
    "            punctuation_token(token=[\"(\"],  is_in_output=\"false\"),\n",
    "\n",
    "            shape_token(shape =[\"X\",\"XX\",\"XXX\",\"XXXX\"],  is_in_output=\"true\"),\n",
    "            punctuation_token(token=[\"^\"],  is_in_output=\"true\"),\n",
    "            shape_token(shape =[\"X\"],  is_in_output=\"true\"),\n",
    "            punctuation_token(token=[\".\"],  is_in_output=\"true\"),\n",
    "            shape_token(shape =[\"XX\"],  is_in_output=\"true\"),\n",
    "          \n",
    "            punctuation_token(token=[\")\"],  is_in_output=\"false\")\n",
    "      ]\n",
    "    }\n",
    "\n",
    "field_rules = {\n",
    "  \"rules\": [\n",
    "      rule_23\n",
    "  ]\n",
    "}\n",
    "\n",
    "print \"text:\", d['text']\n",
    "results = c.extract_using_custom_spacy(d, config, field_rules=field_rules)\n",
    "tele_lst = []\n",
    "for i in results:\n",
    "    tele_lst.append(''.join((i.values()[1]).split()))\n",
    "tele_lst"
   ]
  },
  {
   "cell_type": "code",
   "execution_count": 157,
   "metadata": {},
   "outputs": [
    {
     "name": "stdout",
     "output_type": "stream",
     "text": [
      "text:  A, BA,  \n",
      " C^J,        BAC,      C-C,         JW.B,    \n",
      " BK^C,       ABRN,     NS-A,  \n",
      " ADK^A,      ABEOW ,    ABC-A,      BAC.A,       HK.WS,  \n",
      " MITT^A,                             HCAC.U,     BTX.WS,     ,       C.WS.A,\n",
      "                                                 IMUC.WS,   \n",
      "                                                                   BAC.WS.A \n",
      " CHSP^A.CL \n",
      " Alibaba Group Holding Ltd (NYSE:BABA) dealt another ,  (NASDAQ:AMZN) this week \n",
      " $USCR, $TSLA \n",
      " common Stock (AAPL) , Apple Inc. (AAPL). \n",
      "AAPL is looking to, |  for AAPQ was 8.31 For the fiscal y  | ,AAPW has efficiently invested ,| AAPE comes one wee,,AAPR may refer to:  |,AAPl closed at ab|including AAPT news, historical|The bank lowered its AAPY price target to $150, |Earnings estimates for AAPU from thousands of | View the basic AAPO stock chart \n",
      "AAPA: Get the latest Apple, AMZA - Free Report, unveiled, AAPD's stock sold off\n",
      "GOOGL 919.46 -10.22 -1.10%,AAPL 146.28 0.65 0.45% :\n"
     ]
    },
    {
     "data": {
      "text/plain": [
       "['AAPL', 'AAPL']"
      ]
     },
     "execution_count": 157,
     "metadata": {},
     "output_type": "execute_result"
    }
   ],
   "source": [
    "# BAC, ABRN, ABEOW ,\n",
    "\n",
    "rule_24 = {\n",
    "      \"identifier\": \"stock_symbol_rule_us\",\n",
    "      \"description\": \"a description\",\n",
    "      \"is_active\": \"true\",\n",
    "      \"output_format\": \"{1}\",\n",
    "      \"pattern\": [\n",
    "            punctuation_token(token=[\"(\"],  is_in_output=\"false\"),\n",
    "\n",
    "            shape_token(shape =[\"X\",\"XX\",\"XXX\",\"XXXX\",\"XXXXX\"],  is_in_output=\"true\"),\n",
    "          \n",
    "            punctuation_token(token=[\")\"],  is_in_output=\"false\")\n",
    "\n",
    "      ]\n",
    "    }\n",
    "\n",
    "field_rules = {\n",
    "  \"rules\": [\n",
    "      rule_24\n",
    "  ]\n",
    "}\n",
    "\n",
    "print \"text:\", d['text']\n",
    "results = c.extract_using_custom_spacy(d, config, field_rules=field_rules)\n",
    "tele_lst = []\n",
    "for i in results:\n",
    "    tele_lst.append(''.join((i.values()[1]).split()))\n",
    "tele_lst"
   ]
  },
  {
   "cell_type": "code",
   "execution_count": 158,
   "metadata": {},
   "outputs": [
    {
     "name": "stdout",
     "output_type": "stream",
     "text": [
      "text:  A, BA,  \n",
      " C^J,        BAC,      C-C,         JW.B,    \n",
      " BK^C,       ABRN,     NS-A,  \n",
      " ADK^A,      ABEOW ,    ABC-A,      BAC.A,       HK.WS,  \n",
      " MITT^A,                             HCAC.U,     BTX.WS,     ,       C.WS.A,\n",
      "                                                 IMUC.WS,   \n",
      "                                                                   BAC.WS.A \n",
      " CHSP^A.CL \n",
      " Alibaba Group Holding Ltd (NYSE:BABA) dealt another ,  (NASDAQ:AMZN) this week \n",
      " $USCR, $TSLA \n",
      " common Stock (AAPL) , Apple Inc. (AAPL). \n",
      "AAPL is looking to, |  for AAPQ was 8.31 For the fiscal y  | ,AAPW has efficiently invested ,| AAPE comes one wee,,AAPR may refer to:  |,AAPl closed at ab|including AAPT news, historical|The bank lowered its AAPY price target to $150, |Earnings estimates for AAPU from thousands of | View the basic AAPO stock chart \n",
      "AAPA: Get the latest Apple, AMZA - Free Report, unveiled, AAPD's stock sold off\n",
      "GOOGL 919.46 -10.22 -1.10%,AAPL 146.28 0.65 0.45% :\n"
     ]
    },
    {
     "data": {
      "text/plain": [
       "[]"
      ]
     },
     "execution_count": 158,
     "metadata": {},
     "output_type": "execute_result"
    }
   ],
   "source": [
    "# C-C, NS-A, ABC-A,\n",
    "rule_25 = {\n",
    "      \"identifier\": \"stock_symbol_rule_us\",\n",
    "      \"description\": \"a description\",\n",
    "      \"is_active\": \"true\",\n",
    "      \"output_format\": \"{1}{2}{3}\",\n",
    "      \"pattern\": [\n",
    "            punctuation_token(token=[\"(\"],  is_in_output=\"false\"),\n",
    "\n",
    "            shape_token(shape =[\"X\",\"XX\",\"XXX\"],  is_in_output=\"true\"),\n",
    "            punctuation_token(token=[\"-\"],  is_in_output=\"true\"),\n",
    "            shape_token(shape =[\"X\"],  is_in_output=\"true\"),\n",
    "\n",
    "            punctuation_token(token=[\")\"],  is_in_output=\"false\")\n",
    "\n",
    "      ]\n",
    "    }\n",
    "\n",
    "field_rules = {\n",
    "  \"rules\": [\n",
    "      rule_25\n",
    "  ]\n",
    "}\n",
    "\n",
    "print \"text:\", d['text']\n",
    "results = c.extract_using_custom_spacy(d, config, field_rules=field_rules)\n",
    "tele_lst = []\n",
    "for i in results:\n",
    "    tele_lst.append(''.join((i.values()[1]).split()))\n",
    "tele_lst"
   ]
  },
  {
   "cell_type": "code",
   "execution_count": 159,
   "metadata": {},
   "outputs": [
    {
     "name": "stdout",
     "output_type": "stream",
     "text": [
      "text:  A, BA,  \n",
      " C^J,        BAC,      C-C,         JW.B,    \n",
      " BK^C,       ABRN,     NS-A,  \n",
      " ADK^A,      ABEOW ,    ABC-A,      BAC.A,       HK.WS,  \n",
      " MITT^A,                             HCAC.U,     BTX.WS,     ,       C.WS.A,\n",
      "                                                 IMUC.WS,   \n",
      "                                                                   BAC.WS.A \n",
      " CHSP^A.CL \n",
      " Alibaba Group Holding Ltd (NYSE:BABA) dealt another ,  (NASDAQ:AMZN) this week \n",
      " $USCR, $TSLA \n",
      " common Stock (AAPL) , Apple Inc. (AAPL). \n",
      "AAPL is looking to, |  for AAPQ was 8.31 For the fiscal y  | ,AAPW has efficiently invested ,| AAPE comes one wee,,AAPR may refer to:  |,AAPl closed at ab|including AAPT news, historical|The bank lowered its AAPY price target to $150, |Earnings estimates for AAPU from thousands of | View the basic AAPO stock chart \n",
      "AAPA: Get the latest Apple, AMZA - Free Report, unveiled, AAPD's stock sold off\n",
      "GOOGL 919.46 -10.22 -1.10%,AAPL 146.28 0.65 0.45% :\n"
     ]
    },
    {
     "data": {
      "text/plain": [
       "[]"
      ]
     },
     "execution_count": 159,
     "metadata": {},
     "output_type": "execute_result"
    }
   ],
   "source": [
    "# JW.B, BAC.A, HCAC.U,\n",
    "\n",
    "rule_26 = {\n",
    "      \"identifier\": \"stock_symbol_rule_us\",\n",
    "      \"description\": \"a description\",\n",
    "      \"is_active\": \"true\",\n",
    "      \"output_format\": \"{1}{2}{3}\",\n",
    "      \"pattern\": [\n",
    "            punctuation_token(token=[\"(\"],  is_in_output=\"false\"),\n",
    "\n",
    "            shape_token(shape =[\"XX\",\"XXX\",\"XXXX\"],  is_in_output=\"true\"),\n",
    "            punctuation_token(token=[\".\"],  is_in_output=\"true\"),\n",
    "            shape_token(shape =[\"X\"],  is_in_output=\"true\"),\n",
    "\n",
    "            punctuation_token(token=[\")\"],  is_in_output=\"false\")\n",
    "\n",
    "      ]\n",
    "    }\n",
    "\n",
    "field_rules = {\n",
    "  \"rules\": [\n",
    "      rule_26\n",
    "  ]\n",
    "}\n",
    "\n",
    "print \"text:\", d['text']\n",
    "results = c.extract_using_custom_spacy(d, config, field_rules=field_rules)\n",
    "tele_lst = []\n",
    "for i in results:\n",
    "    tele_lst.append(''.join((i.values()[1]).split()))\n",
    "tele_lst"
   ]
  },
  {
   "cell_type": "code",
   "execution_count": 160,
   "metadata": {},
   "outputs": [
    {
     "name": "stdout",
     "output_type": "stream",
     "text": [
      "text:  A, BA,  \n",
      " C^J,        BAC,      C-C,         JW.B,    \n",
      " BK^C,       ABRN,     NS-A,  \n",
      " ADK^A,      ABEOW ,    ABC-A,      BAC.A,       HK.WS,  \n",
      " MITT^A,                             HCAC.U,     BTX.WS,     ,       C.WS.A,\n",
      "                                                 IMUC.WS,   \n",
      "                                                                   BAC.WS.A \n",
      " CHSP^A.CL \n",
      " Alibaba Group Holding Ltd (NYSE:BABA) dealt another ,  (NASDAQ:AMZN) this week \n",
      " $USCR, $TSLA \n",
      " common Stock (AAPL) , Apple Inc. (AAPL). \n",
      "AAPL is looking to, |  for AAPQ was 8.31 For the fiscal y  | ,AAPW has efficiently invested ,| AAPE comes one wee,,AAPR may refer to:  |,AAPl closed at ab|including AAPT news, historical|The bank lowered its AAPY price target to $150, |Earnings estimates for AAPU from thousands of | View the basic AAPO stock chart \n",
      "AAPA: Get the latest Apple, AMZA - Free Report, unveiled, AAPD's stock sold off\n",
      "GOOGL 919.46 -10.22 -1.10%,AAPL 146.28 0.65 0.45% :\n"
     ]
    },
    {
     "data": {
      "text/plain": [
       "[]"
      ]
     },
     "execution_count": 160,
     "metadata": {},
     "output_type": "execute_result"
    }
   ],
   "source": [
    "# HK.WS, BTX.WS,  IMUC.WS, \n",
    "\n",
    "rule_27 = {\n",
    "      \"identifier\": \"stock_symbol_rule_us\",\n",
    "      \"description\": \"a description\",\n",
    "      \"is_active\": \"true\",\n",
    "      \"output_format\": \"{1}{2}{3}\",\n",
    "      \"pattern\": [\n",
    "            punctuation_token(token=[\"(\"],  is_in_output=\"false\"),\n",
    "\n",
    "            shape_token(shape =[\"XX\",\"XXX\",\"XXXX\"],  is_in_output=\"true\"),\n",
    "            punctuation_token(token=[\".\"],  is_in_output=\"true\"),\n",
    "            shape_token(shape =[\"XX\"],  is_in_output=\"true\"),\n",
    "          \n",
    "            punctuation_token(token=[\")\"],  is_in_output=\"false\")\n",
    "\n",
    "      ]\n",
    "    }\n",
    "\n",
    "field_rules = {\n",
    "  \"rules\": [\n",
    "      rule_27\n",
    "  ]\n",
    "}\n",
    "\n",
    "print \"text:\", d['text']\n",
    "results = c.extract_using_custom_spacy(d, config, field_rules=field_rules)\n",
    "tele_lst = []\n",
    "for i in results:\n",
    "    tele_lst.append(''.join((i.values()[1]).split()))\n",
    "tele_lst"
   ]
  },
  {
   "cell_type": "code",
   "execution_count": 161,
   "metadata": {},
   "outputs": [
    {
     "name": "stdout",
     "output_type": "stream",
     "text": [
      "text:  A, BA,  \n",
      " C^J,        BAC,      C-C,         JW.B,    \n",
      " BK^C,       ABRN,     NS-A,  \n",
      " ADK^A,      ABEOW ,    ABC-A,      BAC.A,       HK.WS,  \n",
      " MITT^A,                             HCAC.U,     BTX.WS,     ,       C.WS.A,\n",
      "                                                 IMUC.WS,   \n",
      "                                                                   BAC.WS.A \n",
      " CHSP^A.CL \n",
      " Alibaba Group Holding Ltd (NYSE:BABA) dealt another ,  (NASDAQ:AMZN) this week \n",
      " $USCR, $TSLA \n",
      " common Stock (AAPL) , Apple Inc. (AAPL). \n",
      "AAPL is looking to, |  for AAPQ was 8.31 For the fiscal y  | ,AAPW has efficiently invested ,| AAPE comes one wee,,AAPR may refer to:  |,AAPl closed at ab|including AAPT news, historical|The bank lowered its AAPY price target to $150, |Earnings estimates for AAPU from thousands of | View the basic AAPO stock chart \n",
      "AAPA: Get the latest Apple, AMZA - Free Report, unveiled, AAPD's stock sold off\n",
      "GOOGL 919.46 -10.22 -1.10%,AAPL 146.28 0.65 0.45% :\n"
     ]
    },
    {
     "data": {
      "text/plain": [
       "[]"
      ]
     },
     "execution_count": 161,
     "metadata": {},
     "output_type": "execute_result"
    }
   ],
   "source": [
    "# C.WS.A,  BAC.WS.A\n",
    "\n",
    "rule_28 = {\n",
    "      \"identifier\": \"stock_symbol_rule_us\",\n",
    "      \"description\": \"a description\",\n",
    "      \"is_active\": \"true\",\n",
    "      \"output_format\": \"{1}{2}{3}{4}{5}\",\n",
    "      \"pattern\": [\n",
    "            punctuation_token(token=[\"(\"],  is_in_output=\"false\"),\n",
    "\n",
    "            shape_token(shape =[\"X\",\"XXX\"],  is_in_output=\"true\"),\n",
    "            punctuation_token(token=[\".\"],  is_in_output=\"true\"),\n",
    "            shape_token(shape =[\"XX\"],  is_in_output=\"true\"),\n",
    "            punctuation_token(token=[\".\"],  is_in_output=\"true\"),\n",
    "            shape_token(shape =[\"X\"],  is_in_output=\"true\"),\n",
    "\n",
    "            punctuation_token(token=[\")\"],  is_in_output=\"false\")\n",
    "\n",
    "\n",
    "      ]\n",
    "    }\n",
    "\n",
    "field_rules = {\n",
    "  \"rules\": [\n",
    "      rule_28\n",
    "  ]\n",
    "}\n",
    "\n",
    "print \"text:\", d['text']\n",
    "results = c.extract_using_custom_spacy(d, config, field_rules=field_rules)\n",
    "tele_lst = []\n",
    "for i in results:\n",
    "    tele_lst.append(''.join((i.values()[1]).split()))\n",
    "tele_lst"
   ]
  },
  {
   "cell_type": "code",
   "execution_count": 162,
   "metadata": {},
   "outputs": [
    {
     "name": "stdout",
     "output_type": "stream",
     "text": [
      "text:  A, BA,  \n",
      " C^J,        BAC,      C-C,         JW.B,    \n",
      " BK^C,       ABRN,     NS-A,  \n",
      " ADK^A,      ABEOW ,    ABC-A,      BAC.A,       HK.WS,  \n",
      " MITT^A,                             HCAC.U,     BTX.WS,     ,       C.WS.A,\n",
      "                                                 IMUC.WS,   \n",
      "                                                                   BAC.WS.A \n",
      " CHSP^A.CL \n",
      " Alibaba Group Holding Ltd (NYSE:BABA) dealt another ,  (NASDAQ:AMZN) this week \n",
      " $USCR, $TSLA \n",
      " common Stock (AAPL) , Apple Inc. (AAPL). \n",
      "AAPL is looking to, |  for AAPQ was 8.31 For the fiscal y  | ,AAPW has efficiently invested ,| AAPE comes one wee,,AAPR may refer to:  |,AAPl closed at ab|including AAPT news, historical|The bank lowered its AAPY price target to $150, |Earnings estimates for AAPU from thousands of | View the basic AAPO stock chart \n",
      "AAPA: Get the latest Apple, AMZA - Free Report, unveiled, AAPD's stock sold off\n",
      "GOOGL 919.46 -10.22 -1.10%,AAPL 146.28 0.65 0.45% :\n"
     ]
    },
    {
     "data": {
      "text/plain": [
       "[]"
      ]
     },
     "execution_count": 162,
     "metadata": {},
     "output_type": "execute_result"
    }
   ],
   "source": [
    "# C^J, BK^C, ADK^A, MITT^A,\n",
    "# \"AAPL is looking to, |  for AAPL was 8.31 For the fiscal y  | ,AAPL has efficiently invested ,| AAPL comes one wee,,AAPL may refer to:  |,AAPl closed at ab|including AAPL news, historical|The bank lowered its AAPL price target to $150, |Earnings estimates for AAPL from thousands of | View the basic AAPL stock chart \")\n",
    "\n",
    "rule_29 = {\n",
    "      \"identifier\": \"stock_symbol_rule_us\",\n",
    "      \"description\": \"a description\",\n",
    "      \"is_active\": \"true\",\n",
    "      \"output_format\": \"{1}{2}{3}\",\n",
    "      \"pattern\": [\n",
    "            shape_token(shape =[\"X\",\"XX\",\"XXX\",\"XXXX\"],  is_in_output=\"true\"),\n",
    "            punctuation_token(token=[\"^\"],  is_in_output=\"true\"),\n",
    "            shape_token(shape =[\"X\"],  is_in_output=\"true\"),\n",
    "            word_token(token=[\"is\",\"was\",\"has\",\"comes\",\"closed\",\"news\",\"price\",\"from\",\"stock\",\"may\",\":\",\"-\", \"'\"],is_in_output=\"false\")\n",
    "\n",
    "      ]\n",
    "    }\n",
    "\n",
    "field_rules = {\n",
    "  \"rules\": [\n",
    "      rule_29\n",
    "  ]\n",
    "}\n",
    "\n",
    "print \"text:\", d['text']\n",
    "results = c.extract_using_custom_spacy(d, config, field_rules=field_rules)\n",
    "tele_lst = []\n",
    "for i in results:\n",
    "    tele_lst.append(''.join((i.values()[1]).split()))\n",
    "tele_lst"
   ]
  },
  {
   "cell_type": "code",
   "execution_count": 163,
   "metadata": {},
   "outputs": [
    {
     "name": "stdout",
     "output_type": "stream",
     "text": [
      "text:  A, BA,  \n",
      " C^J,        BAC,      C-C,         JW.B,    \n",
      " BK^C,       ABRN,     NS-A,  \n",
      " ADK^A,      ABEOW ,    ABC-A,      BAC.A,       HK.WS,  \n",
      " MITT^A,                             HCAC.U,     BTX.WS,     ,       C.WS.A,\n",
      "                                                 IMUC.WS,   \n",
      "                                                                   BAC.WS.A \n",
      " CHSP^A.CL \n",
      " Alibaba Group Holding Ltd (NYSE:BABA) dealt another ,  (NASDAQ:AMZN) this week \n",
      " $USCR, $TSLA \n",
      " common Stock (AAPL) , Apple Inc. (AAPL). \n",
      "AAPL is looking to, |  for AAPQ was 8.31 For the fiscal y  | ,AAPW has efficiently invested ,| AAPE comes one wee,,AAPR may refer to:  |,AAPl closed at ab|including AAPT news, historical|The bank lowered its AAPY price target to $150, |Earnings estimates for AAPU from thousands of | View the basic AAPO stock chart \n",
      "AAPA: Get the latest Apple, AMZA - Free Report, unveiled, AAPD's stock sold off\n",
      "GOOGL 919.46 -10.22 -1.10%,AAPL 146.28 0.65 0.45% :\n"
     ]
    },
    {
     "data": {
      "text/plain": [
       "[]"
      ]
     },
     "execution_count": 163,
     "metadata": {},
     "output_type": "execute_result"
    }
   ],
   "source": [
    "# CHSP^A.CL \n",
    "rule_30 = {\n",
    "      \"identifier\": \"stock_symbol_rule_us\",\n",
    "      \"description\": \"a description\",\n",
    "      \"is_active\": \"true\",\n",
    "      \"output_format\": \"{1}{2}{3}{4}{5}\",\n",
    "      \"pattern\": [\n",
    "            shape_token(shape =[\"X\",\"XX\",\"XXX\",\"XXXX\"],  is_in_output=\"true\"),\n",
    "            punctuation_token(token=[\"^\"],  is_in_output=\"true\"),\n",
    "            shape_token(shape =[\"X\"],  is_in_output=\"true\"),\n",
    "            punctuation_token(token=[\".\"],  is_in_output=\"true\"),\n",
    "            shape_token(shape =[\"XX\"],  is_in_output=\"true\"),\n",
    "\n",
    "            word_token(token=[\"is\",\"was\",\"has\",\"comes\",\"closed\",\"news\",\"price\",\"from\",\"stock\",\"may\",\":\",\"-\", \"'\"],is_in_output=\"false\")\n",
    "\n",
    "      ]\n",
    "    }\n",
    "\n",
    "field_rules = {\n",
    "  \"rules\": [\n",
    "      rule_30\n",
    "  ]\n",
    "}\n",
    "\n",
    "print \"text:\", d['text']\n",
    "results = c.extract_using_custom_spacy(d, config, field_rules=field_rules)\n",
    "tele_lst = []\n",
    "for i in results:\n",
    "    tele_lst.append(''.join((i.values()[1]).split()))\n",
    "tele_lst"
   ]
  },
  {
   "cell_type": "code",
   "execution_count": 164,
   "metadata": {},
   "outputs": [
    {
     "name": "stdout",
     "output_type": "stream",
     "text": [
      "text:  A, BA,  \n",
      " C^J,        BAC,      C-C,         JW.B,    \n",
      " BK^C,       ABRN,     NS-A,  \n",
      " ADK^A,      ABEOW ,    ABC-A,      BAC.A,       HK.WS,  \n",
      " MITT^A,                             HCAC.U,     BTX.WS,     ,       C.WS.A,\n",
      "                                                 IMUC.WS,   \n",
      "                                                                   BAC.WS.A \n",
      " CHSP^A.CL \n",
      " Alibaba Group Holding Ltd (NYSE:BABA) dealt another ,  (NASDAQ:AMZN) this week \n",
      " $USCR, $TSLA \n",
      " common Stock (AAPL) , Apple Inc. (AAPL). \n",
      "AAPL is looking to, |  for AAPQ was 8.31 For the fiscal y  | ,AAPW has efficiently invested ,| AAPE comes one wee,,AAPR may refer to:  |,AAPl closed at ab|including AAPT news, historical|The bank lowered its AAPY price target to $150, |Earnings estimates for AAPU from thousands of | View the basic AAPO stock chart \n",
      "AAPA: Get the latest Apple, AMZA - Free Report, unveiled, AAPD's stock sold off\n",
      "GOOGL 919.46 -10.22 -1.10%,AAPL 146.28 0.65 0.45% :\n"
     ]
    },
    {
     "data": {
      "text/plain": [
       "['C',\n",
       " 'NS',\n",
       " 'ABC',\n",
       " 'NYSE',\n",
       " 'AAPL',\n",
       " 'AAPQ',\n",
       " 'AAPW',\n",
       " 'AAPE',\n",
       " 'AAPR',\n",
       " 'AAPT',\n",
       " 'AAPY',\n",
       " 'AAPU',\n",
       " 'AAPO',\n",
       " 'AAPA',\n",
       " 'AMZA',\n",
       " 'AAPD']"
      ]
     },
     "execution_count": 164,
     "metadata": {},
     "output_type": "execute_result"
    }
   ],
   "source": [
    "# BAC, ABRN, ABEOW ,\n",
    "#\"AAPL: Get the latest Apple, AMZN - Free Report, unveiled, AAPL's \n",
    "rule_31 = {\n",
    "      \"identifier\": \"stock_symbol_rule_us\",\n",
    "      \"description\": \"a description\",\n",
    "      \"is_active\": \"true\",\n",
    "      \"output_format\": \"{1}\",\n",
    "      \"pattern\": [\n",
    "            shape_token(shape =[\"X\",\"XX\",\"XXX\",\"XXXX\",\"XXXXX\"],  is_in_output=\"true\"),\n",
    "            word_token(token=[\"is\",\"was\",\"has\",\"comes\",\"closed\",\"news\",\"price\",\"from\",\"stock\",\"may\",\":\",\"-\", \"'\"],is_in_output=\"false\")\n",
    "\n",
    "      ]\n",
    "    }\n",
    "\n",
    "field_rules = {\n",
    "  \"rules\": [\n",
    "      rule_31\n",
    "  ]\n",
    "}\n",
    "\n",
    "print \"text:\", d['text']\n",
    "results = c.extract_using_custom_spacy(d, config, field_rules=field_rules)\n",
    "tele_lst = []\n",
    "for i in results:\n",
    "    tele_lst.append(''.join((i.values()[1]).split()))\n",
    "tele_lst"
   ]
  },
  {
   "cell_type": "code",
   "execution_count": 165,
   "metadata": {},
   "outputs": [
    {
     "name": "stdout",
     "output_type": "stream",
     "text": [
      "text:  A, BA,  \n",
      " C^J,        BAC,      C-C,         JW.B,    \n",
      " BK^C,       ABRN,     NS-A,  \n",
      " ADK^A,      ABEOW ,    ABC-A,      BAC.A,       HK.WS,  \n",
      " MITT^A,                             HCAC.U,     BTX.WS,     ,       C.WS.A,\n",
      "                                                 IMUC.WS,   \n",
      "                                                                   BAC.WS.A \n",
      " CHSP^A.CL \n",
      " Alibaba Group Holding Ltd (NYSE:BABA) dealt another ,  (NASDAQ:AMZN) this week \n",
      " $USCR, $TSLA \n",
      " common Stock (AAPL) , Apple Inc. (AAPL). \n",
      "AAPL is looking to, |  for AAPQ was 8.31 For the fiscal y  | ,AAPW has efficiently invested ,| AAPE comes one wee,,AAPR may refer to:  |,AAPl closed at ab|including AAPT news, historical|The bank lowered its AAPY price target to $150, |Earnings estimates for AAPU from thousands of | View the basic AAPO stock chart \n",
      "AAPA: Get the latest Apple, AMZA - Free Report, unveiled, AAPD's stock sold off\n",
      "GOOGL 919.46 -10.22 -1.10%,AAPL 146.28 0.65 0.45% :\n"
     ]
    },
    {
     "data": {
      "text/plain": [
       "[]"
      ]
     },
     "execution_count": 165,
     "metadata": {},
     "output_type": "execute_result"
    }
   ],
   "source": [
    "# C-C, NS-A, ABC-A,\n",
    "rule_32 = {\n",
    "      \"identifier\": \"stock_symbol_rule_us\",\n",
    "      \"description\": \"a description\",\n",
    "      \"is_active\": \"true\",\n",
    "      \"output_format\": \"{1}{2}{3}\",\n",
    "      \"pattern\": [\n",
    "            shape_token(shape =[\"X\",\"XX\",\"XXX\"],  is_in_output=\"true\"),\n",
    "            punctuation_token(token=[\"-\"],  is_in_output=\"true\"),\n",
    "            shape_token(shape =[\"X\"],  is_in_output=\"true\"),\n",
    "            word_token(token=[\"is\",\"was\",\"has\",\"comes\",\"closed\",\"news\",\"price\",\"from\",\"stock\",\"may\",\":\",\"-\", \"'\"],is_in_output=\"false\")\n",
    "\n",
    "      ]\n",
    "    }\n",
    "\n",
    "field_rules = {\n",
    "  \"rules\": [\n",
    "      rule_32\n",
    "  ]\n",
    "}\n",
    "\n",
    "print \"text:\", d['text']\n",
    "results = c.extract_using_custom_spacy(d, config, field_rules=field_rules)\n",
    "tele_lst = []\n",
    "for i in results:\n",
    "    tele_lst.append(''.join((i.values()[1]).split()))\n",
    "tele_lst"
   ]
  },
  {
   "cell_type": "code",
   "execution_count": 166,
   "metadata": {},
   "outputs": [
    {
     "name": "stdout",
     "output_type": "stream",
     "text": [
      "text:  A, BA,  \n",
      " C^J,        BAC,      C-C,         JW.B,    \n",
      " BK^C,       ABRN,     NS-A,  \n",
      " ADK^A,      ABEOW ,    ABC-A,      BAC.A,       HK.WS,  \n",
      " MITT^A,                             HCAC.U,     BTX.WS,     ,       C.WS.A,\n",
      "                                                 IMUC.WS,   \n",
      "                                                                   BAC.WS.A \n",
      " CHSP^A.CL \n",
      " Alibaba Group Holding Ltd (NYSE:BABA) dealt another ,  (NASDAQ:AMZN) this week \n",
      " $USCR, $TSLA \n",
      " common Stock (AAPL) , Apple Inc. (AAPL). \n",
      "AAPL is looking to, |  for AAPQ was 8.31 For the fiscal y  | ,AAPW has efficiently invested ,| AAPE comes one wee,,AAPR may refer to:  |,AAPl closed at ab|including AAPT news, historical|The bank lowered its AAPY price target to $150, |Earnings estimates for AAPU from thousands of | View the basic AAPO stock chart \n",
      "AAPA: Get the latest Apple, AMZA - Free Report, unveiled, AAPD's stock sold off\n",
      "GOOGL 919.46 -10.22 -1.10%,AAPL 146.28 0.65 0.45% :\n"
     ]
    },
    {
     "data": {
      "text/plain": [
       "[]"
      ]
     },
     "execution_count": 166,
     "metadata": {},
     "output_type": "execute_result"
    }
   ],
   "source": [
    "# JW.B, BAC.A, HCAC.U,\n",
    "\n",
    "rule_33 = {\n",
    "      \"identifier\": \"stock_symbol_rule_us\",\n",
    "      \"description\": \"a description\",\n",
    "      \"is_active\": \"true\",\n",
    "      \"output_format\": \"{1}{2}{3}\",\n",
    "      \"pattern\": [\n",
    "            shape_token(shape =[\"XX\",\"XXX\",\"XXXX\"],  is_in_output=\"true\"),\n",
    "            punctuation_token(token=[\".\"],  is_in_output=\"true\"),\n",
    "            shape_token(shape =[\"X\"],  is_in_output=\"true\"),\n",
    "            word_token(token=[\"is\",\"was\",\"has\",\"comes\",\"closed\",\"news\",\"price\",\"from\",\"stock\",\"may\",\":\",\"-\", \"'\"],is_in_output=\"false\")\n",
    "\n",
    "      ]\n",
    "    }\n",
    "\n",
    "field_rules = {\n",
    "  \"rules\": [\n",
    "      rule_33\n",
    "  ]\n",
    "}\n",
    "\n",
    "print \"text:\", d['text']\n",
    "results = c.extract_using_custom_spacy(d, config, field_rules=field_rules)\n",
    "tele_lst = []\n",
    "for i in results:\n",
    "    tele_lst.append(''.join((i.values()[1]).split()))\n",
    "tele_lst"
   ]
  },
  {
   "cell_type": "code",
   "execution_count": 167,
   "metadata": {},
   "outputs": [
    {
     "name": "stdout",
     "output_type": "stream",
     "text": [
      "text:  A, BA,  \n",
      " C^J,        BAC,      C-C,         JW.B,    \n",
      " BK^C,       ABRN,     NS-A,  \n",
      " ADK^A,      ABEOW ,    ABC-A,      BAC.A,       HK.WS,  \n",
      " MITT^A,                             HCAC.U,     BTX.WS,     ,       C.WS.A,\n",
      "                                                 IMUC.WS,   \n",
      "                                                                   BAC.WS.A \n",
      " CHSP^A.CL \n",
      " Alibaba Group Holding Ltd (NYSE:BABA) dealt another ,  (NASDAQ:AMZN) this week \n",
      " $USCR, $TSLA \n",
      " common Stock (AAPL) , Apple Inc. (AAPL). \n",
      "AAPL is looking to, |  for AAPQ was 8.31 For the fiscal y  | ,AAPW has efficiently invested ,| AAPE comes one wee,,AAPR may refer to:  |,AAPl closed at ab|including AAPT news, historical|The bank lowered its AAPY price target to $150, |Earnings estimates for AAPU from thousands of | View the basic AAPO stock chart \n",
      "AAPA: Get the latest Apple, AMZA - Free Report, unveiled, AAPD's stock sold off\n",
      "GOOGL 919.46 -10.22 -1.10%,AAPL 146.28 0.65 0.45% :\n"
     ]
    },
    {
     "data": {
      "text/plain": [
       "[]"
      ]
     },
     "execution_count": 167,
     "metadata": {},
     "output_type": "execute_result"
    }
   ],
   "source": [
    "# HK.WS, BTX.WS,  IMUC.WS, \n",
    "\n",
    "rule_34 = {\n",
    "      \"identifier\": \"stock_symbol_rule_us\",\n",
    "      \"description\": \"a description\",\n",
    "      \"is_active\": \"true\",\n",
    "      \"output_format\": \"{1}{2}{3}\",\n",
    "      \"pattern\": [\n",
    "            shape_token(shape =[\"XX\",\"XXX\",\"XXXX\"],  is_in_output=\"true\"),\n",
    "            punctuation_token(token=[\".\"],  is_in_output=\"true\"),\n",
    "            shape_token(shape =[\"XX\"],  is_in_output=\"true\"),\n",
    "            word_token(token=[\"is\",\"was\",\"has\",\"comes\",\"closed\",\"news\",\"price\",\"from\",\"stock\",\"may\",\":\",\"-\", \"'\"],is_in_output=\"false\")\n",
    "\n",
    "      ]\n",
    "    }\n",
    "\n",
    "field_rules = {\n",
    "  \"rules\": [\n",
    "      rule_34\n",
    "  ]\n",
    "}\n",
    "\n",
    "print \"text:\", d['text']\n",
    "results = c.extract_using_custom_spacy(d, config, field_rules=field_rules)\n",
    "tele_lst = []\n",
    "for i in results:\n",
    "    tele_lst.append(''.join((i.values()[1]).split()))\n",
    "tele_lst"
   ]
  },
  {
   "cell_type": "code",
   "execution_count": 168,
   "metadata": {},
   "outputs": [
    {
     "name": "stdout",
     "output_type": "stream",
     "text": [
      "text:  A, BA,  \n",
      " C^J,        BAC,      C-C,         JW.B,    \n",
      " BK^C,       ABRN,     NS-A,  \n",
      " ADK^A,      ABEOW ,    ABC-A,      BAC.A,       HK.WS,  \n",
      " MITT^A,                             HCAC.U,     BTX.WS,     ,       C.WS.A,\n",
      "                                                 IMUC.WS,   \n",
      "                                                                   BAC.WS.A \n",
      " CHSP^A.CL \n",
      " Alibaba Group Holding Ltd (NYSE:BABA) dealt another ,  (NASDAQ:AMZN) this week \n",
      " $USCR, $TSLA \n",
      " common Stock (AAPL) , Apple Inc. (AAPL). \n",
      "AAPL is looking to, |  for AAPQ was 8.31 For the fiscal y  | ,AAPW has efficiently invested ,| AAPE comes one wee,,AAPR may refer to:  |,AAPl closed at ab|including AAPT news, historical|The bank lowered its AAPY price target to $150, |Earnings estimates for AAPU from thousands of | View the basic AAPO stock chart \n",
      "AAPA: Get the latest Apple, AMZA - Free Report, unveiled, AAPD's stock sold off\n",
      "GOOGL 919.46 -10.22 -1.10%,AAPL 146.28 0.65 0.45% :\n"
     ]
    },
    {
     "data": {
      "text/plain": [
       "[]"
      ]
     },
     "execution_count": 168,
     "metadata": {},
     "output_type": "execute_result"
    }
   ],
   "source": [
    "# C.WS.A,  BAC.WS.A\n",
    "\n",
    "rule_35 = {\n",
    "      \"identifier\": \"stock_symbol_rule_us\",\n",
    "      \"description\": \"a description\",\n",
    "      \"is_active\": \"true\",\n",
    "      \"output_format\": \"{1}{2}{3}{4}{5}\",\n",
    "      \"pattern\": [\n",
    "            shape_token(shape =[\"X\",\"XXX\"],  is_in_output=\"true\"),\n",
    "            punctuation_token(token=[\".\"],  is_in_output=\"true\"),\n",
    "            shape_token(shape =[\"XX\"],  is_in_output=\"true\"),\n",
    "            punctuation_token(token=[\".\"],  is_in_output=\"true\"),\n",
    "            shape_token(shape =[\"X\"],  is_in_output=\"true\"),\n",
    "            word_token(token=[\"is\",\"was\",\"has\",\"comes\",\"closed\",\"news\",\"price\",\"from\",\"stock\",\"may\",\":\",\"-\", \"'\"],is_in_output=\"false\")\n",
    "\n",
    "\n",
    "      ]\n",
    "    }\n",
    "\n",
    "field_rules = {\n",
    "  \"rules\": [\n",
    "      rule_35\n",
    "  ]\n",
    "}\n",
    "\n",
    "print \"text:\", d['text']\n",
    "results = c.extract_using_custom_spacy(d, config, field_rules=field_rules)\n",
    "tele_lst = []\n",
    "for i in results:\n",
    "    tele_lst.append(''.join((i.values()[1]).split()))\n",
    "tele_lst"
   ]
  },
  {
   "cell_type": "code",
   "execution_count": 169,
   "metadata": {},
   "outputs": [
    {
     "name": "stdout",
     "output_type": "stream",
     "text": [
      "text:  A, BA,  \n",
      " C^J,        BAC,      C-C,         JW.B,    \n",
      " BK^C,       ABRN,     NS-A,  \n",
      " ADK^A,      ABEOW ,    ABC-A,      BAC.A,       HK.WS,  \n",
      " MITT^A,                             HCAC.U,     BTX.WS,     ,       C.WS.A,\n",
      "                                                 IMUC.WS,   \n",
      "                                                                   BAC.WS.A \n",
      " CHSP^A.CL \n",
      " Alibaba Group Holding Ltd (NYSE:BABA) dealt another ,  (NASDAQ:AMZN) this week \n",
      " $USCR, $TSLA \n",
      " common Stock (AAPL) , Apple Inc. (AAPL). \n",
      "AAPL is looking to, |  for AAPQ was 8.31 For the fiscal y  | ,AAPW has efficiently invested ,| AAPE comes one wee,,AAPR may refer to:  |,AAPl closed at ab|including AAPT news, historical|The bank lowered its AAPY price target to $150, |Earnings estimates for AAPU from thousands of | View the basic AAPO stock chart \n",
      "AAPA: Get the latest Apple, AMZA - Free Report, unveiled, AAPD's stock sold off\n",
      "GOOGL 919.46 -10.22 -1.10%,AAPL 146.28 0.65 0.45% :\n"
     ]
    },
    {
     "data": {
      "text/plain": [
       "[]"
      ]
     },
     "execution_count": 169,
     "metadata": {},
     "output_type": "execute_result"
    }
   ],
   "source": [
    "# C^J, BK^C, ADK^A, MITT^A,\n",
    "# GOOGL 919.46 -10.22 -1.10%,AAPL 146.28 \n",
    "rule_36 = {\n",
    "      \"identifier\": \"stock_symbol_rule_us\",\n",
    "      \"description\": \"a description\",\n",
    "      \"is_active\": \"true\",\n",
    "      \"output_format\": \"{1}{2}{3}\",\n",
    "      \"pattern\": [\n",
    "            shape_token(shape =[\"X\",\"XX\",\"XXX\",\"XXXX\"],  is_in_output=\"true\"),\n",
    "            punctuation_token(token=[\"^\"],  is_in_output=\"true\"),\n",
    "            shape_token(shape =[\"X\"],  is_in_output=\"true\"),\n",
    "          \n",
    "            shape_token(shape =[\"ddd\"],is_in_output=\"false\"),\n",
    "            punctuation_token(token=[\".\"],  is_in_output=\"false\"),\n",
    "            shape_token(shape =[\"dd\"],is_in_output=\"false\")\n",
    "\n",
    "      ]\n",
    "    }\n",
    "\n",
    "field_rules = {\n",
    "  \"rules\": [\n",
    "      rule_36\n",
    "  ]\n",
    "}\n",
    "\n",
    "print \"text:\", d['text']\n",
    "results = c.extract_using_custom_spacy(d, config, field_rules=field_rules)\n",
    "tele_lst = []\n",
    "for i in results:\n",
    "    tele_lst.append(''.join((i.values()[1]).split()))\n",
    "tele_lst"
   ]
  },
  {
   "cell_type": "code",
   "execution_count": 170,
   "metadata": {},
   "outputs": [
    {
     "name": "stdout",
     "output_type": "stream",
     "text": [
      "text:  A, BA,  \n",
      " C^J,        BAC,      C-C,         JW.B,    \n",
      " BK^C,       ABRN,     NS-A,  \n",
      " ADK^A,      ABEOW ,    ABC-A,      BAC.A,       HK.WS,  \n",
      " MITT^A,                             HCAC.U,     BTX.WS,     ,       C.WS.A,\n",
      "                                                 IMUC.WS,   \n",
      "                                                                   BAC.WS.A \n",
      " CHSP^A.CL \n",
      " Alibaba Group Holding Ltd (NYSE:BABA) dealt another ,  (NASDAQ:AMZN) this week \n",
      " $USCR, $TSLA \n",
      " common Stock (AAPL) , Apple Inc. (AAPL). \n",
      "AAPL is looking to, |  for AAPQ was 8.31 For the fiscal y  | ,AAPW has efficiently invested ,| AAPE comes one wee,,AAPR may refer to:  |,AAPl closed at ab|including AAPT news, historical|The bank lowered its AAPY price target to $150, |Earnings estimates for AAPU from thousands of | View the basic AAPO stock chart \n",
      "AAPA: Get the latest Apple, AMZA - Free Report, unveiled, AAPD's stock sold off\n",
      "GOOGL 919.46 -10.22 -1.10%,AAPL 146.28 0.65 0.45% :\n"
     ]
    },
    {
     "data": {
      "text/plain": [
       "[]"
      ]
     },
     "execution_count": 170,
     "metadata": {},
     "output_type": "execute_result"
    }
   ],
   "source": [
    "# CHSP^A.CL \n",
    "rule_37 = {\n",
    "      \"identifier\": \"stock_symbol_rule_us\",\n",
    "      \"description\": \"a description\",\n",
    "      \"is_active\": \"true\",\n",
    "      \"output_format\": \"{1}{2}{3}{4}{5}{6}\",\n",
    "      \"pattern\": [\n",
    "            shape_token(shape =[\"X\",\"XX\",\"XXX\",\"XXXX\"],  is_in_output=\"true\"),\n",
    "            punctuation_token(token=[\"^\"],  is_in_output=\"true\"),\n",
    "            shape_token(shape =[\"X\"],  is_in_output=\"true\"),\n",
    "            punctuation_token(token=[\".\"],  is_in_output=\"true\"),\n",
    "            shape_token(shape =[\"XX\"],  is_in_output=\"true\"),\n",
    "            shape_token(shape =[\"ddd\"],is_in_output=\"false\"),\n",
    "            punctuation_token(token=[\".\"],  is_in_output=\"true\"),\n",
    "            shape_token(shape =[\"dd\"],is_in_output=\"false\"),\n",
    "          \n",
    "            shape_token(shape =[\"ddd\"],is_in_output=\"false\"),\n",
    "            punctuation_token(token=[\".\"],  is_in_output=\"false\"),\n",
    "            shape_token(shape =[\"dd\"],is_in_output=\"false\")\n",
    "      ]\n",
    "    }\n",
    "\n",
    "field_rules = {\n",
    "  \"rules\": [\n",
    "      rule_37\n",
    "  ]\n",
    "}\n",
    "\n",
    "print \"text:\", d['text']\n",
    "results = c.extract_using_custom_spacy(d, config, field_rules=field_rules)\n",
    "tele_lst = []\n",
    "for i in results:\n",
    "    tele_lst.append(''.join((i.values()[1]).split()))\n",
    "tele_lst"
   ]
  },
  {
   "cell_type": "code",
   "execution_count": 171,
   "metadata": {},
   "outputs": [
    {
     "name": "stdout",
     "output_type": "stream",
     "text": [
      "text:  A, BA,  \n",
      " C^J,        BAC,      C-C,         JW.B,    \n",
      " BK^C,       ABRN,     NS-A,  \n",
      " ADK^A,      ABEOW ,    ABC-A,      BAC.A,       HK.WS,  \n",
      " MITT^A,                             HCAC.U,     BTX.WS,     ,       C.WS.A,\n",
      "                                                 IMUC.WS,   \n",
      "                                                                   BAC.WS.A \n",
      " CHSP^A.CL \n",
      " Alibaba Group Holding Ltd (NYSE:BABA) dealt another ,  (NASDAQ:AMZN) this week \n",
      " $USCR, $TSLA \n",
      " common Stock (AAPL) , Apple Inc. (AAPL). \n",
      "AAPL is looking to, |  for AAPQ was 8.31 For the fiscal y  | ,AAPW has efficiently invested ,| AAPE comes one wee,,AAPR may refer to:  |,AAPl closed at ab|including AAPT news, historical|The bank lowered its AAPY price target to $150, |Earnings estimates for AAPU from thousands of | View the basic AAPO stock chart \n",
      "AAPA: Get the latest Apple, AMZA - Free Report, unveiled, AAPD's stock sold off\n",
      "GOOGL 919.46 -10.22 -1.10%,AAPL 146.28 0.65 0.45% :\n"
     ]
    },
    {
     "data": {
      "text/plain": [
       "['GOOGL', 'AAPL']"
      ]
     },
     "execution_count": 171,
     "metadata": {},
     "output_type": "execute_result"
    }
   ],
   "source": [
    "# BAC, ABRN, ABEOW ,\n",
    "\n",
    "rule_38 = {\n",
    "      \"identifier\": \"stock_symbol_rule_us\",\n",
    "      \"description\": \"a description\",\n",
    "      \"is_active\": \"true\",\n",
    "      \"output_format\": \"{1}\",\n",
    "      \"pattern\": [\n",
    "            shape_token(shape =[\"X\",\"XX\",\"XXX\",\"XXXX\",\"XXXXX\"],  is_in_output=\"true\"),\n",
    "          \n",
    "            shape_token(shape =[\"ddd\"],is_in_output=\"false\"),\n",
    "            punctuation_token(token=[\".\"],  is_in_output=\"false\"),\n",
    "            shape_token(shape =[\"dd\"],is_in_output=\"false\")\n",
    "      ]\n",
    "    }\n",
    "\n",
    "field_rules = {\n",
    "  \"rules\": [\n",
    "      rule_38\n",
    "  ]\n",
    "}\n",
    "\n",
    "print \"text:\", d['text']\n",
    "results = c.extract_using_custom_spacy(d, config, field_rules=field_rules)\n",
    "tele_lst = []\n",
    "for i in results:\n",
    "    tele_lst.append(''.join((i.values()[1]).split()))\n",
    "tele_lst"
   ]
  },
  {
   "cell_type": "code",
   "execution_count": 172,
   "metadata": {},
   "outputs": [
    {
     "name": "stdout",
     "output_type": "stream",
     "text": [
      "text:  A, BA,  \n",
      " C^J,        BAC,      C-C,         JW.B,    \n",
      " BK^C,       ABRN,     NS-A,  \n",
      " ADK^A,      ABEOW ,    ABC-A,      BAC.A,       HK.WS,  \n",
      " MITT^A,                             HCAC.U,     BTX.WS,     ,       C.WS.A,\n",
      "                                                 IMUC.WS,   \n",
      "                                                                   BAC.WS.A \n",
      " CHSP^A.CL \n",
      " Alibaba Group Holding Ltd (NYSE:BABA) dealt another ,  (NASDAQ:AMZN) this week \n",
      " $USCR, $TSLA \n",
      " common Stock (AAPL) , Apple Inc. (AAPL). \n",
      "AAPL is looking to, |  for AAPQ was 8.31 For the fiscal y  | ,AAPW has efficiently invested ,| AAPE comes one wee,,AAPR may refer to:  |,AAPl closed at ab|including AAPT news, historical|The bank lowered its AAPY price target to $150, |Earnings estimates for AAPU from thousands of | View the basic AAPO stock chart \n",
      "AAPA: Get the latest Apple, AMZA - Free Report, unveiled, AAPD's stock sold off\n",
      "GOOGL 919.46 -10.22 -1.10%,AAPL 146.28 0.65 0.45% :\n"
     ]
    },
    {
     "data": {
      "text/plain": [
       "[]"
      ]
     },
     "execution_count": 172,
     "metadata": {},
     "output_type": "execute_result"
    }
   ],
   "source": [
    "# C-C, NS-A, ABC-A,\n",
    "rule_39 = {\n",
    "      \"identifier\": \"stock_symbol_rule_us\",\n",
    "      \"description\": \"a description\",\n",
    "      \"is_active\": \"true\",\n",
    "      \"output_format\": \"{1}{2}{3}\",\n",
    "      \"pattern\": [\n",
    "            shape_token(shape =[\"X\",\"XX\",\"XXX\"],  is_in_output=\"true\"),\n",
    "            punctuation_token(token=[\"-\"],  is_in_output=\"true\"),\n",
    "            shape_token(shape =[\"X\"],  is_in_output=\"true\"),\n",
    "          \n",
    "            shape_token(shape =[\"ddd\"],is_in_output=\"false\"),\n",
    "            punctuation_token(token=[\".\"],  is_in_output=\"false\"),\n",
    "            shape_token(shape =[\"dd\"],is_in_output=\"false\")\n",
    "      ]\n",
    "    }\n",
    "\n",
    "field_rules = {\n",
    "  \"rules\": [\n",
    "      rule_39\n",
    "  ]\n",
    "}\n",
    "\n",
    "print \"text:\", d['text']\n",
    "results = c.extract_using_custom_spacy(d, config, field_rules=field_rules)\n",
    "tele_lst = []\n",
    "for i in results:\n",
    "    tele_lst.append(''.join((i.values()[1]).split()))\n",
    "tele_lst"
   ]
  },
  {
   "cell_type": "code",
   "execution_count": 173,
   "metadata": {},
   "outputs": [
    {
     "name": "stdout",
     "output_type": "stream",
     "text": [
      "text:  A, BA,  \n",
      " C^J,        BAC,      C-C,         JW.B,    \n",
      " BK^C,       ABRN,     NS-A,  \n",
      " ADK^A,      ABEOW ,    ABC-A,      BAC.A,       HK.WS,  \n",
      " MITT^A,                             HCAC.U,     BTX.WS,     ,       C.WS.A,\n",
      "                                                 IMUC.WS,   \n",
      "                                                                   BAC.WS.A \n",
      " CHSP^A.CL \n",
      " Alibaba Group Holding Ltd (NYSE:BABA) dealt another ,  (NASDAQ:AMZN) this week \n",
      " $USCR, $TSLA \n",
      " common Stock (AAPL) , Apple Inc. (AAPL). \n",
      "AAPL is looking to, |  for AAPQ was 8.31 For the fiscal y  | ,AAPW has efficiently invested ,| AAPE comes one wee,,AAPR may refer to:  |,AAPl closed at ab|including AAPT news, historical|The bank lowered its AAPY price target to $150, |Earnings estimates for AAPU from thousands of | View the basic AAPO stock chart \n",
      "AAPA: Get the latest Apple, AMZA - Free Report, unveiled, AAPD's stock sold off\n",
      "GOOGL 919.46 -10.22 -1.10%,AAPL 146.28 0.65 0.45% :\n"
     ]
    },
    {
     "data": {
      "text/plain": [
       "[]"
      ]
     },
     "execution_count": 173,
     "metadata": {},
     "output_type": "execute_result"
    }
   ],
   "source": [
    "# JW.B, BAC.A, HCAC.U,\n",
    "\n",
    "rule_40 = {\n",
    "      \"identifier\": \"stock_symbol_rule_us\",\n",
    "      \"description\": \"a description\",\n",
    "      \"is_active\": \"true\",\n",
    "      \"output_format\": \"{1}{2}{3}\",\n",
    "      \"pattern\": [\n",
    "            shape_token(shape =[\"XX\",\"XXX\",\"XXXX\"],  is_in_output=\"true\"),\n",
    "            punctuation_token(token=[\".\"],  is_in_output=\"true\"),\n",
    "            shape_token(shape =[\"X\"],  is_in_output=\"true\"),\n",
    "          \n",
    "            shape_token(shape =[\"ddd\"],is_in_output=\"false\"),\n",
    "            punctuation_token(token=[\".\"],  is_in_output=\"false\"),\n",
    "            shape_token(shape =[\"dd\"],is_in_output=\"false\")\n",
    "      ]\n",
    "    }\n",
    "\n",
    "field_rules = {\n",
    "  \"rules\": [\n",
    "      rule_40\n",
    "  ]\n",
    "}\n",
    "\n",
    "print \"text:\", d['text']\n",
    "results = c.extract_using_custom_spacy(d, config, field_rules=field_rules)\n",
    "tele_lst = []\n",
    "for i in results:\n",
    "    tele_lst.append(''.join((i.values()[1]).split()))\n",
    "tele_lst"
   ]
  },
  {
   "cell_type": "code",
   "execution_count": 174,
   "metadata": {},
   "outputs": [
    {
     "name": "stdout",
     "output_type": "stream",
     "text": [
      "text:  A, BA,  \n",
      " C^J,        BAC,      C-C,         JW.B,    \n",
      " BK^C,       ABRN,     NS-A,  \n",
      " ADK^A,      ABEOW ,    ABC-A,      BAC.A,       HK.WS,  \n",
      " MITT^A,                             HCAC.U,     BTX.WS,     ,       C.WS.A,\n",
      "                                                 IMUC.WS,   \n",
      "                                                                   BAC.WS.A \n",
      " CHSP^A.CL \n",
      " Alibaba Group Holding Ltd (NYSE:BABA) dealt another ,  (NASDAQ:AMZN) this week \n",
      " $USCR, $TSLA \n",
      " common Stock (AAPL) , Apple Inc. (AAPL). \n",
      "AAPL is looking to, |  for AAPQ was 8.31 For the fiscal y  | ,AAPW has efficiently invested ,| AAPE comes one wee,,AAPR may refer to:  |,AAPl closed at ab|including AAPT news, historical|The bank lowered its AAPY price target to $150, |Earnings estimates for AAPU from thousands of | View the basic AAPO stock chart \n",
      "AAPA: Get the latest Apple, AMZA - Free Report, unveiled, AAPD's stock sold off\n",
      "GOOGL 919.46 -10.22 -1.10%,AAPL 146.28 0.65 0.45% :\n"
     ]
    },
    {
     "data": {
      "text/plain": [
       "[]"
      ]
     },
     "execution_count": 174,
     "metadata": {},
     "output_type": "execute_result"
    }
   ],
   "source": [
    "# HK.WS, BTX.WS,  IMUC.WS, \n",
    "\n",
    "rule_41 = {\n",
    "      \"identifier\": \"stock_symbol_rule_us\",\n",
    "      \"description\": \"a description\",\n",
    "      \"is_active\": \"true\",\n",
    "      \"output_format\": \"{1}{2}{3}\",\n",
    "      \"pattern\": [\n",
    "            shape_token(shape =[\"XX\",\"XXX\",\"XXXX\"],  is_in_output=\"true\"),\n",
    "            punctuation_token(token=[\".\"],  is_in_output=\"true\"),\n",
    "            shape_token(shape =[\"XX\"],  is_in_output=\"true\"),\n",
    "          \n",
    "            shape_token(shape =[\"ddd\"],is_in_output=\"false\"),\n",
    "            punctuation_token(token=[\".\"],  is_in_output=\"false\"),\n",
    "            shape_token(shape =[\"dd\"],is_in_output=\"false\")\n",
    "      ]\n",
    "    }\n",
    "\n",
    "field_rules = {\n",
    "  \"rules\": [\n",
    "      rule_41\n",
    "  ]\n",
    "}\n",
    "\n",
    "print \"text:\", d['text']\n",
    "results = c.extract_using_custom_spacy(d, config, field_rules=field_rules)\n",
    "tele_lst = []\n",
    "for i in results:\n",
    "    tele_lst.append(''.join((i.values()[1]).split()))\n",
    "tele_lst"
   ]
  },
  {
   "cell_type": "code",
   "execution_count": 175,
   "metadata": {},
   "outputs": [
    {
     "name": "stdout",
     "output_type": "stream",
     "text": [
      "text:  A, BA,  \n",
      " C^J,        BAC,      C-C,         JW.B,    \n",
      " BK^C,       ABRN,     NS-A,  \n",
      " ADK^A,      ABEOW ,    ABC-A,      BAC.A,       HK.WS,  \n",
      " MITT^A,                             HCAC.U,     BTX.WS,     ,       C.WS.A,\n",
      "                                                 IMUC.WS,   \n",
      "                                                                   BAC.WS.A \n",
      " CHSP^A.CL \n",
      " Alibaba Group Holding Ltd (NYSE:BABA) dealt another ,  (NASDAQ:AMZN) this week \n",
      " $USCR, $TSLA \n",
      " common Stock (AAPL) , Apple Inc. (AAPL). \n",
      "AAPL is looking to, |  for AAPQ was 8.31 For the fiscal y  | ,AAPW has efficiently invested ,| AAPE comes one wee,,AAPR may refer to:  |,AAPl closed at ab|including AAPT news, historical|The bank lowered its AAPY price target to $150, |Earnings estimates for AAPU from thousands of | View the basic AAPO stock chart \n",
      "AAPA: Get the latest Apple, AMZA - Free Report, unveiled, AAPD's stock sold off\n",
      "GOOGL 919.46 -10.22 -1.10%,AAPL 146.28 0.65 0.45% :\n"
     ]
    },
    {
     "data": {
      "text/plain": [
       "[]"
      ]
     },
     "execution_count": 175,
     "metadata": {},
     "output_type": "execute_result"
    }
   ],
   "source": [
    "# C.WS.A,  BAC.WS.A\n",
    "\n",
    "rule_42 = {\n",
    "      \"identifier\": \"stock_symbol_rule_us\",\n",
    "      \"description\": \"a description\",\n",
    "      \"is_active\": \"true\",\n",
    "      \"output_format\": \"{1}{2}{3}{4}{5}\",\n",
    "      \"pattern\": [\n",
    "            shape_token(shape =[\"X\",\"XXX\"],  is_in_output=\"true\"),\n",
    "            punctuation_token(token=[\".\"],  is_in_output=\"true\"),\n",
    "            shape_token(shape =[\"XX\"],  is_in_output=\"true\"),\n",
    "            punctuation_token(token=[\".\"],  is_in_output=\"true\"),\n",
    "            shape_token(shape =[\"X\"],  is_in_output=\"true\"),\n",
    "\n",
    "            shape_token(shape =[\"ddd\"],is_in_output=\"false\"),\n",
    "            punctuation_token(token=[\".\"],  is_in_output=\"false\"),\n",
    "            shape_token(shape =[\"dd\"],is_in_output=\"false\")\n",
    "\n",
    "      ]\n",
    "    }\n",
    "\n",
    "field_rules = {\n",
    "  \"rules\": [\n",
    "      rule_42\n",
    "  ]\n",
    "}\n",
    "\n",
    "print \"text:\", d['text']\n",
    "results = c.extract_using_custom_spacy(d, config, field_rules=field_rules)\n",
    "tele_lst = []\n",
    "for i in results:\n",
    "    tele_lst.append(''.join((i.values()[1]).split()))\n",
    "tele_lst"
   ]
  },
  {
   "cell_type": "code",
   "execution_count": null,
   "metadata": {
    "collapsed": true
   },
   "outputs": [],
   "source": []
  },
  {
   "cell_type": "code",
   "execution_count": null,
   "metadata": {
    "collapsed": true
   },
   "outputs": [],
   "source": []
  },
  {
   "cell_type": "code",
   "execution_count": null,
   "metadata": {
    "collapsed": true
   },
   "outputs": [],
   "source": []
  },
  {
   "cell_type": "code",
   "execution_count": null,
   "metadata": {
    "collapsed": true
   },
   "outputs": [],
   "source": []
  },
  {
   "cell_type": "code",
   "execution_count": null,
   "metadata": {
    "collapsed": true
   },
   "outputs": [],
   "source": []
  },
  {
   "cell_type": "code",
   "execution_count": null,
   "metadata": {
    "collapsed": true
   },
   "outputs": [],
   "source": []
  },
  {
   "cell_type": "code",
   "execution_count": null,
   "metadata": {
    "collapsed": true
   },
   "outputs": [],
   "source": []
  },
  {
   "cell_type": "code",
   "execution_count": null,
   "metadata": {
    "collapsed": true
   },
   "outputs": [],
   "source": []
  },
  {
   "cell_type": "code",
   "execution_count": null,
   "metadata": {
    "collapsed": true
   },
   "outputs": [],
   "source": []
  },
  {
   "cell_type": "markdown",
   "metadata": {},
   "source": [
    "## Test Several Rules"
   ]
  },
  {
   "cell_type": "code",
   "execution_count": 176,
   "metadata": {},
   "outputs": [
    {
     "name": "stdout",
     "output_type": "stream",
     "text": [
      "text:  A, BA,  \n",
      " C^J,        BAC,      C-C,         JW.B,    \n",
      " BK^C,       ABRN,     NS-A,  \n",
      " ADK^A,      ABEOW ,    ABC-A,      BAC.A,       HK.WS,  \n",
      " MITT^A,                             HCAC.U,     BTX.WS,     ,       C.WS.A,\n",
      "                                                 IMUC.WS,   \n",
      "                                                                   BAC.WS.A \n",
      " CHSP^A.CL \n",
      " Alibaba Group Holding Ltd (NYSE:BABA) dealt another ,  (NASDAQ:AMZN) this week \n",
      " $USCR, $TSLA \n",
      " common Stock (AAPL) , Apple Inc. (AAPL). \n",
      "AAPL is looking to, |  for AAPQ was 8.31 For the fiscal y  | ,AAPW has efficiently invested ,| AAPE comes one wee,,AAPR may refer to:  |,AAPl closed at ab|including AAPT news, historical|The bank lowered its AAPY price target to $150, |Earnings estimates for AAPU from thousands of | View the basic AAPO stock chart \n",
      "AAPA: Get the latest Apple, AMZA - Free Report, unveiled, AAPD's stock sold off\n",
      "GOOGL 919.46 -10.22 -1.10%,AAPL 146.28 0.65 0.45% :\n",
      "['C', 'NS', 'ABC', 'BABA', 'AMZN', 'USCR', 'TSLA', 'AAPL', 'AAPL', 'AAPL', 'AAPQ', 'AAPW', 'AAPE', 'AAPR', 'AAPT', 'AAPY', 'AAPU', 'AAPO', 'AAPA', 'AMZA', 'AAPD', 'GOOGL', 'AAPL']\n"
     ]
    }
   ],
   "source": [
    "field_rules = {\n",
    "  \"rules\": [\n",
    "    rule_01, \n",
    "    rule_02,\n",
    "    rule_03,\n",
    "    rule_04,\n",
    "    rule_05,\n",
    "    rule_06,\n",
    "    rule_07,\n",
    "    rule_08,\n",
    "    rule_09,\n",
    "    rule_10,\n",
    "    rule_11,\n",
    "    rule_12,\n",
    "    rule_13,\n",
    "    rule_14,\n",
    "    rule_15,\n",
    "    rule_16,\n",
    "    rule_17,\n",
    "    rule_18,\n",
    "    rule_19,\n",
    "    rule_20,\n",
    "    rule_21,\n",
    "    rule_22,\n",
    "    rule_23,\n",
    "    rule_24,\n",
    "    rule_25,\n",
    "    rule_26,\n",
    "    rule_27,\n",
    "    rule_28,\n",
    "    rule_29,\n",
    "    rule_30,\n",
    "    rule_31, \n",
    "    rule_32,\n",
    "    rule_33,\n",
    "    rule_34,\n",
    "    rule_35,\n",
    "    rule_36,\n",
    "    rule_37,\n",
    "    rule_38,\n",
    "    rule_39,\n",
    "    rule_40,\n",
    "    rule_41, \n",
    "    rule_42\n",
    " \n",
    "  ],\n",
    "    \"test_text\": d['text'],\n",
    "    \"test_tokens\": c.extract_tokens_from_crf(c.extract_crftokens(d['text'], lowercase=False))\n",
    "}\n",
    "\n",
    "\n",
    "\n",
    "results = c.extract_using_custom_spacy(d, config, field_rules=field_rules)\n",
    "\n",
    "print \"text:\", d['text']\n",
    "\n",
    "price_lst = []\n",
    "for i in results:\n",
    "    price_lst.append(''.join((i.values()[1]).split()))\n",
    "results.append(price_lst)\n",
    "field_rules['results']=results\n",
    "\n",
    "s = json.dumps(field_rules)\n",
    "print price_lst\n",
    "\n",
    "import codecs\n",
    "o = codecs.open('price_file.jl', 'w')\n",
    "o.write(s)\n",
    "o.close()\n",
    "\n",
    "\n",
    "\n"
   ]
  },
  {
   "cell_type": "code",
   "execution_count": 177,
   "metadata": {},
   "outputs": [
    {
     "name": "stdout",
     "output_type": "stream",
     "text": [
      "{'prefix': '', 'suffix': '', 'capitalization': [], 'part_of_speech': [], 'length': [], 'maximum': '', 'shapes': [], 'token': ['hello'], 'minimum': '', 'numbers': [], 'contain_digit': '', 'is_in_vocabulary': '', 'is_out_of_vocabulary': '', 'is_required': 'true', 'type': 'word', 'is_in_output': 'false'}\n"
     ]
    }
   ],
   "source": [
    "\n",
    "print word_token(token=[\"hello\"])"
   ]
  }
 ],
 "metadata": {
  "kernelspec": {
   "display_name": "Python [conda env:etk_env]",
   "language": "python",
   "name": "conda-env-etk_env-py"
  },
  "language_info": {
   "codemirror_mode": {
    "name": "ipython",
    "version": 2
   },
   "file_extension": ".py",
   "mimetype": "text/x-python",
   "name": "python",
   "nbconvert_exporter": "python",
   "pygments_lexer": "ipython2",
   "version": "2.7.12"
  }
 },
 "nbformat": 4,
 "nbformat_minor": 1
}
