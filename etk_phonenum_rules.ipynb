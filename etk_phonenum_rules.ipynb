{
 "cells": [
  {
   "cell_type": "markdown",
   "metadata": {
    "collapsed": true
   },
   "source": [
    "# Custom Spacy Rules"
   ]
  },
  {
   "cell_type": "code",
   "execution_count": 2,
   "metadata": {
    "collapsed": true
   },
   "outputs": [],
   "source": [
    "def generic_token(type=\"word\", token=[], shape=[], number =[], capitalization=[], part_of_speech=[], length=[], minimum=\"\", maximum=\"\", prefix=\"\", suffix=\"\", is_followed_by_space=\"\", is_required=\"true\", is_in_output=\"true\", is_out_of_vocabulary=\"\", is_in_vocabulary=\"\", contain_digit=\"\"):\n",
    "    return {\n",
    "        \"type\": type,\n",
    "        \"token\": token,\n",
    "        \"shapes\": shape,\n",
    "        \"numbers\": number,\n",
    "        \"capitalization\": capitalization,\n",
    "        \"part_of_speech\": part_of_speech,\n",
    "        \"length\": length,\n",
    "        \"minimum\": minimum,\n",
    "        \"maximum\": maximum,\n",
    "        \"prefix\": prefix,\n",
    "        \"suffix\": suffix,\n",
    "        \"is_required\": is_required,\n",
    "        \"is_in_output\": is_in_output,\n",
    "        \"is_out_of_vocabulary\": is_out_of_vocabulary,\n",
    "        \"is_in_vocabulary\": is_in_vocabulary,\n",
    "        \"contain_digit\": contain_digit\n",
    "    }\n",
    "def word_token(token=[], capitalization=[], part_of_speech=[], length=[], minimum=\"\", maximum=\"\", prefix=\"\", suffix=\"\", is_required=\"true\", is_in_output=\"false\", is_out_of_vocabulary=\"\", is_in_vocabulary=\"\", contain_digit=\"\"):\n",
    "     return generic_token(type=\"word\", token=token, capitalization=capitalization, part_of_speech=part_of_speech, length=length, minimum=minimum, maximum=maximum,prefix=prefix, suffix=suffix, is_required=is_required, is_in_output=is_in_output, is_out_of_vocabulary=is_out_of_vocabulary, is_in_vocabulary=is_in_vocabulary, contain_digit=contain_digit)\n",
    "    \n",
    "def punctuation_token(token=[], capitalization=[], part_of_speech=[], length=[], minimum=\"\", maximum=\"\", prefix=\"\", suffix=\"\",  is_required=\"true\", is_in_output=\"false\", is_out_of_vocabulary=\"\", is_in_vocabulary=\"\", contain_digit=\"\"):\n",
    "     return generic_token(type=\"punctuation\", token=token, capitalization=capitalization, part_of_speech=part_of_speech, length=length, minimum=minimum, maximum=maximum,prefix=prefix, suffix=suffix, is_required=is_required, is_in_output=is_in_output, is_out_of_vocabulary=is_out_of_vocabulary, is_in_vocabulary=is_in_vocabulary, contain_digit=contain_digit)\n",
    "\n",
    "def shape_token(shape=[], capitalization=[], part_of_speech=[], length=[], minimum=\"\", maximum=\"\", prefix=\"\", suffix=\"\",is_required=\"true\", is_in_output=\"false\", is_out_of_vocabulary=\"\", is_in_vocabulary=\"\", contain_digit=\"\"):\n",
    "     return generic_token(type=\"shape\", shape=shape, capitalization=capitalization, part_of_speech=part_of_speech, length=length, minimum=minimum, maximum=maximum,prefix=prefix, suffix=suffix, is_required=is_required, is_in_output=is_in_output, is_out_of_vocabulary=is_out_of_vocabulary, is_in_vocabulary=is_in_vocabulary, contain_digit=contain_digit)\n",
    "\n",
    "def number_token(number =[], capitalization=[], part_of_speech=[], length=[], minimum=\"\", maximum=\"\", prefix=\"\", suffix=\"\",is_required=\"true\", is_in_output=\"false\", is_out_of_vocabulary=\"\", is_in_vocabulary=\"\", contain_digit=\"\"):\n",
    "     return generic_token(type=\"number\", number=number, capitalization=capitalization, part_of_speech=part_of_speech, length=length, minimum=minimum, maximum=maximum,prefix=prefix, suffix=suffix, is_required=is_required, is_in_output=is_in_output, is_out_of_vocabulary=is_out_of_vocabulary, is_in_vocabulary=is_in_vocabulary, contain_digit=contain_digit)\n",
    "\n",
    "\n",
    "    \n",
    "    \n",
    "    "
   ]
  },
  {
   "cell_type": "code",
   "execution_count": 3,
   "metadata": {
    "collapsed": true
   },
   "outputs": [],
   "source": [
    "sampe_rules = {\n",
    "  \"rules\": [\n",
    "      {\n",
    "      \"identifier\": \"an indentifier\",\n",
    "      \"description\": \"a description\",\n",
    "      \"is_active\": \"true/false\",\n",
    "      \"output_format\": \"\",\n",
    "      \"pattern\": [\n",
    "        {\n",
    "          \"type\": \"word\",\n",
    "          \"token\": [\"tOWN\", \"job\"],\n",
    "          \"capitalization\": [\"title\", \"upper\", \"mixed\", \"lower\", \"exact\"],\n",
    "          \"part_of_speech\": [\"noun\", \"pronoun\", \"NOT punctuation\"],\n",
    "          \"length\": [],\n",
    "          \"can_include_digits\": \"true/false\",\n",
    "          \"prefix\": \"ssss\",\n",
    "          \"suffix\": \"\",\n",
    "#           \"is_followed_by_space\": \"true/false\",\n",
    "          \"is_required\": \"false\",\n",
    "          \"is_in_output\": \"true/false\",\n",
    "          \"is_out_of_vocabulary\": \"true\",\n",
    "          \"is_in_vocabulary\":\"\",\n",
    "          \"contain_digit\":\"\"\n",
    "        },\n",
    "        {\n",
    "          \"type\": \"word\",\n",
    "          \"token\": [],\n",
    "          \"capitalization\": [\"lower\", \"upper\", \"mixed\"],\n",
    "          \"part_of_speech\": [],\n",
    "          \"length\": [5, 7],\n",
    "          \"prefix\": \"SA\",\n",
    "          \"suffix\": \"WF\",\n",
    "          \"is_followed_by_space\": \"true/false\",\n",
    "          \"is_required\": \"true\",\n",
    "          \"is_in_output\": \"true/false\",\n",
    "          \"is_out_of_vocabulary\": \"true\",\n",
    "          \"is_in_vocabulary\":\"\",\n",
    "          \"contain_digit\":\"\"\n",
    "        },\n",
    "        {\n",
    "          \"type\": \"word\",\n",
    "          \"token\": [],\n",
    "          \"capitalization\": [],\n",
    "          \"part_of_speech\": [],\n",
    "          \"length\": [],\n",
    "          \"prefix\": \"EEW\",\n",
    "          \"suffix\": \"RHI\",\n",
    "          \"is_followed_by_space\": \"true/false\",\n",
    "          \"is_required\": \"false\",\n",
    "          \"is_in_output\": \"true/false\",\n",
    "          \"is_out_of_vocabulary\": \"true\",\n",
    "          \"is_in_vocabulary\":\"\",\n",
    "          \"contain_digit\":\"\"\n",
    "        },\n",
    "        {\n",
    "          \"type\": \"number\",\n",
    "          \"tokens\": [],\n",
    "          \"length\": [],\n",
    "          \"prefix\": [],\n",
    "          \"suffix\": [],\n",
    "          \"min\":\"\",\n",
    "          \"max\":\"\",\n",
    "          \"is_followed_by_space\": \"true/false\",\n",
    "          \"is_required\": \"true/false\",\n",
    "          \"is_in_output\": \"true/false\"\n",
    "        },\n",
    "        {\n",
    "          \"type\": \"shape\",\n",
    "          \"shapes\": [\"xxxx\", \"xxxxxx\", \"XXXXXdd.dddXXxxxxxxx\"],\n",
    "          \"part_of_speech\": [],\n",
    "          \"prefix\": \"ss\",\n",
    "          \"suffix\": \"pp\",\n",
    "          \"is_followed_by_space\": \"true/false\",\n",
    "          \"is_required\": \"true\",\n",
    "          \"is_in_output\": \"true\"\n",
    "        },\n",
    "        {\n",
    "          \"type\": \"punctuation\",\n",
    "          \"token\": [\",\", \"?\"],\n",
    "          \"is_followed_by_space\": \"true/false\",\n",
    "          \"is_required\": \"false\",\n",
    "          \"is_in_output\": \"true\"\n",
    "        },\n",
    "        {\n",
    "          \"type\": \"symbol\",\n",
    "          \"token\": [],\n",
    "          \"is_followed_by_space\": \"true/false\",\n",
    "          \"is_required\": \"true/false\",\n",
    "          \"is_in_output\": \"true/false\"\n",
    "        }\n",
    "      ]\n",
    "    }\n",
    "  ]\n",
    "}"
   ]
  },
  {
   "cell_type": "code",
   "execution_count": 4,
   "metadata": {
    "collapsed": true
   },
   "outputs": [],
   "source": [
    "import json\n",
    "from etk.core import Core\n",
    "c = Core()"
   ]
  },
  {
   "cell_type": "code",
   "execution_count": 5,
   "metadata": {},
   "outputs": [
    {
     "name": "stdout",
     "output_type": "stream",
     "text": [
      "{'text': u'my telephone number is (217)331-6779, (217)-331-6778,(217)-331-6777, 217-331-6776, 734.709.8965, 949 484 6951, 5017774643, 664 123 45 67,  0660852222\\nHi Gentlemen, My name is Ashley . my name Monica I am the one and, My names is Alanda\\n(217)-331-6778, (044) 322 1719850,044 322 1719851, (045) 322 1719850, 045 55 49 40 83 95, 045- 55- 49 40 83 94, 045 -5549408395\\n-0466119200, -488019954,+32465863497 - , 0466119200\\n74350 - 0642516048, 07 55 71 64 36 - \\n + 49 15781424777, +( 49 )15732190888?\\n 004915221040240\\n 49( 0 )15771824788\\n 111 2222, 111-3333\\n UK: 07077080500, 07741 011 066, 07014-231- 011, 0751 011 41 92 , \\n UK:(022) 1111 2222, (0100) 000 1113, (01222) 22224, (01222) 333335, (0122 22)3336, (0122 22) 33337, \\n UK: 0121-111 2228, 0121 111 2229, 07111 222220, 0111 222 2221, 0500 111112, 0800 111113 , \\n India: 111-2222222, 11111-33333, +91-111 222 3333\\n China: (0111) 1111 2222, +86 122 3333 4444, 0086 111 2222 3333, +86 111 222 33 444\\n HK: 1111 2222, 33334444\\n Japan: (011) 222-3333, (0120)-22-3333, 0570-22-3333, 0800-22-3333,050-2222-3333, +61  \\n Austrilia: (01)1111 2222, +61 42222 3333, +61 222 333 444, 1003 333 444', 'simple_tokens_original_case': [u'my', u'telephone', u'number', u'is', u'(', u'217', u')', u'331', u'-', u'6779', u',', u'(', u'217', u')', u'-', u'331', u'-', u'6778', u',', u'(', u'217', u')', u'-', u'331', u'-', u'6777', u',', u'217', u'-', u'331', u'-', u'6776', u',', u'734', u'.', u'709', u'.', u'8965', u',', u'949', u'484', u'6951', u',', u'5017774643', u',', u'664', u'123', u'45', u'67', u',', u'0660852222', u'\\n', u'Hi', u'Gentlemen', u',', u'My', u'name', u'is', u'Ashley', u'.', u'my', u'name', u'Monica', u'I', u'am', u'the', u'one', u'and', u',', u'My', u'names', u'is', u'Alanda', u'\\n', u'(', u'217', u')', u'-', u'331', u'-', u'6778', u',', u'(', u'044', u')', u'322', u'1719850', u',', u'044', u'322', u'1719851', u',', u'(', u'045', u')', u'322', u'1719850', u',', u'045', u'55', u'49', u'40', u'83', u'95', u',', u'045', u'-', u'55', u'-', u'49', u'40', u'83', u'94', u',', u'045', u'-', u'5549408395', u'\\n', u'-', u'0466119200', u',', u'-', u'488019954', u',', u'+', u'32465863497', u'-', u',', u'0466119200', u'\\n', u'74350', u'-', u'0642516048', u',', u'07', u'55', u'71', u'64', u'36', u'-', u'\\n', u'+', u'49', u'15781424777', u',', u'+', u'(', u'49', u')', u'15732190888', u'?', u'\\n', u'004915221040240', u'\\n', u'49', u'(', u'0', u')', u'15771824788', u'\\n', u'111', u'2222', u',', u'111', u'-', u'3333', u'\\n', u'UK', u':', u'07077080500', u',', u'07741', u'011', u'066', u',', u'07014', u'-', u'231', u'-', u'011', u',', u'0751', u'011', u'41', u'92', u',', u'\\n', u'UK', u':', u'(', u'022', u')', u'1111', u'2222', u',', u'(', u'0100', u')', u'000', u'1113', u',', u'(', u'01222', u')', u'22224', u',', u'(', u'01222', u')', u'333335', u',', u'(', u'0122', u'22', u')', u'3336', u',', u'(', u'0122', u'22', u')', u'33337', u',', u'\\n', u'UK', u':', u'0121', u'-', u'111', u'2228', u',', u'0121', u'111', u'2229', u',', u'07111', u'222220', u',', u'0111', u'222', u'2221', u',', u'0500', u'111112', u',', u'0800', u'111113', u',', u'\\n', u'India', u':', u'111', u'-', u'2222222', u',', u'11111', u'-', u'33333', u',', u'+', u'91', u'-', u'111', u'222', u'3333', u'\\n', u'China', u':', u'(', u'0111', u')', u'1111', u'2222', u',', u'+', u'86', u'122', u'3333', u'4444', u',', u'0086', u'111', u'2222', u'3333', u',', u'+', u'86', u'111', u'222', u'33', u'444', u'\\n', u'HK', u':', u'1111', u'2222', u',', u'33334444', u'\\n', u'Japan', u':', u'(', u'011', u')', u'222', u'-', u'3333', u',', u'(', u'0120', u')', u'-', u'22', u'-', u'3333', u',', u'0570', u'-', u'22', u'-', u'3333', u',', u'0800', u'-', u'22', u'-', u'3333', u',', u'050', u'-', u'2222', u'-', u'3333', u',', u'+', u'61', u'\\n', u'Austrilia', u':', u'(', u'01', u')', u'1111', u'2222', u',', u'+', u'61', u'42222', u'3333', u',', u'+', u'61', u'222', u'333', u'444', u',', u'1003', u'333', u'444']}\n"
     ]
    }
   ],
   "source": [
    "# Text to test the rules\n",
    "t = []\n",
    "t.append(u\"my telephone number is (217)331-6779, (217)-331-6778,(217)-331-6777, 217-331-6776, 734.709.8965, 949 484 6951, 5017774643, 664 123 45 67,  0660852222\")\n",
    "t.append(u\"Hi Gentlemen, My name is Ashley . my name Monica I am the one and, My names is Alanda\")\n",
    "t.append(u\"(217)-331-6778, (044) 322 1719850,044 322 1719851, (045) 322 1719850, 045 55 49 40 83 95, 045- 55- 49 40 83 94, 045 -5549408395\")\n",
    "t.append(u\"-0466119200, -488019954,+32465863497 - , 0466119200\")\n",
    "t.append(u\"74350 - 0642516048, 07 55 71 64 36 - \") \n",
    "t.append(u\" + 49 15781424777, +( 49 )15732190888?\")\n",
    "t.append(u\" 004915221040240\")\n",
    "t.append(u\" 49( 0 )15771824788\")\n",
    "t.append(u\" 111 2222, 111-3333\")\n",
    "t.append(u\" UK: 07077080500, 07741 011 066, 07014-231- 011, 0751 011 41 92 , \")\n",
    "t.append(u\" UK:(022) 1111 2222, (0100) 000 1113, (01222) 22224, (01222) 333335, (0122 22)3336, (0122 22) 33337, \")\n",
    "t.append(u\" UK: 0121-111 2228, 0121 111 2229, 07111 222220, 0111 222 2221, 0500 111112, 0800 111113 , \")\n",
    "t.append(u\" India: 111-2222222, 11111-33333, +91-111 222 3333\")\n",
    "t.append(u\" China: (0111) 1111 2222, +86 122 3333 4444, 0086 111 2222 3333, +86 111 222 33 444\")\n",
    "t.append(u\" HK: 1111 2222, 33334444\")\n",
    "t.append(u\" Japan: (011) 222-3333, (0120)-22-3333, 0570-22-3333, 0800-22-3333,050-2222-3333, +61  \")\n",
    "t.append(u\" Austrilia: (01)1111 2222, +61 42222 3333, +61 222 333 444, 1003 333 444\")\n",
    "\n",
    "\n",
    "\n",
    "\n",
    "d = dict()\n",
    "d['text'] = \"\\n\".join(t)\n",
    "d['simple_tokens_original_case'] = c.extract_tokens_from_crf(c.extract_crftokens(d['text'], lowercase=False))\n",
    "\n",
    "print d\n",
    "\n",
    "config = dict()\n",
    "config['field_name'] = 'field02'\n"
   ]
  },
  {
   "cell_type": "code",
   "execution_count": 6,
   "metadata": {},
   "outputs": [
    {
     "name": "stdout",
     "output_type": "stream",
     "text": [
      "text: my telephone number is (217)331-6779, (217)-331-6778,(217)-331-6777, 217-331-6776, 734.709.8965, 949 484 6951, 5017774643, 664 123 45 67,  0660852222\n",
      "Hi Gentlemen, My name is Ashley . my name Monica I am the one and, My names is Alanda\n",
      "(217)-331-6778, (044) 322 1719850,044 322 1719851, (045) 322 1719850, 045 55 49 40 83 95, 045- 55- 49 40 83 94, 045 -5549408395\n",
      "-0466119200, -488019954,+32465863497 - , 0466119200\n",
      "74350 - 0642516048, 07 55 71 64 36 - \n",
      " + 49 15781424777, +( 49 )15732190888?\n",
      " 004915221040240\n",
      " 49( 0 )15771824788\n",
      " 111 2222, 111-3333\n",
      " UK: 07077080500, 07741 011 066, 07014-231- 011, 0751 011 41 92 , \n",
      " UK:(022) 1111 2222, (0100) 000 1113, (01222) 22224, (01222) 333335, (0122 22)3336, (0122 22) 33337, \n",
      " UK: 0121-111 2228, 0121 111 2229, 07111 222220, 0111 222 2221, 0500 111112, 0800 111113 , \n",
      " India: 111-2222222, 11111-33333, +91-111 222 3333\n",
      " China: (0111) 1111 2222, +86 122 3333 4444, 0086 111 2222 3333, +86 111 222 33 444\n",
      " HK: 1111 2222, 33334444\n",
      " Japan: (011) 222-3333, (0120)-22-3333, 0570-22-3333, 0800-22-3333,050-2222-3333, +61  \n",
      " Austrilia: (01)1111 2222, +61 42222 3333, +61 222 333 444, 1003 333 444\n"
     ]
    },
    {
     "data": {
      "text/plain": [
       "['2173316779',\n",
       " '2173316778',\n",
       " '2173316777',\n",
       " '2173316776',\n",
       " '7347098965',\n",
       " '9494846951',\n",
       " '2173316778',\n",
       " '1112223333',\n",
       " '0112223333']"
      ]
     },
     "execution_count": 6,
     "metadata": {},
     "output_type": "execute_result"
    }
   ],
   "source": [
    "#US (217)-331-6777, 217-331-6776, 734.709.8965\n",
    "\n",
    "rule_01 = {\n",
    "      \"identifier\": \"telenum_rule_us\",\n",
    "      \"description\": \"a description\",\n",
    "      \"is_active\": \"true\",\n",
    "      \"output_format\": \"{1}{2}{3}\",\n",
    "      \"pattern\": [\n",
    "            punctuation_token(token=[\"(\"],is_required=\"false\"),\n",
    "            shape_token(shape =[\"ddd\"],is_in_output=\"true\"),\n",
    "            punctuation_token(token=[\")\"],is_required=\"false\"),\n",
    "            punctuation_token(token=[\"-\", \".\"],is_required=\"false\"),\n",
    "            shape_token(shape =[\"ddd\"],is_in_output=\"true\"),\n",
    "            punctuation_token(token=[\"-\" , \".\"],is_required=\"false\"),\n",
    "            shape_token(shape =[\"dddd\"],is_in_output=\"true\")\n",
    "      ]\n",
    "    }\n",
    "\n",
    "field_rules = {\n",
    "  \"rules\": [\n",
    "      rule_01\n",
    "  ]\n",
    "}\n",
    "\n",
    "print \"text:\", d['text']\n",
    "results = c.extract_using_custom_spacy(d, config, field_rules=field_rules)\n",
    "tele_lst = []\n",
    "for i in results:\n",
    "    tele_lst.append(''.join((i.values()[1]).split()))\n",
    "tele_lst"
   ]
  },
  {
   "cell_type": "code",
   "execution_count": 7,
   "metadata": {},
   "outputs": [
    {
     "name": "stdout",
     "output_type": "stream",
     "text": [
      "text: my telephone number is (217)331-6779, (217)-331-6778,(217)-331-6777, 217-331-6776, 734.709.8965, 949 484 6951, 5017774643, 664 123 45 67,  0660852222\n",
      "Hi Gentlemen, My name is Ashley . my name Monica I am the one and, My names is Alanda\n",
      "(217)-331-6778, (044) 322 1719850,044 322 1719851, (045) 322 1719850, 045 55 49 40 83 95, 045- 55- 49 40 83 94, 045 -5549408395\n",
      "-0466119200, -488019954,+32465863497 - , 0466119200\n",
      "74350 - 0642516048, 07 55 71 64 36 - \n",
      " + 49 15781424777, +( 49 )15732190888?\n",
      " 004915221040240\n",
      " 49( 0 )15771824788\n",
      " 111 2222, 111-3333\n",
      " UK: 07077080500, 07741 011 066, 07014-231- 011, 0751 011 41 92 , \n",
      " UK:(022) 1111 2222, (0100) 000 1113, (01222) 22224, (01222) 333335, (0122 22)3336, (0122 22) 33337, \n",
      " UK: 0121-111 2228, 0121 111 2229, 07111 222220, 0111 222 2221, 0500 111112, 0800 111113 , \n",
      " India: 111-2222222, 11111-33333, +91-111 222 3333\n",
      " China: (0111) 1111 2222, +86 122 3333 4444, 0086 111 2222 3333, +86 111 222 33 444\n",
      " HK: 1111 2222, 33334444\n",
      " Japan: (011) 222-3333, (0120)-22-3333, 0570-22-3333, 0800-22-3333,050-2222-3333, +61  \n",
      " Austrilia: (01)1111 2222, +61 42222 3333, +61 222 333 444, 1003 333 444\n"
     ]
    },
    {
     "data": {
      "text/plain": [
       "['5017774643',\n",
       " '0660852222',\n",
       " '5549408395',\n",
       " '0466119200',\n",
       " '0466119200',\n",
       " '0642516048']"
      ]
     },
     "execution_count": 7,
     "metadata": {},
     "output_type": "execute_result"
    }
   ],
   "source": [
    "#US 7347098965\n",
    "\n",
    "rule_02 = {\n",
    "      \"identifier\": \"telenum_rule_us\",\n",
    "      \"description\": \"a description\",\n",
    "      \"is_active\": \"true\",\n",
    "      \"output_format\": \"{1}\",\n",
    "      \"pattern\": [\n",
    "            shape_token(shape =[\"dddddddddd\"],is_in_output=\"true\")\n",
    "      ]\n",
    "    }\n",
    "\n",
    "field_rules = {\n",
    "  \"rules\": [\n",
    "      rule_02\n",
    "  ]\n",
    "}\n",
    "\n",
    "print \"text:\", d['text']\n",
    "results = c.extract_using_custom_spacy(d, config, field_rules=field_rules)\n",
    "tele_lst = []\n",
    "for i in results:\n",
    "    tele_lst.append(''.join((i.values()[1]).split()))\n",
    "tele_lst"
   ]
  },
  {
   "cell_type": "code",
   "execution_count": 8,
   "metadata": {},
   "outputs": [
    {
     "name": "stdout",
     "output_type": "stream",
     "text": [
      "text: my telephone number is (217)331-6779, (217)-331-6778,(217)-331-6777, 217-331-6776, 734.709.8965, 949 484 6951, 5017774643, 664 123 45 67,  0660852222\n",
      "Hi Gentlemen, My name is Ashley . my name Monica I am the one and, My names is Alanda\n",
      "(217)-331-6778, (044) 322 1719850,044 322 1719851, (045) 322 1719850, 045 55 49 40 83 95, 045- 55- 49 40 83 94, 045 -5549408395\n",
      "-0466119200, -488019954,+32465863497 - , 0466119200\n",
      "74350 - 0642516048, 07 55 71 64 36 - \n",
      " + 49 15781424777, +( 49 )15732190888?\n",
      " 004915221040240\n",
      " 49( 0 )15771824788\n",
      " 111 2222, 111-3333\n",
      " UK: 07077080500, 07741 011 066, 07014-231- 011, 0751 011 41 92 , \n",
      " UK:(022) 1111 2222, (0100) 000 1113, (01222) 22224, (01222) 333335, (0122 22)3336, (0122 22) 33337, \n",
      " UK: 0121-111 2228, 0121 111 2229, 07111 222220, 0111 222 2221, 0500 111112, 0800 111113 , \n",
      " India: 111-2222222, 11111-33333, +91-111 222 3333\n",
      " China: (0111) 1111 2222, +86 122 3333 4444, 0086 111 2222 3333, +86 111 222 33 444\n",
      " HK: 1111 2222, 33334444\n",
      " Japan: (011) 222-3333, (0120)-22-3333, 0570-22-3333, 0800-22-3333,050-2222-3333, +61  \n",
      " Austrilia: (01)1111 2222, +61 42222 3333, +61 222 333 444, 1003 333 444\n"
     ]
    },
    {
     "data": {
      "text/plain": [
       "['2173316779',\n",
       " '2173316778',\n",
       " '2173316777',\n",
       " '2173316776',\n",
       " '7347098965',\n",
       " '9494846951',\n",
       " '2173316778',\n",
       " '1112223333',\n",
       " '0112223333']"
      ]
     },
     "execution_count": 8,
     "metadata": {},
     "output_type": "execute_result"
    }
   ],
   "source": [
    "#Canada (217)-331-6777, 217-331-6776, 734.709.8965\n",
    "\n",
    "rule_03 = {\n",
    "      \"identifier\": \"telenum_rule_us\",\n",
    "      \"description\": \"a description\",\n",
    "      \"is_active\": \"true\",\n",
    "      \"output_format\": \"{1}{2}{3}\",\n",
    "      \"pattern\": [\n",
    "            punctuation_token(token=[\"(\"],is_required=\"false\"),\n",
    "            shape_token(shape =[\"ddd\"],is_in_output=\"true\"),\n",
    "            punctuation_token(token=[\")\"],is_required=\"false\"),\n",
    "            punctuation_token(token=[\"-\", \".\"],is_required=\"false\"),\n",
    "            shape_token(shape =[\"ddd\"],is_in_output=\"true\"),\n",
    "            punctuation_token(token=[\"-\" , \".\"],is_required=\"false\"),\n",
    "            shape_token(shape =[\"dddd\"],is_in_output=\"true\")\n",
    "      ]\n",
    "    }\n",
    "\n",
    "field_rules = {\n",
    "  \"rules\": [\n",
    "      rule_03\n",
    "  ]\n",
    "}\n",
    "\n",
    "print \"text:\", d['text']\n",
    "results = c.extract_using_custom_spacy(d, config, field_rules=field_rules)\n",
    "tele_lst = []\n",
    "for i in results:\n",
    "    tele_lst.append(''.join((i.values()[1]).split()))\n",
    "tele_lst"
   ]
  },
  {
   "cell_type": "code",
   "execution_count": 9,
   "metadata": {},
   "outputs": [
    {
     "name": "stdout",
     "output_type": "stream",
     "text": [
      "text: my telephone number is (217)331-6779, (217)-331-6778,(217)-331-6777, 217-331-6776, 734.709.8965, 949 484 6951, 5017774643, 664 123 45 67,  0660852222\n",
      "Hi Gentlemen, My name is Ashley . my name Monica I am the one and, My names is Alanda\n",
      "(217)-331-6778, (044) 322 1719850,044 322 1719851, (045) 322 1719850, 045 55 49 40 83 95, 045- 55- 49 40 83 94, 045 -5549408395\n",
      "-0466119200, -488019954,+32465863497 - , 0466119200\n",
      "74350 - 0642516048, 07 55 71 64 36 - \n",
      " + 49 15781424777, +( 49 )15732190888?\n",
      " 004915221040240\n",
      " 49( 0 )15771824788\n",
      " 111 2222, 111-3333\n",
      " UK: 07077080500, 07741 011 066, 07014-231- 011, 0751 011 41 92 , \n",
      " UK:(022) 1111 2222, (0100) 000 1113, (01222) 22224, (01222) 333335, (0122 22)3336, (0122 22) 33337, \n",
      " UK: 0121-111 2228, 0121 111 2229, 07111 222220, 0111 222 2221, 0500 111112, 0800 111113 , \n",
      " India: 111-2222222, 11111-33333, +91-111 222 3333\n",
      " China: (0111) 1111 2222, +86 122 3333 4444, 0086 111 2222 3333, +86 111 222 33 444\n",
      " HK: 1111 2222, 33334444\n",
      " Japan: (011) 222-3333, (0120)-22-3333, 0570-22-3333, 0800-22-3333,050-2222-3333, +61  \n",
      " Austrilia: (01)1111 2222, +61 42222 3333, +61 222 333 444, 1003 333 444\n"
     ]
    },
    {
     "data": {
      "text/plain": [
       "[]"
      ]
     },
     "execution_count": 9,
     "metadata": {},
     "output_type": "execute_result"
    }
   ],
   "source": [
    "#Canada 7347098965\n",
    "\n",
    "rule_04 = {\n",
    "      \"identifier\": \"telenum_rule_us\",\n",
    "      \"description\": \"a description\",\n",
    "      \"is_active\": \"false\",\n",
    "      \"output_format\": \"{1}\",\n",
    "      \"pattern\": [\n",
    "            shape_token(shape =[\"dddddddddd\"],is_in_output=\"true\")\n",
    "      ]\n",
    "    }\n",
    "\n",
    "field_rules = {\n",
    "  \"rules\": [\n",
    "      rule_04\n",
    "  ]\n",
    "}\n",
    "\n",
    "print \"text:\", d['text']\n",
    "results = c.extract_using_custom_spacy(d, config, field_rules=field_rules)\n",
    "tele_lst = []\n",
    "for i in results:\n",
    "    tele_lst.append(''.join((i.values()[1]).split()))\n",
    "tele_lst"
   ]
  },
  {
   "cell_type": "code",
   "execution_count": 10,
   "metadata": {},
   "outputs": [
    {
     "name": "stdout",
     "output_type": "stream",
     "text": [
      "text: my telephone number is (217)331-6779, (217)-331-6778,(217)-331-6777, 217-331-6776, 734.709.8965, 949 484 6951, 5017774643, 664 123 45 67,  0660852222\n",
      "Hi Gentlemen, My name is Ashley . my name Monica I am the one and, My names is Alanda\n",
      "(217)-331-6778, (044) 322 1719850,044 322 1719851, (045) 322 1719850, 045 55 49 40 83 95, 045- 55- 49 40 83 94, 045 -5549408395\n",
      "-0466119200, -488019954,+32465863497 - , 0466119200\n",
      "74350 - 0642516048, 07 55 71 64 36 - \n",
      " + 49 15781424777, +( 49 )15732190888?\n",
      " 004915221040240\n",
      " 49( 0 )15771824788\n",
      " 111 2222, 111-3333\n",
      " UK: 07077080500, 07741 011 066, 07014-231- 011, 0751 011 41 92 , \n",
      " UK:(022) 1111 2222, (0100) 000 1113, (01222) 22224, (01222) 333335, (0122 22)3336, (0122 22) 33337, \n",
      " UK: 0121-111 2228, 0121 111 2229, 07111 222220, 0111 222 2221, 0500 111112, 0800 111113 , \n",
      " India: 111-2222222, 11111-33333, +91-111 222 3333\n",
      " China: (0111) 1111 2222, +86 122 3333 4444, 0086 111 2222 3333, +86 111 222 33 444\n",
      " HK: 1111 2222, 33334444\n",
      " Japan: (011) 222-3333, (0120)-22-3333, 0570-22-3333, 0800-22-3333,050-2222-3333, +61  \n",
      " Austrilia: (01)1111 2222, +61 42222 3333, +61 222 333 444, 1003 333 444\n"
     ]
    },
    {
     "data": {
      "text/plain": [
       "['2173316779',\n",
       " '2173316778',\n",
       " '2173316777',\n",
       " '2173316776',\n",
       " '7347098965',\n",
       " '9494846951',\n",
       " '2173316778',\n",
       " '1112223333',\n",
       " '0112223333']"
      ]
     },
     "execution_count": 10,
     "metadata": {},
     "output_type": "execute_result"
    }
   ],
   "source": [
    "#Mexico (217)-331-6777, 217-331-6776, 734.709.8965\n",
    "\n",
    "rule_05 = {\n",
    "      \"identifier\": \"telenum_rule_us\",\n",
    "      \"description\": \"a description\",\n",
    "      \"is_active\": \"true\",\n",
    "      \"output_format\": \"{1}{2}{3}\",\n",
    "      \"pattern\": [\n",
    "            punctuation_token(token=[\"(\"],is_required=\"false\"),\n",
    "            shape_token(shape =[\"ddd\"],is_in_output=\"true\"),\n",
    "            punctuation_token(token=[\")\"],is_required=\"false\"),\n",
    "            punctuation_token(token=[\"-\", \".\"],is_required=\"false\"),\n",
    "            shape_token(shape =[\"ddd\"],is_in_output=\"true\"),\n",
    "            punctuation_token(token=[\"-\" , \".\"],is_required=\"false\"),\n",
    "            shape_token(shape =[\"dddd\"],is_in_output=\"true\")\n",
    "      ]\n",
    "    }\n",
    "\n",
    "field_rules = {\n",
    "  \"rules\": [\n",
    "      rule_05\n",
    "  ]\n",
    "}\n",
    "\n",
    "print \"text:\", d['text']\n",
    "results = c.extract_using_custom_spacy(d, config, field_rules=field_rules)\n",
    "tele_lst = []\n",
    "for i in results:\n",
    "    tele_lst.append(''.join((i.values()[1]).split()))\n",
    "tele_lst"
   ]
  },
  {
   "cell_type": "code",
   "execution_count": 11,
   "metadata": {},
   "outputs": [
    {
     "name": "stdout",
     "output_type": "stream",
     "text": [
      "text: my telephone number is (217)331-6779, (217)-331-6778,(217)-331-6777, 217-331-6776, 734.709.8965, 949 484 6951, 5017774643, 664 123 45 67,  0660852222\n",
      "Hi Gentlemen, My name is Ashley . my name Monica I am the one and, My names is Alanda\n",
      "(217)-331-6778, (044) 322 1719850,044 322 1719851, (045) 322 1719850, 045 55 49 40 83 95, 045- 55- 49 40 83 94, 045 -5549408395\n",
      "-0466119200, -488019954,+32465863497 - , 0466119200\n",
      "74350 - 0642516048, 07 55 71 64 36 - \n",
      " + 49 15781424777, +( 49 )15732190888?\n",
      " 004915221040240\n",
      " 49( 0 )15771824788\n",
      " 111 2222, 111-3333\n",
      " UK: 07077080500, 07741 011 066, 07014-231- 011, 0751 011 41 92 , \n",
      " UK:(022) 1111 2222, (0100) 000 1113, (01222) 22224, (01222) 333335, (0122 22)3336, (0122 22) 33337, \n",
      " UK: 0121-111 2228, 0121 111 2229, 07111 222220, 0111 222 2221, 0500 111112, 0800 111113 , \n",
      " India: 111-2222222, 11111-33333, +91-111 222 3333\n",
      " China: (0111) 1111 2222, +86 122 3333 4444, 0086 111 2222 3333, +86 111 222 33 444\n",
      " HK: 1111 2222, 33334444\n",
      " Japan: (011) 222-3333, (0120)-22-3333, 0570-22-3333, 0800-22-3333,050-2222-3333, +61  \n",
      " Austrilia: (01)1111 2222, +61 42222 3333, +61 222 333 444, 1003 333 444\n"
     ]
    },
    {
     "data": {
      "text/plain": [
       "[]"
      ]
     },
     "execution_count": 11,
     "metadata": {},
     "output_type": "execute_result"
    }
   ],
   "source": [
    "#Mexico 7347098965\n",
    "\n",
    "rule_06 = {\n",
    "      \"identifier\": \"telenum_rule_us\",\n",
    "      \"description\": \"a description\",\n",
    "      \"is_active\": \"false\",\n",
    "      \"output_format\": \"\",\n",
    "      \"pattern\": [\n",
    "            shape_token(shape =[\"dddddddddd\"],is_in_output=\"true\")\n",
    "      ]\n",
    "    }\n",
    "\n",
    "field_rules = {\n",
    "  \"rules\": [\n",
    "      rule_06\n",
    "  ]\n",
    "}\n",
    "\n",
    "print \"text:\", d['text']\n",
    "results = c.extract_using_custom_spacy(d, config, field_rules=field_rules)\n",
    "tele_lst = []\n",
    "for i in results:\n",
    "    tele_lst.append(''.join((i.values()[1]).split()))\n",
    "tele_lst"
   ]
  },
  {
   "cell_type": "code",
   "execution_count": 12,
   "metadata": {},
   "outputs": [
    {
     "name": "stdout",
     "output_type": "stream",
     "text": [
      "text: my telephone number is (217)331-6779, (217)-331-6778,(217)-331-6777, 217-331-6776, 734.709.8965, 949 484 6951, 5017774643, 664 123 45 67,  0660852222\n",
      "Hi Gentlemen, My name is Ashley . my name Monica I am the one and, My names is Alanda\n",
      "(217)-331-6778, (044) 322 1719850,044 322 1719851, (045) 322 1719850, 045 55 49 40 83 95, 045- 55- 49 40 83 94, 045 -5549408395\n",
      "-0466119200, -488019954,+32465863497 - , 0466119200\n",
      "74350 - 0642516048, 07 55 71 64 36 - \n",
      " + 49 15781424777, +( 49 )15732190888?\n",
      " 004915221040240\n",
      " 49( 0 )15771824788\n",
      " 111 2222, 111-3333\n",
      " UK: 07077080500, 07741 011 066, 07014-231- 011, 0751 011 41 92 , \n",
      " UK:(022) 1111 2222, (0100) 000 1113, (01222) 22224, (01222) 333335, (0122 22)3336, (0122 22) 33337, \n",
      " UK: 0121-111 2228, 0121 111 2229, 07111 222220, 0111 222 2221, 0500 111112, 0800 111113 , \n",
      " India: 111-2222222, 11111-33333, +91-111 222 3333\n",
      " China: (0111) 1111 2222, +86 122 3333 4444, 0086 111 2222 3333, +86 111 222 33 444\n",
      " HK: 1111 2222, 33334444\n",
      " Japan: (011) 222-3333, (0120)-22-3333, 0570-22-3333, 0800-22-3333,050-2222-3333, +61  \n",
      " Austrilia: (01)1111 2222, +61 42222 3333, +61 222 333 444, 1003 333 444\n"
     ]
    },
    {
     "data": {
      "text/plain": [
       "['6641234567']"
      ]
     },
     "execution_count": 12,
     "metadata": {},
     "output_type": "execute_result"
    }
   ],
   "source": [
    "#Mexico 217-331-67 76\n",
    "\n",
    "rule_07 = {\n",
    "      \"identifier\": \"telenum_rule_us\",\n",
    "      \"description\": \"a description\",\n",
    "      \"is_active\": \"true\",\n",
    "      \"output_format\": \"{1}{2}{3}{4}\",\n",
    "      \"pattern\": [\n",
    "            punctuation_token(token=[\"(\"],is_required=\"false\"),\n",
    "            shape_token(shape =[\"ddd\"],is_in_output=\"true\"),\n",
    "            punctuation_token(token=[\")\"],is_required=\"false\"),\n",
    "            punctuation_token(token=[\"-\", \".\"],is_required=\"false\"),\n",
    "            shape_token(shape =[\"ddd\"],is_in_output=\"true\"),\n",
    "            punctuation_token(token=[\"-\" , \".\"],is_required=\"false\"),\n",
    "            shape_token(shape =[\"dd\"],is_in_output=\"true\"),\n",
    "            punctuation_token(token=[\"-\" , \".\"],is_required=\"false\"),\n",
    "            shape_token(shape =[\"dd\"],is_in_output=\"true\")\n",
    "      ]\n",
    "    }\n",
    "\n",
    "field_rules = {\n",
    "  \"rules\": [\n",
    "      rule_07\n",
    "  ]\n",
    "}\n",
    "\n",
    "print \"text:\", d['text']\n",
    "results = c.extract_using_custom_spacy(d, config, field_rules=field_rules)\n",
    "tele_lst = []\n",
    "for i in results:\n",
    "    tele_lst.append(''.join((i.values()[1]).split()))\n",
    "tele_lst"
   ]
  },
  {
   "cell_type": "code",
   "execution_count": 13,
   "metadata": {},
   "outputs": [
    {
     "name": "stdout",
     "output_type": "stream",
     "text": [
      "text: my telephone number is (217)331-6779, (217)-331-6778,(217)-331-6777, 217-331-6776, 734.709.8965, 949 484 6951, 5017774643, 664 123 45 67,  0660852222\n",
      "Hi Gentlemen, My name is Ashley . my name Monica I am the one and, My names is Alanda\n",
      "(217)-331-6778, (044) 322 1719850,044 322 1719851, (045) 322 1719850, 045 55 49 40 83 95, 045- 55- 49 40 83 94, 045 -5549408395\n",
      "-0466119200, -488019954,+32465863497 - , 0466119200\n",
      "74350 - 0642516048, 07 55 71 64 36 - \n",
      " + 49 15781424777, +( 49 )15732190888?\n",
      " 004915221040240\n",
      " 49( 0 )15771824788\n",
      " 111 2222, 111-3333\n",
      " UK: 07077080500, 07741 011 066, 07014-231- 011, 0751 011 41 92 , \n",
      " UK:(022) 1111 2222, (0100) 000 1113, (01222) 22224, (01222) 333335, (0122 22)3336, (0122 22) 33337, \n",
      " UK: 0121-111 2228, 0121 111 2229, 07111 222220, 0111 222 2221, 0500 111112, 0800 111113 , \n",
      " India: 111-2222222, 11111-33333, +91-111 222 3333\n",
      " China: (0111) 1111 2222, +86 122 3333 4444, 0086 111 2222 3333, +86 111 222 33 444\n",
      " HK: 1111 2222, 33334444\n",
      " Japan: (011) 222-3333, (0120)-22-3333, 0570-22-3333, 0800-22-3333,050-2222-3333, +61  \n",
      " Austrilia: (01)1111 2222, +61 42222 3333, +61 222 333 444, 1003 333 444\n"
     ]
    },
    {
     "data": {
      "text/plain": [
       "[]"
      ]
     },
     "execution_count": 13,
     "metadata": {},
     "output_type": "execute_result"
    }
   ],
   "source": [
    "#Mexico (044) 322 1719850,044 322 1719851, (045) 55 1234 5678\n",
    "\n",
    "rule_08 = {\n",
    "      \"identifier\": \"telenum_rule_us\",\n",
    "      \"description\": \"a description\",\n",
    "      \"is_active\": \"true\",\n",
    "      \"output_format\": \"{1}{2}{3}\",\n",
    "      \"pattern\": [\n",
    "            punctuation_token(token=[\"(\"],is_required=\"false\"),\n",
    "            number_token(number =[\"044\", \"045\"],is_in_output=\"true\"),\n",
    "            punctuation_token(token=[\")\"],is_required=\"false\"),\n",
    "            punctuation_token(token=[\"-\", \".\"],is_required=\"false\"),\n",
    "            shape_token(shape =[\"ddd\"],is_in_output=\"true\"),\n",
    "            punctuation_token(token=[\"-\" , \".\"],is_required=\"false\"),\n",
    "            shape_token(shape =[\"ddddddd\"],is_in_output=\"true\")      \n",
    "      ]\n",
    "    }\n",
    "\n",
    "field_rules = {\n",
    "  \"rules\": [\n",
    "      rule_08\n",
    "  ]\n",
    "}\n",
    "\n",
    "print \"text:\", d['text']\n",
    "results = c.extract_using_custom_spacy(d, config, field_rules=field_rules)\n",
    "tele_lst = []\n",
    "for i in results:\n",
    "    tele_lst.append(''.join((i.values()[1]).split()))\n",
    "tele_lst"
   ]
  },
  {
   "cell_type": "code",
   "execution_count": 14,
   "metadata": {},
   "outputs": [
    {
     "name": "stdout",
     "output_type": "stream",
     "text": [
      "text: my telephone number is (217)331-6779, (217)-331-6778,(217)-331-6777, 217-331-6776, 734.709.8965, 949 484 6951, 5017774643, 664 123 45 67,  0660852222\n",
      "Hi Gentlemen, My name is Ashley . my name Monica I am the one and, My names is Alanda\n",
      "(217)-331-6778, (044) 322 1719850,044 322 1719851, (045) 322 1719850, 045 55 49 40 83 95, 045- 55- 49 40 83 94, 045 -5549408395\n",
      "-0466119200, -488019954,+32465863497 - , 0466119200\n",
      "74350 - 0642516048, 07 55 71 64 36 - \n",
      " + 49 15781424777, +( 49 )15732190888?\n",
      " 004915221040240\n",
      " 49( 0 )15771824788\n",
      " 111 2222, 111-3333\n",
      " UK: 07077080500, 07741 011 066, 07014-231- 011, 0751 011 41 92 , \n",
      " UK:(022) 1111 2222, (0100) 000 1113, (01222) 22224, (01222) 333335, (0122 22)3336, (0122 22) 33337, \n",
      " UK: 0121-111 2228, 0121 111 2229, 07111 222220, 0111 222 2221, 0500 111112, 0800 111113 , \n",
      " India: 111-2222222, 11111-33333, +91-111 222 3333\n",
      " China: (0111) 1111 2222, +86 122 3333 4444, 0086 111 2222 3333, +86 111 222 33 444\n",
      " HK: 1111 2222, 33334444\n",
      " Japan: (011) 222-3333, (0120)-22-3333, 0570-22-3333, 0800-22-3333,050-2222-3333, +61  \n",
      " Austrilia: (01)1111 2222, +61 42222 3333, +61 222 333 444, 1003 333 444\n"
     ]
    },
    {
     "data": {
      "text/plain": [
       "['0455549408395', '0455549408394']"
      ]
     },
     "execution_count": 14,
     "metadata": {},
     "output_type": "execute_result"
    }
   ],
   "source": [
    "#Mexico 045 55 49 40 83 95\n",
    "\n",
    "rule_09 = {\n",
    "      \"identifier\": \"telenum_rule_us\",\n",
    "      \"description\": \"a description\",\n",
    "      \"is_active\": \"true\",\n",
    "      \"output_format\": \"{1}{2}{3}{4}{5}{6}\",\n",
    "      \"pattern\": [\n",
    "            punctuation_token(token=[\"(\"],is_required=\"false\"),\n",
    "            number_token(number =[\"044\", \"045\"],is_in_output=\"true\"),\n",
    "            punctuation_token(token=[\")\"],is_required=\"false\"),\n",
    "            punctuation_token(token=[\"-\", \".\"],is_required=\"false\"),\n",
    "            shape_token(shape =[\"dd\"],is_in_output=\"true\"),\n",
    "            punctuation_token(token=[\"-\" , \".\"],is_required=\"false\"),\n",
    "            shape_token(shape =[\"dd\"],is_in_output=\"true\"),\n",
    "            punctuation_token(token=[\"-\" , \".\"],is_required=\"false\"),\n",
    "            shape_token(shape =[\"dd\"],is_in_output=\"true\"),\n",
    "            punctuation_token(token=[\"-\" , \".\"],is_required=\"false\"),\n",
    "            shape_token(shape =[\"dd\"],is_in_output=\"true\"),\n",
    "            punctuation_token(token=[\"-\" , \".\"],is_required=\"false\"),\n",
    "            shape_token(shape =[\"dd\"],is_in_output=\"true\")  \n",
    "      ]\n",
    "    }\n",
    "\n",
    "field_rules = {\n",
    "  \"rules\": [\n",
    "      rule_09\n",
    "  ]\n",
    "}\n",
    "\n",
    "print \"text:\", d['text']\n",
    "results = c.extract_using_custom_spacy(d, config, field_rules=field_rules)\n",
    "tele_lst = []\n",
    "for i in results:\n",
    "    tele_lst.append(''.join((i.values()[1]).split()))\n",
    "tele_lst"
   ]
  },
  {
   "cell_type": "code",
   "execution_count": 15,
   "metadata": {},
   "outputs": [
    {
     "name": "stdout",
     "output_type": "stream",
     "text": [
      "text: my telephone number is (217)331-6779, (217)-331-6778,(217)-331-6777, 217-331-6776, 734.709.8965, 949 484 6951, 5017774643, 664 123 45 67,  0660852222\n",
      "Hi Gentlemen, My name is Ashley . my name Monica I am the one and, My names is Alanda\n",
      "(217)-331-6778, (044) 322 1719850,044 322 1719851, (045) 322 1719850, 045 55 49 40 83 95, 045- 55- 49 40 83 94, 045 -5549408395\n",
      "-0466119200, -488019954,+32465863497 - , 0466119200\n",
      "74350 - 0642516048, 07 55 71 64 36 - \n",
      " + 49 15781424777, +( 49 )15732190888?\n",
      " 004915221040240\n",
      " 49( 0 )15771824788\n",
      " 111 2222, 111-3333\n",
      " UK: 07077080500, 07741 011 066, 07014-231- 011, 0751 011 41 92 , \n",
      " UK:(022) 1111 2222, (0100) 000 1113, (01222) 22224, (01222) 333335, (0122 22)3336, (0122 22) 33337, \n",
      " UK: 0121-111 2228, 0121 111 2229, 07111 222220, 0111 222 2221, 0500 111112, 0800 111113 , \n",
      " India: 111-2222222, 11111-33333, +91-111 222 3333\n",
      " China: (0111) 1111 2222, +86 122 3333 4444, 0086 111 2222 3333, +86 111 222 33 444\n",
      " HK: 1111 2222, 33334444\n",
      " Japan: (011) 222-3333, (0120)-22-3333, 0570-22-3333, 0800-22-3333,050-2222-3333, +61  \n",
      " Austrilia: (01)1111 2222, +61 42222 3333, +61 222 333 444, 1003 333 444\n"
     ]
    },
    {
     "data": {
      "text/plain": [
       "['0455549408395']"
      ]
     },
     "execution_count": 15,
     "metadata": {},
     "output_type": "execute_result"
    }
   ],
   "source": [
    "#Mexico 045 -5549408395\n",
    "\n",
    "rule_10 = {\n",
    "      \"identifier\": \"telenum_rule_us\",\n",
    "      \"description\": \"a description\",\n",
    "      \"is_active\": \"true\",\n",
    "      \"output_format\": \"{1}{2}{3}\",\n",
    "      \"pattern\": [\n",
    "            punctuation_token(token=[\"(\"],is_required=\"false\"),\n",
    "            number_token(number =[\"044\", \"045\"],is_in_output=\"true\"),\n",
    "            punctuation_token(token=[\")\"],is_required=\"false\"),\n",
    "            punctuation_token(token=[\"-\", \".\"],is_required=\"false\"),\n",
    "            shape_token(shape =[\"dddddddddd\"],is_in_output=\"true\"),\n",
    "      ]\n",
    "    }\n",
    "\n",
    "field_rules = {\n",
    "  \"rules\": [\n",
    "      rule_10\n",
    "  ]\n",
    "}\n",
    "\n",
    "print \"text:\", d['text']\n",
    "results = c.extract_using_custom_spacy(d, config, field_rules=field_rules)\n",
    "tele_lst = []\n",
    "for i in results:\n",
    "    tele_lst.append(''.join((i.values()[1]).split()))\n",
    "tele_lst"
   ]
  },
  {
   "cell_type": "code",
   "execution_count": 16,
   "metadata": {},
   "outputs": [
    {
     "name": "stdout",
     "output_type": "stream",
     "text": [
      "text: my telephone number is (217)331-6779, (217)-331-6778,(217)-331-6777, 217-331-6776, 734.709.8965, 949 484 6951, 5017774643, 664 123 45 67,  0660852222\n",
      "Hi Gentlemen, My name is Ashley . my name Monica I am the one and, My names is Alanda\n",
      "(217)-331-6778, (044) 322 1719850,044 322 1719851, (045) 322 1719850, 045 55 49 40 83 95, 045- 55- 49 40 83 94, 045 -5549408395\n",
      "-0466119200, -488019954,+32465863497 - , 0466119200\n",
      "74350 - 0642516048, 07 55 71 64 36 - \n",
      " + 49 15781424777, +( 49 )15732190888?\n",
      " 004915221040240\n",
      " 49( 0 )15771824788\n",
      " 111 2222, 111-3333\n",
      " UK: 07077080500, 07741 011 066, 07014-231- 011, 0751 011 41 92 , \n",
      " UK:(022) 1111 2222, (0100) 000 1113, (01222) 22224, (01222) 333335, (0122 22)3336, (0122 22) 33337, \n",
      " UK: 0121-111 2228, 0121 111 2229, 07111 222220, 0111 222 2221, 0500 111112, 0800 111113 , \n",
      " India: 111-2222222, 11111-33333, +91-111 222 3333\n",
      " China: (0111) 1111 2222, +86 122 3333 4444, 0086 111 2222 3333, +86 111 222 33 444\n",
      " HK: 1111 2222, 33334444\n",
      " Japan: (011) 222-3333, (0120)-22-3333, 0570-22-3333, 0800-22-3333,050-2222-3333, +61  \n",
      " Austrilia: (01)1111 2222, +61 42222 3333, +61 222 333 444, 1003 333 444\n"
     ]
    },
    {
     "data": {
      "text/plain": [
       "[]"
      ]
     },
     "execution_count": 16,
     "metadata": {},
     "output_type": "execute_result"
    }
   ],
   "source": [
    "#Belgium 0466119200, -488019954,\n",
    "\n",
    "rule_11 = {\n",
    "      \"identifier\": \"telenum_rule_us\",\n",
    "      \"description\": \"a description\",\n",
    "      \"is_active\": \"false\",\n",
    "      \"output_format\": \"{1}\",\n",
    "      \"pattern\": [\n",
    "            punctuation_token(token=[\"-\"],is_required=\"false\"),\n",
    "            shape_token(shape =[\"ddddddddd\"],is_in_output=\"true\")\n",
    "\n",
    "      ]\n",
    "    }\n",
    "\n",
    "field_rules = {\n",
    "  \"rules\": [\n",
    "      rule_11\n",
    "  ]\n",
    "}\n",
    "\n",
    "print \"text:\", d['text']\n",
    "results = c.extract_using_custom_spacy(d, config, field_rules=field_rules)\n",
    "tele_lst = []\n",
    "for i in results:\n",
    "    tele_lst.append(''.join((i.values()[1]).split()))\n",
    "tele_lst"
   ]
  },
  {
   "cell_type": "code",
   "execution_count": 17,
   "metadata": {},
   "outputs": [
    {
     "name": "stdout",
     "output_type": "stream",
     "text": [
      "text: my telephone number is (217)331-6779, (217)-331-6778,(217)-331-6777, 217-331-6776, 734.709.8965, 949 484 6951, 5017774643, 664 123 45 67,  0660852222\n",
      "Hi Gentlemen, My name is Ashley . my name Monica I am the one and, My names is Alanda\n",
      "(217)-331-6778, (044) 322 1719850,044 322 1719851, (045) 322 1719850, 045 55 49 40 83 95, 045- 55- 49 40 83 94, 045 -5549408395\n",
      "-0466119200, -488019954,+32465863497 - , 0466119200\n",
      "74350 - 0642516048, 07 55 71 64 36 - \n",
      " + 49 15781424777, +( 49 )15732190888?\n",
      " 004915221040240\n",
      " 49( 0 )15771824788\n",
      " 111 2222, 111-3333\n",
      " UK: 07077080500, 07741 011 066, 07014-231- 011, 0751 011 41 92 , \n",
      " UK:(022) 1111 2222, (0100) 000 1113, (01222) 22224, (01222) 333335, (0122 22)3336, (0122 22) 33337, \n",
      " UK: 0121-111 2228, 0121 111 2229, 07111 222220, 0111 222 2221, 0500 111112, 0800 111113 , \n",
      " India: 111-2222222, 11111-33333, +91-111 222 3333\n",
      " China: (0111) 1111 2222, +86 122 3333 4444, 0086 111 2222 3333, +86 111 222 33 444\n",
      " HK: 1111 2222, 33334444\n",
      " Japan: (011) 222-3333, (0120)-22-3333, 0570-22-3333, 0800-22-3333,050-2222-3333, +61  \n",
      " Austrilia: (01)1111 2222, +61 42222 3333, +61 222 333 444, 1003 333 444\n"
     ]
    },
    {
     "data": {
      "text/plain": [
       "['0466119200', '0466119200']"
      ]
     },
     "execution_count": 17,
     "metadata": {},
     "output_type": "execute_result"
    }
   ],
   "source": [
    "#Belgium 0466119200, (start with 04)\n",
    "\n",
    "rule_12 = {\n",
    "      \"identifier\": \"telenum_rule_us\",\n",
    "      \"description\": \"a description\",\n",
    "      \"is_active\": \"true\",\n",
    "      \"output_format\": \"{1}\",\n",
    "      \"pattern\": [\n",
    "            number_token(minimum=\"400000000\", maximum=\"499999999\", length = [10], is_in_output=\"true\")\n",
    "      ]\n",
    "    }\n",
    "\n",
    "field_rules = {\n",
    "  \"rules\": [\n",
    "      rule_12\n",
    "  ]\n",
    "}\n",
    "\n",
    "print \"text:\", d['text']\n",
    "results = c.extract_using_custom_spacy(d, config, field_rules=field_rules)\n",
    "tele_lst = []\n",
    "for i in results:\n",
    "    tele_lst.append(''.join((i.values()[1]).split()))\n",
    "tele_lst"
   ]
  },
  {
   "cell_type": "code",
   "execution_count": 18,
   "metadata": {},
   "outputs": [
    {
     "name": "stdout",
     "output_type": "stream",
     "text": [
      "text: my telephone number is (217)331-6779, (217)-331-6778,(217)-331-6777, 217-331-6776, 734.709.8965, 949 484 6951, 5017774643, 664 123 45 67,  0660852222\n",
      "Hi Gentlemen, My name is Ashley . my name Monica I am the one and, My names is Alanda\n",
      "(217)-331-6778, (044) 322 1719850,044 322 1719851, (045) 322 1719850, 045 55 49 40 83 95, 045- 55- 49 40 83 94, 045 -5549408395\n",
      "-0466119200, -488019954,+32465863497 - , 0466119200\n",
      "74350 - 0642516048, 07 55 71 64 36 - \n",
      " + 49 15781424777, +( 49 )15732190888?\n",
      " 004915221040240\n",
      " 49( 0 )15771824788\n",
      " 111 2222, 111-3333\n",
      " UK: 07077080500, 07741 011 066, 07014-231- 011, 0751 011 41 92 , \n",
      " UK:(022) 1111 2222, (0100) 000 1113, (01222) 22224, (01222) 333335, (0122 22)3336, (0122 22) 33337, \n",
      " UK: 0121-111 2228, 0121 111 2229, 07111 222220, 0111 222 2221, 0500 111112, 0800 111113 , \n",
      " India: 111-2222222, 11111-33333, +91-111 222 3333\n",
      " China: (0111) 1111 2222, +86 122 3333 4444, 0086 111 2222 3333, +86 111 222 33 444\n",
      " HK: 1111 2222, 33334444\n",
      " Japan: (011) 222-3333, (0120)-22-3333, 0570-22-3333, 0800-22-3333,050-2222-3333, +61  \n",
      " Austrilia: (01)1111 2222, +61 42222 3333, +61 222 333 444, 1003 333 444\n"
     ]
    },
    {
     "data": {
      "text/plain": [
       "['32465863497']"
      ]
     },
     "execution_count": 18,
     "metadata": {},
     "output_type": "execute_result"
    }
   ],
   "source": [
    "#Belgium 32465863497 -\n",
    "\n",
    "rule_13 = {\n",
    "      \"identifier\": \"telenum_rule_us\",\n",
    "      \"description\": \"a description\",\n",
    "      \"is_active\": \"true\",\n",
    "      \"output_format\": \"{1}\",\n",
    "      \"pattern\": [\n",
    "            punctuation_token(token=[\"-\",\"+\"],is_required=\"false\"),\n",
    "            number_token(minimum=\"32400000000\", maximum=\"32499999999\",is_in_output=\"true\")\n",
    "      ]\n",
    "    }\n",
    "\n",
    "field_rules = {\n",
    "  \"rules\": [\n",
    "      rule_13\n",
    "  ]\n",
    "}\n",
    "\n",
    "print \"text:\", d['text']\n",
    "results = c.extract_using_custom_spacy(d, config, field_rules=field_rules)\n",
    "tele_lst = []\n",
    "for i in results:\n",
    "    tele_lst.append(''.join((i.values()[1]).split()))\n",
    "tele_lst"
   ]
  },
  {
   "cell_type": "code",
   "execution_count": 19,
   "metadata": {},
   "outputs": [
    {
     "name": "stdout",
     "output_type": "stream",
     "text": [
      "text: my telephone number is (217)331-6779, (217)-331-6778,(217)-331-6777, 217-331-6776, 734.709.8965, 949 484 6951, 5017774643, 664 123 45 67,  0660852222\n",
      "Hi Gentlemen, My name is Ashley . my name Monica I am the one and, My names is Alanda\n",
      "(217)-331-6778, (044) 322 1719850,044 322 1719851, (045) 322 1719850, 045 55 49 40 83 95, 045- 55- 49 40 83 94, 045 -5549408395\n",
      "-0466119200, -488019954,+32465863497 - , 0466119200\n",
      "74350 - 0642516048, 07 55 71 64 36 - \n",
      " + 49 15781424777, +( 49 )15732190888?\n",
      " 004915221040240\n",
      " 49( 0 )15771824788\n",
      " 111 2222, 111-3333\n",
      " UK: 07077080500, 07741 011 066, 07014-231- 011, 0751 011 41 92 , \n",
      " UK:(022) 1111 2222, (0100) 000 1113, (01222) 22224, (01222) 333335, (0122 22)3336, (0122 22) 33337, \n",
      " UK: 0121-111 2228, 0121 111 2229, 07111 222220, 0111 222 2221, 0500 111112, 0800 111113 , \n",
      " India: 111-2222222, 11111-33333, +91-111 222 3333\n",
      " China: (0111) 1111 2222, +86 122 3333 4444, 0086 111 2222 3333, +86 111 222 33 444\n",
      " HK: 1111 2222, 33334444\n",
      " Japan: (011) 222-3333, (0120)-22-3333, 0570-22-3333, 0800-22-3333,050-2222-3333, +61  \n",
      " Austrilia: (01)1111 2222, +61 42222 3333, +61 222 333 444, 1003 333 444\n"
     ]
    },
    {
     "data": {
      "text/plain": [
       "['743500642516048']"
      ]
     },
     "execution_count": 19,
     "metadata": {},
     "output_type": "execute_result"
    }
   ],
   "source": [
    "#France 74350 - 0642516048 ,\n",
    "rule_14 = {\n",
    "      \"identifier\": \"telenum_rule_us\",\n",
    "      \"description\": \"a description\",\n",
    "      \"is_active\": \"true\",\n",
    "      \"output_format\": \"{1}{2}\",\n",
    "      \"pattern\": [\n",
    "            shape_token(shape =[\"ddddd\"],is_in_output=\"true\"),\n",
    "            punctuation_token(token=[\"-\"],is_required=\"false\"),\n",
    "            shape_token(shape =[\"dddddddddd\"],is_in_output=\"true\")\n",
    "      ]\n",
    "    }\n",
    "\n",
    "field_rules = {\n",
    "  \"rules\": [\n",
    "      rule_14\n",
    "  ]\n",
    "}\n",
    "\n",
    "print \"text:\", d['text']\n",
    "results = c.extract_using_custom_spacy(d, config, field_rules=field_rules)\n",
    "tele_lst = []\n",
    "for i in results:\n",
    "    tele_lst.append(''.join((i.values()[1]).split()))\n",
    "tele_lst"
   ]
  },
  {
   "cell_type": "code",
   "execution_count": 20,
   "metadata": {},
   "outputs": [
    {
     "name": "stdout",
     "output_type": "stream",
     "text": [
      "text: my telephone number is (217)331-6779, (217)-331-6778,(217)-331-6777, 217-331-6776, 734.709.8965, 949 484 6951, 5017774643, 664 123 45 67,  0660852222\n",
      "Hi Gentlemen, My name is Ashley . my name Monica I am the one and, My names is Alanda\n",
      "(217)-331-6778, (044) 322 1719850,044 322 1719851, (045) 322 1719850, 045 55 49 40 83 95, 045- 55- 49 40 83 94, 045 -5549408395\n",
      "-0466119200, -488019954,+32465863497 - , 0466119200\n",
      "74350 - 0642516048, 07 55 71 64 36 - \n",
      " + 49 15781424777, +( 49 )15732190888?\n",
      " 004915221040240\n",
      " 49( 0 )15771824788\n",
      " 111 2222, 111-3333\n",
      " UK: 07077080500, 07741 011 066, 07014-231- 011, 0751 011 41 92 , \n",
      " UK:(022) 1111 2222, (0100) 000 1113, (01222) 22224, (01222) 333335, (0122 22)3336, (0122 22) 33337, \n",
      " UK: 0121-111 2228, 0121 111 2229, 07111 222220, 0111 222 2221, 0500 111112, 0800 111113 , \n",
      " India: 111-2222222, 11111-33333, +91-111 222 3333\n",
      " China: (0111) 1111 2222, +86 122 3333 4444, 0086 111 2222 3333, +86 111 222 33 444\n",
      " HK: 1111 2222, 33334444\n",
      " Japan: (011) 222-3333, (0120)-22-3333, 0570-22-3333, 0800-22-3333,050-2222-3333, +61  \n",
      " Austrilia: (01)1111 2222, +61 42222 3333, +61 222 333 444, 1003 333 444\n"
     ]
    },
    {
     "data": {
      "text/plain": [
       "['5549408395', '0755716436']"
      ]
     },
     "execution_count": 20,
     "metadata": {},
     "output_type": "execute_result"
    }
   ],
   "source": [
    "#France 07 55 71 64 36 \n",
    "rule_15 = {\n",
    "      \"identifier\": \"telenum_rule_us\",\n",
    "      \"description\": \"a description\",\n",
    "      \"is_active\": \"true\",\n",
    "      \"output_format\": \"{1}{2}{3}{4}{5}\",\n",
    "      \"pattern\": [\n",
    "            shape_token(shape =[\"dd\"],is_in_output=\"true\"),\n",
    "            shape_token(shape =[\"dd\"],is_in_output=\"true\"),\n",
    "            shape_token(shape =[\"dd\"],is_in_output=\"true\"),\n",
    "            shape_token(shape =[\"dd\"],is_in_output=\"true\"),\n",
    "            shape_token(shape =[\"dd\"],is_in_output=\"true\"),\n",
    "      ]\n",
    "    }\n",
    "\n",
    "field_rules = {\n",
    "  \"rules\": [\n",
    "      rule_15\n",
    "  ]\n",
    "}\n",
    "\n",
    "print \"text:\", d['text']\n",
    "results = c.extract_using_custom_spacy(d, config, field_rules=field_rules)\n",
    "tele_lst = []\n",
    "for i in results:\n",
    "    tele_lst.append(''.join((i.values()[1]).split()))\n",
    "tele_lst"
   ]
  },
  {
   "cell_type": "code",
   "execution_count": 21,
   "metadata": {},
   "outputs": [
    {
     "name": "stdout",
     "output_type": "stream",
     "text": [
      "text: my telephone number is (217)331-6779, (217)-331-6778,(217)-331-6777, 217-331-6776, 734.709.8965, 949 484 6951, 5017774643, 664 123 45 67,  0660852222\n",
      "Hi Gentlemen, My name is Ashley . my name Monica I am the one and, My names is Alanda\n",
      "(217)-331-6778, (044) 322 1719850,044 322 1719851, (045) 322 1719850, 045 55 49 40 83 95, 045- 55- 49 40 83 94, 045 -5549408395\n",
      "-0466119200, -488019954,+32465863497 - , 0466119200\n",
      "74350 - 0642516048, 07 55 71 64 36 - \n",
      " + 49 15781424777, +( 49 )15732190888?\n",
      " 004915221040240\n",
      " 49( 0 )15771824788\n",
      " 111 2222, 111-3333\n",
      " UK: 07077080500, 07741 011 066, 07014-231- 011, 0751 011 41 92 , \n",
      " UK:(022) 1111 2222, (0100) 000 1113, (01222) 22224, (01222) 333335, (0122 22)3336, (0122 22) 33337, \n",
      " UK: 0121-111 2228, 0121 111 2229, 07111 222220, 0111 222 2221, 0500 111112, 0800 111113 , \n",
      " India: 111-2222222, 11111-33333, +91-111 222 3333\n",
      " China: (0111) 1111 2222, +86 122 3333 4444, 0086 111 2222 3333, +86 111 222 33 444\n",
      " HK: 1111 2222, 33334444\n",
      " Japan: (011) 222-3333, (0120)-22-3333, 0570-22-3333, 0800-22-3333,050-2222-3333, +61  \n",
      " Austrilia: (01)1111 2222, +61 42222 3333, +61 222 333 444, 1003 333 444\n"
     ]
    },
    {
     "data": {
      "text/plain": [
       "['15781424777', '15732190888']"
      ]
     },
     "execution_count": 21,
     "metadata": {},
     "output_type": "execute_result"
    }
   ],
   "source": [
    "#Germany + 49 15781424756, +( 49 )15732190888?    remove 49\n",
    "rule_16 = {\n",
    "      \"identifier\": \"telenum_rule_us\",\n",
    "      \"description\": \"a description\",\n",
    "      \"is_active\": \"true\",\n",
    "      \"output_format\": \"{1}\",\n",
    "      \"pattern\": [\n",
    "            punctuation_token(token=[\"+\"],is_required=\"false\"),\n",
    "            punctuation_token(token=[\"(\"],is_required=\"false\"),\n",
    "            number_token(number =[49],is_in_output=\"false\"),\n",
    "            punctuation_token(token=[\")\"],is_required=\"false\"),\n",
    "            shape_token(shape =[\"ddddddddddd\"],is_in_output=\"true\")\n",
    "      ]\n",
    "    }\n",
    "\n",
    "field_rules = {\n",
    "  \"rules\": [\n",
    "      rule_16\n",
    "  ]\n",
    "}\n",
    "\n",
    "print \"text:\", d['text']\n",
    "results = c.extract_using_custom_spacy(d, config, field_rules=field_rules)\n",
    "tele_lst = []\n",
    "for i in results:\n",
    "    tele_lst.append(''.join((i.values()[1]).split()))\n",
    "tele_lst"
   ]
  },
  {
   "cell_type": "code",
   "execution_count": 22,
   "metadata": {},
   "outputs": [
    {
     "name": "stdout",
     "output_type": "stream",
     "text": [
      "text: my telephone number is (217)331-6779, (217)-331-6778,(217)-331-6777, 217-331-6776, 734.709.8965, 949 484 6951, 5017774643, 664 123 45 67,  0660852222\n",
      "Hi Gentlemen, My name is Ashley . my name Monica I am the one and, My names is Alanda\n",
      "(217)-331-6778, (044) 322 1719850,044 322 1719851, (045) 322 1719850, 045 55 49 40 83 95, 045- 55- 49 40 83 94, 045 -5549408395\n",
      "-0466119200, -488019954,+32465863497 - , 0466119200\n",
      "74350 - 0642516048, 07 55 71 64 36 - \n",
      " + 49 15781424777, +( 49 )15732190888?\n",
      " 004915221040240\n",
      " 49( 0 )15771824788\n",
      " 111 2222, 111-3333\n",
      " UK: 07077080500, 07741 011 066, 07014-231- 011, 0751 011 41 92 , \n",
      " UK:(022) 1111 2222, (0100) 000 1113, (01222) 22224, (01222) 333335, (0122 22)3336, (0122 22) 33337, \n",
      " UK: 0121-111 2228, 0121 111 2229, 07111 222220, 0111 222 2221, 0500 111112, 0800 111113 , \n",
      " India: 111-2222222, 11111-33333, +91-111 222 3333\n",
      " China: (0111) 1111 2222, +86 122 3333 4444, 0086 111 2222 3333, +86 111 222 33 444\n",
      " HK: 1111 2222, 33334444\n",
      " Japan: (011) 222-3333, (0120)-22-3333, 0570-22-3333, 0800-22-3333,050-2222-3333, +61  \n",
      " Austrilia: (01)1111 2222, +61 42222 3333, +61 222 333 444, 1003 333 444\n"
     ]
    },
    {
     "data": {
      "text/plain": [
       "['004915221040240']"
      ]
     },
     "execution_count": 22,
     "metadata": {},
     "output_type": "execute_result"
    }
   ],
   "source": [
    "# Germany:004915221040240 start with 0049 , 0049 is national code  , can't remove 0049\n",
    "rule_17 = {\n",
    "      \"identifier\": \"telenum_rule_us\",\n",
    "      \"description\": \"a description\",\n",
    "      \"is_active\": \"true\",\n",
    "      \"output_format\": \"{1}\",\n",
    "      \"pattern\": [\n",
    "            number_token(minimum=\"4900000000000\", maximum=\"4999999999999\",is_in_output=\"true\")\n",
    "      ]\n",
    "    }\n",
    "\n",
    "field_rules = {\n",
    "  \"rules\": [\n",
    "      rule_17\n",
    "  ]\n",
    "}\n",
    "\n",
    "print \"text:\", d['text']\n",
    "results = c.extract_using_custom_spacy(d, config, field_rules=field_rules)\n",
    "tele_lst = []\n",
    "for i in results:\n",
    "    tele_lst.append(''.join((i.values()[1]).split()))\n",
    "tele_lst"
   ]
  },
  {
   "cell_type": "code",
   "execution_count": 23,
   "metadata": {},
   "outputs": [
    {
     "name": "stdout",
     "output_type": "stream",
     "text": [
      "text: my telephone number is (217)331-6779, (217)-331-6778,(217)-331-6777, 217-331-6776, 734.709.8965, 949 484 6951, 5017774643, 664 123 45 67,  0660852222\n",
      "Hi Gentlemen, My name is Ashley . my name Monica I am the one and, My names is Alanda\n",
      "(217)-331-6778, (044) 322 1719850,044 322 1719851, (045) 322 1719850, 045 55 49 40 83 95, 045- 55- 49 40 83 94, 045 -5549408395\n",
      "-0466119200, -488019954,+32465863497 - , 0466119200\n",
      "74350 - 0642516048, 07 55 71 64 36 - \n",
      " + 49 15781424777, +( 49 )15732190888?\n",
      " 004915221040240\n",
      " 49( 0 )15771824788\n",
      " 111 2222, 111-3333\n",
      " UK: 07077080500, 07741 011 066, 07014-231- 011, 0751 011 41 92 , \n",
      " UK:(022) 1111 2222, (0100) 000 1113, (01222) 22224, (01222) 333335, (0122 22)3336, (0122 22) 33337, \n",
      " UK: 0121-111 2228, 0121 111 2229, 07111 222220, 0111 222 2221, 0500 111112, 0800 111113 , \n",
      " India: 111-2222222, 11111-33333, +91-111 222 3333\n",
      " China: (0111) 1111 2222, +86 122 3333 4444, 0086 111 2222 3333, +86 111 222 33 444\n",
      " HK: 1111 2222, 33334444\n",
      " Japan: (011) 222-3333, (0120)-22-3333, 0570-22-3333, 0800-22-3333,050-2222-3333, +61  \n",
      " Austrilia: (01)1111 2222, +61 42222 3333, +61 222 333 444, 1003 333 444\n"
     ]
    },
    {
     "data": {
      "text/plain": [
       "['15771824788']"
      ]
     },
     "execution_count": 23,
     "metadata": {},
     "output_type": "execute_result"
    }
   ],
   "source": [
    "#Germany 49( 0 )15771824788\n",
    "\n",
    "rule_18 = {\n",
    "      \"identifier\": \"telenum_rule_us\",\n",
    "      \"description\": \"a description\",\n",
    "      \"is_active\": \"true\",\n",
    "      \"output_format\": \"{1}\",\n",
    "      \"pattern\": [\n",
    "            number_token(number =[49],is_in_output=\"false\"),\n",
    "            punctuation_token(token=[\"(\"],is_required=\"false\"),\n",
    "            number_token(number =[0],is_in_output=\"false\"),\n",
    "            punctuation_token(token=[\")\"],is_required=\"false\"),\n",
    "            shape_token(shape =[\"ddddddddddd\"],is_in_output=\"true\")\n",
    "      ]\n",
    "    }\n",
    "\n",
    "field_rules = {\n",
    "  \"rules\": [\n",
    "      rule_18\n",
    "  ]\n",
    "}\n",
    "\n",
    "print \"text:\", d['text']\n",
    "results = c.extract_using_custom_spacy(d, config, field_rules=field_rules)\n",
    "tele_lst = []\n",
    "for i in results:\n",
    "    tele_lst.append(''.join((i.values()[1]).split()))\n",
    "tele_lst"
   ]
  },
  {
   "cell_type": "code",
   "execution_count": 24,
   "metadata": {},
   "outputs": [
    {
     "name": "stdout",
     "output_type": "stream",
     "text": [
      "text: my telephone number is (217)331-6779, (217)-331-6778,(217)-331-6777, 217-331-6776, 734.709.8965, 949 484 6951, 5017774643, 664 123 45 67,  0660852222\n",
      "Hi Gentlemen, My name is Ashley . my name Monica I am the one and, My names is Alanda\n",
      "(217)-331-6778, (044) 322 1719850,044 322 1719851, (045) 322 1719850, 045 55 49 40 83 95, 045- 55- 49 40 83 94, 045 -5549408395\n",
      "-0466119200, -488019954,+32465863497 - , 0466119200\n",
      "74350 - 0642516048, 07 55 71 64 36 - \n",
      " + 49 15781424777, +( 49 )15732190888?\n",
      " 004915221040240\n",
      " 49( 0 )15771824788\n",
      " 111 2222, 111-3333\n",
      " UK: 07077080500, 07741 011 066, 07014-231- 011, 0751 011 41 92 , \n",
      " UK:(022) 1111 2222, (0100) 000 1113, (01222) 22224, (01222) 333335, (0122 22)3336, (0122 22) 33337, \n",
      " UK: 0121-111 2228, 0121 111 2229, 07111 222220, 0111 222 2221, 0500 111112, 0800 111113 , \n",
      " India: 111-2222222, 11111-33333, +91-111 222 3333\n",
      " China: (0111) 1111 2222, +86 122 3333 4444, 0086 111 2222 3333, +86 111 222 33 444\n",
      " HK: 1111 2222, 33334444\n",
      " Japan: (011) 222-3333, (0120)-22-3333, 0570-22-3333, 0800-22-3333,050-2222-3333, +61  \n",
      " Austrilia: (01)1111 2222, +61 42222 3333, +61 222 333 444, 1003 333 444\n"
     ]
    },
    {
     "data": {
      "text/plain": [
       "['3316779',\n",
       " '3316778',\n",
       " '3316777',\n",
       " '3316776',\n",
       " '4846951',\n",
       " '3316778',\n",
       " '1112222',\n",
       " '1113333',\n",
       " '0001113',\n",
       " '1112228',\n",
       " '1112229',\n",
       " '2222221',\n",
       " '2223333',\n",
       " '1223333',\n",
       " '1112222',\n",
       " '2223333',\n",
       " '0502222']"
      ]
     },
     "execution_count": 24,
     "metadata": {},
     "output_type": "execute_result"
    }
   ],
   "source": [
    "#Ireland : 111 2222, 111-3333 XXX XXXX or XXX-XXXX   \n",
    "\n",
    "\n",
    "rule_19 = {\n",
    "      \"identifier\": \"telenum_rule_us\",\n",
    "      \"description\": \"a description\",\n",
    "      \"is_active\": \"true\",\n",
    "      \"output_format\": \"{1}{2}\",\n",
    "      \"pattern\": [\n",
    "            shape_token(shape =[\"ddd\"],is_in_output=\"true\"),\n",
    "            punctuation_token(token=[\"-\"],is_required=\"false\"),\n",
    "            shape_token(shape =[\"dddd\"],is_in_output=\"true\")\n",
    "      ]\n",
    "    }\n",
    "\n",
    "field_rules = {\n",
    "  \"rules\": [\n",
    "      rule_19\n",
    "  ]\n",
    "}\n",
    "\n",
    "print \"text:\", d['text']\n",
    "results = c.extract_using_custom_spacy(d, config, field_rules=field_rules)\n",
    "tele_lst = []\n",
    "for i in results:\n",
    "    tele_lst.append(''.join((i.values()[1]).split()))\n",
    "tele_lst"
   ]
  },
  {
   "cell_type": "code",
   "execution_count": 60,
   "metadata": {},
   "outputs": [
    {
     "name": "stdout",
     "output_type": "stream",
     "text": [
      "text: my telephone number is (217)331-6779, (217)-331-6778,(217)-331-6777, 217-331-6776, 734.709.8965, 949 484 6951, 5017774643, 664 123 45 67,  0660852222\n",
      "Hi Gentlemen, My name is Ashley . my name Monica I am the one and, My names is Alanda\n",
      "(217)-331-6778, (044) 322 1719850,044 322 1719851, (045) 322 1719850, 045 55 49 40 83 95, 045- 55- 49 40 83 94, 045 -5549408395\n",
      "-0466119200, -488019954,+32465863497 - , 0466119200\n",
      "74350 - 0642516048, 07 55 71 64 36 - \n",
      " + 49 15781424777, +( 49 )15732190888?\n",
      " 004915221040240\n",
      " 49( 0 )15771824788\n",
      " 111 2222, 111-3333\n",
      " UK: 07077080500, 07741 011 066, 07014-231- 011, 0751 011 41 92 , \n",
      " UK:(022) 1111 2222, (0100) 000 1113, (01222) 22224, (01222) 333335, (0122 22)3336, (0122 22) 33337, \n",
      " UK: 0121-111 2228, 0121 111 2229, 07111 222220, 0111 222 2221, 0500 111112, 0800 111113 , \n",
      " India: 111-2222222, 11111-33333, +91-111 222 3333\n",
      " China: (0111) 1111 2222, +86 122 3333 4444, 0086 111 2222 3333, +86 111 222 33 444\n",
      " HK: 1111 2222, 33334444\n",
      " Japan: (011) 222-3333, (0120)-22-3333, 0570-22-3333, 0800-22-3333,050-2222-3333, +61  \n",
      " Austrilia: (01)1111 2222, +61 42222 3333, +61 222 333 444, 1003 333 444\n"
     ]
    },
    {
     "data": {
      "text/plain": [
       "[]"
      ]
     },
     "execution_count": 60,
     "metadata": {},
     "output_type": "execute_result"
    }
   ],
   "source": [
    "#Uk 07077080500  \n",
    "\n",
    "\n",
    "rule_19 = {\n",
    "      \"identifier\": \"telenum_rule_us\",\n",
    "      \"description\": \"a description\",\n",
    "      \"is_active\": \"false\",\n",
    "      \"output_format\": \"{1}\",\n",
    "      \"pattern\": [\n",
    "            shape_token(shape =[\"ddddddddddd\"],is_in_output=\"true\")\n",
    "      ]\n",
    "    }\n",
    "\n",
    "field_rules = {\n",
    "  \"rules\": [\n",
    "      rule_19\n",
    "  ]\n",
    "}\n",
    "\n",
    "print \"text:\", d['text']\n",
    "results = c.extract_using_custom_spacy(d, config, field_rules=field_rules)\n",
    "tele_lst = []\n",
    "for i in results:\n",
    "    tele_lst.append(''.join((i.values()[1]).split()))\n",
    "tele_lst"
   ]
  },
  {
   "cell_type": "code",
   "execution_count": 26,
   "metadata": {},
   "outputs": [
    {
     "name": "stdout",
     "output_type": "stream",
     "text": [
      "text: my telephone number is (217)331-6779, (217)-331-6778,(217)-331-6777, 217-331-6776, 734.709.8965, 949 484 6951, 5017774643, 664 123 45 67,  0660852222\n",
      "Hi Gentlemen, My name is Ashley . my name Monica I am the one and, My names is Alanda\n",
      "(217)-331-6778, (044) 322 1719850,044 322 1719851, (045) 322 1719850, 045 55 49 40 83 95, 045- 55- 49 40 83 94, 045 -5549408395\n",
      "-0466119200, -488019954,+32465863497 - , 0466119200\n",
      "74350 - 0642516048, 07 55 71 64 36 - \n",
      " + 49 15781424777, +( 49 )15732190888?\n",
      " 004915221040240\n",
      " 49( 0 )15771824788\n",
      " 111 2222, 111-3333\n",
      " UK: 07077080500, 07741 011 066, 07014-231- 011, 0751 011 41 92 , \n",
      " UK:(022) 1111 2222, (0100) 000 1113, (01222) 22224, (01222) 333335, (0122 22)3336, (0122 22) 33337, \n",
      " UK: 0121-111 2228, 0121 111 2229, 07111 222220, 0111 222 2221, 0500 111112, 0800 111113 , \n",
      " India: 111-2222222, 11111-33333, +91-111 222 3333\n",
      " China: (0111) 1111 2222, +86 122 3333 4444, 0086 111 2222 3333, +86 111 222 33 444\n",
      " HK: 1111 2222, 33334444\n",
      " Japan: (011) 222-3333, (0120)-22-3333, 0570-22-3333, 0800-22-3333,050-2222-3333, +61  \n",
      " Austrilia: (01)1111 2222, +61 42222 3333, +61 222 333 444, 1003 333 444\n"
     ]
    },
    {
     "data": {
      "text/plain": [
       "['07741011066]', '07014231011]']"
      ]
     },
     "execution_count": 26,
     "metadata": {},
     "output_type": "execute_result"
    }
   ],
   "source": [
    "# UK : 07741 011 066, -07014-231- 011-,\n",
    "\n",
    "rule_19 = {\n",
    "      \"identifier\": \"telenum_rule_us\",\n",
    "      \"description\": \"a description\",\n",
    "      \"is_active\": \"true\",\n",
    "      \"output_format\": \"{1}{2}{3}]\",\n",
    "      \"pattern\": [\n",
    "            punctuation_token(token=[\"-\"],is_required=\"false\"),\n",
    "            shape_token(shape =[\"ddddd\"],is_in_output=\"true\"),\n",
    "            punctuation_token(token=[\"-\"],is_required=\"false\"),\n",
    "            shape_token(shape =[\"ddd\"],is_in_output=\"true\"),\n",
    "            punctuation_token(token=[\"-\"],is_required=\"false\"),\n",
    "            shape_token(shape =[\"ddd\"],is_in_output=\"true\")\n",
    "      ]\n",
    "    }\n",
    "\n",
    "field_rules = {\n",
    "  \"rules\": [\n",
    "      rule_19\n",
    "  ]\n",
    "}\n",
    "\n",
    "print \"text:\", d['text']\n",
    "results = c.extract_using_custom_spacy(d, config, field_rules=field_rules)\n",
    "tele_lst = []\n",
    "for i in results:\n",
    "    tele_lst.append(''.join((i.values()[1]).split()))\n",
    "tele_lst"
   ]
  },
  {
   "cell_type": "code",
   "execution_count": 27,
   "metadata": {},
   "outputs": [
    {
     "name": "stdout",
     "output_type": "stream",
     "text": [
      "text: my telephone number is (217)331-6779, (217)-331-6778,(217)-331-6777, 217-331-6776, 734.709.8965, 949 484 6951, 5017774643, 664 123 45 67,  0660852222\n",
      "Hi Gentlemen, My name is Ashley . my name Monica I am the one and, My names is Alanda\n",
      "(217)-331-6778, (044) 322 1719850,044 322 1719851, (045) 322 1719850, 045 55 49 40 83 95, 045- 55- 49 40 83 94, 045 -5549408395\n",
      "-0466119200, -488019954,+32465863497 - , 0466119200\n",
      "74350 - 0642516048, 07 55 71 64 36 - \n",
      " + 49 15781424777, +( 49 )15732190888?\n",
      " 004915221040240\n",
      " 49( 0 )15771824788\n",
      " 111 2222, 111-3333\n",
      " UK: 07077080500, 07741 011 066, 07014-231- 011, 0751 011 41 92 , \n",
      " UK:(022) 1111 2222, (0100) 000 1113, (01222) 22224, (01222) 333335, (0122 22)3336, (0122 22) 33337, \n",
      " UK: 0121-111 2228, 0121 111 2229, 07111 222220, 0111 222 2221, 0500 111112, 0800 111113 , \n",
      " India: 111-2222222, 11111-33333, +91-111 222 3333\n",
      " China: (0111) 1111 2222, +86 122 3333 4444, 0086 111 2222 3333, +86 111 222 33 444\n",
      " HK: 1111 2222, 33334444\n",
      " Japan: (011) 222-3333, (0120)-22-3333, 0570-22-3333, 0800-22-3333,050-2222-3333, +61  \n",
      " Austrilia: (01)1111 2222, +61 42222 3333, +61 222 333 444, 1003 333 444\n"
     ]
    },
    {
     "data": {
      "text/plain": [
       "['07510114192']"
      ]
     },
     "execution_count": 27,
     "metadata": {},
     "output_type": "execute_result"
    }
   ],
   "source": [
    "# UK: 0751 011 41 92\n",
    "\n",
    "rule_20 = {\n",
    "      \"identifier\": \"telenum_rule_us\",\n",
    "      \"description\": \"a description\",\n",
    "      \"is_active\": \"true\",\n",
    "      \"output_format\": \"{1}{2}{3}{4}\",\n",
    "      \"pattern\": [\n",
    "            punctuation_token(token=[\"-\"],is_required=\"false\"),\n",
    "            shape_token(shape =[\"dddd\"],is_in_output=\"true\"),\n",
    "            punctuation_token(token=[\"-\"],is_required=\"false\"),\n",
    "            shape_token(shape =[\"ddd\"],is_in_output=\"true\"),\n",
    "            punctuation_token(token=[\"-\"],is_required=\"false\"),\n",
    "            shape_token(shape =[\"dd\"],is_in_output=\"true\"),\n",
    "            punctuation_token(token=[\"-\"],is_required=\"false\"),\n",
    "            shape_token(shape =[\"dd\"],is_in_output=\"true\")\n",
    "      ]\n",
    "    }\n",
    "\n",
    "field_rules = {\n",
    "  \"rules\": [\n",
    "      rule_20\n",
    "  ]\n",
    "}\n",
    "\n",
    "print \"text:\", d['text']\n",
    "results = c.extract_using_custom_spacy(d, config, field_rules=field_rules)\n",
    "tele_lst = []\n",
    "for i in results:\n",
    "    tele_lst.append(''.join((i.values()[1]).split()))\n",
    "tele_lst\n"
   ]
  },
  {
   "cell_type": "code",
   "execution_count": 28,
   "metadata": {},
   "outputs": [
    {
     "name": "stdout",
     "output_type": "stream",
     "text": [
      "text: my telephone number is (217)331-6779, (217)-331-6778,(217)-331-6777, 217-331-6776, 734.709.8965, 949 484 6951, 5017774643, 664 123 45 67,  0660852222\n",
      "Hi Gentlemen, My name is Ashley . my name Monica I am the one and, My names is Alanda\n",
      "(217)-331-6778, (044) 322 1719850,044 322 1719851, (045) 322 1719850, 045 55 49 40 83 95, 045- 55- 49 40 83 94, 045 -5549408395\n",
      "-0466119200, -488019954,+32465863497 - , 0466119200\n",
      "74350 - 0642516048, 07 55 71 64 36 - \n",
      " + 49 15781424777, +( 49 )15732190888?\n",
      " 004915221040240\n",
      " 49( 0 )15771824788\n",
      " 111 2222, 111-3333\n",
      " UK: 07077080500, 07741 011 066, 07014-231- 011, 0751 011 41 92 , \n",
      " UK:(022) 1111 2222, (0100) 000 1113, (01222) 22224, (01222) 333335, (0122 22)3336, (0122 22) 33337, \n",
      " UK: 0121-111 2228, 0121 111 2229, 07111 222220, 0111 222 2221, 0500 111112, 0800 111113 , \n",
      " India: 111-2222222, 11111-33333, +91-111 222 3333\n",
      " China: (0111) 1111 2222, +86 122 3333 4444, 0086 111 2222 3333, +86 111 222 33 444\n",
      " HK: 1111 2222, 33334444\n",
      " Japan: (011) 222-3333, (0120)-22-3333, 0570-22-3333, 0800-22-3333,050-2222-3333, +61  \n",
      " Austrilia: (01)1111 2222, +61 42222 3333, +61 222 333 444, 1003 333 444\n"
     ]
    },
    {
     "data": {
      "text/plain": [
       "['02211112222']"
      ]
     },
     "execution_count": 28,
     "metadata": {},
     "output_type": "execute_result"
    }
   ],
   "source": [
    "# (02x) AAAA AAAA, \n",
    "\n",
    "\n",
    "rule_21 = {\n",
    "      \"identifier\": \"telenum_rule_us\",\n",
    "      \"description\": \"a description\",\n",
    "      \"is_active\": \"true\",\n",
    "      \"output_format\": \"{1}{2}{3}\",\n",
    "      \"pattern\": [\n",
    "            punctuation_token(token=[\"(\"],is_required=\"false\"),\n",
    "            number_token(minimum=\"20\", maximum=\"29\",length = [3], is_in_output=\"true\"),\n",
    "            punctuation_token(token=[\")\"],is_required=\"false\"),\n",
    "            punctuation_token(token=[\"-\"],is_required=\"false\"),\n",
    "            shape_token(shape =[\"dddd\"],is_in_output=\"true\"),\n",
    "            punctuation_token(token=[\"-\"],is_required=\"false\"),\n",
    "            shape_token(shape =[\"dddd\"],is_in_output=\"true\"),\n",
    "            punctuation_token(token=[\"-\"],is_required=\"false\")\n",
    "      ]\n",
    "    }\n",
    "\n",
    "field_rules = {\n",
    "  \"rules\": [\n",
    "      rule_21\n",
    "  ]\n",
    "}\n",
    "\n",
    "print \"text:\", d['text']\n",
    "results = c.extract_using_custom_spacy(d, config, field_rules=field_rules)\n",
    "tele_lst = []\n",
    "for i in results:\n",
    "    tele_lst.append(''.join((i.values()[1]).split()))\n",
    "tele_lst\n"
   ]
  },
  {
   "cell_type": "code",
   "execution_count": 29,
   "metadata": {},
   "outputs": [
    {
     "name": "stdout",
     "output_type": "stream",
     "text": [
      "text: my telephone number is (217)331-6779, (217)-331-6778,(217)-331-6777, 217-331-6776, 734.709.8965, 949 484 6951, 5017774643, 664 123 45 67,  0660852222\n",
      "Hi Gentlemen, My name is Ashley . my name Monica I am the one and, My names is Alanda\n",
      "(217)-331-6778, (044) 322 1719850,044 322 1719851, (045) 322 1719850, 045 55 49 40 83 95, 045- 55- 49 40 83 94, 045 -5549408395\n",
      "-0466119200, -488019954,+32465863497 - , 0466119200\n",
      "74350 - 0642516048, 07 55 71 64 36 - \n",
      " + 49 15781424777, +( 49 )15732190888?\n",
      " 004915221040240\n",
      " 49( 0 )15771824788\n",
      " 111 2222, 111-3333\n",
      " UK: 07077080500, 07741 011 066, 07014-231- 011, 0751 011 41 92 , \n",
      " UK:(022) 1111 2222, (0100) 000 1113, (01222) 22224, (01222) 333335, (0122 22)3336, (0122 22) 33337, \n",
      " UK: 0121-111 2228, 0121 111 2229, 07111 222220, 0111 222 2221, 0500 111112, 0800 111113 , \n",
      " India: 111-2222222, 11111-33333, +91-111 222 3333\n",
      " China: (0111) 1111 2222, +86 122 3333 4444, 0086 111 2222 3333, +86 111 222 33 444\n",
      " HK: 1111 2222, 33334444\n",
      " Japan: (011) 222-3333, (0120)-22-3333, 0570-22-3333, 0800-22-3333,050-2222-3333, +61  \n",
      " Austrilia: (01)1111 2222, +61 42222 3333, +61 222 333 444, 1003 333 444\n"
     ]
    },
    {
     "data": {
      "text/plain": [
       "['01000001113', '01211112228', '01211112229', '01112222221']"
      ]
     },
     "execution_count": 29,
     "metadata": {},
     "output_type": "execute_result"
    }
   ],
   "source": [
    "# UK:(01xx) AAA BBBB,  \n",
    "rule_22 = {\n",
    "      \"identifier\": \"telenum_rule_us\",\n",
    "      \"description\": \"a description\",\n",
    "      \"is_active\": \"true\",\n",
    "      \"output_format\": \"{1}{2}{3}\",\n",
    "      \"pattern\": [\n",
    "            punctuation_token(token=[\"(\"],is_required=\"false\"),\n",
    "            number_token(minimum=\"100\", maximum=\"199\",length = [4], is_in_output=\"true\"),\n",
    "            punctuation_token(token=[\")\"],is_required=\"false\"),\n",
    "            punctuation_token(token=[\"-\"],is_required=\"false\"),\n",
    "            shape_token(shape =[\"ddd\"],is_in_output=\"true\"),\n",
    "            punctuation_token(token=[\"-\"],is_required=\"false\"),\n",
    "            shape_token(shape =[\"dddd\"],is_in_output=\"true\"),\n",
    "            punctuation_token(token=[\"-\"],is_required=\"false\")\n",
    "      ]\n",
    "    }\n",
    "\n",
    "field_rules = {\n",
    "  \"rules\": [\n",
    "      rule_22\n",
    "  ]\n",
    "}\n",
    "\n",
    "print \"text:\", d['text']\n",
    "results = c.extract_using_custom_spacy(d, config, field_rules=field_rules)\n",
    "tele_lst = []\n",
    "for i in results:\n",
    "    tele_lst.append(''.join((i.values()[1]).split()))\n",
    "tele_lst\n"
   ]
  },
  {
   "cell_type": "code",
   "execution_count": 30,
   "metadata": {},
   "outputs": [
    {
     "name": "stdout",
     "output_type": "stream",
     "text": [
      "text: my telephone number is (217)331-6779, (217)-331-6778,(217)-331-6777, 217-331-6776, 734.709.8965, 949 484 6951, 5017774643, 664 123 45 67,  0660852222\n",
      "Hi Gentlemen, My name is Ashley . my name Monica I am the one and, My names is Alanda\n",
      "(217)-331-6778, (044) 322 1719850,044 322 1719851, (045) 322 1719850, 045 55 49 40 83 95, 045- 55- 49 40 83 94, 045 -5549408395\n",
      "-0466119200, -488019954,+32465863497 - , 0466119200\n",
      "74350 - 0642516048, 07 55 71 64 36 - \n",
      " + 49 15781424777, +( 49 )15732190888?\n",
      " 004915221040240\n",
      " 49( 0 )15771824788\n",
      " 111 2222, 111-3333\n",
      " UK: 07077080500, 07741 011 066, 07014-231- 011, 0751 011 41 92 , \n",
      " UK:(022) 1111 2222, (0100) 000 1113, (01222) 22224, (01222) 333335, (0122 22)3336, (0122 22) 33337, \n",
      " UK: 0121-111 2228, 0121 111 2229, 07111 222220, 0111 222 2221, 0500 111112, 0800 111113 , \n",
      " India: 111-2222222, 11111-33333, +91-111 222 3333\n",
      " China: (0111) 1111 2222, +86 122 3333 4444, 0086 111 2222 3333, +86 111 222 33 444\n",
      " HK: 1111 2222, 33334444\n",
      " Japan: (011) 222-3333, (0120)-22-3333, 0570-22-3333, 0800-22-3333,050-2222-3333, +61  \n",
      " Austrilia: (01)1111 2222, +61 42222 3333, +61 222 333 444, 1003 333 444\n"
     ]
    },
    {
     "data": {
      "text/plain": [
       "['0122222224']"
      ]
     },
     "execution_count": 30,
     "metadata": {},
     "output_type": "execute_result"
    }
   ],
   "source": [
    "# UK: (01xxx) AAAAA \n",
    "rule_23 = {\n",
    "      \"identifier\": \"telenum_rule_us\",\n",
    "      \"description\": \"a description\",\n",
    "      \"is_active\": \"true\",\n",
    "      \"output_format\": \"{1}{2}\",\n",
    "      \"pattern\": [\n",
    "            punctuation_token(token=[\"(\"],is_required=\"false\"),\n",
    "            number_token(minimum=\"1000\", maximum=\"1999\",length = [5], is_in_output=\"true\"),\n",
    "            punctuation_token(token=[\")\"],is_required=\"false\"),\n",
    "            punctuation_token(token=[\"-\"],is_required=\"false\"),\n",
    "            shape_token(shape =[\"ddddd\"],is_in_output=\"true\"),\n",
    "      ]\n",
    "    }\n",
    "\n",
    "field_rules = {\n",
    "  \"rules\": [\n",
    "      rule_23\n",
    "  ]\n",
    "}\n",
    "\n",
    "print \"text:\", d['text']\n",
    "results = c.extract_using_custom_spacy(d, config, field_rules=field_rules)\n",
    "tele_lst = []\n",
    "for i in results:\n",
    "    tele_lst.append(''.join((i.values()[1]).split()))\n",
    "tele_lst\n"
   ]
  },
  {
   "cell_type": "code",
   "execution_count": 31,
   "metadata": {},
   "outputs": [
    {
     "name": "stdout",
     "output_type": "stream",
     "text": [
      "text: my telephone number is (217)331-6779, (217)-331-6778,(217)-331-6777, 217-331-6776, 734.709.8965, 949 484 6951, 5017774643, 664 123 45 67,  0660852222\n",
      "Hi Gentlemen, My name is Ashley . my name Monica I am the one and, My names is Alanda\n",
      "(217)-331-6778, (044) 322 1719850,044 322 1719851, (045) 322 1719850, 045 55 49 40 83 95, 045- 55- 49 40 83 94, 045 -5549408395\n",
      "-0466119200, -488019954,+32465863497 - , 0466119200\n",
      "74350 - 0642516048, 07 55 71 64 36 - \n",
      " + 49 15781424777, +( 49 )15732190888?\n",
      " 004915221040240\n",
      " 49( 0 )15771824788\n",
      " 111 2222, 111-3333\n",
      " UK: 07077080500, 07741 011 066, 07014-231- 011, 0751 011 41 92 , \n",
      " UK:(022) 1111 2222, (0100) 000 1113, (01222) 22224, (01222) 333335, (0122 22)3336, (0122 22) 33337, \n",
      " UK: 0121-111 2228, 0121 111 2229, 07111 222220, 0111 222 2221, 0500 111112, 0800 111113 , \n",
      " India: 111-2222222, 11111-33333, +91-111 222 3333\n",
      " China: (0111) 1111 2222, +86 122 3333 4444, 0086 111 2222 3333, +86 111 222 33 444\n",
      " HK: 1111 2222, 33334444\n",
      " Japan: (011) 222-3333, (0120)-22-3333, 0570-22-3333, 0800-22-3333,050-2222-3333, +61  \n",
      " Austrilia: (01)1111 2222, +61 42222 3333, +61 222 333 444, 1003 333 444\n"
     ]
    },
    {
     "data": {
      "text/plain": [
       "['01222333335']"
      ]
     },
     "execution_count": 31,
     "metadata": {},
     "output_type": "execute_result"
    }
   ],
   "source": [
    "# Uk: ,(01xxx) AAAAAA, \n",
    "rule_24 = {\n",
    "      \"identifier\": \"telenum_rule_us\",\n",
    "      \"description\": \"a description\",\n",
    "      \"is_active\": \"true\",\n",
    "      \"output_format\": \"{1}{2}\",\n",
    "      \"pattern\": [\n",
    "            punctuation_token(token=[\"(\"],is_required=\"false\"),\n",
    "            number_token(minimum=\"1000\", maximum=\"1999\",length = [5], is_in_output=\"true\"),\n",
    "            punctuation_token(token=[\")\"],is_required=\"false\"),\n",
    "            punctuation_token(token=[\"-\"],is_required=\"false\"),\n",
    "            shape_token(shape =[\"dddddd\"],is_in_output=\"true\"),\n",
    "      ]\n",
    "    }\n",
    "\n",
    "field_rules = {\n",
    "  \"rules\": [\n",
    "      rule_24\n",
    "  ]\n",
    "}\n",
    "\n",
    "print \"text:\", d['text']\n",
    "results = c.extract_using_custom_spacy(d, config, field_rules=field_rules)\n",
    "tele_lst = []\n",
    "for i in results:\n",
    "    tele_lst.append(''.join((i.values()[1]).split()))\n",
    "tele_lst\n",
    "\n"
   ]
  },
  {
   "cell_type": "code",
   "execution_count": 32,
   "metadata": {},
   "outputs": [
    {
     "name": "stdout",
     "output_type": "stream",
     "text": [
      "text: my telephone number is (217)331-6779, (217)-331-6778,(217)-331-6777, 217-331-6776, 734.709.8965, 949 484 6951, 5017774643, 664 123 45 67,  0660852222\n",
      "Hi Gentlemen, My name is Ashley . my name Monica I am the one and, My names is Alanda\n",
      "(217)-331-6778, (044) 322 1719850,044 322 1719851, (045) 322 1719850, 045 55 49 40 83 95, 045- 55- 49 40 83 94, 045 -5549408395\n",
      "-0466119200, -488019954,+32465863497 - , 0466119200\n",
      "74350 - 0642516048, 07 55 71 64 36 - \n",
      " + 49 15781424777, +( 49 )15732190888?\n",
      " 004915221040240\n",
      " 49( 0 )15771824788\n",
      " 111 2222, 111-3333\n",
      " UK: 07077080500, 07741 011 066, 07014-231- 011, 0751 011 41 92 , \n",
      " UK:(022) 1111 2222, (0100) 000 1113, (01222) 22224, (01222) 333335, (0122 22)3336, (0122 22) 33337, \n",
      " UK: 0121-111 2228, 0121 111 2229, 07111 222220, 0111 222 2221, 0500 111112, 0800 111113 , \n",
      " India: 111-2222222, 11111-33333, +91-111 222 3333\n",
      " China: (0111) 1111 2222, +86 122 3333 4444, 0086 111 2222 3333, +86 111 222 33 444\n",
      " HK: 1111 2222, 33334444\n",
      " Japan: (011) 222-3333, (0120)-22-3333, 0570-22-3333, 0800-22-3333,050-2222-3333, +61  \n",
      " Austrilia: (01)1111 2222, +61 42222 3333, +61 222 333 444, 1003 333 444\n"
     ]
    },
    {
     "data": {
      "text/plain": [
       "['0122223336']"
      ]
     },
     "execution_count": 32,
     "metadata": {},
     "output_type": "execute_result"
    }
   ],
   "source": [
    "# Uk: (01xx xx) AAAA , \n",
    "rule_25 = {\n",
    "      \"identifier\": \"telenum_rule_us\",\n",
    "      \"description\": \"a description\",\n",
    "      \"is_active\": \"true\",\n",
    "      \"output_format\": \"{1}{2}{3}\",\n",
    "      \"pattern\": [\n",
    "            punctuation_token(token=[\"(\"],is_required=\"false\"),\n",
    "            number_token(minimum=\"100\", maximum=\"199\",length = [4], is_in_output=\"true\"),\n",
    "            shape_token(shape =[\"dd\"],is_in_output=\"true\"),\n",
    "            punctuation_token(token=[\")\"],is_required=\"false\"),\n",
    "            punctuation_token(token=[\"-\"],is_required=\"false\"),\n",
    "            shape_token(shape =[\"dddd\"],is_in_output=\"true\")\n",
    "      ]\n",
    "    }\n",
    "\n",
    "field_rules = {\n",
    "  \"rules\": [\n",
    "      rule_25\n",
    "  ]\n",
    "}\n",
    "\n",
    "print \"text:\", d['text']\n",
    "results = c.extract_using_custom_spacy(d, config, field_rules=field_rules)\n",
    "tele_lst = []\n",
    "for i in results:\n",
    "    tele_lst.append(''.join((i.values()[1]).split()))\n",
    "tele_lst\n",
    "\n"
   ]
  },
  {
   "cell_type": "code",
   "execution_count": 33,
   "metadata": {},
   "outputs": [
    {
     "name": "stdout",
     "output_type": "stream",
     "text": [
      "text: my telephone number is (217)331-6779, (217)-331-6778,(217)-331-6777, 217-331-6776, 734.709.8965, 949 484 6951, 5017774643, 664 123 45 67,  0660852222\n",
      "Hi Gentlemen, My name is Ashley . my name Monica I am the one and, My names is Alanda\n",
      "(217)-331-6778, (044) 322 1719850,044 322 1719851, (045) 322 1719850, 045 55 49 40 83 95, 045- 55- 49 40 83 94, 045 -5549408395\n",
      "-0466119200, -488019954,+32465863497 - , 0466119200\n",
      "74350 - 0642516048, 07 55 71 64 36 - \n",
      " + 49 15781424777, +( 49 )15732190888?\n",
      " 004915221040240\n",
      " 49( 0 )15771824788\n",
      " 111 2222, 111-3333\n",
      " UK: 07077080500, 07741 011 066, 07014-231- 011, 0751 011 41 92 , \n",
      " UK:(022) 1111 2222, (0100) 000 1113, (01222) 22224, (01222) 333335, (0122 22)3336, (0122 22) 33337, \n",
      " UK: 0121-111 2228, 0121 111 2229, 07111 222220, 0111 222 2221, 0500 111112, 0800 111113 , \n",
      " India: 111-2222222, 11111-33333, +91-111 222 3333\n",
      " China: (0111) 1111 2222, +86 122 3333 4444, 0086 111 2222 3333, +86 111 222 33 444\n",
      " HK: 1111 2222, 33334444\n",
      " Japan: (011) 222-3333, (0120)-22-3333, 0570-22-3333, 0800-22-3333,050-2222-3333, +61  \n",
      " Austrilia: (01)1111 2222, +61 42222 3333, +61 222 333 444, 1003 333 444\n"
     ]
    },
    {
     "data": {
      "text/plain": [
       "['01222233337']"
      ]
     },
     "execution_count": 33,
     "metadata": {},
     "output_type": "execute_result"
    }
   ],
   "source": [
    "# UK: (01xx xx) AAAAA, \n",
    "rule_26 = {\n",
    "      \"identifier\": \"telenum_rule_us\",\n",
    "      \"description\": \"a description\",\n",
    "      \"is_active\": \"true\",\n",
    "      \"output_format\": \"{1}{2}{3}\",\n",
    "      \"pattern\": [\n",
    "            punctuation_token(token=[\"(\"],is_required=\"false\"),\n",
    "            number_token(minimum=\"100\", maximum=\"199\",length = [4], is_in_output=\"true\"),\n",
    "            shape_token(shape =[\"dd\"],is_in_output=\"true\"),\n",
    "            punctuation_token(token=[\")\"],is_required=\"false\"),\n",
    "            punctuation_token(token=[\"-\"],is_required=\"false\"),\n",
    "            shape_token(shape =[\"ddddd\"],is_in_output=\"true\")\n",
    "      ]\n",
    "    }\n",
    "\n",
    "field_rules = {\n",
    "  \"rules\": [\n",
    "      rule_26\n",
    "  ]\n",
    "}\n",
    "\n",
    "print \"text:\", d['text']\n",
    "results = c.extract_using_custom_spacy(d, config, field_rules=field_rules)\n",
    "tele_lst = []\n",
    "for i in results:\n",
    "    tele_lst.append(''.join((i.values()[1]).split()))\n",
    "tele_lst\n",
    "\n"
   ]
  },
  {
   "cell_type": "code",
   "execution_count": 34,
   "metadata": {},
   "outputs": [
    {
     "name": "stdout",
     "output_type": "stream",
     "text": [
      "text: my telephone number is (217)331-6779, (217)-331-6778,(217)-331-6777, 217-331-6776, 734.709.8965, 949 484 6951, 5017774643, 664 123 45 67,  0660852222\n",
      "Hi Gentlemen, My name is Ashley . my name Monica I am the one and, My names is Alanda\n",
      "(217)-331-6778, (044) 322 1719850,044 322 1719851, (045) 322 1719850, 045 55 49 40 83 95, 045- 55- 49 40 83 94, 045 -5549408395\n",
      "-0466119200, -488019954,+32465863497 - , 0466119200\n",
      "74350 - 0642516048, 07 55 71 64 36 - \n",
      " + 49 15781424777, +( 49 )15732190888?\n",
      " 004915221040240\n",
      " 49( 0 )15771824788\n",
      " 111 2222, 111-3333\n",
      " UK: 07077080500, 07741 011 066, 07014-231- 011, 0751 011 41 92 , \n",
      " UK:(022) 1111 2222, (0100) 000 1113, (01222) 22224, (01222) 333335, (0122 22)3336, (0122 22) 33337, \n",
      " UK: 0121-111 2228, 0121 111 2229, 07111 222220, 0111 222 2221, 0500 111112, 0800 111113 , \n",
      " India: 111-2222222, 11111-33333, +91-111 222 3333\n",
      " China: (0111) 1111 2222, +86 122 3333 4444, 0086 111 2222 3333, +86 111 222 33 444\n",
      " HK: 1111 2222, 33334444\n",
      " Japan: (011) 222-3333, (0120)-22-3333, 0570-22-3333, 0800-22-3333,050-2222-3333, +61  \n",
      " Austrilia: (01)1111 2222, +61 42222 3333, +61 222 333 444, 1003 333 444\n"
     ]
    },
    {
     "data": {
      "text/plain": [
       "[]"
      ]
     },
     "execution_count": 34,
     "metadata": {},
     "output_type": "execute_result"
    }
   ],
   "source": [
    "# UK: 01x1-AAA BBBB, \n",
    "\n",
    "rule_27 = {\n",
    "      \"identifier\": \"telenum_rule_us\",\n",
    "      \"description\": \"a description\",\n",
    "      \"is_active\": \"true\",\n",
    "      \"output_format\": \"{1}{2}{3}\",\n",
    "      \"pattern\": [\n",
    "            punctuation_token(token=[\"(\"],is_required=\"false\"),\n",
    "            word_token(token=[\"0101\",\"0111\",\"0121\",\"0131\",\"0141\",\"0151\",\"0161\",\"0171\",\"0181\",\"0191\"],is_in_output=\"true\"),\n",
    "            punctuation_token(token=[\")\"],is_required=\"false\"),\n",
    "            punctuation_token(token=[\"-\"],is_required=\"false\"),\n",
    "            shape_token(shape =[\"ddd\"],is_in_output=\"true\"),\n",
    "            punctuation_token(token=[\"-\"],is_required=\"false\"),\n",
    "            shape_token(shape =[\"dddd\"],is_in_output=\"true\")\n",
    "\n",
    "      ]\n",
    "    }\n",
    "\n",
    "field_rules = {\n",
    "  \"rules\": [\n",
    "      rule_27\n",
    "  ]\n",
    "}\n",
    "\n",
    "print \"text:\", d['text']\n",
    "results = c.extract_using_custom_spacy(d, config, field_rules=field_rules)\n",
    "tele_lst = []\n",
    "for i in results:\n",
    "    tele_lst.append(''.join((i.values()[1]).split()))\n",
    "tele_lst\n",
    "\n"
   ]
  },
  {
   "cell_type": "code",
   "execution_count": 35,
   "metadata": {},
   "outputs": [
    {
     "name": "stdout",
     "output_type": "stream",
     "text": [
      "text: my telephone number is (217)331-6779, (217)-331-6778,(217)-331-6777, 217-331-6776, 734.709.8965, 949 484 6951, 5017774643, 664 123 45 67,  0660852222\n",
      "Hi Gentlemen, My name is Ashley . my name Monica I am the one and, My names is Alanda\n",
      "(217)-331-6778, (044) 322 1719850,044 322 1719851, (045) 322 1719850, 045 55 49 40 83 95, 045- 55- 49 40 83 94, 045 -5549408395\n",
      "-0466119200, -488019954,+32465863497 - , 0466119200\n",
      "74350 - 0642516048, 07 55 71 64 36 - \n",
      " + 49 15781424777, +( 49 )15732190888?\n",
      " 004915221040240\n",
      " 49( 0 )15771824788\n",
      " 111 2222, 111-3333\n",
      " UK: 07077080500, 07741 011 066, 07014-231- 011, 0751 011 41 92 , \n",
      " UK:(022) 1111 2222, (0100) 000 1113, (01222) 22224, (01222) 333335, (0122 22)3336, (0122 22) 33337, \n",
      " UK: 0121-111 2228, 0121 111 2229, 07111 222220, 0111 222 2221, 0500 111112, 0800 111113 , \n",
      " India: 111-2222222, 11111-33333, +91-111 222 3333\n",
      " China: (0111) 1111 2222, +86 122 3333 4444, 0086 111 2222 3333, +86 111 222 33 444\n",
      " HK: 1111 2222, 33334444\n",
      " Japan: (011) 222-3333, (0120)-22-3333, 0570-22-3333, 0800-22-3333,050-2222-3333, +61  \n",
      " Austrilia: (01)1111 2222, +61 42222 3333, +61 222 333 444, 1003 333 444\n"
     ]
    },
    {
     "data": {
      "text/plain": [
       "['07111222220']"
      ]
     },
     "execution_count": 35,
     "metadata": {},
     "output_type": "execute_result"
    }
   ],
   "source": [
    "#UK:  07AAA BBBBBB ,  \n",
    "\n",
    "rule_28 = {\n",
    "      \"identifier\": \"telenum_rule_us\",\n",
    "      \"description\": \"a description\",\n",
    "      \"is_active\": \"true\",\n",
    "      \"output_format\": \"{1}{2}\",\n",
    "      \"pattern\": [\n",
    "            punctuation_token(token=[\"(\"],is_required=\"false\"),\n",
    "            number_token(minimum=\"7000\", maximum=\"7999\",length = [5], is_in_output=\"true\"),       \n",
    "            punctuation_token(token=[\")\"],is_required=\"false\"),\n",
    "            punctuation_token(token=[\"-\"],is_required=\"false\"),\n",
    "            shape_token(shape =[\"dddddd\"],is_in_output=\"true\"),\n",
    "            punctuation_token(token=[\"-\"],is_required=\"false\")\n",
    "      ]\n",
    "    }\n",
    "\n",
    "field_rules = {\n",
    "  \"rules\": [\n",
    "      rule_28\n",
    "  ]\n",
    "}\n",
    "\n",
    "print \"text:\", d['text']\n",
    "results = c.extract_using_custom_spacy(d, config, field_rules=field_rules)\n",
    "tele_lst = []\n",
    "for i in results:\n",
    "    tele_lst.append(''.join((i.values()[1]).split()))\n",
    "tele_lst"
   ]
  },
  {
   "cell_type": "code",
   "execution_count": 36,
   "metadata": {},
   "outputs": [
    {
     "name": "stdout",
     "output_type": "stream",
     "text": [
      "text: my telephone number is (217)331-6779, (217)-331-6778,(217)-331-6777, 217-331-6776, 734.709.8965, 949 484 6951, 5017774643, 664 123 45 67,  0660852222\n",
      "Hi Gentlemen, My name is Ashley . my name Monica I am the one and, My names is Alanda\n",
      "(217)-331-6778, (044) 322 1719850,044 322 1719851, (045) 322 1719850, 045 55 49 40 83 95, 045- 55- 49 40 83 94, 045 -5549408395\n",
      "-0466119200, -488019954,+32465863497 - , 0466119200\n",
      "74350 - 0642516048, 07 55 71 64 36 - \n",
      " + 49 15781424777, +( 49 )15732190888?\n",
      " 004915221040240\n",
      " 49( 0 )15771824788\n",
      " 111 2222, 111-3333\n",
      " UK: 07077080500, 07741 011 066, 07014-231- 011, 0751 011 41 92 , \n",
      " UK:(022) 1111 2222, (0100) 000 1113, (01222) 22224, (01222) 333335, (0122 22)3336, (0122 22) 33337, \n",
      " UK: 0121-111 2228, 0121 111 2229, 07111 222220, 0111 222 2221, 0500 111112, 0800 111113 , \n",
      " India: 111-2222222, 11111-33333, +91-111 222 3333\n",
      " China: (0111) 1111 2222, +86 122 3333 4444, 0086 111 2222 3333, +86 111 222 33 444\n",
      " HK: 1111 2222, 33334444\n",
      " Japan: (011) 222-3333, (0120)-22-3333, 0570-22-3333, 0800-22-3333,050-2222-3333, +61  \n",
      " Austrilia: (01)1111 2222, +61 42222 3333, +61 222 333 444, 1003 333 444\n"
     ]
    },
    {
     "data": {
      "text/plain": [
       "['01000001113', '01211112228', '01211112229', '01112222221', '00861112222']"
      ]
     },
     "execution_count": 36,
     "metadata": {},
     "output_type": "execute_result"
    }
   ],
   "source": [
    "#UK: 0AAA BBB BBBB, \n",
    "\n",
    "rule_29 = {\n",
    "      \"identifier\": \"telenum_rule_us\",\n",
    "      \"description\": \"a description\",\n",
    "      \"is_active\": \"true\",\n",
    "      \"output_format\": \"{1}{2}{3}\",\n",
    "      \"pattern\": [\n",
    "            punctuation_token(token=[\"(\"],is_required=\"false\"),\n",
    "            number_token(minimum=\"0\", maximum=\"999\",length = [4], is_in_output=\"true\"),       \n",
    "            punctuation_token(token=[\")\"],is_required=\"false\"),\n",
    "            punctuation_token(token=[\"-\"],is_required=\"false\"),\n",
    "            shape_token(shape =[\"ddd\"],is_in_output=\"true\"),\n",
    "            punctuation_token(token=[\"-\"],is_required=\"false\"),\n",
    "            shape_token(shape =[\"dddd\"],is_in_output=\"true\")\n",
    "      ]\n",
    "    }\n",
    "\n",
    "field_rules = {\n",
    "  \"rules\": [\n",
    "      rule_29\n",
    "  ]\n",
    "}\n",
    "\n",
    "print \"text:\", d['text']\n",
    "results = c.extract_using_custom_spacy(d, config, field_rules=field_rules)\n",
    "tele_lst = []\n",
    "for i in results:\n",
    "    tele_lst.append(''.join((i.values()[1]).split()))\n",
    "tele_lst"
   ]
  },
  {
   "cell_type": "code",
   "execution_count": 37,
   "metadata": {},
   "outputs": [
    {
     "name": "stdout",
     "output_type": "stream",
     "text": [
      "text: my telephone number is (217)331-6779, (217)-331-6778,(217)-331-6777, 217-331-6776, 734.709.8965, 949 484 6951, 5017774643, 664 123 45 67,  0660852222\n",
      "Hi Gentlemen, My name is Ashley . my name Monica I am the one and, My names is Alanda\n",
      "(217)-331-6778, (044) 322 1719850,044 322 1719851, (045) 322 1719850, 045 55 49 40 83 95, 045- 55- 49 40 83 94, 045 -5549408395\n",
      "-0466119200, -488019954,+32465863497 - , 0466119200\n",
      "74350 - 0642516048, 07 55 71 64 36 - \n",
      " + 49 15781424777, +( 49 )15732190888?\n",
      " 004915221040240\n",
      " 49( 0 )15771824788\n",
      " 111 2222, 111-3333\n",
      " UK: 07077080500, 07741 011 066, 07014-231- 011, 0751 011 41 92 , \n",
      " UK:(022) 1111 2222, (0100) 000 1113, (01222) 22224, (01222) 333335, (0122 22)3336, (0122 22) 33337, \n",
      " UK: 0121-111 2228, 0121 111 2229, 07111 222220, 0111 222 2221, 0500 111112, 0800 111113 , \n",
      " India: 111-2222222, 11111-33333, +91-111 222 3333\n",
      " China: (0111) 1111 2222, +86 122 3333 4444, 0086 111 2222 3333, +86 111 222 33 444\n",
      " HK: 1111 2222, 33334444\n",
      " Japan: (011) 222-3333, (0120)-22-3333, 0570-22-3333, 0800-22-3333,050-2222-3333, +61  \n",
      " Austrilia: (01)1111 2222, +61 42222 3333, +61 222 333 444, 1003 333 444\n"
     ]
    },
    {
     "data": {
      "text/plain": [
       "['0500111112']"
      ]
     },
     "execution_count": 37,
     "metadata": {},
     "output_type": "execute_result"
    }
   ],
   "source": [
    "# UK: 0500 AAAAAA, \n",
    "\n",
    "rule_30 = {\n",
    "      \"identifier\": \"telenum_rule_us\",\n",
    "      \"description\": \"a description\",\n",
    "      \"is_active\": \"true\",\n",
    "      \"output_format\": \"{1}{2}\",\n",
    "      \"pattern\": [\n",
    "            punctuation_token(token=[\"(\"],is_required=\"false\"),\n",
    "            number_token(minimum=\"500\", maximum=\"599\",length = [4], is_in_output=\"true\"),       \n",
    "            punctuation_token(token=[\")\"],is_required=\"false\"),\n",
    "            punctuation_token(token=[\"-\"],is_required=\"false\"),\n",
    "            shape_token(shape =[\"dddddd\"],is_in_output=\"true\"),\n",
    "            punctuation_token(token=[\"-\"],is_required=\"false\")\n",
    "      ]\n",
    "    }\n",
    "\n",
    "field_rules = {\n",
    "  \"rules\": [\n",
    "      rule_30\n",
    "  ]\n",
    "}\n",
    "\n",
    "print \"text:\", d['text']\n",
    "results = c.extract_using_custom_spacy(d, config, field_rules=field_rules)\n",
    "tele_lst = []\n",
    "for i in results:\n",
    "    tele_lst.append(''.join((i.values()[1]).split()))\n",
    "tele_lst"
   ]
  },
  {
   "cell_type": "code",
   "execution_count": 38,
   "metadata": {},
   "outputs": [
    {
     "name": "stdout",
     "output_type": "stream",
     "text": [
      "text: my telephone number is (217)331-6779, (217)-331-6778,(217)-331-6777, 217-331-6776, 734.709.8965, 949 484 6951, 5017774643, 664 123 45 67,  0660852222\n",
      "Hi Gentlemen, My name is Ashley . my name Monica I am the one and, My names is Alanda\n",
      "(217)-331-6778, (044) 322 1719850,044 322 1719851, (045) 322 1719850, 045 55 49 40 83 95, 045- 55- 49 40 83 94, 045 -5549408395\n",
      "-0466119200, -488019954,+32465863497 - , 0466119200\n",
      "74350 - 0642516048, 07 55 71 64 36 - \n",
      " + 49 15781424777, +( 49 )15732190888?\n",
      " 004915221040240\n",
      " 49( 0 )15771824788\n",
      " 111 2222, 111-3333\n",
      " UK: 07077080500, 07741 011 066, 07014-231- 011, 0751 011 41 92 , \n",
      " UK:(022) 1111 2222, (0100) 000 1113, (01222) 22224, (01222) 333335, (0122 22)3336, (0122 22) 33337, \n",
      " UK: 0121-111 2228, 0121 111 2229, 07111 222220, 0111 222 2221, 0500 111112, 0800 111113 , \n",
      " India: 111-2222222, 11111-33333, +91-111 222 3333\n",
      " China: (0111) 1111 2222, +86 122 3333 4444, 0086 111 2222 3333, +86 111 222 33 444\n",
      " HK: 1111 2222, 33334444\n",
      " Japan: (011) 222-3333, (0120)-22-3333, 0570-22-3333, 0800-22-3333,050-2222-3333, +61  \n",
      " Austrilia: (01)1111 2222, +61 42222 3333, +61 222 333 444, 1003 333 444\n"
     ]
    },
    {
     "data": {
      "text/plain": [
       "['0800111113']"
      ]
     },
     "execution_count": 38,
     "metadata": {},
     "output_type": "execute_result"
    }
   ],
   "source": [
    "#UK: 0800 AAAAAA , \n",
    "\n",
    "rule_31 = {\n",
    "      \"identifier\": \"telenum_rule_us\",\n",
    "      \"description\": \"a description\",\n",
    "      \"is_active\": \"true\",\n",
    "      \"output_format\": \"{1}{2}\",\n",
    "      \"pattern\": [\n",
    "            punctuation_token(token=[\"(\"],is_required=\"false\"),\n",
    "            number_token(minimum=\"800\", maximum=\"899\",length = [4], is_in_output=\"true\"),       \n",
    "            punctuation_token(token=[\")\"],is_required=\"false\"),\n",
    "            punctuation_token(token=[\"-\"],is_required=\"false\"),\n",
    "            shape_token(shape =[\"dddddd\"],is_in_output=\"true\"),\n",
    "            punctuation_token(token=[\"-\"],is_required=\"false\")\n",
    "      ]\n",
    "    }\n",
    "\n",
    "field_rules = {\n",
    "  \"rules\": [\n",
    "      rule_31\n",
    "  ]\n",
    "}\n",
    "\n",
    "print \"text:\", d['text']\n",
    "results = c.extract_using_custom_spacy(d, config, field_rules=field_rules)\n",
    "tele_lst = []\n",
    "for i in results:\n",
    "    tele_lst.append(''.join((i.values()[1]).split()))\n",
    "tele_lst"
   ]
  },
  {
   "cell_type": "code",
   "execution_count": 39,
   "metadata": {},
   "outputs": [
    {
     "name": "stdout",
     "output_type": "stream",
     "text": [
      "text: my telephone number is (217)331-6779, (217)-331-6778,(217)-331-6777, 217-331-6776, 734.709.8965, 949 484 6951, 5017774643, 664 123 45 67,  0660852222\n",
      "Hi Gentlemen, My name is Ashley . my name Monica I am the one and, My names is Alanda\n",
      "(217)-331-6778, (044) 322 1719850,044 322 1719851, (045) 322 1719850, 045 55 49 40 83 95, 045- 55- 49 40 83 94, 045 -5549408395\n",
      "-0466119200, -488019954,+32465863497 - , 0466119200\n",
      "74350 - 0642516048, 07 55 71 64 36 - \n",
      " + 49 15781424777, +( 49 )15732190888?\n",
      " 004915221040240\n",
      " 49( 0 )15771824788\n",
      " 111 2222, 111-3333\n",
      " UK: 07077080500, 07741 011 066, 07014-231- 011, 0751 011 41 92 , \n",
      " UK:(022) 1111 2222, (0100) 000 1113, (01222) 22224, (01222) 333335, (0122 22)3336, (0122 22) 33337, \n",
      " UK: 0121-111 2228, 0121 111 2229, 07111 222220, 0111 222 2221, 0500 111112, 0800 111113 , \n",
      " India: 111-2222222, 11111-33333, +91-111 222 3333\n",
      " China: (0111) 1111 2222, +86 122 3333 4444, 0086 111 2222 3333, +86 111 222 33 444\n",
      " HK: 1111 2222, 33334444\n",
      " Japan: (011) 222-3333, (0120)-22-3333, 0570-22-3333, 0800-22-3333,050-2222-3333, +61  \n",
      " Austrilia: (01)1111 2222, +61 42222 3333, +61 222 333 444, 1003 333 444\n"
     ]
    },
    {
     "data": {
      "text/plain": [
       "['3221719850', '3221719851', '3221719850', '1112222222']"
      ]
     },
     "execution_count": 39,
     "metadata": {},
     "output_type": "execute_result"
    }
   ],
   "source": [
    "# Inida: AAA-BBBBBBB,\n",
    "\n",
    "rule_32 = {\n",
    "      \"identifier\": \"telenum_rule_us\",\n",
    "      \"description\": \"a description\",\n",
    "      \"is_active\": \"true\",\n",
    "      \"output_format\": \"{1}{2}\",\n",
    "      \"pattern\": [\n",
    "            punctuation_token(token=[\"(\"],is_required=\"false\"),\n",
    "            shape_token(shape =[\"ddd\"],is_in_output=\"true\"),\n",
    "            punctuation_token(token=[\")\"],is_required=\"false\"),\n",
    "            punctuation_token(token=[\"-\"],is_required=\"false\"),\n",
    "            shape_token(shape =[\"ddddddd\"],is_in_output=\"true\"),\n",
    "            punctuation_token(token=[\"-\"],is_required=\"false\")\n",
    "      ]\n",
    "    }\n",
    "\n",
    "field_rules = {\n",
    "  \"rules\": [\n",
    "      rule_32\n",
    "  ]\n",
    "}\n",
    "\n",
    "print \"text:\", d['text']\n",
    "results = c.extract_using_custom_spacy(d, config, field_rules=field_rules)\n",
    "tele_lst = []\n",
    "for i in results:\n",
    "    tele_lst.append(''.join((i.values()[1]).split()))\n",
    "tele_lst"
   ]
  },
  {
   "cell_type": "code",
   "execution_count": 40,
   "metadata": {},
   "outputs": [
    {
     "name": "stdout",
     "output_type": "stream",
     "text": [
      "text: my telephone number is (217)331-6779, (217)-331-6778,(217)-331-6777, 217-331-6776, 734.709.8965, 949 484 6951, 5017774643, 664 123 45 67,  0660852222\n",
      "Hi Gentlemen, My name is Ashley . my name Monica I am the one and, My names is Alanda\n",
      "(217)-331-6778, (044) 322 1719850,044 322 1719851, (045) 322 1719850, 045 55 49 40 83 95, 045- 55- 49 40 83 94, 045 -5549408395\n",
      "-0466119200, -488019954,+32465863497 - , 0466119200\n",
      "74350 - 0642516048, 07 55 71 64 36 - \n",
      " + 49 15781424777, +( 49 )15732190888?\n",
      " 004915221040240\n",
      " 49( 0 )15771824788\n",
      " 111 2222, 111-3333\n",
      " UK: 07077080500, 07741 011 066, 07014-231- 011, 0751 011 41 92 , \n",
      " UK:(022) 1111 2222, (0100) 000 1113, (01222) 22224, (01222) 333335, (0122 22)3336, (0122 22) 33337, \n",
      " UK: 0121-111 2228, 0121 111 2229, 07111 222220, 0111 222 2221, 0500 111112, 0800 111113 , \n",
      " India: 111-2222222, 11111-33333, +91-111 222 3333\n",
      " China: (0111) 1111 2222, +86 122 3333 4444, 0086 111 2222 3333, +86 111 222 33 444\n",
      " HK: 1111 2222, 33334444\n",
      " Japan: (011) 222-3333, (0120)-22-3333, 0570-22-3333, 0800-22-3333,050-2222-3333, +61  \n",
      " Austrilia: (01)1111 2222, +61 42222 3333, +61 222 333 444, 1003 333 444\n"
     ]
    },
    {
     "data": {
      "text/plain": [
       "['0122222224', '1111133333']"
      ]
     },
     "execution_count": 40,
     "metadata": {},
     "output_type": "execute_result"
    }
   ],
   "source": [
    "# Inida: AAAAA-BBBBB, \n",
    "rule_33 = {\n",
    "      \"identifier\": \"telenum_rule_us\",\n",
    "      \"description\": \"a description\",\n",
    "      \"is_active\": \"true\",\n",
    "      \"output_format\": \"{1}{2}\",\n",
    "      \"pattern\": [\n",
    "            punctuation_token(token=[\"(\"],is_required=\"false\"),\n",
    "            shape_token(shape =[\"ddddd\"],is_in_output=\"true\"),\n",
    "            punctuation_token(token=[\")\"],is_required=\"false\"),\n",
    "            punctuation_token(token=[\"-\"],is_required=\"false\"),\n",
    "            shape_token(shape =[\"ddddd\"],is_in_output=\"true\"),\n",
    "            punctuation_token(token=[\"-\"],is_required=\"false\")\n",
    "      ]\n",
    "    }\n",
    "\n",
    "field_rules = {\n",
    "  \"rules\": [\n",
    "      rule_33\n",
    "  ]\n",
    "}\n",
    "\n",
    "print \"text:\", d['text']\n",
    "results = c.extract_using_custom_spacy(d, config, field_rules=field_rules)\n",
    "tele_lst = []\n",
    "for i in results:\n",
    "    tele_lst.append(''.join((i.values()[1]).split()))\n",
    "tele_lst"
   ]
  },
  {
   "cell_type": "code",
   "execution_count": 41,
   "metadata": {},
   "outputs": [
    {
     "name": "stdout",
     "output_type": "stream",
     "text": [
      "text: my telephone number is (217)331-6779, (217)-331-6778,(217)-331-6777, 217-331-6776, 734.709.8965, 949 484 6951, 5017774643, 664 123 45 67,  0660852222\n",
      "Hi Gentlemen, My name is Ashley . my name Monica I am the one and, My names is Alanda\n",
      "(217)-331-6778, (044) 322 1719850,044 322 1719851, (045) 322 1719850, 045 55 49 40 83 95, 045- 55- 49 40 83 94, 045 -5549408395\n",
      "-0466119200, -488019954,+32465863497 - , 0466119200\n",
      "74350 - 0642516048, 07 55 71 64 36 - \n",
      " + 49 15781424777, +( 49 )15732190888?\n",
      " 004915221040240\n",
      " 49( 0 )15771824788\n",
      " 111 2222, 111-3333\n",
      " UK: 07077080500, 07741 011 066, 07014-231- 011, 0751 011 41 92 , \n",
      " UK:(022) 1111 2222, (0100) 000 1113, (01222) 22224, (01222) 333335, (0122 22)3336, (0122 22) 33337, \n",
      " UK: 0121-111 2228, 0121 111 2229, 07111 222220, 0111 222 2221, 0500 111112, 0800 111113 , \n",
      " India: 111-2222222, 11111-33333, +91-111 222 3333\n",
      " China: (0111) 1111 2222, +86 122 3333 4444, 0086 111 2222 3333, +86 111 222 33 444\n",
      " HK: 1111 2222, 33334444\n",
      " Japan: (011) 222-3333, (0120)-22-3333, 0570-22-3333, 0800-22-3333,050-2222-3333, +61  \n",
      " Austrilia: (01)1111 2222, +61 42222 3333, +61 222 333 444, 1003 333 444\n"
     ]
    },
    {
     "data": {
      "text/plain": [
       "['1112223333']"
      ]
     },
     "execution_count": 41,
     "metadata": {},
     "output_type": "execute_result"
    }
   ],
   "source": [
    "#Inida: +91-XXX YYY ZZZZ, \n",
    "rule_34 = {\n",
    "      \"identifier\": \"telenum_rule_us\",\n",
    "      \"description\": \"a description\",\n",
    "      \"is_active\": \"true\",\n",
    "      \"output_format\": \"{1}{2}{3}\",\n",
    "      \"pattern\": [\n",
    "            punctuation_token(token=[\"(\"],is_required=\"false\"),\n",
    "            punctuation_token(token=[\"+\"],is_required=\"false\"),\n",
    "            number_token(number=[91], is_in_output=\"false\"),  \n",
    "            punctuation_token(token=[\")\"],is_required=\"false\"),\n",
    "            punctuation_token(token=[\"-\"],is_required=\"false\"),\n",
    "            shape_token(shape =[\"ddd\"],is_in_output=\"true\"),\n",
    "            punctuation_token(token=[\"-\"],is_required=\"false\"),\n",
    "            shape_token(shape =[\"ddd\"],is_in_output=\"true\"),\n",
    "            punctuation_token(token=[\"-\"],is_required=\"false\"),\n",
    "            shape_token(shape =[\"dddd\"],is_in_output=\"true\")\n",
    "      ]\n",
    "    }\n",
    "\n",
    "field_rules = {\n",
    "  \"rules\": [\n",
    "      rule_34\n",
    "  ]\n",
    "}\n",
    "\n",
    "print \"text:\", d['text']\n",
    "results = c.extract_using_custom_spacy(d, config, field_rules=field_rules)\n",
    "tele_lst = []\n",
    "for i in results:\n",
    "    tele_lst.append(''.join((i.values()[1]).split()))\n",
    "tele_lst"
   ]
  },
  {
   "cell_type": "code",
   "execution_count": 42,
   "metadata": {},
   "outputs": [
    {
     "name": "stdout",
     "output_type": "stream",
     "text": [
      "text: my telephone number is (217)331-6779, (217)-331-6778,(217)-331-6777, 217-331-6776, 734.709.8965, 949 484 6951, 5017774643, 664 123 45 67,  0660852222\n",
      "Hi Gentlemen, My name is Ashley . my name Monica I am the one and, My names is Alanda\n",
      "(217)-331-6778, (044) 322 1719850,044 322 1719851, (045) 322 1719850, 045 55 49 40 83 95, 045- 55- 49 40 83 94, 045 -5549408395\n",
      "-0466119200, -488019954,+32465863497 - , 0466119200\n",
      "74350 - 0642516048, 07 55 71 64 36 - \n",
      " + 49 15781424777, +( 49 )15732190888?\n",
      " 004915221040240\n",
      " 49( 0 )15771824788\n",
      " 111 2222, 111-3333\n",
      " UK: 07077080500, 07741 011 066, 07014-231- 011, 0751 011 41 92 , \n",
      " UK:(022) 1111 2222, (0100) 000 1113, (01222) 22224, (01222) 333335, (0122 22)3336, (0122 22) 33337, \n",
      " UK: 0121-111 2228, 0121 111 2229, 07111 222220, 0111 222 2221, 0500 111112, 0800 111113 , \n",
      " India: 111-2222222, 11111-33333, +91-111 222 3333\n",
      " China: (0111) 1111 2222, +86 122 3333 4444, 0086 111 2222 3333, +86 111 222 33 444\n",
      " HK: 1111 2222, 33334444\n",
      " Japan: (011) 222-3333, (0120)-22-3333, 0570-22-3333, 0800-22-3333,050-2222-3333, +61  \n",
      " Austrilia: (01)1111 2222, +61 42222 3333, +61 222 333 444, 1003 333 444\n"
     ]
    },
    {
     "data": {
      "text/plain": [
       "['011111112222']"
      ]
     },
     "execution_count": 42,
     "metadata": {},
     "output_type": "execute_result"
    }
   ],
   "source": [
    "# China : (0XXX) YYYY YYYY, \n",
    "rule_35 = {\n",
    "      \"identifier\": \"telenum_rule_us\",\n",
    "      \"description\": \"a description\",\n",
    "      \"is_active\": \"true\",\n",
    "      \"output_format\": \"{1}{2}{3}\",\n",
    "      \"pattern\": [\n",
    "            punctuation_token(token=[\"(\"],is_required=\"false\"),\n",
    "            number_token(minimum=\"0\", maximum=\"999\",length = [4], is_in_output=\"true\"),        \n",
    "            punctuation_token(token=[\")\"],is_required=\"false\"),\n",
    "            punctuation_token(token=[\"-\"],is_required=\"false\"),\n",
    "            shape_token(shape =[\"dddd\"],is_in_output=\"true\"),\n",
    "            punctuation_token(token=[\"-\"],is_required=\"false\"),\n",
    "            shape_token(shape =[\"dddd\"],is_in_output=\"true\")\n",
    "      ]\n",
    "    }\n",
    "\n",
    "field_rules = {\n",
    "  \"rules\": [\n",
    "      rule_35\n",
    "  ]\n",
    "}\n",
    "\n",
    "print \"text:\", d['text']\n",
    "results = c.extract_using_custom_spacy(d, config, field_rules=field_rules)\n",
    "tele_lst = []\n",
    "for i in results:\n",
    "    tele_lst.append(''.join((i.values()[1]).split()))\n",
    "tele_lst"
   ]
  },
  {
   "cell_type": "code",
   "execution_count": 43,
   "metadata": {},
   "outputs": [
    {
     "name": "stdout",
     "output_type": "stream",
     "text": [
      "text: my telephone number is (217)331-6779, (217)-331-6778,(217)-331-6777, 217-331-6776, 734.709.8965, 949 484 6951, 5017774643, 664 123 45 67,  0660852222\n",
      "Hi Gentlemen, My name is Ashley . my name Monica I am the one and, My names is Alanda\n",
      "(217)-331-6778, (044) 322 1719850,044 322 1719851, (045) 322 1719850, 045 55 49 40 83 95, 045- 55- 49 40 83 94, 045 -5549408395\n",
      "-0466119200, -488019954,+32465863497 - , 0466119200\n",
      "74350 - 0642516048, 07 55 71 64 36 - \n",
      " + 49 15781424777, +( 49 )15732190888?\n",
      " 004915221040240\n",
      " 49( 0 )15771824788\n",
      " 111 2222, 111-3333\n",
      " UK: 07077080500, 07741 011 066, 07014-231- 011, 0751 011 41 92 , \n",
      " UK:(022) 1111 2222, (0100) 000 1113, (01222) 22224, (01222) 333335, (0122 22)3336, (0122 22) 33337, \n",
      " UK: 0121-111 2228, 0121 111 2229, 07111 222220, 0111 222 2221, 0500 111112, 0800 111113 , \n",
      " India: 111-2222222, 11111-33333, +91-111 222 3333\n",
      " China: (0111) 1111 2222, +86 122 3333 4444, 0086 111 2222 3333, +86 111 222 33 444\n",
      " HK: 1111 2222, 33334444\n",
      " Japan: (011) 222-3333, (0120)-22-3333, 0570-22-3333, 0800-22-3333,050-2222-3333, +61  \n",
      " Austrilia: (01)1111 2222, +61 42222 3333, +61 222 333 444, 1003 333 444\n"
     ]
    },
    {
     "data": {
      "text/plain": [
       "['12233334444']"
      ]
     },
     "execution_count": 43,
     "metadata": {},
     "output_type": "execute_result"
    }
   ],
   "source": [
    "# China: +86 1xx XXXX YYYY,\n",
    "rule_36 = {\n",
    "      \"identifier\": \"telenum_rule_us\",\n",
    "      \"description\": \"a description\",\n",
    "      \"is_active\": \"true\",\n",
    "      \"output_format\": \"{1}{2}{3}\",\n",
    "      \"pattern\": [\n",
    "            punctuation_token(token=[\"(\"],is_required=\"false\"),\n",
    "            punctuation_token(token=[\"+\"],is_required=\"false\"),\n",
    "            number_token(number=[86], is_in_output=\"false\"),        \n",
    "            punctuation_token(token=[\")\"],is_required=\"false\"),\n",
    "            punctuation_token(token=[\"-\"],is_required=\"false\"),\n",
    "            number_token(minimum=\"100\", maximum=\"199\",length = [3], is_in_output=\"true\"), \n",
    "            punctuation_token(token=[\"-\"],is_required=\"false\"),\n",
    "            shape_token(shape =[\"dddd\"],is_in_output=\"true\"),\n",
    "            punctuation_token(token=[\"-\"],is_required=\"false\"),\n",
    "            shape_token(shape =[\"dddd\"],is_in_output=\"true\")\n",
    "      ]\n",
    "    }\n",
    "\n",
    "field_rules = {\n",
    "  \"rules\": [\n",
    "      rule_36\n",
    "  ]\n",
    "}\n",
    "\n",
    "print \"text:\", d['text']\n",
    "results = c.extract_using_custom_spacy(d, config, field_rules=field_rules)\n",
    "tele_lst = []\n",
    "for i in results:\n",
    "    tele_lst.append(''.join((i.values()[1]).split()))\n",
    "tele_lst\n"
   ]
  },
  {
   "cell_type": "code",
   "execution_count": 44,
   "metadata": {},
   "outputs": [
    {
     "name": "stdout",
     "output_type": "stream",
     "text": [
      "text: my telephone number is (217)331-6779, (217)-331-6778,(217)-331-6777, 217-331-6776, 734.709.8965, 949 484 6951, 5017774643, 664 123 45 67,  0660852222\n",
      "Hi Gentlemen, My name is Ashley . my name Monica I am the one and, My names is Alanda\n",
      "(217)-331-6778, (044) 322 1719850,044 322 1719851, (045) 322 1719850, 045 55 49 40 83 95, 045- 55- 49 40 83 94, 045 -5549408395\n",
      "-0466119200, -488019954,+32465863497 - , 0466119200\n",
      "74350 - 0642516048, 07 55 71 64 36 - \n",
      " + 49 15781424777, +( 49 )15732190888?\n",
      " 004915221040240\n",
      " 49( 0 )15771824788\n",
      " 111 2222, 111-3333\n",
      " UK: 07077080500, 07741 011 066, 07014-231- 011, 0751 011 41 92 , \n",
      " UK:(022) 1111 2222, (0100) 000 1113, (01222) 22224, (01222) 333335, (0122 22)3336, (0122 22) 33337, \n",
      " UK: 0121-111 2228, 0121 111 2229, 07111 222220, 0111 222 2221, 0500 111112, 0800 111113 , \n",
      " India: 111-2222222, 11111-33333, +91-111 222 3333\n",
      " China: (0111) 1111 2222, +86 122 3333 4444, 0086 111 2222 3333, +86 111 222 33 444\n",
      " HK: 1111 2222, 33334444\n",
      " Japan: (011) 222-3333, (0120)-22-3333, 0570-22-3333, 0800-22-3333,050-2222-3333, +61  \n",
      " Austrilia: (01)1111 2222, +61 42222 3333, +61 222 333 444, 1003 333 444\n"
     ]
    },
    {
     "data": {
      "text/plain": [
       "['11122223333']"
      ]
     },
     "execution_count": 44,
     "metadata": {},
     "output_type": "execute_result"
    }
   ],
   "source": [
    "# China : 0086 xxx xxxx xxxx , \n",
    "rule_37 = {\n",
    "      \"identifier\": \"telenum_rule_us\",\n",
    "      \"description\": \"a description\",\n",
    "      \"is_active\": \"true\",\n",
    "      \"output_format\": \"{1}{2}{3}\",\n",
    "      \"pattern\": [\n",
    "            punctuation_token(token=[\"(\"],is_required=\"false\"),\n",
    "            punctuation_token(token=[\"+\"],is_required=\"false\"),\n",
    "            number_token(number=[\"0086\"], is_in_output=\"false\"),        \n",
    "            punctuation_token(token=[\")\"],is_required=\"false\"),\n",
    "            punctuation_token(token=[\"-\"],is_required=\"false\"),\n",
    "            shape_token(shape =[\"ddd\"],is_in_output=\"true\"),\n",
    "            punctuation_token(token=[\"-\"],is_required=\"false\"),\n",
    "            shape_token(shape =[\"dddd\"],is_in_output=\"true\"),\n",
    "            punctuation_token(token=[\"-\"],is_required=\"false\"),\n",
    "            shape_token(shape =[\"dddd\"],is_in_output=\"true\")\n",
    "      ]\n",
    "    }\n",
    "\n",
    "field_rules = {\n",
    "  \"rules\": [\n",
    "      rule_37\n",
    "  ]\n",
    "}\n",
    "\n",
    "print \"text:\", d['text']\n",
    "results = c.extract_using_custom_spacy(d, config, field_rules=field_rules)\n",
    "tele_lst = []\n",
    "for i in results:\n",
    "    tele_lst.append(''.join((i.values()[1]).split()))\n",
    "tele_lst\n"
   ]
  },
  {
   "cell_type": "code",
   "execution_count": 45,
   "metadata": {},
   "outputs": [
    {
     "name": "stdout",
     "output_type": "stream",
     "text": [
      "text: my telephone number is (217)331-6779, (217)-331-6778,(217)-331-6777, 217-331-6776, 734.709.8965, 949 484 6951, 5017774643, 664 123 45 67,  0660852222\n",
      "Hi Gentlemen, My name is Ashley . my name Monica I am the one and, My names is Alanda\n",
      "(217)-331-6778, (044) 322 1719850,044 322 1719851, (045) 322 1719850, 045 55 49 40 83 95, 045- 55- 49 40 83 94, 045 -5549408395\n",
      "-0466119200, -488019954,+32465863497 - , 0466119200\n",
      "74350 - 0642516048, 07 55 71 64 36 - \n",
      " + 49 15781424777, +( 49 )15732190888?\n",
      " 004915221040240\n",
      " 49( 0 )15771824788\n",
      " 111 2222, 111-3333\n",
      " UK: 07077080500, 07741 011 066, 07014-231- 011, 0751 011 41 92 , \n",
      " UK:(022) 1111 2222, (0100) 000 1113, (01222) 22224, (01222) 333335, (0122 22)3336, (0122 22) 33337, \n",
      " UK: 0121-111 2228, 0121 111 2229, 07111 222220, 0111 222 2221, 0500 111112, 0800 111113 , \n",
      " India: 111-2222222, 11111-33333, +91-111 222 3333\n",
      " China: (0111) 1111 2222, +86 122 3333 4444, 0086 111 2222 3333, +86 111 222 33 444\n",
      " HK: 1111 2222, 33334444\n",
      " Japan: (011) 222-3333, (0120)-22-3333, 0570-22-3333, 0800-22-3333,050-2222-3333, +61  \n",
      " Austrilia: (01)1111 2222, +61 42222 3333, +61 222 333 444, 1003 333 444\n"
     ]
    },
    {
     "data": {
      "text/plain": [
       "['11122233444']"
      ]
     },
     "execution_count": 45,
     "metadata": {},
     "output_type": "execute_result"
    }
   ],
   "source": [
    "# China : +86 xxx xxx xx xxx\n",
    "rule_38 = {\n",
    "      \"identifier\": \"telenum_rule_us\",\n",
    "      \"description\": \"a description\",\n",
    "      \"is_active\": \"true\",\n",
    "      \"output_format\": \"{1}{2}{3}{4}\",\n",
    "      \"pattern\": [\n",
    "            punctuation_token(token=[\"(\"],is_required=\"false\"),\n",
    "            punctuation_token(token=[\"+\"],is_required=\"false\"),\n",
    "            number_token(number=[\"86\"], is_in_output=\"false\"),        \n",
    "            punctuation_token(token=[\")\"],is_required=\"false\"),\n",
    "            punctuation_token(token=[\"-\"],is_required=\"false\"),\n",
    "            shape_token(shape =[\"ddd\"],is_in_output=\"true\"),\n",
    "            punctuation_token(token=[\"-\"],is_required=\"false\"),\n",
    "            shape_token(shape =[\"ddd\"],is_in_output=\"true\"),\n",
    "            punctuation_token(token=[\"-\"],is_required=\"false\"),\n",
    "            shape_token(shape =[\"dd\"],is_in_output=\"true\"),\n",
    "            punctuation_token(token=[\"-\"],is_required=\"false\"),\n",
    "            shape_token(shape =[\"ddd\"],is_in_output=\"true\")\n",
    "      ]\n",
    "    }\n",
    "\n",
    "field_rules = {\n",
    "  \"rules\": [\n",
    "      rule_38\n",
    "  ]\n",
    "}\n",
    "\n",
    "print \"text:\", d['text']\n",
    "results = c.extract_using_custom_spacy(d, config, field_rules=field_rules)\n",
    "tele_lst = []\n",
    "for i in results:\n",
    "    tele_lst.append(''.join((i.values()[1]).split()))\n",
    "tele_lst\n"
   ]
  },
  {
   "cell_type": "code",
   "execution_count": 46,
   "metadata": {},
   "outputs": [
    {
     "name": "stdout",
     "output_type": "stream",
     "text": [
      "text: my telephone number is (217)331-6779, (217)-331-6778,(217)-331-6777, 217-331-6776, 734.709.8965, 949 484 6951, 5017774643, 664 123 45 67,  0660852222\n",
      "Hi Gentlemen, My name is Ashley . my name Monica I am the one and, My names is Alanda\n",
      "(217)-331-6778, (044) 322 1719850,044 322 1719851, (045) 322 1719850, 045 55 49 40 83 95, 045- 55- 49 40 83 94, 045 -5549408395\n",
      "-0466119200, -488019954,+32465863497 - , 0466119200\n",
      "74350 - 0642516048, 07 55 71 64 36 - \n",
      " + 49 15781424777, +( 49 )15732190888?\n",
      " 004915221040240\n",
      " 49( 0 )15771824788\n",
      " 111 2222, 111-3333\n",
      " UK: 07077080500, 07741 011 066, 07014-231- 011, 0751 011 41 92 , \n",
      " UK:(022) 1111 2222, (0100) 000 1113, (01222) 22224, (01222) 333335, (0122 22)3336, (0122 22) 33337, \n",
      " UK: 0121-111 2228, 0121 111 2229, 07111 222220, 0111 222 2221, 0500 111112, 0800 111113 , \n",
      " India: 111-2222222, 11111-33333, +91-111 222 3333\n",
      " China: (0111) 1111 2222, +86 122 3333 4444, 0086 111 2222 3333, +86 111 222 33 444\n",
      " HK: 1111 2222, 33334444\n",
      " Japan: (011) 222-3333, (0120)-22-3333, 0570-22-3333, 0800-22-3333,050-2222-3333, +61  \n",
      " Austrilia: (01)1111 2222, +61 42222 3333, +61 222 333 444, 1003 333 444\n"
     ]
    },
    {
     "data": {
      "text/plain": [
       "['11112222',\n",
       " '01111111',\n",
       " '11112222',\n",
       " '33334444',\n",
       " '22223333',\n",
       " '11112222',\n",
       " '22223333',\n",
       " '11112222']"
      ]
     },
     "execution_count": 46,
     "metadata": {},
     "output_type": "execute_result"
    }
   ],
   "source": [
    "# HK: XXXX YYYY , \n",
    "rule_39 = {\n",
    "      \"identifier\": \"telenum_rule_us\",\n",
    "      \"description\": \"a description\",\n",
    "      \"is_active\": \"true\",\n",
    "      \"output_format\": \"{1}{2}\",\n",
    "      \"pattern\": [\n",
    "            punctuation_token(token=[\"(\"],is_required=\"false\"),\n",
    "            shape_token(shape =[\"dddd\"],is_in_output=\"true\"),\n",
    "            punctuation_token(token=[\")\"],is_required=\"false\"),\n",
    "            punctuation_token(token=[\"-\"],is_required=\"false\"),\n",
    "            shape_token(shape =[\"dddd\"],is_in_output=\"true\")\n",
    "      ]\n",
    "    }\n",
    "\n",
    "field_rules = {\n",
    "  \"rules\": [\n",
    "      rule_39\n",
    "  ]\n",
    "}\n",
    "\n",
    "print \"text:\", d['text']\n",
    "results = c.extract_using_custom_spacy(d, config, field_rules=field_rules)\n",
    "tele_lst = []\n",
    "for i in results:\n",
    "    tele_lst.append(''.join((i.values()[1]).split()))\n",
    "tele_lst"
   ]
  },
  {
   "cell_type": "code",
   "execution_count": 47,
   "metadata": {},
   "outputs": [
    {
     "name": "stdout",
     "output_type": "stream",
     "text": [
      "text: my telephone number is (217)331-6779, (217)-331-6778,(217)-331-6777, 217-331-6776, 734.709.8965, 949 484 6951, 5017774643, 664 123 45 67,  0660852222\n",
      "Hi Gentlemen, My name is Ashley . my name Monica I am the one and, My names is Alanda\n",
      "(217)-331-6778, (044) 322 1719850,044 322 1719851, (045) 322 1719850, 045 55 49 40 83 95, 045- 55- 49 40 83 94, 045 -5549408395\n",
      "-0466119200, -488019954,+32465863497 - , 0466119200\n",
      "74350 - 0642516048, 07 55 71 64 36 - \n",
      " + 49 15781424777, +( 49 )15732190888?\n",
      " 004915221040240\n",
      " 49( 0 )15771824788\n",
      " 111 2222, 111-3333\n",
      " UK: 07077080500, 07741 011 066, 07014-231- 011, 0751 011 41 92 , \n",
      " UK:(022) 1111 2222, (0100) 000 1113, (01222) 22224, (01222) 333335, (0122 22)3336, (0122 22) 33337, \n",
      " UK: 0121-111 2228, 0121 111 2229, 07111 222220, 0111 222 2221, 0500 111112, 0800 111113 , \n",
      " India: 111-2222222, 11111-33333, +91-111 222 3333\n",
      " China: (0111) 1111 2222, +86 122 3333 4444, 0086 111 2222 3333, +86 111 222 33 444\n",
      " HK: 1111 2222, 33334444\n",
      " Japan: (011) 222-3333, (0120)-22-3333, 0570-22-3333, 0800-22-3333,050-2222-3333, +61  \n",
      " Austrilia: (01)1111 2222, +61 42222 3333, +61 222 333 444, 1003 333 444\n"
     ]
    },
    {
     "data": {
      "text/plain": [
       "[]"
      ]
     },
     "execution_count": 47,
     "metadata": {},
     "output_type": "execute_result"
    }
   ],
   "source": [
    "# HK: XXXXYYYY\n",
    "rule_40 = {\n",
    "      \"identifier\": \"telenum_rule_us\",\n",
    "      \"description\": \"a description\",\n",
    "      \"is_active\": \"false\",\n",
    "      \"output_format\": \"{1}\",\n",
    "      \"pattern\": [\n",
    "            shape_token(shape =[\"dddddddd\"],is_in_output=\"true\")\n",
    "      ]\n",
    "    }\n",
    "\n",
    "field_rules = {\n",
    "  \"rules\": [\n",
    "      rule_40\n",
    "  ]\n",
    "}\n",
    "\n",
    "print \"text:\", d['text']\n",
    "results = c.extract_using_custom_spacy(d, config, field_rules=field_rules)\n",
    "tele_lst = []\n",
    "for i in results:\n",
    "    tele_lst.append(''.join((i.values()[1]).split()))\n",
    "tele_lst"
   ]
  },
  {
   "cell_type": "code",
   "execution_count": 48,
   "metadata": {},
   "outputs": [
    {
     "name": "stdout",
     "output_type": "stream",
     "text": [
      "text: my telephone number is (217)331-6779, (217)-331-6778,(217)-331-6777, 217-331-6776, 734.709.8965, 949 484 6951, 5017774643, 664 123 45 67,  0660852222\n",
      "Hi Gentlemen, My name is Ashley . my name Monica I am the one and, My names is Alanda\n",
      "(217)-331-6778, (044) 322 1719850,044 322 1719851, (045) 322 1719850, 045 55 49 40 83 95, 045- 55- 49 40 83 94, 045 -5549408395\n",
      "-0466119200, -488019954,+32465863497 - , 0466119200\n",
      "74350 - 0642516048, 07 55 71 64 36 - \n",
      " + 49 15781424777, +( 49 )15732190888?\n",
      " 004915221040240\n",
      " 49( 0 )15771824788\n",
      " 111 2222, 111-3333\n",
      " UK: 07077080500, 07741 011 066, 07014-231- 011, 0751 011 41 92 , \n",
      " UK:(022) 1111 2222, (0100) 000 1113, (01222) 22224, (01222) 333335, (0122 22)3336, (0122 22) 33337, \n",
      " UK: 0121-111 2228, 0121 111 2229, 07111 222220, 0111 222 2221, 0500 111112, 0800 111113 , \n",
      " India: 111-2222222, 11111-33333, +91-111 222 3333\n",
      " China: (0111) 1111 2222, +86 122 3333 4444, 0086 111 2222 3333, +86 111 222 33 444\n",
      " HK: 1111 2222, 33334444\n",
      " Japan: (011) 222-3333, (0120)-22-3333, 0570-22-3333, 0800-22-3333,050-2222-3333, +61  \n",
      " Austrilia: (01)1111 2222, +61 42222 3333, +61 222 333 444, 1003 333 444\n"
     ]
    },
    {
     "data": {
      "text/plain": [
       "['0112223333']"
      ]
     },
     "execution_count": 48,
     "metadata": {},
     "output_type": "execute_result"
    }
   ],
   "source": [
    "# Japan : (0AA) NXX-XXXX,    japan's national code is 0081\n",
    "rule_41 = {\n",
    "      \"identifier\": \"telenum_rule_us\",\n",
    "      \"description\": \"a description\",\n",
    "      \"is_active\": \"true\",\n",
    "      \"output_format\": \"{1}{2}{3}\",\n",
    "      \"pattern\": [\n",
    "            punctuation_token(token=[\"(\"],is_required=\"false\"),\n",
    "            number_token(minimum=\"0\", maximum=\"99\",length = [3], is_in_output=\"true\"), \n",
    "            punctuation_token(token=[\")\"],is_required=\"false\"),\n",
    "            punctuation_token(token=[\"-\"],is_required=\"false\"),\n",
    "            shape_token(shape =[\"ddd\"],is_in_output=\"true\"),\n",
    "            punctuation_token(token=[\"-\"],is_required=\"false\"),\n",
    "            shape_token(shape =[\"dddd\"],is_in_output=\"true\")\n",
    "      ]\n",
    "    }\n",
    "\n",
    "field_rules = {\n",
    "  \"rules\": [\n",
    "      rule_41\n",
    "  ]\n",
    "}\n",
    "\n",
    "print \"text:\", d['text']\n",
    "results = c.extract_using_custom_spacy(d, config, field_rules=field_rules)\n",
    "tele_lst = []\n",
    "for i in results:\n",
    "    tele_lst.append(''.join((i.values()[1]).split()))\n",
    "tele_lst"
   ]
  },
  {
   "cell_type": "code",
   "execution_count": 49,
   "metadata": {},
   "outputs": [
    {
     "name": "stdout",
     "output_type": "stream",
     "text": [
      "text: my telephone number is (217)331-6779, (217)-331-6778,(217)-331-6777, 217-331-6776, 734.709.8965, 949 484 6951, 5017774643, 664 123 45 67,  0660852222\n",
      "Hi Gentlemen, My name is Ashley . my name Monica I am the one and, My names is Alanda\n",
      "(217)-331-6778, (044) 322 1719850,044 322 1719851, (045) 322 1719850, 045 55 49 40 83 95, 045- 55- 49 40 83 94, 045 -5549408395\n",
      "-0466119200, -488019954,+32465863497 - , 0466119200\n",
      "74350 - 0642516048, 07 55 71 64 36 - \n",
      " + 49 15781424777, +( 49 )15732190888?\n",
      " 004915221040240\n",
      " 49( 0 )15771824788\n",
      " 111 2222, 111-3333\n",
      " UK: 07077080500, 07741 011 066, 07014-231- 011, 0751 011 41 92 , \n",
      " UK:(022) 1111 2222, (0100) 000 1113, (01222) 22224, (01222) 333335, (0122 22)3336, (0122 22) 33337, \n",
      " UK: 0121-111 2228, 0121 111 2229, 07111 222220, 0111 222 2221, 0500 111112, 0800 111113 , \n",
      " India: 111-2222222, 11111-33333, +91-111 222 3333\n",
      " China: (0111) 1111 2222, +86 122 3333 4444, 0086 111 2222 3333, +86 111 222 33 444\n",
      " HK: 1111 2222, 33334444\n",
      " Japan: (011) 222-3333, (0120)-22-3333, 0570-22-3333, 0800-22-3333,050-2222-3333, +61  \n",
      " Austrilia: (01)1111 2222, +61 42222 3333, +61 222 333 444, 1003 333 444\n"
     ]
    },
    {
     "data": {
      "text/plain": [
       "['0120223333']"
      ]
     },
     "execution_count": 49,
     "metadata": {},
     "output_type": "execute_result"
    }
   ],
   "source": [
    "# Japan: (0120)-XX-XXXX, \n",
    "rule_42 = {\n",
    "      \"identifier\": \"telenum_rule_us\",\n",
    "      \"description\": \"a description\",\n",
    "      \"is_active\": \"true\",\n",
    "      \"output_format\": \"{1}{2}{3}\",\n",
    "      \"pattern\": [\n",
    "            punctuation_token(token=[\"(\"],is_required=\"false\"),\n",
    "            number_token(number = [\"0120\"], is_in_output=\"true\"), \n",
    "            punctuation_token(token=[\")\"],is_required=\"false\"),\n",
    "            punctuation_token(token=[\"-\"],is_required=\"false\"),\n",
    "            shape_token(shape =[\"dd\"],is_in_output=\"true\"),\n",
    "            punctuation_token(token=[\"-\"],is_required=\"false\"),\n",
    "            shape_token(shape =[\"dddd\"],is_in_output=\"true\")\n",
    "      ]\n",
    "    }\n",
    "\n",
    "field_rules = {\n",
    "  \"rules\": [\n",
    "      rule_42\n",
    "  ]\n",
    "}\n",
    "\n",
    "print \"text:\", d['text']\n",
    "results = c.extract_using_custom_spacy(d, config, field_rules=field_rules)\n",
    "tele_lst = []\n",
    "for i in results:\n",
    "    tele_lst.append(''.join((i.values()[1]).split()))\n",
    "tele_lst"
   ]
  },
  {
   "cell_type": "code",
   "execution_count": 50,
   "metadata": {},
   "outputs": [
    {
     "name": "stdout",
     "output_type": "stream",
     "text": [
      "text: my telephone number is (217)331-6779, (217)-331-6778,(217)-331-6777, 217-331-6776, 734.709.8965, 949 484 6951, 5017774643, 664 123 45 67,  0660852222\n",
      "Hi Gentlemen, My name is Ashley . my name Monica I am the one and, My names is Alanda\n",
      "(217)-331-6778, (044) 322 1719850,044 322 1719851, (045) 322 1719850, 045 55 49 40 83 95, 045- 55- 49 40 83 94, 045 -5549408395\n",
      "-0466119200, -488019954,+32465863497 - , 0466119200\n",
      "74350 - 0642516048, 07 55 71 64 36 - \n",
      " + 49 15781424777, +( 49 )15732190888?\n",
      " 004915221040240\n",
      " 49( 0 )15771824788\n",
      " 111 2222, 111-3333\n",
      " UK: 07077080500, 07741 011 066, 07014-231- 011, 0751 011 41 92 , \n",
      " UK:(022) 1111 2222, (0100) 000 1113, (01222) 22224, (01222) 333335, (0122 22)3336, (0122 22) 33337, \n",
      " UK: 0121-111 2228, 0121 111 2229, 07111 222220, 0111 222 2221, 0500 111112, 0800 111113 , \n",
      " India: 111-2222222, 11111-33333, +91-111 222 3333\n",
      " China: (0111) 1111 2222, +86 122 3333 4444, 0086 111 2222 3333, +86 111 222 33 444\n",
      " HK: 1111 2222, 33334444\n",
      " Japan: (011) 222-3333, (0120)-22-3333, 0570-22-3333, 0800-22-3333,050-2222-3333, +61  \n",
      " Austrilia: (01)1111 2222, +61 42222 3333, +61 222 333 444, 1003 333 444\n"
     ]
    },
    {
     "data": {
      "text/plain": [
       "['0570223333']"
      ]
     },
     "execution_count": 50,
     "metadata": {},
     "output_type": "execute_result"
    }
   ],
   "source": [
    "# Japan: 0570-XX-XXXX, \n",
    "rule_43 = {\n",
    "      \"identifier\": \"telenum_rule_us\",\n",
    "      \"description\": \"a description\",\n",
    "      \"is_active\": \"true\",\n",
    "      \"output_format\": \"{1}{2}{3}\",\n",
    "      \"pattern\": [\n",
    "            punctuation_token(token=[\"(\"],is_required=\"false\"),\n",
    "            number_token(number = [\"0570\"], is_in_output=\"true\"), \n",
    "            punctuation_token(token=[\")\"],is_required=\"false\"),\n",
    "            punctuation_token(token=[\"-\"],is_required=\"false\"),\n",
    "            shape_token(shape =[\"dd\"],is_in_output=\"true\"),\n",
    "            punctuation_token(token=[\"-\"],is_required=\"false\"),\n",
    "            shape_token(shape =[\"dddd\"],is_in_output=\"true\")\n",
    "      ]\n",
    "    }\n",
    "\n",
    "field_rules = {\n",
    "  \"rules\": [\n",
    "      rule_43\n",
    "  ]\n",
    "}\n",
    "\n",
    "print \"text:\", d['text']\n",
    "results = c.extract_using_custom_spacy(d, config, field_rules=field_rules)\n",
    "tele_lst = []\n",
    "for i in results:\n",
    "    tele_lst.append(''.join((i.values()[1]).split()))\n",
    "tele_lst"
   ]
  },
  {
   "cell_type": "code",
   "execution_count": 51,
   "metadata": {},
   "outputs": [
    {
     "name": "stdout",
     "output_type": "stream",
     "text": [
      "text: my telephone number is (217)331-6779, (217)-331-6778,(217)-331-6777, 217-331-6776, 734.709.8965, 949 484 6951, 5017774643, 664 123 45 67,  0660852222\n",
      "Hi Gentlemen, My name is Ashley . my name Monica I am the one and, My names is Alanda\n",
      "(217)-331-6778, (044) 322 1719850,044 322 1719851, (045) 322 1719850, 045 55 49 40 83 95, 045- 55- 49 40 83 94, 045 -5549408395\n",
      "-0466119200, -488019954,+32465863497 - , 0466119200\n",
      "74350 - 0642516048, 07 55 71 64 36 - \n",
      " + 49 15781424777, +( 49 )15732190888?\n",
      " 004915221040240\n",
      " 49( 0 )15771824788\n",
      " 111 2222, 111-3333\n",
      " UK: 07077080500, 07741 011 066, 07014-231- 011, 0751 011 41 92 , \n",
      " UK:(022) 1111 2222, (0100) 000 1113, (01222) 22224, (01222) 333335, (0122 22)3336, (0122 22) 33337, \n",
      " UK: 0121-111 2228, 0121 111 2229, 07111 222220, 0111 222 2221, 0500 111112, 0800 111113 , \n",
      " India: 111-2222222, 11111-33333, +91-111 222 3333\n",
      " China: (0111) 1111 2222, +86 122 3333 4444, 0086 111 2222 3333, +86 111 222 33 444\n",
      " HK: 1111 2222, 33334444\n",
      " Japan: (011) 222-3333, (0120)-22-3333, 0570-22-3333, 0800-22-3333,050-2222-3333, +61  \n",
      " Austrilia: (01)1111 2222, +61 42222 3333, +61 222 333 444, 1003 333 444\n"
     ]
    },
    {
     "data": {
      "text/plain": [
       "['0800223333']"
      ]
     },
     "execution_count": 51,
     "metadata": {},
     "output_type": "execute_result"
    }
   ],
   "source": [
    "# Japan : or 0800-XX-XXXX), \n",
    "rule_44 = {\n",
    "      \"identifier\": \"telenum_rule_us\",\n",
    "      \"description\": \"a description\",\n",
    "      \"is_active\": \"true\",\n",
    "      \"output_format\": \"{1}{2}{3}\",\n",
    "      \"pattern\": [\n",
    "            punctuation_token(token=[\"(\"],is_required=\"false\"),\n",
    "            number_token(number = [\"0800\"], is_in_output=\"true\"), \n",
    "            punctuation_token(token=[\")\"],is_required=\"false\"),\n",
    "            punctuation_token(token=[\"-\"],is_required=\"false\"),\n",
    "            shape_token(shape =[\"dd\"],is_in_output=\"true\"),\n",
    "            punctuation_token(token=[\"-\"],is_required=\"false\"),\n",
    "            shape_token(shape =[\"dddd\"],is_in_output=\"true\")\n",
    "      ]\n",
    "    }\n",
    "\n",
    "field_rules = {\n",
    "  \"rules\": [\n",
    "      rule_44\n",
    "  ]\n",
    "}\n",
    "\n",
    "print \"text:\", d['text']\n",
    "results = c.extract_using_custom_spacy(d, config, field_rules=field_rules)\n",
    "tele_lst = []\n",
    "for i in results:\n",
    "    tele_lst.append(''.join((i.values()[1]).split()))\n",
    "tele_lst\n"
   ]
  },
  {
   "cell_type": "code",
   "execution_count": 52,
   "metadata": {},
   "outputs": [
    {
     "name": "stdout",
     "output_type": "stream",
     "text": [
      "text: my telephone number is (217)331-6779, (217)-331-6778,(217)-331-6777, 217-331-6776, 734.709.8965, 949 484 6951, 5017774643, 664 123 45 67,  0660852222\n",
      "Hi Gentlemen, My name is Ashley . my name Monica I am the one and, My names is Alanda\n",
      "(217)-331-6778, (044) 322 1719850,044 322 1719851, (045) 322 1719850, 045 55 49 40 83 95, 045- 55- 49 40 83 94, 045 -5549408395\n",
      "-0466119200, -488019954,+32465863497 - , 0466119200\n",
      "74350 - 0642516048, 07 55 71 64 36 - \n",
      " + 49 15781424777, +( 49 )15732190888?\n",
      " 004915221040240\n",
      " 49( 0 )15771824788\n",
      " 111 2222, 111-3333\n",
      " UK: 07077080500, 07741 011 066, 07014-231- 011, 0751 011 41 92 , \n",
      " UK:(022) 1111 2222, (0100) 000 1113, (01222) 22224, (01222) 333335, (0122 22)3336, (0122 22) 33337, \n",
      " UK: 0121-111 2228, 0121 111 2229, 07111 222220, 0111 222 2221, 0500 111112, 0800 111113 , \n",
      " India: 111-2222222, 11111-33333, +91-111 222 3333\n",
      " China: (0111) 1111 2222, +86 122 3333 4444, 0086 111 2222 3333, +86 111 222 33 444\n",
      " HK: 1111 2222, 33334444\n",
      " Japan: (011) 222-3333, (0120)-22-3333, 0570-22-3333, 0800-22-3333,050-2222-3333, +61  \n",
      " Austrilia: (01)1111 2222, +61 42222 3333, +61 222 333 444, 1003 333 444\n"
     ]
    },
    {
     "data": {
      "text/plain": [
       "['05022223333']"
      ]
     },
     "execution_count": 52,
     "metadata": {},
     "output_type": "execute_result"
    }
   ],
   "source": [
    "#Japan : (050-XXXX-XXXX),\n",
    "rule_45 = {\n",
    "      \"identifier\": \"telenum_rule_us\",\n",
    "      \"description\": \"a description\",\n",
    "      \"is_active\": \"true\",\n",
    "      \"output_format\": \"{1}{2}{3}\",\n",
    "      \"pattern\": [\n",
    "            punctuation_token(token=[\"(\"],is_required=\"false\"),\n",
    "            number_token(number = [\"050\"], is_in_output=\"true\"), \n",
    "            punctuation_token(token=[\")\"],is_required=\"false\"),\n",
    "            punctuation_token(token=[\"-\"],is_required=\"false\"),\n",
    "            shape_token(shape =[\"dddd\"],is_in_output=\"true\"),\n",
    "            punctuation_token(token=[\"-\"],is_required=\"false\"),\n",
    "            shape_token(shape =[\"dddd\"],is_in_output=\"true\")\n",
    "      ]\n",
    "    }\n",
    "\n",
    "field_rules = {\n",
    "  \"rules\": [\n",
    "      rule_45\n",
    "  ]\n",
    "}\n",
    "\n",
    "print \"text:\", d['text']\n",
    "results = c.extract_using_custom_spacy(d, config, field_rules=field_rules)\n",
    "tele_lst = []\n",
    "for i in results:\n",
    "    tele_lst.append(''.join((i.values()[1]).split()))\n",
    "tele_lst\n"
   ]
  },
  {
   "cell_type": "code",
   "execution_count": 53,
   "metadata": {},
   "outputs": [
    {
     "name": "stdout",
     "output_type": "stream",
     "text": [
      "text: my telephone number is (217)331-6779, (217)-331-6778,(217)-331-6777, 217-331-6776, 734.709.8965, 949 484 6951, 5017774643, 664 123 45 67,  0660852222\n",
      "Hi Gentlemen, My name is Ashley . my name Monica I am the one and, My names is Alanda\n",
      "(217)-331-6778, (044) 322 1719850,044 322 1719851, (045) 322 1719850, 045 55 49 40 83 95, 045- 55- 49 40 83 94, 045 -5549408395\n",
      "-0466119200, -488019954,+32465863497 - , 0466119200\n",
      "74350 - 0642516048, 07 55 71 64 36 - \n",
      " + 49 15781424777, +( 49 )15732190888?\n",
      " 004915221040240\n",
      " 49( 0 )15771824788\n",
      " 111 2222, 111-3333\n",
      " UK: 07077080500, 07741 011 066, 07014-231- 011, 0751 011 41 92 , \n",
      " UK:(022) 1111 2222, (0100) 000 1113, (01222) 22224, (01222) 333335, (0122 22)3336, (0122 22) 33337, \n",
      " UK: 0121-111 2228, 0121 111 2229, 07111 222220, 0111 222 2221, 0500 111112, 0800 111113 , \n",
      " India: 111-2222222, 11111-33333, +91-111 222 3333\n",
      " China: (0111) 1111 2222, +86 122 3333 4444, 0086 111 2222 3333, +86 111 222 33 444\n",
      " HK: 1111 2222, 33334444\n",
      " Japan: (011) 222-3333, (0120)-22-3333, 0570-22-3333, 0800-22-3333,050-2222-3333, +61  \n",
      " Austrilia: (01)1111 2222, +61 42222 3333, +61 222 333 444, 1003 333 444\n"
     ]
    },
    {
     "data": {
      "text/plain": [
       "['0111112222']"
      ]
     },
     "execution_count": 53,
     "metadata": {},
     "output_type": "execute_result"
    }
   ],
   "source": [
    "# Austrilia : (0A) BBBB BBBB ,\n",
    "rule_46 = {\n",
    "      \"identifier\": \"telenum_rule_us\",\n",
    "      \"description\": \"a description\",\n",
    "      \"is_active\": \"true\",\n",
    "      \"output_format\": \"{1}{2}{3}\",\n",
    "      \"pattern\": [\n",
    "            punctuation_token(token=[\"(\"],is_required=\"false\"),\n",
    "            number_token(minimum=\"0\", maximum=\"9\",length = [2], is_in_output=\"true\"), \n",
    "            punctuation_token(token=[\")\"],is_required=\"false\"),\n",
    "            punctuation_token(token=[\"-\"],is_required=\"false\"),\n",
    "            shape_token(shape =[\"dddd\"],is_in_output=\"true\"),\n",
    "            punctuation_token(token=[\"-\"],is_required=\"false\"),\n",
    "            shape_token(shape =[\"dddd\"],is_in_output=\"true\")\n",
    "      ]\n",
    "    }\n",
    "\n",
    "field_rules = {\n",
    "  \"rules\": [\n",
    "      rule_46\n",
    "  ]\n",
    "}\n",
    "\n",
    "print \"text:\", d['text']\n",
    "results = c.extract_using_custom_spacy(d, config, field_rules=field_rules)\n",
    "tele_lst = []\n",
    "for i in results:\n",
    "    tele_lst.append(''.join((i.values()[1]).split()))\n",
    "tele_lst\n"
   ]
  },
  {
   "cell_type": "code",
   "execution_count": 54,
   "metadata": {},
   "outputs": [
    {
     "name": "stdout",
     "output_type": "stream",
     "text": [
      "text: my telephone number is (217)331-6779, (217)-331-6778,(217)-331-6777, 217-331-6776, 734.709.8965, 949 484 6951, 5017774643, 664 123 45 67,  0660852222\n",
      "Hi Gentlemen, My name is Ashley . my name Monica I am the one and, My names is Alanda\n",
      "(217)-331-6778, (044) 322 1719850,044 322 1719851, (045) 322 1719850, 045 55 49 40 83 95, 045- 55- 49 40 83 94, 045 -5549408395\n",
      "-0466119200, -488019954,+32465863497 - , 0466119200\n",
      "74350 - 0642516048, 07 55 71 64 36 - \n",
      " + 49 15781424777, +( 49 )15732190888?\n",
      " 004915221040240\n",
      " 49( 0 )15771824788\n",
      " 111 2222, 111-3333\n",
      " UK: 07077080500, 07741 011 066, 07014-231- 011, 0751 011 41 92 , \n",
      " UK:(022) 1111 2222, (0100) 000 1113, (01222) 22224, (01222) 333335, (0122 22)3336, (0122 22) 33337, \n",
      " UK: 0121-111 2228, 0121 111 2229, 07111 222220, 0111 222 2221, 0500 111112, 0800 111113 , \n",
      " India: 111-2222222, 11111-33333, +91-111 222 3333\n",
      " China: (0111) 1111 2222, +86 122 3333 4444, 0086 111 2222 3333, +86 111 222 33 444\n",
      " HK: 1111 2222, 33334444\n",
      " Japan: (011) 222-3333, (0120)-22-3333, 0570-22-3333, 0800-22-3333,050-2222-3333, +61  \n",
      " Austrilia: (01)1111 2222, +61 42222 3333, +61 222 333 444, 1003 333 444\n"
     ]
    },
    {
     "data": {
      "text/plain": [
       "['422223333']"
      ]
     },
     "execution_count": 54,
     "metadata": {},
     "output_type": "execute_result"
    }
   ],
   "source": [
    "# Austrilia :  +61 4MMMB BBBB.    national code is 61\n",
    "rule_47 = {\n",
    "      \"identifier\": \"telenum_rule_us\",\n",
    "      \"description\": \"a description\",\n",
    "      \"is_active\": \"true\",\n",
    "      \"output_format\": \"{1}{2}\",\n",
    "      \"pattern\": [\n",
    "            punctuation_token(token=[\"(\"],is_required=\"false\"),\n",
    "            punctuation_token(token=[\"+\"],is_required=\"false\"),\n",
    "            number_token(number = [\"61\"], is_in_output=\"false\"), \n",
    "            punctuation_token(token=[\")\"],is_required=\"false\"),\n",
    "            punctuation_token(token=[\"-\"],is_required=\"false\"),\n",
    "            number_token(minimum=\"40000\", maximum=\"49999\",length = [5], is_in_output=\"true\"), \n",
    "            punctuation_token(token=[\"-\"],is_required=\"false\"),\n",
    "            shape_token(shape =[\"dddd\"],is_in_output=\"true\")\n",
    "      ]\n",
    "    }\n",
    "\n",
    "field_rules = {\n",
    "  \"rules\": [\n",
    "      rule_47\n",
    "  ]\n",
    "}\n",
    "\n",
    "print \"text:\", d['text']\n",
    "results = c.extract_using_custom_spacy(d, config, field_rules=field_rules)\n",
    "tele_lst = []\n",
    "for i in results:\n",
    "    tele_lst.append(''.join((i.values()[1]).split()))\n",
    "tele_lst\n"
   ]
  },
  {
   "cell_type": "code",
   "execution_count": 55,
   "metadata": {},
   "outputs": [
    {
     "name": "stdout",
     "output_type": "stream",
     "text": [
      "text: my telephone number is (217)331-6779, (217)-331-6778,(217)-331-6777, 217-331-6776, 734.709.8965, 949 484 6951, 5017774643, 664 123 45 67,  0660852222\n",
      "Hi Gentlemen, My name is Ashley . my name Monica I am the one and, My names is Alanda\n",
      "(217)-331-6778, (044) 322 1719850,044 322 1719851, (045) 322 1719850, 045 55 49 40 83 95, 045- 55- 49 40 83 94, 045 -5549408395\n",
      "-0466119200, -488019954,+32465863497 - , 0466119200\n",
      "74350 - 0642516048, 07 55 71 64 36 - \n",
      " + 49 15781424777, +( 49 )15732190888?\n",
      " 004915221040240\n",
      " 49( 0 )15771824788\n",
      " 111 2222, 111-3333\n",
      " UK: 07077080500, 07741 011 066, 07014-231- 011, 0751 011 41 92 , \n",
      " UK:(022) 1111 2222, (0100) 000 1113, (01222) 22224, (01222) 333335, (0122 22)3336, (0122 22) 33337, \n",
      " UK: 0121-111 2228, 0121 111 2229, 07111 222220, 0111 222 2221, 0500 111112, 0800 111113 , \n",
      " India: 111-2222222, 11111-33333, +91-111 222 3333\n",
      " China: (0111) 1111 2222, +86 122 3333 4444, 0086 111 2222 3333, +86 111 222 33 444\n",
      " HK: 1111 2222, 33334444\n",
      " Japan: (011) 222-3333, (0120)-22-3333, 0570-22-3333, 0800-22-3333,050-2222-3333, +61  \n",
      " Austrilia: (01)1111 2222, +61 42222 3333, +61 222 333 444, 1003 333 444\n"
     ]
    },
    {
     "data": {
      "text/plain": [
       "['222333444']"
      ]
     },
     "execution_count": 55,
     "metadata": {},
     "output_type": "execute_result"
    }
   ],
   "source": [
    "# Austrilia :  + 61 42x xxx xxx, \n",
    "rule_48 = {\n",
    "      \"identifier\": \"telenum_rule_us\",\n",
    "      \"description\": \"a description\",\n",
    "      \"is_active\": \"true\",\n",
    "      \"output_format\": \"{1}{2}{3}\",\n",
    "      \"pattern\": [\n",
    "            punctuation_token(token=[\"(\"],is_required=\"false\"),\n",
    "            punctuation_token(token=[\"+\"],is_required=\"false\"),\n",
    "            number_token(number = [\"61\"], is_in_output=\"false\"), \n",
    "            punctuation_token(token=[\")\"],is_required=\"false\"),\n",
    "            punctuation_token(token=[\"-\"],is_required=\"false\"),\n",
    "            shape_token(shape =[\"ddd\"],is_in_output=\"true\"),\n",
    "            punctuation_token(token=[\"-\"],is_required=\"false\"),\n",
    "            shape_token(shape =[\"ddd\"],is_in_output=\"true\"),\n",
    "            punctuation_token(token=[\"-\"],is_required=\"false\"),\n",
    "            shape_token(shape =[\"ddd\"],is_in_output=\"true\")\n",
    "      ]\n",
    "    }\n",
    "\n",
    "field_rules = {\n",
    "  \"rules\": [\n",
    "      rule_48\n",
    "  ]\n",
    "}\n",
    "\n",
    "print \"text:\", d['text']\n",
    "results = c.extract_using_custom_spacy(d, config, field_rules=field_rules)\n",
    "tele_lst = []\n",
    "for i in results:\n",
    "    tele_lst.append(''.join((i.values()[1]).split()))\n",
    "tele_lst\n"
   ]
  },
  {
   "cell_type": "code",
   "execution_count": 56,
   "metadata": {},
   "outputs": [
    {
     "name": "stdout",
     "output_type": "stream",
     "text": [
      "text: my telephone number is (217)331-6779, (217)-331-6778,(217)-331-6777, 217-331-6776, 734.709.8965, 949 484 6951, 5017774643, 664 123 45 67,  0660852222\n",
      "Hi Gentlemen, My name is Ashley . my name Monica I am the one and, My names is Alanda\n",
      "(217)-331-6778, (044) 322 1719850,044 322 1719851, (045) 322 1719850, 045 55 49 40 83 95, 045- 55- 49 40 83 94, 045 -5549408395\n",
      "-0466119200, -488019954,+32465863497 - , 0466119200\n",
      "74350 - 0642516048, 07 55 71 64 36 - \n",
      " + 49 15781424777, +( 49 )15732190888?\n",
      " 004915221040240\n",
      " 49( 0 )15771824788\n",
      " 111 2222, 111-3333\n",
      " UK: 07077080500, 07741 011 066, 07014-231- 011, 0751 011 41 92 , \n",
      " UK:(022) 1111 2222, (0100) 000 1113, (01222) 22224, (01222) 333335, (0122 22)3336, (0122 22) 33337, \n",
      " UK: 0121-111 2228, 0121 111 2229, 07111 222220, 0111 222 2221, 0500 111112, 0800 111113 , \n",
      " India: 111-2222222, 11111-33333, +91-111 222 3333\n",
      " China: (0111) 1111 2222, +86 122 3333 4444, 0086 111 2222 3333, +86 111 222 33 444\n",
      " HK: 1111 2222, 33334444\n",
      " Japan: (011) 222-3333, (0120)-22-3333, 0570-22-3333, 0800-22-3333,050-2222-3333, +61  \n",
      " Austrilia: (01)1111 2222, +61 42222 3333, +61 222 333 444, 1003 333 444\n"
     ]
    },
    {
     "data": {
      "text/plain": [
       "['1003333444']"
      ]
     },
     "execution_count": 56,
     "metadata": {},
     "output_type": "execute_result"
    }
   ],
   "source": [
    "# Austrilia : 1X0Y BBB BBB,\n",
    "rule_49 = {\n",
    "      \"identifier\": \"telenum_rule_us\",\n",
    "      \"description\": \"a description\",\n",
    "      \"is_active\": \"true\",\n",
    "      \"output_format\": \"{1}{2}{3}\",\n",
    "      \"pattern\": [\n",
    "            number_token(minimum=\"1000\", maximum=\"1999\",length = [4],  is_in_output=\"true\"), \n",
    "            punctuation_token(token=[\"-\"],is_required=\"false\"),\n",
    "            shape_token(shape =[\"ddd\"],is_in_output=\"true\"),\n",
    "            punctuation_token(token=[\"-\"],is_required=\"false\"),\n",
    "            shape_token(shape =[\"ddd\"],is_in_output=\"true\")\n",
    "      ]\n",
    "    }\n",
    "\n",
    "field_rules = {\n",
    "  \"rules\": [\n",
    "      rule_49\n",
    "  ]\n",
    "}\n",
    "\n",
    "print \"text:\", d['text']\n",
    "results = c.extract_using_custom_spacy(d, config, field_rules=field_rules)\n",
    "tele_lst = []\n",
    "for i in results:\n",
    "    tele_lst.append(''.join((i.values()[1]).split()))\n",
    "tele_lst\n"
   ]
  },
  {
   "cell_type": "code",
   "execution_count": 57,
   "metadata": {
    "collapsed": true
   },
   "outputs": [],
   "source": [
    "# El Salvador : xxxx xxxx, xxxxxxxx the same with HK"
   ]
  },
  {
   "cell_type": "code",
   "execution_count": null,
   "metadata": {
    "collapsed": true
   },
   "outputs": [],
   "source": []
  },
  {
   "cell_type": "markdown",
   "metadata": {},
   "source": [
    "## Test Several Rules"
   ]
  },
  {
   "cell_type": "code",
   "execution_count": 58,
   "metadata": {
    "collapsed": true
   },
   "outputs": [],
   "source": [
    "field_rules = {\n",
    "  \"rules\": [\n",
    "    rule_01, \n",
    "    rule_02,\n",
    "    rule_03,\n",
    "    rule_04,\n",
    "    rule_05,\n",
    "    rule_06,\n",
    "    rule_07,\n",
    "    rule_08,\n",
    "    rule_09,\n",
    "    rule_10,\n",
    "    rule_11, \n",
    "    rule_12,\n",
    "    rule_13,\n",
    "    rule_14,\n",
    "    rule_15,\n",
    "    rule_16,\n",
    "    rule_17,\n",
    "    rule_18,\n",
    "    rule_19,\n",
    "    rule_20,\n",
    "    rule_21, \n",
    "    rule_22,\n",
    "    rule_23,\n",
    "    rule_24,\n",
    "    rule_25,\n",
    "    rule_26,\n",
    "    rule_27,\n",
    "    rule_28,\n",
    "    rule_29,\n",
    "    rule_30,\n",
    "    rule_31, \n",
    "    rule_32,\n",
    "    rule_33,\n",
    "    rule_34,\n",
    "    rule_35,\n",
    "    rule_36,\n",
    "    rule_37,\n",
    "    rule_38,\n",
    "    rule_39,\n",
    "    rule_40,\n",
    "    rule_41, \n",
    "    rule_42,\n",
    "    rule_43,\n",
    "    rule_44,\n",
    "    rule_45,\n",
    "    rule_46,\n",
    "    rule_47,\n",
    "    rule_48,\n",
    "    rule_49\n",
    "  ],\n",
    "    \"test_text\": d['text'],\n",
    "    \"test_tokens\": c.extract_tokens_from_crf(c.extract_crftokens(d['text'], lowercase=False))\n",
    "}\n",
    "\n",
    "\n",
    "\n",
    "results = c.extract_using_custom_spacy(d, config, field_rules=field_rules)\n",
    "\n",
    "tele_lst = []\n",
    "for i in results:\n",
    "    tele_lst.append(''.join((i.values()[1]).split()))\n",
    "results.append(tele_lst)\n",
    "\n",
    "\n",
    "field_rules['results']=results\n",
    "\n",
    "s = json.dumps(field_rules)\n",
    "\n",
    "\n",
    "import codecs\n",
    "o = codecs.open('phonenum_file.jl', 'w')\n",
    "o.write(s)\n",
    "o.close()\n",
    "\n",
    "#print json.dumps(results, indent=2)\n"
   ]
  },
  {
   "cell_type": "code",
   "execution_count": 59,
   "metadata": {},
   "outputs": [
    {
     "name": "stdout",
     "output_type": "stream",
     "text": [
      "{'prefix': '', 'suffix': '', 'capitalization': [], 'part_of_speech': [], 'length': [], 'maximum': '', 'shapes': [], 'token': ['hello'], 'minimum': '', 'numbers': [], 'contain_digit': '', 'is_in_vocabulary': '', 'is_out_of_vocabulary': '', 'is_required': 'true', 'type': 'word', 'is_in_output': 'false'}\n"
     ]
    }
   ],
   "source": [
    "\n",
    "print word_token(token=[\"hello\"])"
   ]
  }
 ],
 "metadata": {
  "kernelspec": {
   "display_name": "Python [conda env:etk_env]",
   "language": "python",
   "name": "conda-env-etk_env-py"
  },
  "language_info": {
   "codemirror_mode": {
    "name": "ipython",
    "version": 2
   },
   "file_extension": ".py",
   "mimetype": "text/x-python",
   "name": "python",
   "nbconvert_exporter": "python",
   "pygments_lexer": "ipython2",
   "version": "2.7.12"
  }
 },
 "nbformat": 4,
 "nbformat_minor": 1
}
