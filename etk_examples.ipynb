{
 "cells": [
  {
   "cell_type": "markdown",
   "metadata": {},
   "source": [
    "### Extract Phone"
   ]
  },
  {
   "cell_type": "code",
   "execution_count": 1,
   "metadata": {},
   "outputs": [
    {
     "name": "stdout",
     "output_type": "stream",
     "text": [
      "[{   'obfuscation': 'False', 'value': '6022284192'}]\n"
     ]
    }
   ],
   "source": [
    "from etk.core import Core\n",
    "import pprint\n",
    "\n",
    "c = Core()\n",
    "\n",
    "# you can extract phone from either url or text(tokens), difference is in the way url needs to be tokenized\n",
    "url = 'http://some_url.com/ad/town/602-228-4192/1/310054'\n",
    "source_type = 'url'\n",
    "include_context = True\n",
    "output_format = 'obfuscation' # (or 'list')\n",
    "extracted_phone = c._extract_phone(url, source_type, include_context, output_format)\n",
    "\n",
    "pp = pprint.PrettyPrinter(indent=4)\n",
    "pp.pprint(extracted_phone)"
   ]
  },
  {
   "cell_type": "code",
   "execution_count": 2,
   "metadata": {},
   "outputs": [
    {
     "name": "stdout",
     "output_type": "stream",
     "text": [
      "[{   'obfuscation': 'True', 'value': '4802671904'}]\n"
     ]
    }
   ],
   "source": [
    "from etk.core import Core\n",
    "import pprint\n",
    "\n",
    "c = Core()\n",
    "\n",
    "# in this example we'll extract an obfuscated phone\n",
    "text = 'new person in town searching for a great date wiff u  \\\n",
    "        fresh person here searching 4 a great date wiff you Sweet new person in town \\\n",
    "        seeking for a good date with u for80 2sixseven one9zerofor'\n",
    "\n",
    "#phone extractor needs tokens as inputs, so here goes\n",
    "tokens = c.extract_tokens_from_crf(c.extract_crftokens(text)) # looks complicated, needs to be simplified\n",
    "source_type = 'text'\n",
    "include_context = True\n",
    "output_format = 'obfuscation' # (or 'list')\n",
    "extracted_phone = c._extract_phone(tokens, source_type, include_context, output_format)\n",
    "\n",
    "pp = pprint.PrettyPrinter(indent=4)\n",
    "pp.pprint(extracted_phone)"
   ]
  },
  {
   "cell_type": "markdown",
   "metadata": {},
   "source": [
    "### Extract Weight"
   ]
  },
  {
   "cell_type": "code",
   "execution_count": 15,
   "metadata": {},
   "outputs": [
    {
     "name": "stdout",
     "output_type": "stream",
     "text": [
      "[   {   'context': {   'end': 20, 'start': 14},\n",
      "        'metadata': {   'unit': 'pound'},\n",
      "        'value': '105'}]\n"
     ]
    }
   ],
   "source": [
    "from etk.core import Core\n",
    "import pprint\n",
    "\n",
    "c = Core()\n",
    "text = \"Measurements: 105lbs 5\\'2\\\" with a beautiful face\"\n",
    "extracted_weight = c._extract_weight(text)\n",
    "\n",
    "pp = pprint.PrettyPrinter(indent=4)\n",
    "pp.pprint(extracted_weight)\n"
   ]
  },
  {
   "cell_type": "markdown",
   "metadata": {},
   "source": [
    "### Extract  Height"
   ]
  },
  {
   "cell_type": "code",
   "execution_count": 16,
   "metadata": {},
   "outputs": [
    {
     "name": "stdout",
     "output_type": "stream",
     "text": [
      "[   {   'context': {   'end': 40, 'start': 34},\n",
      "        'metadata': {   'unit': 'centimeter'},\n",
      "        'value': '155'},\n",
      "    {   'context': {   'end': 40, 'start': 30},\n",
      "        'metadata': {   'unit': 'centimeter'},\n",
      "        'value': '155'}]\n"
     ]
    }
   ],
   "source": [
    "from etk.core import Core\n",
    "import pprint\n",
    "\n",
    "c = Core()\n",
    "text = \"Nationality:   Swedish  Height:   155 cm   Weight:   47 Kg   Hair Colour:   Blonde\"\n",
    "extracted_height = c._extract_height(text)\n",
    "\n",
    "pp = pprint.PrettyPrinter(indent=4)\n",
    "pp.pprint(extracted_height)"
   ]
  },
  {
   "cell_type": "markdown",
   "metadata": {},
   "source": [
    "### Extract email"
   ]
  },
  {
   "cell_type": "code",
   "execution_count": 17,
   "metadata": {},
   "outputs": [
    {
     "name": "stdout",
     "output_type": "stream",
     "text": [
      "[   {   'context': {   'end': 34, 'obfuscation': False, 'start': 14},\n",
      "        'value': 'some_email@gmail.com'}]\n"
     ]
    }
   ],
   "source": [
    "from etk.core import Core\n",
    "c = Core()\n",
    "import pprint\n",
    "\n",
    "text = 'contact me at some_email@gmail.com'\n",
    "extracted_email = c._extract_email(text, True)\n",
    "\n",
    "pp = pprint.PrettyPrinter(indent=4)\n",
    "pp.pprint(extracted_email)"
   ]
  },
  {
   "cell_type": "markdown",
   "metadata": {},
   "source": [
    "### Extract using Regex"
   ]
  },
  {
   "cell_type": "code",
   "execution_count": 18,
   "metadata": {},
   "outputs": [
    {
     "name": "stdout",
     "output_type": "stream",
     "text": [
      "[{   'context': {   'end': 28, 'start': 10}, 'value': 'jessica'}]\n"
     ]
    }
   ],
   "source": [
    "from etk.core import Core\n",
    "c = Core()\n",
    "import pprint\n",
    "\n",
    "regex = \"(?:my[\\\\s]+name[\\\\s]+is[\\\\s]+([-a-z0-9@$!]+))\"\n",
    "text = \"hi there, my name is jessica, join me at so and so\"\n",
    "include_context = True # return the start and end index of the regex match in string\n",
    "flags = 0\n",
    "extracted_name = c._extract_using_regex(text, regex, include_context, flags)\n",
    "\n",
    "pp = pprint.PrettyPrinter(indent=4)\n",
    "pp.pprint(extracted_name)"
   ]
  }
 ],
 "metadata": {
  "anaconda-cloud": {},
  "kernelspec": {
   "display_name": "Python [conda env:etk_env]",
   "language": "python",
   "name": "conda-env-etk_env-py"
  },
  "language_info": {
   "codemirror_mode": {
    "name": "ipython",
    "version": 2
   },
   "file_extension": ".py",
   "mimetype": "text/x-python",
   "name": "python",
   "nbconvert_exporter": "python",
   "pygments_lexer": "ipython2",
   "version": "2.7.12"
  }
 },
 "nbformat": 4,
 "nbformat_minor": 1
}
