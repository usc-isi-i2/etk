{
 "cells": [
  {
   "cell_type": "markdown",
   "metadata": {
    "collapsed": true
   },
   "source": [
    "# Custom Spacy Rules"
   ]
  },
  {
   "cell_type": "code",
   "execution_count": 2,
   "metadata": {
    "collapsed": true
   },
   "outputs": [],
   "source": [
    "def generic_token(type=\"word\", token=[], shape=[], number =[], capitalization=[], part_of_speech=[], length=[], minimum=\"\", maximum=\"\", prefix=\"\", suffix=\"\", is_followed_by_space=\"\", is_required=\"true\", is_in_output=\"true\", is_out_of_vocabulary=\"\", is_in_vocabulary=\"\", contain_digit=\"\"):\n",
    "    return {\n",
    "        \"type\": type,\n",
    "        \"token\": token,\n",
    "        \"shapes\": shape,\n",
    "        \"numbers\": number,\n",
    "        \"capitalization\": capitalization,\n",
    "        \"part_of_speech\": part_of_speech,\n",
    "        \"length\": length,\n",
    "        \"minimum\": minimum,\n",
    "        \"maximum\": maximum,\n",
    "        \"prefix\": prefix,\n",
    "        \"suffix\": suffix,\n",
    "        \"is_required\": is_required,\n",
    "        \"is_in_output\": is_in_output,\n",
    "        \"is_out_of_vocabulary\": is_out_of_vocabulary,\n",
    "        \"is_in_vocabulary\": is_in_vocabulary,\n",
    "        \"contain_digit\": contain_digit\n",
    "    }\n",
    "def word_token(token=[], capitalization=[], part_of_speech=[], length=[], minimum=\"\", maximum=\"\", prefix=\"\", suffix=\"\", is_required=\"true\", is_in_output=\"false\", is_out_of_vocabulary=\"\", is_in_vocabulary=\"\", contain_digit=\"\"):\n",
    "     return generic_token(type=\"word\", token=token, capitalization=capitalization, part_of_speech=part_of_speech, length=length, minimum=minimum, maximum=maximum,prefix=prefix, suffix=suffix, is_required=is_required, is_in_output=is_in_output, is_out_of_vocabulary=is_out_of_vocabulary, is_in_vocabulary=is_in_vocabulary, contain_digit=contain_digit)\n",
    "    \n",
    "def punctuation_token(token=[], capitalization=[], part_of_speech=[], length=[], minimum=\"\", maximum=\"\", prefix=\"\", suffix=\"\",  is_required=\"true\", is_in_output=\"false\", is_out_of_vocabulary=\"\", is_in_vocabulary=\"\", contain_digit=\"\"):\n",
    "     return generic_token(type=\"punctuation\", token=token, capitalization=capitalization, part_of_speech=part_of_speech, length=length, minimum=minimum, maximum=maximum,prefix=prefix, suffix=suffix, is_required=is_required, is_in_output=is_in_output, is_out_of_vocabulary=is_out_of_vocabulary, is_in_vocabulary=is_in_vocabulary, contain_digit=contain_digit)\n",
    "\n",
    "def shape_token(shape=[], capitalization=[], part_of_speech=[], length=[], minimum=\"\", maximum=\"\", prefix=\"\", suffix=\"\",is_required=\"true\", is_in_output=\"false\", is_out_of_vocabulary=\"\", is_in_vocabulary=\"\", contain_digit=\"\"):\n",
    "     return generic_token(type=\"shape\", shape=shape, capitalization=capitalization, part_of_speech=part_of_speech, length=length, minimum=minimum, maximum=maximum,prefix=prefix, suffix=suffix, is_required=is_required, is_in_output=is_in_output, is_out_of_vocabulary=is_out_of_vocabulary, is_in_vocabulary=is_in_vocabulary, contain_digit=contain_digit)\n",
    "\n",
    "def number_token(number =[], capitalization=[], part_of_speech=[], length=[], minimum=\"\", maximum=\"\", prefix=\"\", suffix=\"\",is_required=\"true\", is_in_output=\"false\", is_out_of_vocabulary=\"\", is_in_vocabulary=\"\", contain_digit=\"\"):\n",
    "     return generic_token(type=\"number\", number=number, capitalization=capitalization, part_of_speech=part_of_speech, length=length, minimum=minimum, maximum=maximum,prefix=prefix, suffix=suffix, is_required=is_required, is_in_output=is_in_output, is_out_of_vocabulary=is_out_of_vocabulary, is_in_vocabulary=is_in_vocabulary, contain_digit=contain_digit)\n",
    "\n",
    "\n",
    "    \n",
    "    \n",
    "    "
   ]
  },
  {
   "cell_type": "code",
   "execution_count": 3,
   "metadata": {
    "collapsed": true
   },
   "outputs": [],
   "source": [
    "sampe_rules = {\n",
    "  \"rules\": [\n",
    "      {\n",
    "      \"identifier\": \"an indentifier\",\n",
    "      \"description\": \"a description\",\n",
    "      \"is_active\": \"true/false\",\n",
    "      \"output_format\": \"\",\n",
    "      \"pattern\": [\n",
    "        {\n",
    "          \"type\": \"word\",\n",
    "          \"token\": [\"tOWN\", \"job\"],\n",
    "          \"capitalization\": [\"title\", \"upper\", \"mixed\", \"lower\", \"exact\"],\n",
    "          \"part_of_speech\": [\"noun\", \"pronoun\", \"NOT punctuation\"],\n",
    "          \"length\": [],\n",
    "          \"can_include_digits\": \"true/false\",\n",
    "          \"prefix\": \"ssss\",\n",
    "          \"suffix\": \"\",\n",
    "#           \"is_followed_by_space\": \"true/false\",\n",
    "          \"is_required\": \"false\",\n",
    "          \"is_in_output\": \"true/false\",\n",
    "          \"is_out_of_vocabulary\": \"true\",\n",
    "          \"is_in_vocabulary\":\"\",\n",
    "          \"contain_digit\":\"\"\n",
    "        },\n",
    "        {\n",
    "          \"type\": \"word\",\n",
    "          \"token\": [],\n",
    "          \"capitalization\": [\"lower\", \"upper\", \"mixed\"],\n",
    "          \"part_of_speech\": [],\n",
    "          \"length\": [5, 7],\n",
    "          \"prefix\": \"SA\",\n",
    "          \"suffix\": \"WF\",\n",
    "          \"is_followed_by_space\": \"true/false\",\n",
    "          \"is_required\": \"true\",\n",
    "          \"is_in_output\": \"true/false\",\n",
    "          \"is_out_of_vocabulary\": \"true\",\n",
    "          \"is_in_vocabulary\":\"\",\n",
    "          \"contain_digit\":\"\"\n",
    "        },\n",
    "        {\n",
    "          \"type\": \"word\",\n",
    "          \"token\": [],\n",
    "          \"capitalization\": [],\n",
    "          \"part_of_speech\": [],\n",
    "          \"length\": [],\n",
    "          \"prefix\": \"EEW\",\n",
    "          \"suffix\": \"RHI\",\n",
    "          \"is_followed_by_space\": \"true/false\",\n",
    "          \"is_required\": \"false\",\n",
    "          \"is_in_output\": \"true/false\",\n",
    "          \"is_out_of_vocabulary\": \"true\",\n",
    "          \"is_in_vocabulary\":\"\",\n",
    "          \"contain_digit\":\"\"\n",
    "        },\n",
    "        {\n",
    "          \"type\": \"number\",\n",
    "          \"tokens\": [],\n",
    "          \"length\": [],\n",
    "          \"prefix\": [],\n",
    "          \"suffix\": [],\n",
    "          \"min\":\"\",\n",
    "          \"max\":\"\",\n",
    "          \"is_followed_by_space\": \"true/false\",\n",
    "          \"is_required\": \"true/false\",\n",
    "          \"is_in_output\": \"true/false\"\n",
    "        },\n",
    "        {\n",
    "          \"type\": \"shape\",\n",
    "          \"shapes\": [\"xxxx\", \"xxxxxx\", \"XXXXXdd.dddXXxxxxxxx\"],\n",
    "          \"part_of_speech\": [],\n",
    "          \"prefix\": \"ss\",\n",
    "          \"suffix\": \"pp\",\n",
    "          \"is_followed_by_space\": \"true/false\",\n",
    "          \"is_required\": \"true\",\n",
    "          \"is_in_output\": \"true\"\n",
    "        },\n",
    "        {\n",
    "          \"type\": \"punctuation\",\n",
    "          \"token\": [\",\", \"?\"],\n",
    "          \"is_followed_by_space\": \"true/false\",\n",
    "          \"is_required\": \"false\",\n",
    "          \"is_in_output\": \"true\"\n",
    "        },\n",
    "        {\n",
    "          \"type\": \"symbol\",\n",
    "          \"token\": [],\n",
    "          \"is_followed_by_space\": \"true/false\",\n",
    "          \"is_required\": \"true/false\",\n",
    "          \"is_in_output\": \"true/false\"\n",
    "        }\n",
    "      ]\n",
    "    }\n",
    "  ]\n",
    "}"
   ]
  },
  {
   "cell_type": "code",
   "execution_count": 4,
   "metadata": {
    "collapsed": true
   },
   "outputs": [],
   "source": [
    "import json\n",
    "from etk.core import Core\n",
    "c = Core()"
   ]
  },
  {
   "cell_type": "code",
   "execution_count": 5,
   "metadata": {},
   "outputs": [
    {
     "name": "stdout",
     "output_type": "stream",
     "text": [
      "{'text': u'  4 hours-600 USD ,1 hr 60 USD ,2 hrs 100 USD , 1 hr: 80 USd ,2 hrs: 135 USd ,1 hour-900 USD,1hours - 130 usd ,A + 150! Incall: Outcall: 20 mins-300 roses, 30 minutes - 200 roses 90 min - 450 roses 1h - 300 roses 350 roses 2h - 550 roses 600 roses 3h - 750 roses 800 roses night - 1300 roses\\n(extra Roses ) RATES: 30min - 150 Roses ; 40min - 200 Roses ; 1H - 250 Roses ; 1H OUTCALL- 300 Roses ; 2H - 400 Roses ; 3H - 550 Roses ; 4H - 650 Roses ; 12H - 1200 Roses ;\\n40!ss 40!ss 40!ss Specials! ? 60! hhr 60! hhr 60! hhr Speci\\n120 hhr 120 hhr 120 hhr \\uff0c150 Hr 150 Hr 150 Hr 150 Hr 150 Hr 150 \\n30 minutes 40 dollars 60 minutes 49.9 dollars 90 minutes 90 dollars 120 minutes 120 dollars  \\n 1 shot 30 minutes 2500 RMB 1 hour 2 shots 4000 RMB 2 hours 6000 RMB Dinner date (6 hours) 10,000 RMB Overnight 12 hours 12,000 RMB \\n   800 EUR(~912 USD ) 3 hours:    1,200 EUR(~1,369 USD ) 8 hours:    2,000 EUR(~2,281 USD ) 12 hours:    2,500 EUR(~2,851 USD ) 24 hours:    3,000 EUR(~3,421 USD ) 48 hours: \\n $500 USD 1hr,$5500 USD 12hrs, $1800 USD 4hrs, 90 usd for 90mins, 90 usd per hour , 100 dollars per hours, 70 usd 30mn, \\n 1 dollar for 1 minute, 30 dollars for 30 minutes, $260 USD 30 min, $140 USD 30 min, $50 dollar 40 min\\n 2hrs for 2oo dollars , 3hrs for 300 dollars , 250 USD 120 minute\\n thousand dollars per week \\n hundred dollars half hour \\n 1 hr 60 USD, 2 hrs 100 USD, One hour 63 USD, Two hours 123 USD \\n 1hr = 200 USD ,1HR |120 USD\\n200 to 300 USD 2-4 Hours, 400 to 500 USD Full Night,  \\n 250 USD hh , 550 USD hr, \\n 1 HOUR - $220 USD \\u25cf 2 HOUR - $420 USD \\u25cf 3 HOUR - $600 USD,  1 hour - $600 / 2 hours - $1200 / 3 hours - $1500   \\n 123 USD Three hours ,183 USD Four hours, ,\\n  90 minutes. $90 USD, 30 minutos: $200  \\n 1 hr - 500 $ USD, 2 hr - 1000 $ USD\\n 2 hour :600$ USD \\n 180 USD / hour  \\n 1 HOUR with me 400 usd, 2 HOUR with me 800 usd   \\n 1 hour $140(1x) , 90 min for $180(2x) , 2 hours for $220  \\n $80 for 15m $100 for 30m $180 for 60m  ', 'simple_tokens_original_case': [u'4', u'hours', u'-', u'600', u'USD', u',', u'1', u'hr', u'60', u'USD', u',', u'2', u'hrs', u'100', u'USD', u',', u'1', u'hr', u':', u'80', u'USd', u',', u'2', u'hrs', u':', u'135', u'USd', u',', u'1', u'hour', u'-', u'900', u'USD', u',', u'1hours', u'-', u'130', u'usd', u',', u'A', u'+', u'150', u'!', u'Incall', u':', u'Outcall', u':', u'20', u'mins', u'-', u'300', u'roses', u',', u'30', u'minutes', u'-', u'200', u'roses', u'90', u'min', u'-', u'450', u'roses', u'1h', u'-', u'300', u'roses', u'350', u'roses', u'2h', u'-', u'550', u'roses', u'600', u'roses', u'3h', u'-', u'750', u'roses', u'800', u'roses', u'night', u'-', u'1300', u'roses', u'\\n', u'(', u'extra', u'Roses', u')', u'RATES', u':', u'30min', u'-', u'150', u'Roses', u';', u'40min', u'-', u'200', u'Roses', u';', u'1H', u'-', u'250', u'Roses', u';', u'1H', u'OUTCALL', u'-', u'300', u'Roses', u';', u'2H', u'-', u'400', u'Roses', u';', u'3H', u'-', u'550', u'Roses', u';', u'4H', u'-', u'650', u'Roses', u';', u'12H', u'-', u'1200', u'Roses', u';', u'\\n', u'40', u'!', u'ss', u'40', u'!', u'ss', u'40', u'!', u'ss', u'Specials', u'!', u'?', u'60', u'!', u'hhr', u'60', u'!', u'hhr', u'60', u'!', u'hhr', u'Speci', u'\\n', u'120', u'hhr', u'120', u'hhr', u'120', u'hhr', u'\\uff0c150', u'Hr', u'150', u'Hr', u'150', u'Hr', u'150', u'Hr', u'150', u'Hr', u'150', u'\\n', u'30', u'minutes', u'40', u'dollars', u'60', u'minutes', u'49', u'.', u'9', u'dollars', u'90', u'minutes', u'90', u'dollars', u'120', u'minutes', u'120', u'dollars', u'\\n', u'1', u'shot', u'30', u'minutes', u'2500', u'RMB', u'1', u'hour', u'2', u'shots', u'4000', u'RMB', u'2', u'hours', u'6000', u'RMB', u'Dinner', u'date', u'(', u'6', u'hours', u')', u'10', u',', u'000', u'RMB', u'Overnight', u'12', u'hours', u'12', u',', u'000', u'RMB', u'\\n', u'800', u'EUR', u'(', u'~', u'912', u'USD', u')', u'3', u'hours', u':', u'1', u',', u'200', u'EUR', u'(', u'~', u'1', u',', u'369', u'USD', u')', u'8', u'hours', u':', u'2', u',', u'000', u'EUR', u'(', u'~', u'2', u',', u'281', u'USD', u')', u'12', u'hours', u':', u'2', u',', u'500', u'EUR', u'(', u'~', u'2', u',', u'851', u'USD', u')', u'24', u'hours', u':', u'3', u',', u'000', u'EUR', u'(', u'~', u'3', u',', u'421', u'USD', u')', u'48', u'hours', u':', u'\\n', u'$', u'500', u'USD', u'1hr', u',', u'$', u'5500', u'USD', u'12hrs', u',', u'$', u'1800', u'USD', u'4hrs', u',', u'90', u'usd', u'for', u'90mins', u',', u'90', u'usd', u'per', u'hour', u',', u'100', u'dollars', u'per', u'hours', u',', u'70', u'usd', u'30mn', u',', u'\\n', u'1', u'dollar', u'for', u'1', u'minute', u',', u'30', u'dollars', u'for', u'30', u'minutes', u',', u'$', u'260', u'USD', u'30', u'min', u',', u'$', u'140', u'USD', u'30', u'min', u',', u'$', u'50', u'dollar', u'40', u'min', u'\\n', u'2hrs', u'for', u'2oo', u'dollars', u',', u'3hrs', u'for', u'300', u'dollars', u',', u'250', u'USD', u'120', u'minute', u'\\n', u'thousand', u'dollars', u'per', u'week', u'\\n', u'hundred', u'dollars', u'half', u'hour', u'\\n', u'1', u'hr', u'60', u'USD', u',', u'2', u'hrs', u'100', u'USD', u',', u'One', u'hour', u'63', u'USD', u',', u'Two', u'hours', u'123', u'USD', u'\\n', u'1hr', u'=', u'200', u'USD', u',', u'1HR', u'|', u'120', u'USD', u'\\n', u'200', u'to', u'300', u'USD', u'2', u'-', u'4', u'Hours', u',', u'400', u'to', u'500', u'USD', u'Full', u'Night', u',', u'\\n', u'250', u'USD', u'hh', u',', u'550', u'USD', u'hr', u',', u'\\n', u'1', u'HOUR', u'-', u'$', u'220', u'USD', u'\\u25cf', u'2', u'HOUR', u'-', u'$', u'420', u'USD', u'\\u25cf', u'3', u'HOUR', u'-', u'$', u'600', u'USD', u',', u'1', u'hour', u'-', u'$', u'600', u'/', u'2', u'hours', u'-', u'$', u'1200', u'/', u'3', u'hours', u'-', u'$', u'1500', u'\\n', u'123', u'USD', u'Three', u'hours', u',', u'183', u'USD', u'Four', u'hours', u',', u',', u'\\n', u'90', u'minutes', u'.', u'$', u'90', u'USD', u',', u'30', u'minutos', u':', u'$', u'200', u'\\n', u'1', u'hr', u'-', u'500', u'$', u'USD', u',', u'2', u'hr', u'-', u'1000', u'$', u'USD', u'\\n', u'2', u'hour', u':', u'600', u'$', u'USD', u'\\n', u'180', u'USD', u'/', u'hour', u'\\n', u'1', u'HOUR', u'with', u'me', u'400', u'usd', u',', u'2', u'HOUR', u'with', u'me', u'800', u'usd', u'\\n', u'1', u'hour', u'$', u'140', u'(', u'1x', u')', u',', u'90', u'min', u'for', u'$', u'180', u'(', u'2x', u')', u',', u'2', u'hours', u'for', u'$', u'220', u'\\n', u'$', u'80', u'for', u'15m', u'$', u'100', u'for', u'30m', u'$', u'180', u'for', u'60m']}\n"
     ]
    }
   ],
   "source": [
    "# Text to test the rules\n",
    "t = []\n",
    "t.append(u\"  4 hours-600 USD ,1 hr 60 USD ,2 hrs 100 USD , 1 hr: 80 USd ,2 hrs: 135 USd ,1 hour-900 USD,1hours - 130 usd ,A + 150! Incall: Outcall: 20 mins-300 roses, 30 minutes - 200 roses 90 min - 450 roses 1h - 300 roses 350 roses 2h - 550 roses 600 roses 3h - 750 roses 800 roses night - 1300 roses\")\n",
    "t.append(u\"(extra Roses ) RATES: 30min - 150 Roses ; 40min - 200 Roses ; 1H - 250 Roses ; 1H OUTCALL- 300 Roses ; 2H - 400 Roses ; 3H - 550 Roses ; 4H - 650 Roses ; 12H - 1200 Roses ;\")\n",
    "t.append(u\"40!ss 40!ss 40!ss Specials! ? 60! hhr 60! hhr 60! hhr Speci\")\n",
    "t.append(u\"120 hhr 120 hhr 120 hhr ，150 Hr 150 Hr 150 Hr 150 Hr 150 Hr 150 \")\n",
    "t.append(u\"30 minutes 40 dollars 60 minutes 49.9 dollars 90 minutes 90 dollars 120 minutes 120 dollars  \") \n",
    "t.append(u\" 1 shot 30 minutes 2500 RMB 1 hour 2 shots 4000 RMB 2 hours 6000 RMB Dinner date (6 hours) 10,000 RMB Overnight 12 hours 12,000 RMB \")\n",
    "t.append(u\"   800 EUR(~912 USD ) 3 hours:    1,200 EUR(~1,369 USD ) 8 hours:    2,000 EUR(~2,281 USD ) 12 hours:    2,500 EUR(~2,851 USD ) 24 hours:    3,000 EUR(~3,421 USD ) 48 hours: \")\n",
    "t.append(u\" $500 USD 1hr,$5500 USD 12hrs, $1800 USD 4hrs, 90 usd for 90mins, 90 usd per hour , 100 dollars per hours, 70 usd 30mn, \")\n",
    "t.append(u\" 1 dollar for 1 minute, 30 dollars for 30 minutes, $260 USD 30 min, $140 USD 30 min, $50 dollar 40 min\")\n",
    "t.append(u\" 2hrs for 2oo dollars , 3hrs for 300 dollars , 250 USD 120 minute\")\n",
    "t.append(u\" thousand dollars per week \")\n",
    "t.append(u\" hundred dollars half hour \")\n",
    "t.append(u\" 1 hr 60 USD, 2 hrs 100 USD, One hour 63 USD, Two hours 123 USD \")\n",
    "t.append(u\" 1hr = 200 USD ,1HR |120 USD\")\n",
    "t.append(u\"200 to 300 USD 2-4 Hours, 400 to 500 USD Full Night,  \")\n",
    "t.append(u\" 250 USD hh , 550 USD hr, \")\n",
    "t.append(u\" 1 HOUR - $220 USD ● 2 HOUR - $420 USD ● 3 HOUR - $600 USD,  1 hour - $600 / 2 hours - $1200 / 3 hours - $1500   \")\n",
    "t.append(u\" 123 USD Three hours ,183 USD Four hours, ,\")\n",
    "t.append(u\"  90 minutes. $90 USD, 30 minutos: $200  \")\n",
    "t.append(u\" 1 hr - 500 $ USD, 2 hr - 1000 $ USD\")\n",
    "t.append(u\" 2 hour :600$ USD \")\n",
    "t.append(u\" 180 USD / hour  \")\n",
    "t.append(u\" 1 HOUR with me 400 usd, 2 HOUR with me 800 usd   \")\n",
    "t.append(u\" 1 hour $140(1x) , 90 min for $180(2x) , 2 hours for $220  \")\n",
    "t.append(u\" $80 for 15m $100 for 30m $180 for 60m  \")\n",
    "\n",
    "\n",
    " \n",
    "\n",
    "\n",
    "\n",
    "d = dict()\n",
    "d['text'] = \"\\n\".join(t)\n",
    "d['simple_tokens_original_case'] = c.extract_tokens_from_crf(c.extract_crftokens(d['text'], lowercase=False))\n",
    "\n",
    "print d\n",
    "\n",
    "config = dict()\n",
    "config['field_name'] = 'field02'\n"
   ]
  },
  {
   "cell_type": "code",
   "execution_count": 6,
   "metadata": {},
   "outputs": [
    {
     "name": "stdout",
     "output_type": "stream",
     "text": [
      "text:   4 hours-600 USD ,1 hr 60 USD ,2 hrs 100 USD , 1 hr: 80 USd ,2 hrs: 135 USd ,1 hour-900 USD,1hours - 130 usd ,A + 150! Incall: Outcall: 20 mins-300 roses, 30 minutes - 200 roses 90 min - 450 roses 1h - 300 roses 350 roses 2h - 550 roses 600 roses 3h - 750 roses 800 roses night - 1300 roses\n",
      "(extra Roses ) RATES: 30min - 150 Roses ; 40min - 200 Roses ; 1H - 250 Roses ; 1H OUTCALL- 300 Roses ; 2H - 400 Roses ; 3H - 550 Roses ; 4H - 650 Roses ; 12H - 1200 Roses ;\n",
      "40!ss 40!ss 40!ss Specials! ? 60! hhr 60! hhr 60! hhr Speci\n",
      "120 hhr 120 hhr 120 hhr ，150 Hr 150 Hr 150 Hr 150 Hr 150 Hr 150 \n",
      "30 minutes 40 dollars 60 minutes 49.9 dollars 90 minutes 90 dollars 120 minutes 120 dollars  \n",
      " 1 shot 30 minutes 2500 RMB 1 hour 2 shots 4000 RMB 2 hours 6000 RMB Dinner date (6 hours) 10,000 RMB Overnight 12 hours 12,000 RMB \n",
      "   800 EUR(~912 USD ) 3 hours:    1,200 EUR(~1,369 USD ) 8 hours:    2,000 EUR(~2,281 USD ) 12 hours:    2,500 EUR(~2,851 USD ) 24 hours:    3,000 EUR(~3,421 USD ) 48 hours: \n",
      " $500 USD 1hr,$5500 USD 12hrs, $1800 USD 4hrs, 90 usd for 90mins, 90 usd per hour , 100 dollars per hours, 70 usd 30mn, \n",
      " 1 dollar for 1 minute, 30 dollars for 30 minutes, $260 USD 30 min, $140 USD 30 min, $50 dollar 40 min\n",
      " 2hrs for 2oo dollars , 3hrs for 300 dollars , 250 USD 120 minute\n",
      " thousand dollars per week \n",
      " hundred dollars half hour \n",
      " 1 hr 60 USD, 2 hrs 100 USD, One hour 63 USD, Two hours 123 USD \n",
      " 1hr = 200 USD ,1HR |120 USD\n",
      "200 to 300 USD 2-4 Hours, 400 to 500 USD Full Night,  \n",
      " 250 USD hh , 550 USD hr, \n",
      " 1 HOUR - $220 USD ● 2 HOUR - $420 USD ● 3 HOUR - $600 USD,  1 hour - $600 / 2 hours - $1200 / 3 hours - $1500   \n",
      " 123 USD Three hours ,183 USD Four hours, ,\n",
      "  90 minutes. $90 USD, 30 minutos: $200  \n",
      " 1 hr - 500 $ USD, 2 hr - 1000 $ USD\n",
      " 2 hour :600$ USD \n",
      " 180 USD / hour  \n",
      " 1 HOUR with me 400 usd, 2 HOUR with me 800 usd   \n",
      " 1 hour $140(1x) , 90 min for $180(2x) , 2 hours for $220  \n",
      " $80 for 15m $100 for 30m $180 for 60m  \n"
     ]
    },
    {
     "data": {
      "text/plain": [
       "['4hours-600USD',\n",
       " '1hr-60USD',\n",
       " '2hrs-100USD',\n",
       " '1hour-900USD',\n",
       " '20mins-300roses',\n",
       " '30minutes-200roses',\n",
       " '90min-450roses',\n",
       " '30minutes-40dollars',\n",
       " '90minutes-90dollars',\n",
       " '120minutes-120dollars',\n",
       " '1hr-60USD',\n",
       " '2hrs-100USD']"
      ]
     },
     "execution_count": 6,
     "metadata": {},
     "output_type": "execute_result"
    }
   ],
   "source": [
    "# 20 mins-300 roses, 1H - 250 Roses,      1 hr 60 USD, 2 hrs 100 USD,  1 hr: 80 USd\n",
    "\n",
    "rule_01 = {\n",
    "      \"identifier\": \"price_rule_us\",\n",
    "      \"description\": \"a description\",\n",
    "      \"is_active\": \"true\",\n",
    "      \"output_format\": \"{1}{2}-{3}{4}\",\n",
    "      \"pattern\": [\n",
    "            number_token(is_in_output=\"true\"),\n",
    "            word_token(token=[\"min\",\"mins\",\"minutes\", \"h\",\"H\",\"hr\",\"hrs\", \"hour\",\"hours\",\"night\", \"nights\"], is_in_output=\"true\"),\n",
    "            punctuation_token(token=[\"-\",\":\"], is_required=\"false\", is_in_output=\"false\"),\n",
    "            number_token(is_in_output=\"true\"),\n",
    "            word_token(token=[\"roses\", \"dollars\", \"RMB\", \"EUR\", \"USD\"], is_in_output=\"true\")\n",
    "      ]\n",
    "    }\n",
    "\n",
    "field_rules = {\n",
    "  \"rules\": [\n",
    "      rule_01\n",
    "  ]\n",
    "}\n",
    "\n",
    "print \"text:\", d['text']\n",
    "results = c.extract_using_custom_spacy(d, config, field_rules=field_rules)\n",
    "tele_lst = []\n",
    "for i in results:\n",
    "    tele_lst.append(''.join((i.values()[1]).split()))\n",
    "tele_lst"
   ]
  },
  {
   "cell_type": "code",
   "execution_count": 7,
   "metadata": {},
   "outputs": [
    {
     "name": "stdout",
     "output_type": "stream",
     "text": [
      "text:   4 hours-600 USD ,1 hr 60 USD ,2 hrs 100 USD , 1 hr: 80 USd ,2 hrs: 135 USd ,1 hour-900 USD,1hours - 130 usd ,A + 150! Incall: Outcall: 20 mins-300 roses, 30 minutes - 200 roses 90 min - 450 roses 1h - 300 roses 350 roses 2h - 550 roses 600 roses 3h - 750 roses 800 roses night - 1300 roses\n",
      "(extra Roses ) RATES: 30min - 150 Roses ; 40min - 200 Roses ; 1H - 250 Roses ; 1H OUTCALL- 300 Roses ; 2H - 400 Roses ; 3H - 550 Roses ; 4H - 650 Roses ; 12H - 1200 Roses ;\n",
      "40!ss 40!ss 40!ss Specials! ? 60! hhr 60! hhr 60! hhr Speci\n",
      "120 hhr 120 hhr 120 hhr ，150 Hr 150 Hr 150 Hr 150 Hr 150 Hr 150 \n",
      "30 minutes 40 dollars 60 minutes 49.9 dollars 90 minutes 90 dollars 120 minutes 120 dollars  \n",
      " 1 shot 30 minutes 2500 RMB 1 hour 2 shots 4000 RMB 2 hours 6000 RMB Dinner date (6 hours) 10,000 RMB Overnight 12 hours 12,000 RMB \n",
      "   800 EUR(~912 USD ) 3 hours:    1,200 EUR(~1,369 USD ) 8 hours:    2,000 EUR(~2,281 USD ) 12 hours:    2,500 EUR(~2,851 USD ) 24 hours:    3,000 EUR(~3,421 USD ) 48 hours: \n",
      " $500 USD 1hr,$5500 USD 12hrs, $1800 USD 4hrs, 90 usd for 90mins, 90 usd per hour , 100 dollars per hours, 70 usd 30mn, \n",
      " 1 dollar for 1 minute, 30 dollars for 30 minutes, $260 USD 30 min, $140 USD 30 min, $50 dollar 40 min\n",
      " 2hrs for 2oo dollars , 3hrs for 300 dollars , 250 USD 120 minute\n",
      " thousand dollars per week \n",
      " hundred dollars half hour \n",
      " 1 hr 60 USD, 2 hrs 100 USD, One hour 63 USD, Two hours 123 USD \n",
      " 1hr = 200 USD ,1HR |120 USD\n",
      "200 to 300 USD 2-4 Hours, 400 to 500 USD Full Night,  \n",
      " 250 USD hh , 550 USD hr, \n",
      " 1 HOUR - $220 USD ● 2 HOUR - $420 USD ● 3 HOUR - $600 USD,  1 hour - $600 / 2 hours - $1200 / 3 hours - $1500   \n",
      " 123 USD Three hours ,183 USD Four hours, ,\n",
      "  90 minutes. $90 USD, 30 minutos: $200  \n",
      " 1 hr - 500 $ USD, 2 hr - 1000 $ USD\n",
      " 2 hour :600$ USD \n",
      " 180 USD / hour  \n",
      " 1 HOUR with me 400 usd, 2 HOUR with me 800 usd   \n",
      " 1 hour $140(1x) , 90 min for $180(2x) , 2 hours for $220  \n",
      " $80 for 15m $100 for 30m $180 for 60m  \n"
     ]
    },
    {
     "data": {
      "text/plain": [
       "['120-1.5h', '120-1.5h', '120-1.5h']"
      ]
     },
     "execution_count": 7,
     "metadata": {},
     "output_type": "execute_result"
    }
   ],
   "source": [
    "#120 hhr, 150 hhr\n",
    "\n",
    "\n",
    "rule_02 = {\n",
    "      \"identifier\": \"price_rule_us\",\n",
    "      \"description\": \"a description\",\n",
    "      \"is_active\": \"true\",\n",
    "      \"output_format\": \"{1}-1.5h\",\n",
    "      \"pattern\": [\n",
    "            number_token( is_in_output=\"true\"),\n",
    "            word_token(token=[\"hhr\"], is_in_output=\"true\"),\n",
    "\n",
    "      ]\n",
    "    }\n",
    "\n",
    "field_rules = {\n",
    "  \"rules\": [\n",
    "      rule_02\n",
    "  ]\n",
    "}\n",
    "\n",
    "print \"text:\", d['text']\n",
    "results = c.extract_using_custom_spacy(d, config, field_rules=field_rules)\n",
    "tele_lst = []\n",
    "for i in results:\n",
    "    tele_lst.append(''.join((i.values()[1]).split()))\n",
    "tele_lst"
   ]
  },
  {
   "cell_type": "code",
   "execution_count": 8,
   "metadata": {},
   "outputs": [
    {
     "name": "stdout",
     "output_type": "stream",
     "text": [
      "text:   4 hours-600 USD ,1 hr 60 USD ,2 hrs 100 USD , 1 hr: 80 USd ,2 hrs: 135 USd ,1 hour-900 USD,1hours - 130 usd ,A + 150! Incall: Outcall: 20 mins-300 roses, 30 minutes - 200 roses 90 min - 450 roses 1h - 300 roses 350 roses 2h - 550 roses 600 roses 3h - 750 roses 800 roses night - 1300 roses\n",
      "(extra Roses ) RATES: 30min - 150 Roses ; 40min - 200 Roses ; 1H - 250 Roses ; 1H OUTCALL- 300 Roses ; 2H - 400 Roses ; 3H - 550 Roses ; 4H - 650 Roses ; 12H - 1200 Roses ;\n",
      "40!ss 40!ss 40!ss Specials! ? 60! hhr 60! hhr 60! hhr Speci\n",
      "120 hhr 120 hhr 120 hhr ，150 Hr 150 Hr 150 Hr 150 Hr 150 Hr 150 \n",
      "30 minutes 40 dollars 60 minutes 49.9 dollars 90 minutes 90 dollars 120 minutes 120 dollars  \n",
      " 1 shot 30 minutes 2500 RMB 1 hour 2 shots 4000 RMB 2 hours 6000 RMB Dinner date (6 hours) 10,000 RMB Overnight 12 hours 12,000 RMB \n",
      "   800 EUR(~912 USD ) 3 hours:    1,200 EUR(~1,369 USD ) 8 hours:    2,000 EUR(~2,281 USD ) 12 hours:    2,500 EUR(~2,851 USD ) 24 hours:    3,000 EUR(~3,421 USD ) 48 hours: \n",
      " $500 USD 1hr,$5500 USD 12hrs, $1800 USD 4hrs, 90 usd for 90mins, 90 usd per hour , 100 dollars per hours, 70 usd 30mn, \n",
      " 1 dollar for 1 minute, 30 dollars for 30 minutes, $260 USD 30 min, $140 USD 30 min, $50 dollar 40 min\n",
      " 2hrs for 2oo dollars , 3hrs for 300 dollars , 250 USD 120 minute\n",
      " thousand dollars per week \n",
      " hundred dollars half hour \n",
      " 1 hr 60 USD, 2 hrs 100 USD, One hour 63 USD, Two hours 123 USD \n",
      " 1hr = 200 USD ,1HR |120 USD\n",
      "200 to 300 USD 2-4 Hours, 400 to 500 USD Full Night,  \n",
      " 250 USD hh , 550 USD hr, \n",
      " 1 HOUR - $220 USD ● 2 HOUR - $420 USD ● 3 HOUR - $600 USD,  1 hour - $600 / 2 hours - $1200 / 3 hours - $1500   \n",
      " 123 USD Three hours ,183 USD Four hours, ,\n",
      "  90 minutes. $90 USD, 30 minutos: $200  \n",
      " 1 hr - 500 $ USD, 2 hr - 1000 $ USD\n",
      " 2 hour :600$ USD \n",
      " 180 USD / hour  \n",
      " 1 HOUR with me 400 usd, 2 HOUR with me 800 usd   \n",
      " 1 hour $140(1x) , 90 min for $180(2x) , 2 hours for $220  \n",
      " $80 for 15m $100 for 30m $180 for 60m  \n"
     ]
    },
    {
     "data": {
      "text/plain": [
       "['800EUR-3hours']"
      ]
     },
     "execution_count": 8,
     "metadata": {},
     "output_type": "execute_result"
    }
   ],
   "source": [
    "#800 EUR(~912 USD ) 3 hours:  (resquire ( ))\n",
    "\n",
    "rule_03 = {\n",
    "      \"identifier\": \"price_rule_us\",\n",
    "      \"description\": \"a description\",\n",
    "      \"is_active\": \"true\",\n",
    "      \"output_format\":\"{1}{2}-{5}{6}\",\n",
    "      \"pattern\": [\n",
    "            number_token( is_in_output=\"true\"),\n",
    "            word_token(token=[\"roses\", \"dollars\", \"RMB\", \"EUR\", \"USD\"], is_in_output=\"true\"),\n",
    "            punctuation_token(token=[\"(\"], is_in_output=\"false\"),\n",
    "            punctuation_token(token=[\"~\"], is_required=\"false\", is_in_output=\"false\"),\n",
    "            number_token(is_in_output=\"true\"),\n",
    "            word_token(token=[\"roses\", \"dollars\", \"RMB\", \"EUR\", \"USD\"], is_in_output=\"true\"),\n",
    "            punctuation_token(token=[\")\"], is_in_output=\"false\"),\n",
    "            number_token(is_in_output=\"true\"),\n",
    "            word_token(token=[\"min\",\"mins\",\"minutes\", \"h\",\"H\", \"hours\"], is_in_output=\"true\")  \n",
    "      ]\n",
    "    }\n",
    "\n",
    "field_rules = {\n",
    "  \"rules\": [\n",
    "      rule_03\n",
    "  ]\n",
    "}\n",
    "\n",
    "print \"text:\", d['text']\n",
    "results = c.extract_using_custom_spacy(d, config, field_rules=field_rules)\n",
    "tele_lst = []\n",
    "for i in results:\n",
    "    tele_lst.append(''.join((i.values()[1]).split()))\n",
    "tele_lst"
   ]
  },
  {
   "cell_type": "code",
   "execution_count": 9,
   "metadata": {},
   "outputs": [
    {
     "name": "stdout",
     "output_type": "stream",
     "text": [
      "text:   4 hours-600 USD ,1 hr 60 USD ,2 hrs 100 USD , 1 hr: 80 USd ,2 hrs: 135 USd ,1 hour-900 USD,1hours - 130 usd ,A + 150! Incall: Outcall: 20 mins-300 roses, 30 minutes - 200 roses 90 min - 450 roses 1h - 300 roses 350 roses 2h - 550 roses 600 roses 3h - 750 roses 800 roses night - 1300 roses\n",
      "(extra Roses ) RATES: 30min - 150 Roses ; 40min - 200 Roses ; 1H - 250 Roses ; 1H OUTCALL- 300 Roses ; 2H - 400 Roses ; 3H - 550 Roses ; 4H - 650 Roses ; 12H - 1200 Roses ;\n",
      "40!ss 40!ss 40!ss Specials! ? 60! hhr 60! hhr 60! hhr Speci\n",
      "120 hhr 120 hhr 120 hhr ，150 Hr 150 Hr 150 Hr 150 Hr 150 Hr 150 \n",
      "30 minutes 40 dollars 60 minutes 49.9 dollars 90 minutes 90 dollars 120 minutes 120 dollars  \n",
      " 1 shot 30 minutes 2500 RMB 1 hour 2 shots 4000 RMB 2 hours 6000 RMB Dinner date (6 hours) 10,000 RMB Overnight 12 hours 12,000 RMB \n",
      "   800 EUR(~912 USD ) 3 hours:    1,200 EUR(~1,369 USD ) 8 hours:    2,000 EUR(~2,281 USD ) 12 hours:    2,500 EUR(~2,851 USD ) 24 hours:    3,000 EUR(~3,421 USD ) 48 hours: \n",
      " $500 USD 1hr,$5500 USD 12hrs, $1800 USD 4hrs, 90 usd for 90mins, 90 usd per hour , 100 dollars per hours, 70 usd 30mn, \n",
      " 1 dollar for 1 minute, 30 dollars for 30 minutes, $260 USD 30 min, $140 USD 30 min, $50 dollar 40 min\n",
      " 2hrs for 2oo dollars , 3hrs for 300 dollars , 250 USD 120 minute\n",
      " thousand dollars per week \n",
      " hundred dollars half hour \n",
      " 1 hr 60 USD, 2 hrs 100 USD, One hour 63 USD, Two hours 123 USD \n",
      " 1hr = 200 USD ,1HR |120 USD\n",
      "200 to 300 USD 2-4 Hours, 400 to 500 USD Full Night,  \n",
      " 250 USD hh , 550 USD hr, \n",
      " 1 HOUR - $220 USD ● 2 HOUR - $420 USD ● 3 HOUR - $600 USD,  1 hour - $600 / 2 hours - $1200 / 3 hours - $1500   \n",
      " 123 USD Three hours ,183 USD Four hours, ,\n",
      "  90 minutes. $90 USD, 30 minutos: $200  \n",
      " 1 hr - 500 $ USD, 2 hr - 1000 $ USD\n",
      " 2 hour :600$ USD \n",
      " 180 USD / hour  \n",
      " 1 HOUR with me 400 usd, 2 HOUR with me 800 usd   \n",
      " 1 hour $140(1x) , 90 min for $180(2x) , 2 hours for $220  \n",
      " $80 for 15m $100 for 30m $180 for 60m  \n"
     ]
    },
    {
     "data": {
      "text/plain": [
       "['1,200EUR-8hours', '2,000EUR-12hours', '2,500EUR-24hours', '3,000EUR-48hours']"
      ]
     },
     "execution_count": 9,
     "metadata": {},
     "output_type": "execute_result"
    }
   ],
   "source": [
    "#1,200 EUR(~1,369 USD ) 8 hours:   2,000 EUR(~2,281 USD ) 12 hours:    2,500 EUR(~2,851 USD ) 24 hours\n",
    "\n",
    "\n",
    "rule_04 = {\n",
    "      \"identifier\": \"price_rule_us\",\n",
    "      \"description\": \"a description\",\n",
    "      \"is_active\": \"true\",\n",
    "      \"output_format\":\"{1}{2}{3}{4}-{5}{6}\",\n",
    "      \"pattern\": [\n",
    "            number_token(is_in_output=\"true\"),\n",
    "            punctuation_token(token=[\",\"], is_in_output=\"true\"),\n",
    "            number_token(is_in_output=\"true\"),\n",
    "            word_token(token=[\"roses\", \"dollars\", \"RMB\", \"EUR\", \"USD\"], is_in_output=\"true\"),\n",
    "            punctuation_token(token=[\"(\"], is_in_output=\"false\"),\n",
    "            punctuation_token(token=[\"~\"], is_required=\"false\", is_in_output=\"false\"),\n",
    "            number_token( is_in_output=\"false\"),\n",
    "            punctuation_token(token=[\",\"], is_required=\"false\", is_in_output=\"false\"),\n",
    "            number_token(is_in_output=\"false\"),\n",
    "            word_token(token=[\"roses\", \"dollars\", \"RMB\", \"EUR\", \"USD\"], is_in_output=\"false\"),\n",
    "            punctuation_token(token=[\")\"], is_in_output=\"false\"),\n",
    "            number_token(number =[\"1\",\"2\",\"3\",\"4\",\"8\",\"12\",\"15\",\"20\",\"24\",\"48\",\"25\",\"30\",\"35\",\"40\",\"45\",\"50\",\"60\",\"90\",\"120\"],is_in_output=\"true\"),\n",
    "            word_token(token=[\"min\",\"mins\",\"minutes\", \"h\",\"H\", \"hours\"], is_in_output=\"true\")  \n",
    "      ]\n",
    "    }\n",
    "\n",
    "field_rules = {\n",
    "  \"rules\": [\n",
    "      rule_04\n",
    "  ]\n",
    "}\n",
    "\n",
    "print \"text:\", d['text']\n",
    "results = c.extract_using_custom_spacy(d, config, field_rules=field_rules)\n",
    "tele_lst = []\n",
    "for i in results:\n",
    "    tele_lst.append(''.join((i.values()[1]).split()))\n",
    "tele_lst"
   ]
  },
  {
   "cell_type": "code",
   "execution_count": 10,
   "metadata": {},
   "outputs": [
    {
     "name": "stdout",
     "output_type": "stream",
     "text": [
      "text:   4 hours-600 USD ,1 hr 60 USD ,2 hrs 100 USD , 1 hr: 80 USd ,2 hrs: 135 USd ,1 hour-900 USD,1hours - 130 usd ,A + 150! Incall: Outcall: 20 mins-300 roses, 30 minutes - 200 roses 90 min - 450 roses 1h - 300 roses 350 roses 2h - 550 roses 600 roses 3h - 750 roses 800 roses night - 1300 roses\n",
      "(extra Roses ) RATES: 30min - 150 Roses ; 40min - 200 Roses ; 1H - 250 Roses ; 1H OUTCALL- 300 Roses ; 2H - 400 Roses ; 3H - 550 Roses ; 4H - 650 Roses ; 12H - 1200 Roses ;\n",
      "40!ss 40!ss 40!ss Specials! ? 60! hhr 60! hhr 60! hhr Speci\n",
      "120 hhr 120 hhr 120 hhr ，150 Hr 150 Hr 150 Hr 150 Hr 150 Hr 150 \n",
      "30 minutes 40 dollars 60 minutes 49.9 dollars 90 minutes 90 dollars 120 minutes 120 dollars  \n",
      " 1 shot 30 minutes 2500 RMB 1 hour 2 shots 4000 RMB 2 hours 6000 RMB Dinner date (6 hours) 10,000 RMB Overnight 12 hours 12,000 RMB \n",
      "   800 EUR(~912 USD ) 3 hours:    1,200 EUR(~1,369 USD ) 8 hours:    2,000 EUR(~2,281 USD ) 12 hours:    2,500 EUR(~2,851 USD ) 24 hours:    3,000 EUR(~3,421 USD ) 48 hours: \n",
      " $500 USD 1hr,$5500 USD 12hrs, $1800 USD 4hrs, 90 usd for 90mins, 90 usd per hour , 100 dollars per hours, 70 usd 30mn, \n",
      " 1 dollar for 1 minute, 30 dollars for 30 minutes, $260 USD 30 min, $140 USD 30 min, $50 dollar 40 min\n",
      " 2hrs for 2oo dollars , 3hrs for 300 dollars , 250 USD 120 minute\n",
      " thousand dollars per week \n",
      " hundred dollars half hour \n",
      " 1 hr 60 USD, 2 hrs 100 USD, One hour 63 USD, Two hours 123 USD \n",
      " 1hr = 200 USD ,1HR |120 USD\n",
      "200 to 300 USD 2-4 Hours, 400 to 500 USD Full Night,  \n",
      " 250 USD hh , 550 USD hr, \n",
      " 1 HOUR - $220 USD ● 2 HOUR - $420 USD ● 3 HOUR - $600 USD,  1 hour - $600 / 2 hours - $1200 / 3 hours - $1500   \n",
      " 123 USD Three hours ,183 USD Four hours, ,\n",
      "  90 minutes. $90 USD, 30 minutos: $200  \n",
      " 1 hr - 500 $ USD, 2 hr - 1000 $ USD\n",
      " 2 hour :600$ USD \n",
      " 180 USD / hour  \n",
      " 1 HOUR with me 400 usd, 2 HOUR with me 800 usd   \n",
      " 1 hour $140(1x) , 90 min for $180(2x) , 2 hours for $220  \n",
      " $80 for 15m $100 for 30m $180 for 60m  \n"
     ]
    },
    {
     "data": {
      "text/plain": [
       "['60minutes-49.9dollars]']"
      ]
     },
     "execution_count": 10,
     "metadata": {},
     "output_type": "execute_result"
    }
   ],
   "source": [
    "#60 minutes 49.9 dollars, \n",
    "\n",
    "rule_05 = {\n",
    "      \"identifier\": \"price_rule_us\",\n",
    "      \"description\": \"a description\",\n",
    "      \"is_active\": \"true\",\n",
    "      \"output_format\": \"{1}{2}-{3}{4}{5}{6}]\",\n",
    "      \"pattern\": [\n",
    "            number_token(minimum=\"1\", maximum=\"100\",is_in_output=\"true\"),\n",
    "            word_token(token=[\"min\",\"mins\",\"minutes\", \"h\",\"H\",\"hr\", \"hours\"], is_in_output=\"true\"),\n",
    "            punctuation_token(token=[\"-\"], is_required=\"false\", is_in_output=\"false\"),\n",
    "            number_token(minimum=\"1\", maximum=\"100\",is_in_output=\"true\"),\n",
    "            punctuation_token(token=[\".\"], is_in_output=\"true\"),\n",
    "            number_token(minimum=\"1\", maximum=\"20\",is_in_output=\"true\"),\n",
    "            word_token(token=[\"roses\", \"dollars\", \"RMB\", \"EUR\", \"USD\"], is_in_output=\"true\")\n",
    "      ]\n",
    "    }\n",
    "\n",
    "field_rules = {\n",
    "  \"rules\": [\n",
    "      rule_05\n",
    "  ]\n",
    "}\n",
    "\n",
    "print \"text:\", d['text']\n",
    "results = c.extract_using_custom_spacy(d, config, field_rules=field_rules)\n",
    "tele_lst = []\n",
    "for i in results:\n",
    "    tele_lst.append(''.join((i.values()[1]).split()))\n",
    "tele_lst"
   ]
  },
  {
   "cell_type": "code",
   "execution_count": 11,
   "metadata": {},
   "outputs": [
    {
     "name": "stdout",
     "output_type": "stream",
     "text": [
      "text:   4 hours-600 USD ,1 hr 60 USD ,2 hrs 100 USD , 1 hr: 80 USd ,2 hrs: 135 USd ,1 hour-900 USD,1hours - 130 usd ,A + 150! Incall: Outcall: 20 mins-300 roses, 30 minutes - 200 roses 90 min - 450 roses 1h - 300 roses 350 roses 2h - 550 roses 600 roses 3h - 750 roses 800 roses night - 1300 roses\n",
      "(extra Roses ) RATES: 30min - 150 Roses ; 40min - 200 Roses ; 1H - 250 Roses ; 1H OUTCALL- 300 Roses ; 2H - 400 Roses ; 3H - 550 Roses ; 4H - 650 Roses ; 12H - 1200 Roses ;\n",
      "40!ss 40!ss 40!ss Specials! ? 60! hhr 60! hhr 60! hhr Speci\n",
      "120 hhr 120 hhr 120 hhr ，150 Hr 150 Hr 150 Hr 150 Hr 150 Hr 150 \n",
      "30 minutes 40 dollars 60 minutes 49.9 dollars 90 minutes 90 dollars 120 minutes 120 dollars  \n",
      " 1 shot 30 minutes 2500 RMB 1 hour 2 shots 4000 RMB 2 hours 6000 RMB Dinner date (6 hours) 10,000 RMB Overnight 12 hours 12,000 RMB \n",
      "   800 EUR(~912 USD ) 3 hours:    1,200 EUR(~1,369 USD ) 8 hours:    2,000 EUR(~2,281 USD ) 12 hours:    2,500 EUR(~2,851 USD ) 24 hours:    3,000 EUR(~3,421 USD ) 48 hours: \n",
      " $500 USD 1hr,$5500 USD 12hrs, $1800 USD 4hrs, 90 usd for 90mins, 90 usd per hour , 100 dollars per hours, 70 usd 30mn, \n",
      " 1 dollar for 1 minute, 30 dollars for 30 minutes, $260 USD 30 min, $140 USD 30 min, $50 dollar 40 min\n",
      " 2hrs for 2oo dollars , 3hrs for 300 dollars , 250 USD 120 minute\n",
      " thousand dollars per week \n",
      " hundred dollars half hour \n",
      " 1 hr 60 USD, 2 hrs 100 USD, One hour 63 USD, Two hours 123 USD \n",
      " 1hr = 200 USD ,1HR |120 USD\n",
      "200 to 300 USD 2-4 Hours, 400 to 500 USD Full Night,  \n",
      " 250 USD hh , 550 USD hr, \n",
      " 1 HOUR - $220 USD ● 2 HOUR - $420 USD ● 3 HOUR - $600 USD,  1 hour - $600 / 2 hours - $1200 / 3 hours - $1500   \n",
      " 123 USD Three hours ,183 USD Four hours, ,\n",
      "  90 minutes. $90 USD, 30 minutos: $200  \n",
      " 1 hr - 500 $ USD, 2 hr - 1000 $ USD\n",
      " 2 hour :600$ USD \n",
      " 180 USD / hour  \n",
      " 1 HOUR with me 400 usd, 2 HOUR with me 800 usd   \n",
      " 1 hour $140(1x) , 90 min for $180(2x) , 2 hours for $220  \n",
      " $80 for 15m $100 for 30m $180 for 60m  \n"
     ]
    },
    {
     "data": {
      "text/plain": [
       "['1H-250Roses', '1H-300Roses', '2H-400Roses', '3H-550Roses', '4H-650Roses']"
      ]
     },
     "execution_count": 11,
     "metadata": {},
     "output_type": "execute_result"
    }
   ],
   "source": [
    "#40min - 200 Roses ; 1H - 250 Roses ; 1H OUTCALL- 300 Roses ; 2H - 400 Roses   1hours - 130 usd \n",
    "\n",
    "\n",
    "rule_06 = {\n",
    "      \"identifier\": \"price_rule_us\",\n",
    "      \"description\": \"a description\",\n",
    "      \"is_active\": \"true\",\n",
    "      \"output_format\": \"{1}-{2}{3}\",\n",
    "      \"pattern\": [\n",
    "            number_token(number =[\"20min\",\"30min\",\"40min\",\"50min\",\"60min\", \"1H\",\"2H\",\"3H\",\"4H\",\"12H\",\"1hours\"],is_in_output=\"true\"),\n",
    "            word_token(token=[\"OUTCALL\"], is_required=\"false\", is_in_output=\"false\"),\n",
    "            punctuation_token(token=[\"-\"], is_required=\"false\", is_in_output=\"false\"),\n",
    "            number_token(is_in_output=\"true\"),\n",
    "            word_token(token=[\"roses\", \"dollars\", \"RMB\", \"EUR\", \"USD\"], is_in_output=\"true\")\n",
    "      ]\n",
    "    }\n",
    "\n",
    "field_rules = {\n",
    "  \"rules\": [\n",
    "      rule_06\n",
    "  ]\n",
    "}\n",
    "\n",
    "print \"text:\", d['text']\n",
    "results = c.extract_using_custom_spacy(d, config, field_rules=field_rules)\n",
    "tele_lst = []\n",
    "for i in results:\n",
    "    tele_lst.append(''.join((i.values()[1]).split()))\n",
    "tele_lst\n"
   ]
  },
  {
   "cell_type": "code",
   "execution_count": 12,
   "metadata": {},
   "outputs": [
    {
     "name": "stdout",
     "output_type": "stream",
     "text": [
      "text:   4 hours-600 USD ,1 hr 60 USD ,2 hrs 100 USD , 1 hr: 80 USd ,2 hrs: 135 USd ,1 hour-900 USD,1hours - 130 usd ,A + 150! Incall: Outcall: 20 mins-300 roses, 30 minutes - 200 roses 90 min - 450 roses 1h - 300 roses 350 roses 2h - 550 roses 600 roses 3h - 750 roses 800 roses night - 1300 roses\n",
      "(extra Roses ) RATES: 30min - 150 Roses ; 40min - 200 Roses ; 1H - 250 Roses ; 1H OUTCALL- 300 Roses ; 2H - 400 Roses ; 3H - 550 Roses ; 4H - 650 Roses ; 12H - 1200 Roses ;\n",
      "40!ss 40!ss 40!ss Specials! ? 60! hhr 60! hhr 60! hhr Speci\n",
      "120 hhr 120 hhr 120 hhr ，150 Hr 150 Hr 150 Hr 150 Hr 150 Hr 150 \n",
      "30 minutes 40 dollars 60 minutes 49.9 dollars 90 minutes 90 dollars 120 minutes 120 dollars  \n",
      " 1 shot 30 minutes 2500 RMB 1 hour 2 shots 4000 RMB 2 hours 6000 RMB Dinner date (6 hours) 10,000 RMB Overnight 12 hours 12,000 RMB \n",
      "   800 EUR(~912 USD ) 3 hours:    1,200 EUR(~1,369 USD ) 8 hours:    2,000 EUR(~2,281 USD ) 12 hours:    2,500 EUR(~2,851 USD ) 24 hours:    3,000 EUR(~3,421 USD ) 48 hours: \n",
      " $500 USD 1hr,$5500 USD 12hrs, $1800 USD 4hrs, 90 usd for 90mins, 90 usd per hour , 100 dollars per hours, 70 usd 30mn, \n",
      " 1 dollar for 1 minute, 30 dollars for 30 minutes, $260 USD 30 min, $140 USD 30 min, $50 dollar 40 min\n",
      " 2hrs for 2oo dollars , 3hrs for 300 dollars , 250 USD 120 minute\n",
      " thousand dollars per week \n",
      " hundred dollars half hour \n",
      " 1 hr 60 USD, 2 hrs 100 USD, One hour 63 USD, Two hours 123 USD \n",
      " 1hr = 200 USD ,1HR |120 USD\n",
      "200 to 300 USD 2-4 Hours, 400 to 500 USD Full Night,  \n",
      " 250 USD hh , 550 USD hr, \n",
      " 1 HOUR - $220 USD ● 2 HOUR - $420 USD ● 3 HOUR - $600 USD,  1 hour - $600 / 2 hours - $1200 / 3 hours - $1500   \n",
      " 123 USD Three hours ,183 USD Four hours, ,\n",
      "  90 minutes. $90 USD, 30 minutos: $200  \n",
      " 1 hr - 500 $ USD, 2 hr - 1000 $ USD\n",
      " 2 hour :600$ USD \n",
      " 180 USD / hour  \n",
      " 1 HOUR with me 400 usd, 2 HOUR with me 800 usd   \n",
      " 1 hour $140(1x) , 90 min for $180(2x) , 2 hours for $220  \n",
      " $80 for 15m $100 for 30m $180 for 60m  \n"
     ]
    },
    {
     "data": {
      "text/plain": [
       "['60-hhr', '60-hhr', '60-hhr']"
      ]
     },
     "execution_count": 12,
     "metadata": {},
     "output_type": "execute_result"
    }
   ],
   "source": [
    "#120 hhr 120 hhr 120 hhr ，150 Hr 150 Hr,  60! hhr 60! hhr 60! hhr\n",
    "# hhr= 30min\n",
    "\n",
    "rule_07 = {\n",
    "      \"identifier\": \"price_rule_us\",\n",
    "      \"description\": \"a description\",\n",
    "      \"is_active\": \"true\",\n",
    "      \"output_format\": \"{1}-{2}\",\n",
    "      \"pattern\": [\n",
    "            number_token(is_in_output=\"true\"),\n",
    "            punctuation_token(token=[\"!\"], is_required=\"true\", is_in_output=\"false\"),\n",
    "            #punctuation_token(token=[\"-\"], is_required=\"false\", is_in_output=\"false\"),\n",
    "            word_token(token=[\"hhr\"], is_in_output=\"true\")\n",
    "      ]\n",
    "    }\n",
    "\n",
    "field_rules = {\n",
    "  \"rules\": [\n",
    "      rule_07\n",
    "  ]\n",
    "}\n",
    "\n",
    "print \"text:\", d['text']\n",
    "results = c.extract_using_custom_spacy(d, config, field_rules=field_rules)\n",
    "tele_lst = []\n",
    "for i in results:\n",
    "    tele_lst.append(''.join((i.values()[1]).split()))\n",
    "tele_lst\n"
   ]
  },
  {
   "cell_type": "code",
   "execution_count": 13,
   "metadata": {},
   "outputs": [
    {
     "name": "stdout",
     "output_type": "stream",
     "text": [
      "text:   4 hours-600 USD ,1 hr 60 USD ,2 hrs 100 USD , 1 hr: 80 USd ,2 hrs: 135 USd ,1 hour-900 USD,1hours - 130 usd ,A + 150! Incall: Outcall: 20 mins-300 roses, 30 minutes - 200 roses 90 min - 450 roses 1h - 300 roses 350 roses 2h - 550 roses 600 roses 3h - 750 roses 800 roses night - 1300 roses\n",
      "(extra Roses ) RATES: 30min - 150 Roses ; 40min - 200 Roses ; 1H - 250 Roses ; 1H OUTCALL- 300 Roses ; 2H - 400 Roses ; 3H - 550 Roses ; 4H - 650 Roses ; 12H - 1200 Roses ;\n",
      "40!ss 40!ss 40!ss Specials! ? 60! hhr 60! hhr 60! hhr Speci\n",
      "120 hhr 120 hhr 120 hhr ，150 Hr 150 Hr 150 Hr 150 Hr 150 Hr 150 \n",
      "30 minutes 40 dollars 60 minutes 49.9 dollars 90 minutes 90 dollars 120 minutes 120 dollars  \n",
      " 1 shot 30 minutes 2500 RMB 1 hour 2 shots 4000 RMB 2 hours 6000 RMB Dinner date (6 hours) 10,000 RMB Overnight 12 hours 12,000 RMB \n",
      "   800 EUR(~912 USD ) 3 hours:    1,200 EUR(~1,369 USD ) 8 hours:    2,000 EUR(~2,281 USD ) 12 hours:    2,500 EUR(~2,851 USD ) 24 hours:    3,000 EUR(~3,421 USD ) 48 hours: \n",
      " $500 USD 1hr,$5500 USD 12hrs, $1800 USD 4hrs, 90 usd for 90mins, 90 usd per hour , 100 dollars per hours, 70 usd 30mn, \n",
      " 1 dollar for 1 minute, 30 dollars for 30 minutes, $260 USD 30 min, $140 USD 30 min, $50 dollar 40 min\n",
      " 2hrs for 2oo dollars , 3hrs for 300 dollars , 250 USD 120 minute\n",
      " thousand dollars per week \n",
      " hundred dollars half hour \n",
      " 1 hr 60 USD, 2 hrs 100 USD, One hour 63 USD, Two hours 123 USD \n",
      " 1hr = 200 USD ,1HR |120 USD\n",
      "200 to 300 USD 2-4 Hours, 400 to 500 USD Full Night,  \n",
      " 250 USD hh , 550 USD hr, \n",
      " 1 HOUR - $220 USD ● 2 HOUR - $420 USD ● 3 HOUR - $600 USD,  1 hour - $600 / 2 hours - $1200 / 3 hours - $1500   \n",
      " 123 USD Three hours ,183 USD Four hours, ,\n",
      "  90 minutes. $90 USD, 30 minutos: $200  \n",
      " 1 hr - 500 $ USD, 2 hr - 1000 $ USD\n",
      " 2 hour :600$ USD \n",
      " 180 USD / hour  \n",
      " 1 HOUR with me 400 usd, 2 HOUR with me 800 usd   \n",
      " 1 hour $140(1x) , 90 min for $180(2x) , 2 hours for $220  \n",
      " $80 for 15m $100 for 30m $180 for 60m  \n"
     ]
    },
    {
     "data": {
      "text/plain": [
       "['1hour-4000RMB']"
      ]
     },
     "execution_count": 13,
     "metadata": {},
     "output_type": "execute_result"
    }
   ],
   "source": [
    "# 1 hour 2 shots 4000 RMB   (2 hours 6000 RMB Dinner date (6 hours) 10,000 RMB Overnight 12 hours 12,000 RMB)\n",
    "\n",
    "rule_08 = {\n",
    "      \"identifier\": \"price_rule_us\",\n",
    "      \"description\": \"a description\",\n",
    "      \"is_active\": \"true\",\n",
    "      \"output_format\": \"{1}{2}-{3}{4}\",\n",
    "      \"pattern\": [\n",
    "            number_token(is_in_output=\"true\"),\n",
    "            word_token(token=[\"min\",\"mins\",\"minutes\", \"h\",\"H\",\"hour\",\"hours\"], is_in_output=\"true\"),\n",
    "            number_token(is_in_output=\"false\"),\n",
    "            word_token(is_in_output=\"false\"),\n",
    "            number_token(is_in_output=\"true\"),\n",
    "            word_token(token=[\"roses\", \"dollars\", \"RMB\", \"EUR\", \"USD\"], is_in_output=\"true\") \n",
    "      ]\n",
    "    }\n",
    "\n",
    "field_rules = {\n",
    "  \"rules\": [\n",
    "      rule_08\n",
    "  ]\n",
    "}\n",
    "\n",
    "print \"text:\", d['text']\n",
    "results = c.extract_using_custom_spacy(d, config, field_rules=field_rules)\n",
    "tele_lst = []\n",
    "for i in results:\n",
    "    tele_lst.append(''.join((i.values()[1]).split()))\n",
    "tele_lst\n"
   ]
  },
  {
   "cell_type": "code",
   "execution_count": 14,
   "metadata": {},
   "outputs": [
    {
     "name": "stdout",
     "output_type": "stream",
     "text": [
      "text:   4 hours-600 USD ,1 hr 60 USD ,2 hrs 100 USD , 1 hr: 80 USd ,2 hrs: 135 USd ,1 hour-900 USD,1hours - 130 usd ,A + 150! Incall: Outcall: 20 mins-300 roses, 30 minutes - 200 roses 90 min - 450 roses 1h - 300 roses 350 roses 2h - 550 roses 600 roses 3h - 750 roses 800 roses night - 1300 roses\n",
      "(extra Roses ) RATES: 30min - 150 Roses ; 40min - 200 Roses ; 1H - 250 Roses ; 1H OUTCALL- 300 Roses ; 2H - 400 Roses ; 3H - 550 Roses ; 4H - 650 Roses ; 12H - 1200 Roses ;\n",
      "40!ss 40!ss 40!ss Specials! ? 60! hhr 60! hhr 60! hhr Speci\n",
      "120 hhr 120 hhr 120 hhr ，150 Hr 150 Hr 150 Hr 150 Hr 150 Hr 150 \n",
      "30 minutes 40 dollars 60 minutes 49.9 dollars 90 minutes 90 dollars 120 minutes 120 dollars  \n",
      " 1 shot 30 minutes 2500 RMB 1 hour 2 shots 4000 RMB 2 hours 6000 RMB Dinner date (6 hours) 10,000 RMB Overnight 12 hours 12,000 RMB \n",
      "   800 EUR(~912 USD ) 3 hours:    1,200 EUR(~1,369 USD ) 8 hours:    2,000 EUR(~2,281 USD ) 12 hours:    2,500 EUR(~2,851 USD ) 24 hours:    3,000 EUR(~3,421 USD ) 48 hours: \n",
      " $500 USD 1hr,$5500 USD 12hrs, $1800 USD 4hrs, 90 usd for 90mins, 90 usd per hour , 100 dollars per hours, 70 usd 30mn, \n",
      " 1 dollar for 1 minute, 30 dollars for 30 minutes, $260 USD 30 min, $140 USD 30 min, $50 dollar 40 min\n",
      " 2hrs for 2oo dollars , 3hrs for 300 dollars , 250 USD 120 minute\n",
      " thousand dollars per week \n",
      " hundred dollars half hour \n",
      " 1 hr 60 USD, 2 hrs 100 USD, One hour 63 USD, Two hours 123 USD \n",
      " 1hr = 200 USD ,1HR |120 USD\n",
      "200 to 300 USD 2-4 Hours, 400 to 500 USD Full Night,  \n",
      " 250 USD hh , 550 USD hr, \n",
      " 1 HOUR - $220 USD ● 2 HOUR - $420 USD ● 3 HOUR - $600 USD,  1 hour - $600 / 2 hours - $1200 / 3 hours - $1500   \n",
      " 123 USD Three hours ,183 USD Four hours, ,\n",
      "  90 minutes. $90 USD, 30 minutos: $200  \n",
      " 1 hr - 500 $ USD, 2 hr - 1000 $ USD\n",
      " 2 hour :600$ USD \n",
      " 180 USD / hour  \n",
      " 1 HOUR with me 400 usd, 2 HOUR with me 800 usd   \n",
      " 1 hour $140(1x) , 90 min for $180(2x) , 2 hours for $220  \n",
      " $80 for 15m $100 for 30m $180 for 60m  \n"
     ]
    },
    {
     "data": {
      "text/plain": [
       "[]"
      ]
     },
     "execution_count": 14,
     "metadata": {},
     "output_type": "execute_result"
    }
   ],
   "source": [
    "# 90 usd for 90mins, 70 usd 30mn,     $5500 USD 12hrs, $1800 USD 4hrs\n",
    "\n",
    "rule_09 = {\n",
    "      \"identifier\": \"price_rule_us\",\n",
    "      \"description\": \"a description\",\n",
    "      \"is_active\": \"true\",\n",
    "      \"output_format\": \"{1}{2}-{3}\",\n",
    "      \"pattern\": [\n",
    "            punctuation_token(token=[\"$\"], is_required=\"false\", is_in_output=\"false\"),\n",
    "            number_token(is_in_output=\"true\"),\n",
    "            word_token(token=[\"roses\", \"dollars\", \"RMB\", \"EUR\", \"USD\", \"usd\"], is_in_output=\"true\"),\n",
    "            word_token(token=[\"for\"], is_required=\"false\"),\n",
    "            number_token(number =[\"20min\",\"30min\",\"40min\",\"50min\",\"60min\",\"90min\",\"20mins\",\"30mins\",\"40mins\",\"50mins\",\"60mins\",\"90mins\", \"20mn\",\"30mn\",\"40mn\",\"50mn\",\"60mn\",\"90mn\",\"1H\",\"2H\",\"3H\",\"4H\",\"12H\",\"1hr\",\"2hrs\",\"3hrs\",\"4hrs\",\"6hrs\",\"12hrs\"],is_in_output=\"true\")\n",
    "      ]\n",
    "    }\n",
    "\n",
    "field_rules = {\n",
    "  \"rules\": [\n",
    "      rule_09\n",
    "  ]\n",
    "}\n",
    "\n",
    "print \"text:\", d['text']\n",
    "results = c.extract_using_custom_spacy(d, config, field_rules=field_rules)\n",
    "tele_lst = []\n",
    "for i in results:\n",
    "    tele_lst.append(''.join((i.values()[1]).split()))\n",
    "tele_lst\n",
    "\n"
   ]
  },
  {
   "cell_type": "code",
   "execution_count": 15,
   "metadata": {},
   "outputs": [
    {
     "name": "stdout",
     "output_type": "stream",
     "text": [
      "text:   4 hours-600 USD ,1 hr 60 USD ,2 hrs 100 USD , 1 hr: 80 USd ,2 hrs: 135 USd ,1 hour-900 USD,1hours - 130 usd ,A + 150! Incall: Outcall: 20 mins-300 roses, 30 minutes - 200 roses 90 min - 450 roses 1h - 300 roses 350 roses 2h - 550 roses 600 roses 3h - 750 roses 800 roses night - 1300 roses\n",
      "(extra Roses ) RATES: 30min - 150 Roses ; 40min - 200 Roses ; 1H - 250 Roses ; 1H OUTCALL- 300 Roses ; 2H - 400 Roses ; 3H - 550 Roses ; 4H - 650 Roses ; 12H - 1200 Roses ;\n",
      "40!ss 40!ss 40!ss Specials! ? 60! hhr 60! hhr 60! hhr Speci\n",
      "120 hhr 120 hhr 120 hhr ，150 Hr 150 Hr 150 Hr 150 Hr 150 Hr 150 \n",
      "30 minutes 40 dollars 60 minutes 49.9 dollars 90 minutes 90 dollars 120 minutes 120 dollars  \n",
      " 1 shot 30 minutes 2500 RMB 1 hour 2 shots 4000 RMB 2 hours 6000 RMB Dinner date (6 hours) 10,000 RMB Overnight 12 hours 12,000 RMB \n",
      "   800 EUR(~912 USD ) 3 hours:    1,200 EUR(~1,369 USD ) 8 hours:    2,000 EUR(~2,281 USD ) 12 hours:    2,500 EUR(~2,851 USD ) 24 hours:    3,000 EUR(~3,421 USD ) 48 hours: \n",
      " $500 USD 1hr,$5500 USD 12hrs, $1800 USD 4hrs, 90 usd for 90mins, 90 usd per hour , 100 dollars per hours, 70 usd 30mn, \n",
      " 1 dollar for 1 minute, 30 dollars for 30 minutes, $260 USD 30 min, $140 USD 30 min, $50 dollar 40 min\n",
      " 2hrs for 2oo dollars , 3hrs for 300 dollars , 250 USD 120 minute\n",
      " thousand dollars per week \n",
      " hundred dollars half hour \n",
      " 1 hr 60 USD, 2 hrs 100 USD, One hour 63 USD, Two hours 123 USD \n",
      " 1hr = 200 USD ,1HR |120 USD\n",
      "200 to 300 USD 2-4 Hours, 400 to 500 USD Full Night,  \n",
      " 250 USD hh , 550 USD hr, \n",
      " 1 HOUR - $220 USD ● 2 HOUR - $420 USD ● 3 HOUR - $600 USD,  1 hour - $600 / 2 hours - $1200 / 3 hours - $1500   \n",
      " 123 USD Three hours ,183 USD Four hours, ,\n",
      "  90 minutes. $90 USD, 30 minutos: $200  \n",
      " 1 hr - 500 $ USD, 2 hr - 1000 $ USD\n",
      " 2 hour :600$ USD \n",
      " 180 USD / hour  \n",
      " 1 HOUR with me 400 usd, 2 HOUR with me 800 usd   \n",
      " 1 hour $140(1x) , 90 min for $180(2x) , 2 hours for $220  \n",
      " $80 for 15m $100 for 30m $180 for 60m  \n"
     ]
    },
    {
     "data": {
      "text/plain": [
       "['90usd-perhour',\n",
       " '100dollars-perhours',\n",
       " '123USD-Threehours',\n",
       " '183USD-Fourhours']"
      ]
     },
     "execution_count": 15,
     "metadata": {},
     "output_type": "execute_result"
    }
   ],
   "source": [
    "# 90 usd per hour , 100 dollars per hours.   # 123 USD Three hours ,183 USD Four hours \n",
    "\n",
    "rule_10 = {\n",
    "      \"identifier\": \"price_rule_us\",\n",
    "      \"description\": \"a description\",\n",
    "      \"is_active\": \"true\",\n",
    "      \"output_format\": \"{1}{2}-{3}{4}\",\n",
    "      \"pattern\": [\n",
    "            number_token(is_in_output=\"true\"),\n",
    "            word_token(token=[\"roses\", \"dollars\", \"RMB\", \"EUR\", \"USD\", \"usd\"], is_in_output=\"true\"),\n",
    "            word_token(is_in_output=\"true\"),\n",
    "            number_token(number =[\"hour\",\"hours\",\"H\",\"week\"],is_in_output=\"true\")\n",
    "      ]\n",
    "    }\n",
    "\n",
    "field_rules = {\n",
    "  \"rules\": [\n",
    "      rule_10\n",
    "  ]\n",
    "}\n",
    "\n",
    "print \"text:\", d['text']\n",
    "results = c.extract_using_custom_spacy(d, config, field_rules=field_rules)\n",
    "tele_lst = []\n",
    "for i in results:\n",
    "    tele_lst.append(''.join((i.values()[1]).split()))\n",
    "tele_lst\n"
   ]
  },
  {
   "cell_type": "code",
   "execution_count": 16,
   "metadata": {},
   "outputs": [
    {
     "name": "stdout",
     "output_type": "stream",
     "text": [
      "text:   4 hours-600 USD ,1 hr 60 USD ,2 hrs 100 USD , 1 hr: 80 USd ,2 hrs: 135 USd ,1 hour-900 USD,1hours - 130 usd ,A + 150! Incall: Outcall: 20 mins-300 roses, 30 minutes - 200 roses 90 min - 450 roses 1h - 300 roses 350 roses 2h - 550 roses 600 roses 3h - 750 roses 800 roses night - 1300 roses\n",
      "(extra Roses ) RATES: 30min - 150 Roses ; 40min - 200 Roses ; 1H - 250 Roses ; 1H OUTCALL- 300 Roses ; 2H - 400 Roses ; 3H - 550 Roses ; 4H - 650 Roses ; 12H - 1200 Roses ;\n",
      "40!ss 40!ss 40!ss Specials! ? 60! hhr 60! hhr 60! hhr Speci\n",
      "120 hhr 120 hhr 120 hhr ，150 Hr 150 Hr 150 Hr 150 Hr 150 Hr 150 \n",
      "30 minutes 40 dollars 60 minutes 49.9 dollars 90 minutes 90 dollars 120 minutes 120 dollars  \n",
      " 1 shot 30 minutes 2500 RMB 1 hour 2 shots 4000 RMB 2 hours 6000 RMB Dinner date (6 hours) 10,000 RMB Overnight 12 hours 12,000 RMB \n",
      "   800 EUR(~912 USD ) 3 hours:    1,200 EUR(~1,369 USD ) 8 hours:    2,000 EUR(~2,281 USD ) 12 hours:    2,500 EUR(~2,851 USD ) 24 hours:    3,000 EUR(~3,421 USD ) 48 hours: \n",
      " $500 USD 1hr,$5500 USD 12hrs, $1800 USD 4hrs, 90 usd for 90mins, 90 usd per hour , 100 dollars per hours, 70 usd 30mn, \n",
      " 1 dollar for 1 minute, 30 dollars for 30 minutes, $260 USD 30 min, $140 USD 30 min, $50 dollar 40 min\n",
      " 2hrs for 2oo dollars , 3hrs for 300 dollars , 250 USD 120 minute\n",
      " thousand dollars per week \n",
      " hundred dollars half hour \n",
      " 1 hr 60 USD, 2 hrs 100 USD, One hour 63 USD, Two hours 123 USD \n",
      " 1hr = 200 USD ,1HR |120 USD\n",
      "200 to 300 USD 2-4 Hours, 400 to 500 USD Full Night,  \n",
      " 250 USD hh , 550 USD hr, \n",
      " 1 HOUR - $220 USD ● 2 HOUR - $420 USD ● 3 HOUR - $600 USD,  1 hour - $600 / 2 hours - $1200 / 3 hours - $1500   \n",
      " 123 USD Three hours ,183 USD Four hours, ,\n",
      "  90 minutes. $90 USD, 30 minutos: $200  \n",
      " 1 hr - 500 $ USD, 2 hr - 1000 $ USD\n",
      " 2 hour :600$ USD \n",
      " 180 USD / hour  \n",
      " 1 HOUR with me 400 usd, 2 HOUR with me 800 usd   \n",
      " 1 hour $140(1x) , 90 min for $180(2x) , 2 hours for $220  \n",
      " $80 for 15m $100 for 30m $180 for 60m  \n"
     ]
    },
    {
     "data": {
      "text/plain": [
       "['200roses-90min',\n",
       " '40dollars-60minutes',\n",
       " '9dollars-90minutes',\n",
       " '90dollars-120minutes',\n",
       " '2500RMB-1hour',\n",
       " '4000RMB-2hours',\n",
       " '1dollar-1minute',\n",
       " '30dollars-30minutes',\n",
       " '260USD-30min',\n",
       " '140USD-30min',\n",
       " '50dollar-40min',\n",
       " '250USD-120minute']"
      ]
     },
     "execution_count": 16,
     "metadata": {},
     "output_type": "execute_result"
    }
   ],
   "source": [
    "#1 dollar for 1 minute, 30 dollars for 30 minutes   ,$140 USD 30 min, $50 dollar 40 min\n",
    "# $260 USD 30 min \n",
    "\n",
    "\n",
    "rule_11 = {\n",
    "      \"identifier\": \"price_rule_us\",\n",
    "      \"description\": \"a description\",\n",
    "      \"is_active\": \"true\",\n",
    "      \"output_format\": \"{1}{2}-{3}{4}\",\n",
    "      \"pattern\": [\n",
    "            number_token(is_in_output=\"true\"),\n",
    "            word_token(token=[\"roses\", \"dollars\",\"dollar\", \"RMB\", \"EUR\", \"USD\", \"usd\"], is_in_output=\"true\"),\n",
    "            word_token(token=[\"for\"], is_required=\"false\"),\n",
    "            number_token(is_in_output=\"true\"),\n",
    "            word_token(token=[\"min\",\"mins\",\"minutes\", \"minute\",\"h\",\"H\",\"hour\",\"hours\"], is_in_output=\"true\"),\n",
    "      ]\n",
    "    }\n",
    "\n",
    "field_rules = {\n",
    "  \"rules\": [\n",
    "      rule_11\n",
    "  ]\n",
    "}\n",
    "\n",
    "print \"text:\", d['text']\n",
    "results = c.extract_using_custom_spacy(d, config, field_rules=field_rules)\n",
    "tele_lst = []\n",
    "for i in results:\n",
    "    tele_lst.append(''.join((i.values()[1]).split()))\n",
    "tele_lst"
   ]
  },
  {
   "cell_type": "code",
   "execution_count": 17,
   "metadata": {},
   "outputs": [
    {
     "name": "stdout",
     "output_type": "stream",
     "text": [
      "text:   4 hours-600 USD ,1 hr 60 USD ,2 hrs 100 USD , 1 hr: 80 USd ,2 hrs: 135 USd ,1 hour-900 USD,1hours - 130 usd ,A + 150! Incall: Outcall: 20 mins-300 roses, 30 minutes - 200 roses 90 min - 450 roses 1h - 300 roses 350 roses 2h - 550 roses 600 roses 3h - 750 roses 800 roses night - 1300 roses\n",
      "(extra Roses ) RATES: 30min - 150 Roses ; 40min - 200 Roses ; 1H - 250 Roses ; 1H OUTCALL- 300 Roses ; 2H - 400 Roses ; 3H - 550 Roses ; 4H - 650 Roses ; 12H - 1200 Roses ;\n",
      "40!ss 40!ss 40!ss Specials! ? 60! hhr 60! hhr 60! hhr Speci\n",
      "120 hhr 120 hhr 120 hhr ，150 Hr 150 Hr 150 Hr 150 Hr 150 Hr 150 \n",
      "30 minutes 40 dollars 60 minutes 49.9 dollars 90 minutes 90 dollars 120 minutes 120 dollars  \n",
      " 1 shot 30 minutes 2500 RMB 1 hour 2 shots 4000 RMB 2 hours 6000 RMB Dinner date (6 hours) 10,000 RMB Overnight 12 hours 12,000 RMB \n",
      "   800 EUR(~912 USD ) 3 hours:    1,200 EUR(~1,369 USD ) 8 hours:    2,000 EUR(~2,281 USD ) 12 hours:    2,500 EUR(~2,851 USD ) 24 hours:    3,000 EUR(~3,421 USD ) 48 hours: \n",
      " $500 USD 1hr,$5500 USD 12hrs, $1800 USD 4hrs, 90 usd for 90mins, 90 usd per hour , 100 dollars per hours, 70 usd 30mn, \n",
      " 1 dollar for 1 minute, 30 dollars for 30 minutes, $260 USD 30 min, $140 USD 30 min, $50 dollar 40 min\n",
      " 2hrs for 2oo dollars , 3hrs for 300 dollars , 250 USD 120 minute\n",
      " thousand dollars per week \n",
      " hundred dollars half hour \n",
      " 1 hr 60 USD, 2 hrs 100 USD, One hour 63 USD, Two hours 123 USD \n",
      " 1hr = 200 USD ,1HR |120 USD\n",
      "200 to 300 USD 2-4 Hours, 400 to 500 USD Full Night,  \n",
      " 250 USD hh , 550 USD hr, \n",
      " 1 HOUR - $220 USD ● 2 HOUR - $420 USD ● 3 HOUR - $600 USD,  1 hour - $600 / 2 hours - $1200 / 3 hours - $1500   \n",
      " 123 USD Three hours ,183 USD Four hours, ,\n",
      "  90 minutes. $90 USD, 30 minutos: $200  \n",
      " 1 hr - 500 $ USD, 2 hr - 1000 $ USD\n",
      " 2 hour :600$ USD \n",
      " 180 USD / hour  \n",
      " 1 HOUR with me 400 usd, 2 HOUR with me 800 usd   \n",
      " 1 hour $140(1x) , 90 min for $180(2x) , 2 hours for $220  \n",
      " $80 for 15m $100 for 30m $180 for 60m  \n"
     ]
    },
    {
     "data": {
      "text/plain": [
       "['3hrs-300dollars']"
      ]
     },
     "execution_count": 17,
     "metadata": {},
     "output_type": "execute_result"
    }
   ],
   "source": [
    "# 2hrs for 2oo dollars , 3hrs for 300 dollars  \n",
    "\n",
    "rule_12 = {\n",
    "      \"identifier\": \"price_rule_us\",\n",
    "      \"description\": \"a description\",\n",
    "      \"is_active\": \"true\",\n",
    "      \"output_format\": \"{1}-{2}{3}\",\n",
    "      \"pattern\": [\n",
    "            number_token(number =[\"20min\",\"30min\",\"40min\",\"50min\",\"60min\",\"90min\",\"20mins\",\"30mins\",\"40mins\",\"50mins\",\"60mins\",\"90mins\", \"20mn\",\"30mn\",\"40mn\",\"50mn\",\"60mn\",\"90mn\",\"1H\",\"2H\",\"3H\",\"4H\",\"12H\",\"1hr\",\"2hrs\",\"3hrs\",\"4hrs\",\"5hrs\",\"6hrs\",\"7hrs\"],is_in_output=\"true\"),\n",
    "            word_token(token=[\"for\"], is_required=\"false\"),\n",
    "            number_token(is_in_output=\"true\"),\n",
    "            word_token(token=[\"roses\", \"dollars\",\"dollar\", \"RMB\", \"EUR\", \"USD\", \"usd\"], is_in_output=\"true\")\n",
    "      ]\n",
    "    }\n",
    "\n",
    "field_rules = {\n",
    "  \"rules\": [\n",
    "      rule_12\n",
    "  ]\n",
    "}\n",
    "\n",
    "print \"text:\", d['text']\n",
    "results = c.extract_using_custom_spacy(d, config, field_rules=field_rules)\n",
    "tele_lst = []\n",
    "for i in results:\n",
    "    tele_lst.append(''.join((i.values()[1]).split()))\n",
    "tele_lst"
   ]
  },
  {
   "cell_type": "code",
   "execution_count": 18,
   "metadata": {},
   "outputs": [
    {
     "name": "stdout",
     "output_type": "stream",
     "text": [
      "text:   4 hours-600 USD ,1 hr 60 USD ,2 hrs 100 USD , 1 hr: 80 USd ,2 hrs: 135 USd ,1 hour-900 USD,1hours - 130 usd ,A + 150! Incall: Outcall: 20 mins-300 roses, 30 minutes - 200 roses 90 min - 450 roses 1h - 300 roses 350 roses 2h - 550 roses 600 roses 3h - 750 roses 800 roses night - 1300 roses\n",
      "(extra Roses ) RATES: 30min - 150 Roses ; 40min - 200 Roses ; 1H - 250 Roses ; 1H OUTCALL- 300 Roses ; 2H - 400 Roses ; 3H - 550 Roses ; 4H - 650 Roses ; 12H - 1200 Roses ;\n",
      "40!ss 40!ss 40!ss Specials! ? 60! hhr 60! hhr 60! hhr Speci\n",
      "120 hhr 120 hhr 120 hhr ，150 Hr 150 Hr 150 Hr 150 Hr 150 Hr 150 \n",
      "30 minutes 40 dollars 60 minutes 49.9 dollars 90 minutes 90 dollars 120 minutes 120 dollars  \n",
      " 1 shot 30 minutes 2500 RMB 1 hour 2 shots 4000 RMB 2 hours 6000 RMB Dinner date (6 hours) 10,000 RMB Overnight 12 hours 12,000 RMB \n",
      "   800 EUR(~912 USD ) 3 hours:    1,200 EUR(~1,369 USD ) 8 hours:    2,000 EUR(~2,281 USD ) 12 hours:    2,500 EUR(~2,851 USD ) 24 hours:    3,000 EUR(~3,421 USD ) 48 hours: \n",
      " $500 USD 1hr,$5500 USD 12hrs, $1800 USD 4hrs, 90 usd for 90mins, 90 usd per hour , 100 dollars per hours, 70 usd 30mn, \n",
      " 1 dollar for 1 minute, 30 dollars for 30 minutes, $260 USD 30 min, $140 USD 30 min, $50 dollar 40 min\n",
      " 2hrs for 2oo dollars , 3hrs for 300 dollars , 250 USD 120 minute\n",
      " thousand dollars per week \n",
      " hundred dollars half hour \n",
      " 1 hr 60 USD, 2 hrs 100 USD, One hour 63 USD, Two hours 123 USD \n",
      " 1hr = 200 USD ,1HR |120 USD\n",
      "200 to 300 USD 2-4 Hours, 400 to 500 USD Full Night,  \n",
      " 250 USD hh , 550 USD hr, \n",
      " 1 HOUR - $220 USD ● 2 HOUR - $420 USD ● 3 HOUR - $600 USD,  1 hour - $600 / 2 hours - $1200 / 3 hours - $1500   \n",
      " 123 USD Three hours ,183 USD Four hours, ,\n",
      "  90 minutes. $90 USD, 30 minutos: $200  \n",
      " 1 hr - 500 $ USD, 2 hr - 1000 $ USD\n",
      " 2 hour :600$ USD \n",
      " 180 USD / hour  \n",
      " 1 HOUR with me 400 usd, 2 HOUR with me 800 usd   \n",
      " 1 hour $140(1x) , 90 min for $180(2x) , 2 hours for $220  \n",
      " $80 for 15m $100 for 30m $180 for 60m  \n"
     ]
    },
    {
     "data": {
      "text/plain": [
       "['thousanddollars-1week']"
      ]
     },
     "execution_count": 18,
     "metadata": {},
     "output_type": "execute_result"
    }
   ],
   "source": [
    "#thousand dollars per week\n",
    "\n",
    "rule_13 = {\n",
    "      \"identifier\": \"price_rule_us\",\n",
    "      \"description\": \"a description\",\n",
    "      \"is_active\": \"true\",\n",
    "      \"output_format\": \"{1}{2}-1{3}\",\n",
    "      \"pattern\": [\n",
    "            word_token(is_in_output=\"true\"),\n",
    "            word_token(token=[\"roses\", \"dollars\", \"RMB\", \"EUR\", \"USD\", \"usd\"], is_in_output=\"true\"),\n",
    "            word_token(token=[\"per\"]),\n",
    "            number_token(number =[\"hour\",\"hours\",\"H\",\"week\"],is_in_output=\"true\")\n",
    "      ]\n",
    "    }\n",
    "\n",
    "field_rules = {\n",
    "  \"rules\": [\n",
    "      rule_13\n",
    "  ]\n",
    "}\n",
    "\n",
    "print \"text:\", d['text']\n",
    "results = c.extract_using_custom_spacy(d, config, field_rules=field_rules)\n",
    "tele_lst = []\n",
    "for i in results:\n",
    "    tele_lst.append(''.join((i.values()[1]).split()))\n",
    "tele_lst\n"
   ]
  },
  {
   "cell_type": "code",
   "execution_count": 19,
   "metadata": {},
   "outputs": [
    {
     "name": "stdout",
     "output_type": "stream",
     "text": [
      "text:   4 hours-600 USD ,1 hr 60 USD ,2 hrs 100 USD , 1 hr: 80 USd ,2 hrs: 135 USd ,1 hour-900 USD,1hours - 130 usd ,A + 150! Incall: Outcall: 20 mins-300 roses, 30 minutes - 200 roses 90 min - 450 roses 1h - 300 roses 350 roses 2h - 550 roses 600 roses 3h - 750 roses 800 roses night - 1300 roses\n",
      "(extra Roses ) RATES: 30min - 150 Roses ; 40min - 200 Roses ; 1H - 250 Roses ; 1H OUTCALL- 300 Roses ; 2H - 400 Roses ; 3H - 550 Roses ; 4H - 650 Roses ; 12H - 1200 Roses ;\n",
      "40!ss 40!ss 40!ss Specials! ? 60! hhr 60! hhr 60! hhr Speci\n",
      "120 hhr 120 hhr 120 hhr ，150 Hr 150 Hr 150 Hr 150 Hr 150 Hr 150 \n",
      "30 minutes 40 dollars 60 minutes 49.9 dollars 90 minutes 90 dollars 120 minutes 120 dollars  \n",
      " 1 shot 30 minutes 2500 RMB 1 hour 2 shots 4000 RMB 2 hours 6000 RMB Dinner date (6 hours) 10,000 RMB Overnight 12 hours 12,000 RMB \n",
      "   800 EUR(~912 USD ) 3 hours:    1,200 EUR(~1,369 USD ) 8 hours:    2,000 EUR(~2,281 USD ) 12 hours:    2,500 EUR(~2,851 USD ) 24 hours:    3,000 EUR(~3,421 USD ) 48 hours: \n",
      " $500 USD 1hr,$5500 USD 12hrs, $1800 USD 4hrs, 90 usd for 90mins, 90 usd per hour , 100 dollars per hours, 70 usd 30mn, \n",
      " 1 dollar for 1 minute, 30 dollars for 30 minutes, $260 USD 30 min, $140 USD 30 min, $50 dollar 40 min\n",
      " 2hrs for 2oo dollars , 3hrs for 300 dollars , 250 USD 120 minute\n",
      " thousand dollars per week \n",
      " hundred dollars half hour \n",
      " 1 hr 60 USD, 2 hrs 100 USD, One hour 63 USD, Two hours 123 USD \n",
      " 1hr = 200 USD ,1HR |120 USD\n",
      "200 to 300 USD 2-4 Hours, 400 to 500 USD Full Night,  \n",
      " 250 USD hh , 550 USD hr, \n",
      " 1 HOUR - $220 USD ● 2 HOUR - $420 USD ● 3 HOUR - $600 USD,  1 hour - $600 / 2 hours - $1200 / 3 hours - $1500   \n",
      " 123 USD Three hours ,183 USD Four hours, ,\n",
      "  90 minutes. $90 USD, 30 minutos: $200  \n",
      " 1 hr - 500 $ USD, 2 hr - 1000 $ USD\n",
      " 2 hour :600$ USD \n",
      " 180 USD / hour  \n",
      " 1 HOUR with me 400 usd, 2 HOUR with me 800 usd   \n",
      " 1 hour $140(1x) , 90 min for $180(2x) , 2 hours for $220  \n",
      " $80 for 15m $100 for 30m $180 for 60m  \n"
     ]
    },
    {
     "data": {
      "text/plain": [
       "['thousanddollars-perweek', 'hundreddollars-halfhour']"
      ]
     },
     "execution_count": 19,
     "metadata": {},
     "output_type": "execute_result"
    }
   ],
   "source": [
    "# hundred dollars half hour\n",
    "\n",
    "rule_14 = {\n",
    "      \"identifier\": \"price_rule_us\",\n",
    "      \"description\": \"a description\",\n",
    "      \"is_active\": \"true\",\n",
    "      \"output_format\": \"{1}{2}-{3}{4}\",\n",
    "      \"pattern\": [\n",
    "            word_token(is_in_output=\"true\"),\n",
    "            word_token(token=[\"roses\", \"dollars\", \"RMB\", \"EUR\", \"USD\", \"usd\"], is_in_output=\"true\"),\n",
    "            word_token(is_in_output=\"true\"),\n",
    "            number_token(number =[\"hour\",\"hours\",\"H\",\"week\"],is_in_output=\"true\")\n",
    "      ]\n",
    "    }\n",
    "\n",
    "field_rules = {\n",
    "  \"rules\": [\n",
    "      rule_14\n",
    "  ]\n",
    "}\n",
    "\n",
    "print \"text:\", d['text']\n",
    "results = c.extract_using_custom_spacy(d, config, field_rules=field_rules)\n",
    "tele_lst = []\n",
    "for i in results:\n",
    "    tele_lst.append(''.join((i.values()[1]).split()))\n",
    "tele_lst\n"
   ]
  },
  {
   "cell_type": "code",
   "execution_count": 20,
   "metadata": {},
   "outputs": [
    {
     "name": "stdout",
     "output_type": "stream",
     "text": [
      "text:   4 hours-600 USD ,1 hr 60 USD ,2 hrs 100 USD , 1 hr: 80 USd ,2 hrs: 135 USd ,1 hour-900 USD,1hours - 130 usd ,A + 150! Incall: Outcall: 20 mins-300 roses, 30 minutes - 200 roses 90 min - 450 roses 1h - 300 roses 350 roses 2h - 550 roses 600 roses 3h - 750 roses 800 roses night - 1300 roses\n",
      "(extra Roses ) RATES: 30min - 150 Roses ; 40min - 200 Roses ; 1H - 250 Roses ; 1H OUTCALL- 300 Roses ; 2H - 400 Roses ; 3H - 550 Roses ; 4H - 650 Roses ; 12H - 1200 Roses ;\n",
      "40!ss 40!ss 40!ss Specials! ? 60! hhr 60! hhr 60! hhr Speci\n",
      "120 hhr 120 hhr 120 hhr ，150 Hr 150 Hr 150 Hr 150 Hr 150 Hr 150 \n",
      "30 minutes 40 dollars 60 minutes 49.9 dollars 90 minutes 90 dollars 120 minutes 120 dollars  \n",
      " 1 shot 30 minutes 2500 RMB 1 hour 2 shots 4000 RMB 2 hours 6000 RMB Dinner date (6 hours) 10,000 RMB Overnight 12 hours 12,000 RMB \n",
      "   800 EUR(~912 USD ) 3 hours:    1,200 EUR(~1,369 USD ) 8 hours:    2,000 EUR(~2,281 USD ) 12 hours:    2,500 EUR(~2,851 USD ) 24 hours:    3,000 EUR(~3,421 USD ) 48 hours: \n",
      " $500 USD 1hr,$5500 USD 12hrs, $1800 USD 4hrs, 90 usd for 90mins, 90 usd per hour , 100 dollars per hours, 70 usd 30mn, \n",
      " 1 dollar for 1 minute, 30 dollars for 30 minutes, $260 USD 30 min, $140 USD 30 min, $50 dollar 40 min\n",
      " 2hrs for 2oo dollars , 3hrs for 300 dollars , 250 USD 120 minute\n",
      " thousand dollars per week \n",
      " hundred dollars half hour \n",
      " 1 hr 60 USD, 2 hrs 100 USD, One hour 63 USD, Two hours 123 USD \n",
      " 1hr = 200 USD ,1HR |120 USD\n",
      "200 to 300 USD 2-4 Hours, 400 to 500 USD Full Night,  \n",
      " 250 USD hh , 550 USD hr, \n",
      " 1 HOUR - $220 USD ● 2 HOUR - $420 USD ● 3 HOUR - $600 USD,  1 hour - $600 / 2 hours - $1200 / 3 hours - $1500   \n",
      " 123 USD Three hours ,183 USD Four hours, ,\n",
      "  90 minutes. $90 USD, 30 minutos: $200  \n",
      " 1 hr - 500 $ USD, 2 hr - 1000 $ USD\n",
      " 2 hour :600$ USD \n",
      " 180 USD / hour  \n",
      " 1 HOUR with me 400 usd, 2 HOUR with me 800 usd   \n",
      " 1 hour $140(1x) , 90 min for $180(2x) , 2 hours for $220  \n",
      " $80 for 15m $100 for 30m $180 for 60m  \n"
     ]
    },
    {
     "data": {
      "text/plain": [
       "['1hr-200USD']"
      ]
     },
     "execution_count": 20,
     "metadata": {},
     "output_type": "execute_result"
    }
   ],
   "source": [
    "#1hr = 200 USD, 1HR |120 USD\n",
    "rule_15 = {\n",
    "      \"identifier\": \"price_rule_us\",\n",
    "      \"description\": \"a description\",\n",
    "      \"is_active\": \"true\",\n",
    "      \"output_format\": \"{1}-{2}{3}\",\n",
    "      \"pattern\": [\n",
    "            number_token(number =[\"20min\",\"30min\",\"40min\",\"50min\",\"60min\",\"90min\",\"20mins\",\"30mins\",\"40mins\",\"50mins\",\"60mins\",\"90mins\", \"20mn\",\"30mn\",\"40mn\",\"50mn\",\"60mn\",\"90mn\",\"1H\",\"2H\",\"3H\",\"4H\",\"12H\",\"1hr\",\"2hrs\",\"3hrs\",\"4hrs\",\"5hrs\",\"6hrs\",\"7hrs\",\"1HR\",\"2HR\",\"3HR\"],is_in_output=\"true\"),\n",
    "            punctuation_token(token=[\"=\",\"|\"], is_required=\"false\", is_in_output=\"false\"),\n",
    "            number_token(is_in_output=\"true\"),\n",
    "            word_token(token=[\"roses\", \"dollars\",\"dollar\", \"RMB\", \"EUR\", \"USD\", \"usd\"], is_in_output=\"true\")\n",
    "      ]\n",
    "    }\n",
    "\n",
    "field_rules = {\n",
    "  \"rules\": [\n",
    "      rule_15\n",
    "  ]\n",
    "}\n",
    "\n",
    "print \"text:\", d['text']\n",
    "results = c.extract_using_custom_spacy(d, config, field_rules=field_rules)\n",
    "tele_lst = []\n",
    "for i in results:\n",
    "    tele_lst.append(''.join((i.values()[1]).split()))\n",
    "tele_lst"
   ]
  },
  {
   "cell_type": "code",
   "execution_count": 21,
   "metadata": {},
   "outputs": [
    {
     "name": "stdout",
     "output_type": "stream",
     "text": [
      "text:   4 hours-600 USD ,1 hr 60 USD ,2 hrs 100 USD , 1 hr: 80 USd ,2 hrs: 135 USd ,1 hour-900 USD,1hours - 130 usd ,A + 150! Incall: Outcall: 20 mins-300 roses, 30 minutes - 200 roses 90 min - 450 roses 1h - 300 roses 350 roses 2h - 550 roses 600 roses 3h - 750 roses 800 roses night - 1300 roses\n",
      "(extra Roses ) RATES: 30min - 150 Roses ; 40min - 200 Roses ; 1H - 250 Roses ; 1H OUTCALL- 300 Roses ; 2H - 400 Roses ; 3H - 550 Roses ; 4H - 650 Roses ; 12H - 1200 Roses ;\n",
      "40!ss 40!ss 40!ss Specials! ? 60! hhr 60! hhr 60! hhr Speci\n",
      "120 hhr 120 hhr 120 hhr ，150 Hr 150 Hr 150 Hr 150 Hr 150 Hr 150 \n",
      "30 minutes 40 dollars 60 minutes 49.9 dollars 90 minutes 90 dollars 120 minutes 120 dollars  \n",
      " 1 shot 30 minutes 2500 RMB 1 hour 2 shots 4000 RMB 2 hours 6000 RMB Dinner date (6 hours) 10,000 RMB Overnight 12 hours 12,000 RMB \n",
      "   800 EUR(~912 USD ) 3 hours:    1,200 EUR(~1,369 USD ) 8 hours:    2,000 EUR(~2,281 USD ) 12 hours:    2,500 EUR(~2,851 USD ) 24 hours:    3,000 EUR(~3,421 USD ) 48 hours: \n",
      " $500 USD 1hr,$5500 USD 12hrs, $1800 USD 4hrs, 90 usd for 90mins, 90 usd per hour , 100 dollars per hours, 70 usd 30mn, \n",
      " 1 dollar for 1 minute, 30 dollars for 30 minutes, $260 USD 30 min, $140 USD 30 min, $50 dollar 40 min\n",
      " 2hrs for 2oo dollars , 3hrs for 300 dollars , 250 USD 120 minute\n",
      " thousand dollars per week \n",
      " hundred dollars half hour \n",
      " 1 hr 60 USD, 2 hrs 100 USD, One hour 63 USD, Two hours 123 USD \n",
      " 1hr = 200 USD ,1HR |120 USD\n",
      "200 to 300 USD 2-4 Hours, 400 to 500 USD Full Night,  \n",
      " 250 USD hh , 550 USD hr, \n",
      " 1 HOUR - $220 USD ● 2 HOUR - $420 USD ● 3 HOUR - $600 USD,  1 hour - $600 / 2 hours - $1200 / 3 hours - $1500   \n",
      " 123 USD Three hours ,183 USD Four hours, ,\n",
      "  90 minutes. $90 USD, 30 minutos: $200  \n",
      " 1 hr - 500 $ USD, 2 hr - 1000 $ USD\n",
      " 2 hour :600$ USD \n",
      " 180 USD / hour  \n",
      " 1 HOUR with me 400 usd, 2 HOUR with me 800 usd   \n",
      " 1 hour $140(1x) , 90 min for $180(2x) , 2 hours for $220  \n",
      " $80 for 15m $100 for 30m $180 for 60m  \n"
     ]
    },
    {
     "data": {
      "text/plain": [
       "['200to300USD-2-4Hours']"
      ]
     },
     "execution_count": 21,
     "metadata": {},
     "output_type": "execute_result"
    }
   ],
   "source": [
    "# 200 to 300 USD 2-4 Hours,\n",
    "rule_16 = {\n",
    "      \"identifier\": \"price_rule_us\",\n",
    "      \"description\": \"a description\",\n",
    "      \"is_active\": \"true\",\n",
    "      \"output_format\": \"{1}{2}{3}{4}-{5}{6}{7}{8}\",\n",
    "      \"pattern\": [\n",
    "            number_token(is_in_output=\"true\"),\n",
    "            word_token(token=[\"to\"], is_in_output=\"true\"),\n",
    "            number_token(is_in_output=\"true\"),\n",
    "            word_token(token=[\"roses\", \"dollars\",\"dollar\", \"RMB\", \"EUR\", \"USD\", \"usd\"], is_in_output=\"true\"),\n",
    "            number_token(is_in_output=\"true\"),\n",
    "            punctuation_token(token=[\"-\"], is_in_output=\"true\"),\n",
    "            number_token(is_in_output=\"true\"),\n",
    "            word_token(token=[\"min\",\"mins\",\"minutes\", \"minute\",\"minutos\",\"h\",\"H\",\"hr\",\"hh\",\"hour\",\"hours\"], is_in_output=\"true\")\n",
    "\n",
    "      ]\n",
    "    }\n",
    "\n",
    "field_rules = {\n",
    "  \"rules\": [\n",
    "      rule_16\n",
    "  ]\n",
    "}\n",
    "\n",
    "print \"text:\", d['text']\n",
    "results = c.extract_using_custom_spacy(d, config, field_rules=field_rules)\n",
    "tele_lst = []\n",
    "for i in results:\n",
    "    tele_lst.append(''.join((i.values()[1]).split()))\n",
    "tele_lst"
   ]
  },
  {
   "cell_type": "code",
   "execution_count": 22,
   "metadata": {},
   "outputs": [
    {
     "name": "stdout",
     "output_type": "stream",
     "text": [
      "text:   4 hours-600 USD ,1 hr 60 USD ,2 hrs 100 USD , 1 hr: 80 USd ,2 hrs: 135 USd ,1 hour-900 USD,1hours - 130 usd ,A + 150! Incall: Outcall: 20 mins-300 roses, 30 minutes - 200 roses 90 min - 450 roses 1h - 300 roses 350 roses 2h - 550 roses 600 roses 3h - 750 roses 800 roses night - 1300 roses\n",
      "(extra Roses ) RATES: 30min - 150 Roses ; 40min - 200 Roses ; 1H - 250 Roses ; 1H OUTCALL- 300 Roses ; 2H - 400 Roses ; 3H - 550 Roses ; 4H - 650 Roses ; 12H - 1200 Roses ;\n",
      "40!ss 40!ss 40!ss Specials! ? 60! hhr 60! hhr 60! hhr Speci\n",
      "120 hhr 120 hhr 120 hhr ，150 Hr 150 Hr 150 Hr 150 Hr 150 Hr 150 \n",
      "30 minutes 40 dollars 60 minutes 49.9 dollars 90 minutes 90 dollars 120 minutes 120 dollars  \n",
      " 1 shot 30 minutes 2500 RMB 1 hour 2 shots 4000 RMB 2 hours 6000 RMB Dinner date (6 hours) 10,000 RMB Overnight 12 hours 12,000 RMB \n",
      "   800 EUR(~912 USD ) 3 hours:    1,200 EUR(~1,369 USD ) 8 hours:    2,000 EUR(~2,281 USD ) 12 hours:    2,500 EUR(~2,851 USD ) 24 hours:    3,000 EUR(~3,421 USD ) 48 hours: \n",
      " $500 USD 1hr,$5500 USD 12hrs, $1800 USD 4hrs, 90 usd for 90mins, 90 usd per hour , 100 dollars per hours, 70 usd 30mn, \n",
      " 1 dollar for 1 minute, 30 dollars for 30 minutes, $260 USD 30 min, $140 USD 30 min, $50 dollar 40 min\n",
      " 2hrs for 2oo dollars , 3hrs for 300 dollars , 250 USD 120 minute\n",
      " thousand dollars per week \n",
      " hundred dollars half hour \n",
      " 1 hr 60 USD, 2 hrs 100 USD, One hour 63 USD, Two hours 123 USD \n",
      " 1hr = 200 USD ,1HR |120 USD\n",
      "200 to 300 USD 2-4 Hours, 400 to 500 USD Full Night,  \n",
      " 250 USD hh , 550 USD hr, \n",
      " 1 HOUR - $220 USD ● 2 HOUR - $420 USD ● 3 HOUR - $600 USD,  1 hour - $600 / 2 hours - $1200 / 3 hours - $1500   \n",
      " 123 USD Three hours ,183 USD Four hours, ,\n",
      "  90 minutes. $90 USD, 30 minutos: $200  \n",
      " 1 hr - 500 $ USD, 2 hr - 1000 $ USD\n",
      " 2 hour :600$ USD \n",
      " 180 USD / hour  \n",
      " 1 HOUR with me 400 usd, 2 HOUR with me 800 usd   \n",
      " 1 hour $140(1x) , 90 min for $180(2x) , 2 hours for $220  \n",
      " $80 for 15m $100 for 30m $180 for 60m  \n"
     ]
    },
    {
     "data": {
      "text/plain": [
       "['400to500USD-FullNight']"
      ]
     },
     "execution_count": 22,
     "metadata": {},
     "output_type": "execute_result"
    }
   ],
   "source": [
    "# 400 to 500 USD Full Night\n",
    "rule_17 = {\n",
    "      \"identifier\": \"price_rule_us\",\n",
    "      \"description\": \"a description\",\n",
    "      \"is_active\": \"true\",\n",
    "      \"output_format\": \"{1}{2}{3}{4}-{5}{6}\",\n",
    "      \"pattern\": [\n",
    "            number_token(is_in_output=\"true\"),\n",
    "            word_token(token=[\"to\"], is_in_output=\"true\"),\n",
    "            number_token(is_in_output=\"true\"),\n",
    "            word_token(token=[\"roses\", \"dollars\",\"dollar\", \"RMB\", \"EUR\", \"USD\", \"usd\"], is_in_output=\"true\"),\n",
    "            word_token(is_in_output=\"true\"),\n",
    "            word_token(is_in_output=\"true\")\n",
    "      ]\n",
    "    }\n",
    "\n",
    "field_rules = {\n",
    "  \"rules\": [\n",
    "      rule_17\n",
    "  ]\n",
    "}\n",
    "\n",
    "print \"text:\", d['text']\n",
    "results = c.extract_using_custom_spacy(d, config, field_rules=field_rules)\n",
    "tele_lst = []\n",
    "for i in results:\n",
    "    tele_lst.append(''.join((i.values()[1]).split()))\n",
    "tele_lst"
   ]
  },
  {
   "cell_type": "code",
   "execution_count": 23,
   "metadata": {},
   "outputs": [
    {
     "name": "stdout",
     "output_type": "stream",
     "text": [
      "text:   4 hours-600 USD ,1 hr 60 USD ,2 hrs 100 USD , 1 hr: 80 USd ,2 hrs: 135 USd ,1 hour-900 USD,1hours - 130 usd ,A + 150! Incall: Outcall: 20 mins-300 roses, 30 minutes - 200 roses 90 min - 450 roses 1h - 300 roses 350 roses 2h - 550 roses 600 roses 3h - 750 roses 800 roses night - 1300 roses\n",
      "(extra Roses ) RATES: 30min - 150 Roses ; 40min - 200 Roses ; 1H - 250 Roses ; 1H OUTCALL- 300 Roses ; 2H - 400 Roses ; 3H - 550 Roses ; 4H - 650 Roses ; 12H - 1200 Roses ;\n",
      "40!ss 40!ss 40!ss Specials! ? 60! hhr 60! hhr 60! hhr Speci\n",
      "120 hhr 120 hhr 120 hhr ，150 Hr 150 Hr 150 Hr 150 Hr 150 Hr 150 \n",
      "30 minutes 40 dollars 60 minutes 49.9 dollars 90 minutes 90 dollars 120 minutes 120 dollars  \n",
      " 1 shot 30 minutes 2500 RMB 1 hour 2 shots 4000 RMB 2 hours 6000 RMB Dinner date (6 hours) 10,000 RMB Overnight 12 hours 12,000 RMB \n",
      "   800 EUR(~912 USD ) 3 hours:    1,200 EUR(~1,369 USD ) 8 hours:    2,000 EUR(~2,281 USD ) 12 hours:    2,500 EUR(~2,851 USD ) 24 hours:    3,000 EUR(~3,421 USD ) 48 hours: \n",
      " $500 USD 1hr,$5500 USD 12hrs, $1800 USD 4hrs, 90 usd for 90mins, 90 usd per hour , 100 dollars per hours, 70 usd 30mn, \n",
      " 1 dollar for 1 minute, 30 dollars for 30 minutes, $260 USD 30 min, $140 USD 30 min, $50 dollar 40 min\n",
      " 2hrs for 2oo dollars , 3hrs for 300 dollars , 250 USD 120 minute\n",
      " thousand dollars per week \n",
      " hundred dollars half hour \n",
      " 1 hr 60 USD, 2 hrs 100 USD, One hour 63 USD, Two hours 123 USD \n",
      " 1hr = 200 USD ,1HR |120 USD\n",
      "200 to 300 USD 2-4 Hours, 400 to 500 USD Full Night,  \n",
      " 250 USD hh , 550 USD hr, \n",
      " 1 HOUR - $220 USD ● 2 HOUR - $420 USD ● 3 HOUR - $600 USD,  1 hour - $600 / 2 hours - $1200 / 3 hours - $1500   \n",
      " 123 USD Three hours ,183 USD Four hours, ,\n",
      "  90 minutes. $90 USD, 30 minutos: $200  \n",
      " 1 hr - 500 $ USD, 2 hr - 1000 $ USD\n",
      " 2 hour :600$ USD \n",
      " 180 USD / hour  \n",
      " 1 HOUR with me 400 usd, 2 HOUR with me 800 usd   \n",
      " 1 hour $140(1x) , 90 min for $180(2x) , 2 hours for $220  \n",
      " $80 for 15m $100 for 30m $180 for 60m  \n"
     ]
    },
    {
     "data": {
      "text/plain": [
       "['250USD-hh', '550USD-hr']"
      ]
     },
     "execution_count": 23,
     "metadata": {},
     "output_type": "execute_result"
    }
   ],
   "source": [
    "# 250 USD hh / 550 USD hr\n",
    "rule_18 = {\n",
    "      \"identifier\": \"price_rule_us\",\n",
    "      \"description\": \"a description\",\n",
    "      \"is_active\": \"true\",\n",
    "      \"output_format\": \"{1}{2}-{3}\",\n",
    "      \"pattern\": [\n",
    "            number_token(is_in_output=\"true\"),\n",
    "            word_token(token=[\"roses\", \"dollars\",\"dollar\", \"RMB\", \"EUR\", \"USD\", \"usd\"], is_in_output=\"true\"),\n",
    "            word_token(token=[\"min\",\"mins\",\"minutes\", \"minute\",\"minutos\",\"h\",\"H\",\"hr\",\"hh\",\"hour\",\"hours\"], is_in_output=\"true\")\n",
    "      \n",
    "      ]\n",
    "    }\n",
    "\n",
    "field_rules = {\n",
    "  \"rules\": [\n",
    "      rule_18\n",
    "  ]\n",
    "}\n",
    "\n",
    "print \"text:\", d['text']\n",
    "results = c.extract_using_custom_spacy(d, config, field_rules=field_rules)\n",
    "tele_lst = []\n",
    "for i in results:\n",
    "    tele_lst.append(''.join((i.values()[1]).split()))\n",
    "tele_lst"
   ]
  },
  {
   "cell_type": "code",
   "execution_count": 24,
   "metadata": {},
   "outputs": [
    {
     "name": "stdout",
     "output_type": "stream",
     "text": [
      "text:   4 hours-600 USD ,1 hr 60 USD ,2 hrs 100 USD , 1 hr: 80 USd ,2 hrs: 135 USd ,1 hour-900 USD,1hours - 130 usd ,A + 150! Incall: Outcall: 20 mins-300 roses, 30 minutes - 200 roses 90 min - 450 roses 1h - 300 roses 350 roses 2h - 550 roses 600 roses 3h - 750 roses 800 roses night - 1300 roses\n",
      "(extra Roses ) RATES: 30min - 150 Roses ; 40min - 200 Roses ; 1H - 250 Roses ; 1H OUTCALL- 300 Roses ; 2H - 400 Roses ; 3H - 550 Roses ; 4H - 650 Roses ; 12H - 1200 Roses ;\n",
      "40!ss 40!ss 40!ss Specials! ? 60! hhr 60! hhr 60! hhr Speci\n",
      "120 hhr 120 hhr 120 hhr ，150 Hr 150 Hr 150 Hr 150 Hr 150 Hr 150 \n",
      "30 minutes 40 dollars 60 minutes 49.9 dollars 90 minutes 90 dollars 120 minutes 120 dollars  \n",
      " 1 shot 30 minutes 2500 RMB 1 hour 2 shots 4000 RMB 2 hours 6000 RMB Dinner date (6 hours) 10,000 RMB Overnight 12 hours 12,000 RMB \n",
      "   800 EUR(~912 USD ) 3 hours:    1,200 EUR(~1,369 USD ) 8 hours:    2,000 EUR(~2,281 USD ) 12 hours:    2,500 EUR(~2,851 USD ) 24 hours:    3,000 EUR(~3,421 USD ) 48 hours: \n",
      " $500 USD 1hr,$5500 USD 12hrs, $1800 USD 4hrs, 90 usd for 90mins, 90 usd per hour , 100 dollars per hours, 70 usd 30mn, \n",
      " 1 dollar for 1 minute, 30 dollars for 30 minutes, $260 USD 30 min, $140 USD 30 min, $50 dollar 40 min\n",
      " 2hrs for 2oo dollars , 3hrs for 300 dollars , 250 USD 120 minute\n",
      " thousand dollars per week \n",
      " hundred dollars half hour \n",
      " 1 hr 60 USD, 2 hrs 100 USD, One hour 63 USD, Two hours 123 USD \n",
      " 1hr = 200 USD ,1HR |120 USD\n",
      "200 to 300 USD 2-4 Hours, 400 to 500 USD Full Night,  \n",
      " 250 USD hh , 550 USD hr, \n",
      " 1 HOUR - $220 USD ● 2 HOUR - $420 USD ● 3 HOUR - $600 USD,  1 hour - $600 / 2 hours - $1200 / 3 hours - $1500   \n",
      " 123 USD Three hours ,183 USD Four hours, ,\n",
      "  90 minutes. $90 USD, 30 minutos: $200  \n",
      " 1 hr - 500 $ USD, 2 hr - 1000 $ USD\n",
      " 2 hour :600$ USD \n",
      " 180 USD / hour  \n",
      " 1 HOUR with me 400 usd, 2 HOUR with me 800 usd   \n",
      " 1 hour $140(1x) , 90 min for $180(2x) , 2 hours for $220  \n",
      " $80 for 15m $100 for 30m $180 for 60m  \n"
     ]
    },
    {
     "data": {
      "text/plain": [
       "['1HOUR-$220',\n",
       " '2HOUR-$420',\n",
       " '3HOUR-$600',\n",
       " '1hour-$600',\n",
       " '2hours-$1200',\n",
       " '3hours-$1500']"
      ]
     },
     "execution_count": 24,
     "metadata": {},
     "output_type": "execute_result"
    }
   ],
   "source": [
    "#1 HOUR - $220 USD ● 2 HOUR - $420 USD \n",
    "# 1 hour - $600 / 2 hours - $1200 / 3 hours - $1500 \n",
    "rule_19 = {\n",
    "      \"identifier\": \"price_rule_us\",\n",
    "      \"description\": \"a description\",\n",
    "      \"is_active\": \"true\",\n",
    "      \"output_format\": \"{1}{2}{3}{4}{5}\",\n",
    "      \"pattern\": [\n",
    "            number_token(is_in_output=\"true\"),\n",
    "            word_token(token=[\"min\",\"mins\",\"minutes\", \"minute\",\"minutos\",\"h\",\"H\",\"hr\",\"hh\",\"hour\",\"hours\"], is_in_output=\"true\"),\n",
    "            punctuation_token(token=[\"-\"], is_in_output=\"true\"),\n",
    "            punctuation_token(token=[\"$\"], is_in_output=\"true\"),\n",
    "            number_token(is_in_output=\"true\"),\n",
    "            word_token(token=[\"roses\", \"dollars\",\"dollar\", \"RMB\", \"EUR\", \"USD\", \"usd\"],is_required=\"false\", is_in_output=\"true\")\n",
    "      ]\n",
    "    }\n",
    "\n",
    "field_rules = {\n",
    "  \"rules\": [\n",
    "      rule_19\n",
    "  ]\n",
    "}\n",
    "\n",
    "print \"text:\", d['text']\n",
    "results = c.extract_using_custom_spacy(d, config, field_rules=field_rules)\n",
    "tele_lst = []\n",
    "for i in results:\n",
    "    tele_lst.append(''.join((i.values()[1]).split()))\n",
    "tele_lst"
   ]
  },
  {
   "cell_type": "code",
   "execution_count": 25,
   "metadata": {},
   "outputs": [
    {
     "name": "stdout",
     "output_type": "stream",
     "text": [
      "text:   4 hours-600 USD ,1 hr 60 USD ,2 hrs 100 USD , 1 hr: 80 USd ,2 hrs: 135 USd ,1 hour-900 USD,1hours - 130 usd ,A + 150! Incall: Outcall: 20 mins-300 roses, 30 minutes - 200 roses 90 min - 450 roses 1h - 300 roses 350 roses 2h - 550 roses 600 roses 3h - 750 roses 800 roses night - 1300 roses\n",
      "(extra Roses ) RATES: 30min - 150 Roses ; 40min - 200 Roses ; 1H - 250 Roses ; 1H OUTCALL- 300 Roses ; 2H - 400 Roses ; 3H - 550 Roses ; 4H - 650 Roses ; 12H - 1200 Roses ;\n",
      "40!ss 40!ss 40!ss Specials! ? 60! hhr 60! hhr 60! hhr Speci\n",
      "120 hhr 120 hhr 120 hhr ，150 Hr 150 Hr 150 Hr 150 Hr 150 Hr 150 \n",
      "30 minutes 40 dollars 60 minutes 49.9 dollars 90 minutes 90 dollars 120 minutes 120 dollars  \n",
      " 1 shot 30 minutes 2500 RMB 1 hour 2 shots 4000 RMB 2 hours 6000 RMB Dinner date (6 hours) 10,000 RMB Overnight 12 hours 12,000 RMB \n",
      "   800 EUR(~912 USD ) 3 hours:    1,200 EUR(~1,369 USD ) 8 hours:    2,000 EUR(~2,281 USD ) 12 hours:    2,500 EUR(~2,851 USD ) 24 hours:    3,000 EUR(~3,421 USD ) 48 hours: \n",
      " $500 USD 1hr,$5500 USD 12hrs, $1800 USD 4hrs, 90 usd for 90mins, 90 usd per hour , 100 dollars per hours, 70 usd 30mn, \n",
      " 1 dollar for 1 minute, 30 dollars for 30 minutes, $260 USD 30 min, $140 USD 30 min, $50 dollar 40 min\n",
      " 2hrs for 2oo dollars , 3hrs for 300 dollars , 250 USD 120 minute\n",
      " thousand dollars per week \n",
      " hundred dollars half hour \n",
      " 1 hr 60 USD, 2 hrs 100 USD, One hour 63 USD, Two hours 123 USD \n",
      " 1hr = 200 USD ,1HR |120 USD\n",
      "200 to 300 USD 2-4 Hours, 400 to 500 USD Full Night,  \n",
      " 250 USD hh , 550 USD hr, \n",
      " 1 HOUR - $220 USD ● 2 HOUR - $420 USD ● 3 HOUR - $600 USD,  1 hour - $600 / 2 hours - $1200 / 3 hours - $1500   \n",
      " 123 USD Three hours ,183 USD Four hours, ,\n",
      "  90 minutes. $90 USD, 30 minutos: $200  \n",
      " 1 hr - 500 $ USD, 2 hr - 1000 $ USD\n",
      " 2 hour :600$ USD \n",
      " 180 USD / hour  \n",
      " 1 HOUR with me 400 usd, 2 HOUR with me 800 usd   \n",
      " 1 hour $140(1x) , 90 min for $180(2x) , 2 hours for $220  \n",
      " $80 for 15m $100 for 30m $180 for 60m  \n"
     ]
    },
    {
     "data": {
      "text/plain": [
       "['Onehour-63USD', 'Twohours-123USD']"
      ]
     },
     "execution_count": 25,
     "metadata": {},
     "output_type": "execute_result"
    }
   ],
   "source": [
    "#One hour 63 USD, Two hours 123 USD\n",
    "\n",
    "rule_20 = {\n",
    "      \"identifier\": \"price_rule_us\",\n",
    "      \"description\": \"a description\",\n",
    "      \"is_active\": \"true\",\n",
    "      \"output_format\": \"{1}{2}-{3}{4}\",\n",
    "      \"pattern\": [\n",
    "            word_token(is_in_output=\"true\"),\n",
    "            word_token(token=[\"min\",\"mins\",\"minutes\", \"minute\",\"minutos\",\"h\",\"H\",\"hr\",\"hour\",\"hours\"], is_in_output=\"true\"),\n",
    "            number_token(is_in_output=\"true\"),\n",
    "            word_token(token=[\"roses\", \"dollars\",\"dollar\", \"RMB\", \"EUR\", \"USD\", \"usd\"], is_in_output=\"true\")\n",
    "   \n",
    "      ]\n",
    "    }\n",
    "\n",
    "field_rules = {\n",
    "  \"rules\": [\n",
    "      rule_20\n",
    "  ]\n",
    "}\n",
    "\n",
    "print \"text:\", d['text']\n",
    "results = c.extract_using_custom_spacy(d, config, field_rules=field_rules)\n",
    "tele_lst = []\n",
    "for i in results:\n",
    "    tele_lst.append(''.join((i.values()[1]).split()))\n",
    "tele_lst"
   ]
  },
  {
   "cell_type": "code",
   "execution_count": 26,
   "metadata": {},
   "outputs": [
    {
     "name": "stdout",
     "output_type": "stream",
     "text": [
      "text:   4 hours-600 USD ,1 hr 60 USD ,2 hrs 100 USD , 1 hr: 80 USd ,2 hrs: 135 USd ,1 hour-900 USD,1hours - 130 usd ,A + 150! Incall: Outcall: 20 mins-300 roses, 30 minutes - 200 roses 90 min - 450 roses 1h - 300 roses 350 roses 2h - 550 roses 600 roses 3h - 750 roses 800 roses night - 1300 roses\n",
      "(extra Roses ) RATES: 30min - 150 Roses ; 40min - 200 Roses ; 1H - 250 Roses ; 1H OUTCALL- 300 Roses ; 2H - 400 Roses ; 3H - 550 Roses ; 4H - 650 Roses ; 12H - 1200 Roses ;\n",
      "40!ss 40!ss 40!ss Specials! ? 60! hhr 60! hhr 60! hhr Speci\n",
      "120 hhr 120 hhr 120 hhr ，150 Hr 150 Hr 150 Hr 150 Hr 150 Hr 150 \n",
      "30 minutes 40 dollars 60 minutes 49.9 dollars 90 minutes 90 dollars 120 minutes 120 dollars  \n",
      " 1 shot 30 minutes 2500 RMB 1 hour 2 shots 4000 RMB 2 hours 6000 RMB Dinner date (6 hours) 10,000 RMB Overnight 12 hours 12,000 RMB \n",
      "   800 EUR(~912 USD ) 3 hours:    1,200 EUR(~1,369 USD ) 8 hours:    2,000 EUR(~2,281 USD ) 12 hours:    2,500 EUR(~2,851 USD ) 24 hours:    3,000 EUR(~3,421 USD ) 48 hours: \n",
      " $500 USD 1hr,$5500 USD 12hrs, $1800 USD 4hrs, 90 usd for 90mins, 90 usd per hour , 100 dollars per hours, 70 usd 30mn, \n",
      " 1 dollar for 1 minute, 30 dollars for 30 minutes, $260 USD 30 min, $140 USD 30 min, $50 dollar 40 min\n",
      " 2hrs for 2oo dollars , 3hrs for 300 dollars , 250 USD 120 minute\n",
      " thousand dollars per week \n",
      " hundred dollars half hour \n",
      " 1 hr 60 USD, 2 hrs 100 USD, One hour 63 USD, Two hours 123 USD \n",
      " 1hr = 200 USD ,1HR |120 USD\n",
      "200 to 300 USD 2-4 Hours, 400 to 500 USD Full Night,  \n",
      " 250 USD hh , 550 USD hr, \n",
      " 1 HOUR - $220 USD ● 2 HOUR - $420 USD ● 3 HOUR - $600 USD,  1 hour - $600 / 2 hours - $1200 / 3 hours - $1500   \n",
      " 123 USD Three hours ,183 USD Four hours, ,\n",
      "  90 minutes. $90 USD, 30 minutos: $200  \n",
      " 1 hr - 500 $ USD, 2 hr - 1000 $ USD\n",
      " 2 hour :600$ USD \n",
      " 180 USD / hour  \n",
      " 1 HOUR with me 400 usd, 2 HOUR with me 800 usd   \n",
      " 1 hour $140(1x) , 90 min for $180(2x) , 2 hours for $220  \n",
      " $80 for 15m $100 for 30m $180 for 60m  \n"
     ]
    },
    {
     "data": {
      "text/plain": [
       "['90minutes-$90', '30minutos-$200']"
      ]
     },
     "execution_count": 26,
     "metadata": {},
     "output_type": "execute_result"
    }
   ],
   "source": [
    "# 90 minutes. $90 USD  ,   30 minutos: $200\n",
    "rule_21 = {\n",
    "      \"identifier\": \"price_rule_us\",\n",
    "      \"description\": \"a description\",\n",
    "      \"is_active\": \"true\",\n",
    "      \"output_format\": \"{1}{2}-{3}{4}\",\n",
    "      \"pattern\": [\n",
    "            number_token(is_in_output=\"true\"),\n",
    "            word_token(token=[\"min\",\"mins\",\"minutes\", \"minute\",\"minutos\",\"h\",\"H\",\"hr\",\"hour\",\"hours\"], is_in_output=\"true\"),\n",
    "            punctuation_token(token=[\".\",\":\"], is_in_output=\"false\"),\n",
    "            punctuation_token(token=[\"$\"], is_in_output=\"true\"),\n",
    "            number_token(is_in_output=\"true\"),\n",
    "            word_token(token=[\"roses\", \"dollars\",\"dollar\", \"RMB\", \"EUR\", \"USD\", \"usd\"], is_required=\"false\",is_in_output=\"true\")\n",
    "   \n",
    "      ]\n",
    "    }\n",
    "\n",
    "field_rules = {\n",
    "  \"rules\": [\n",
    "      rule_21\n",
    "  ]\n",
    "}\n",
    "\n",
    "print \"text:\", d['text']\n",
    "results = c.extract_using_custom_spacy(d, config, field_rules=field_rules)\n",
    "tele_lst = []\n",
    "for i in results:\n",
    "    tele_lst.append(''.join((i.values()[1]).split()))\n",
    "tele_lst"
   ]
  },
  {
   "cell_type": "code",
   "execution_count": 27,
   "metadata": {},
   "outputs": [
    {
     "name": "stdout",
     "output_type": "stream",
     "text": [
      "text:   4 hours-600 USD ,1 hr 60 USD ,2 hrs 100 USD , 1 hr: 80 USd ,2 hrs: 135 USd ,1 hour-900 USD,1hours - 130 usd ,A + 150! Incall: Outcall: 20 mins-300 roses, 30 minutes - 200 roses 90 min - 450 roses 1h - 300 roses 350 roses 2h - 550 roses 600 roses 3h - 750 roses 800 roses night - 1300 roses\n",
      "(extra Roses ) RATES: 30min - 150 Roses ; 40min - 200 Roses ; 1H - 250 Roses ; 1H OUTCALL- 300 Roses ; 2H - 400 Roses ; 3H - 550 Roses ; 4H - 650 Roses ; 12H - 1200 Roses ;\n",
      "40!ss 40!ss 40!ss Specials! ? 60! hhr 60! hhr 60! hhr Speci\n",
      "120 hhr 120 hhr 120 hhr ，150 Hr 150 Hr 150 Hr 150 Hr 150 Hr 150 \n",
      "30 minutes 40 dollars 60 minutes 49.9 dollars 90 minutes 90 dollars 120 minutes 120 dollars  \n",
      " 1 shot 30 minutes 2500 RMB 1 hour 2 shots 4000 RMB 2 hours 6000 RMB Dinner date (6 hours) 10,000 RMB Overnight 12 hours 12,000 RMB \n",
      "   800 EUR(~912 USD ) 3 hours:    1,200 EUR(~1,369 USD ) 8 hours:    2,000 EUR(~2,281 USD ) 12 hours:    2,500 EUR(~2,851 USD ) 24 hours:    3,000 EUR(~3,421 USD ) 48 hours: \n",
      " $500 USD 1hr,$5500 USD 12hrs, $1800 USD 4hrs, 90 usd for 90mins, 90 usd per hour , 100 dollars per hours, 70 usd 30mn, \n",
      " 1 dollar for 1 minute, 30 dollars for 30 minutes, $260 USD 30 min, $140 USD 30 min, $50 dollar 40 min\n",
      " 2hrs for 2oo dollars , 3hrs for 300 dollars , 250 USD 120 minute\n",
      " thousand dollars per week \n",
      " hundred dollars half hour \n",
      " 1 hr 60 USD, 2 hrs 100 USD, One hour 63 USD, Two hours 123 USD \n",
      " 1hr = 200 USD ,1HR |120 USD\n",
      "200 to 300 USD 2-4 Hours, 400 to 500 USD Full Night,  \n",
      " 250 USD hh , 550 USD hr, \n",
      " 1 HOUR - $220 USD ● 2 HOUR - $420 USD ● 3 HOUR - $600 USD,  1 hour - $600 / 2 hours - $1200 / 3 hours - $1500   \n",
      " 123 USD Three hours ,183 USD Four hours, ,\n",
      "  90 minutes. $90 USD, 30 minutos: $200  \n",
      " 1 hr - 500 $ USD, 2 hr - 1000 $ USD\n",
      " 2 hour :600$ USD \n",
      " 180 USD / hour  \n",
      " 1 HOUR with me 400 usd, 2 HOUR with me 800 usd   \n",
      " 1 hour $140(1x) , 90 min for $180(2x) , 2 hours for $220  \n",
      " $80 for 15m $100 for 30m $180 for 60m  \n"
     ]
    },
    {
     "data": {
      "text/plain": [
       "['1hr-500$', '2hr-1000$']"
      ]
     },
     "execution_count": 27,
     "metadata": {},
     "output_type": "execute_result"
    }
   ],
   "source": [
    "# 1 hr - 500 $ USD, 2 hr - 1000 $ USD\n",
    "rule_22 = {\n",
    "      \"identifier\": \"price_rule_us\",\n",
    "      \"description\": \"a description\",\n",
    "      \"is_active\": \"true\",\n",
    "      \"output_format\": \"{1}{2}-{3}{4}\",\n",
    "      \"pattern\": [\n",
    "            number_token(is_in_output=\"true\"),\n",
    "            word_token(token=[\"min\",\"mins\",\"minutes\", \"minute\",\"minutos\",\"h\",\"H\",\"hr\",\"hour\",\"hours\"], is_in_output=\"true\"),\n",
    "            punctuation_token(token=[\"-\"], is_in_output=\"false\"),\n",
    "            number_token(is_in_output=\"true\"),\n",
    "            punctuation_token(token=[\"$\"], is_in_output=\"true\"),\n",
    "            word_token(token=[\"roses\", \"dollars\",\"dollar\", \"RMB\", \"EUR\", \"USD\", \"usd\"], is_required=\"false\",is_in_output=\"true\")\n",
    "   \n",
    "      ]\n",
    "    }\n",
    "\n",
    "field_rules = {\n",
    "  \"rules\": [\n",
    "      rule_22\n",
    "  ]\n",
    "}\n",
    "\n",
    "print \"text:\", d['text']\n",
    "results = c.extract_using_custom_spacy(d, config, field_rules=field_rules)\n",
    "tele_lst = []\n",
    "for i in results:\n",
    "    tele_lst.append(''.join((i.values()[1]).split()))\n",
    "tele_lst"
   ]
  },
  {
   "cell_type": "code",
   "execution_count": 28,
   "metadata": {},
   "outputs": [
    {
     "name": "stdout",
     "output_type": "stream",
     "text": [
      "text:   4 hours-600 USD ,1 hr 60 USD ,2 hrs 100 USD , 1 hr: 80 USd ,2 hrs: 135 USd ,1 hour-900 USD,1hours - 130 usd ,A + 150! Incall: Outcall: 20 mins-300 roses, 30 minutes - 200 roses 90 min - 450 roses 1h - 300 roses 350 roses 2h - 550 roses 600 roses 3h - 750 roses 800 roses night - 1300 roses\n",
      "(extra Roses ) RATES: 30min - 150 Roses ; 40min - 200 Roses ; 1H - 250 Roses ; 1H OUTCALL- 300 Roses ; 2H - 400 Roses ; 3H - 550 Roses ; 4H - 650 Roses ; 12H - 1200 Roses ;\n",
      "40!ss 40!ss 40!ss Specials! ? 60! hhr 60! hhr 60! hhr Speci\n",
      "120 hhr 120 hhr 120 hhr ，150 Hr 150 Hr 150 Hr 150 Hr 150 Hr 150 \n",
      "30 minutes 40 dollars 60 minutes 49.9 dollars 90 minutes 90 dollars 120 minutes 120 dollars  \n",
      " 1 shot 30 minutes 2500 RMB 1 hour 2 shots 4000 RMB 2 hours 6000 RMB Dinner date (6 hours) 10,000 RMB Overnight 12 hours 12,000 RMB \n",
      "   800 EUR(~912 USD ) 3 hours:    1,200 EUR(~1,369 USD ) 8 hours:    2,000 EUR(~2,281 USD ) 12 hours:    2,500 EUR(~2,851 USD ) 24 hours:    3,000 EUR(~3,421 USD ) 48 hours: \n",
      " $500 USD 1hr,$5500 USD 12hrs, $1800 USD 4hrs, 90 usd for 90mins, 90 usd per hour , 100 dollars per hours, 70 usd 30mn, \n",
      " 1 dollar for 1 minute, 30 dollars for 30 minutes, $260 USD 30 min, $140 USD 30 min, $50 dollar 40 min\n",
      " 2hrs for 2oo dollars , 3hrs for 300 dollars , 250 USD 120 minute\n",
      " thousand dollars per week \n",
      " hundred dollars half hour \n",
      " 1 hr 60 USD, 2 hrs 100 USD, One hour 63 USD, Two hours 123 USD \n",
      " 1hr = 200 USD ,1HR |120 USD\n",
      "200 to 300 USD 2-4 Hours, 400 to 500 USD Full Night,  \n",
      " 250 USD hh , 550 USD hr, \n",
      " 1 HOUR - $220 USD ● 2 HOUR - $420 USD ● 3 HOUR - $600 USD,  1 hour - $600 / 2 hours - $1200 / 3 hours - $1500   \n",
      " 123 USD Three hours ,183 USD Four hours, ,\n",
      "  90 minutes. $90 USD, 30 minutos: $200  \n",
      " 1 hr - 500 $ USD, 2 hr - 1000 $ USD\n",
      " 2 hour :600$ USD \n",
      " 180 USD / hour  \n",
      " 1 HOUR with me 400 usd, 2 HOUR with me 800 usd   \n",
      " 1 hour $140(1x) , 90 min for $180(2x) , 2 hours for $220  \n",
      " $80 for 15m $100 for 30m $180 for 60m  \n"
     ]
    },
    {
     "data": {
      "text/plain": [
       "['2hour-600$']"
      ]
     },
     "execution_count": 28,
     "metadata": {},
     "output_type": "execute_result"
    }
   ],
   "source": [
    "#2 hour :600$ USD \n",
    "rule_23 = {\n",
    "      \"identifier\": \"price_rule_us\",\n",
    "      \"description\": \"a description\",\n",
    "      \"is_active\": \"true\",\n",
    "      \"output_format\": \"{1}{2}-{3}{4}\",\n",
    "      \"pattern\": [\n",
    "            number_token(is_in_output=\"true\"),\n",
    "            word_token(token=[\"min\",\"mins\",\"minutes\", \"minute\",\"minutos\",\"h\",\"H\",\"hr\",\"hour\",\"hours\"], is_in_output=\"true\"),\n",
    "            punctuation_token(token=[\":\"], is_in_output=\"false\"),\n",
    "            number_token(is_in_output=\"true\"),\n",
    "            punctuation_token(token=[\"$\"], is_in_output=\"true\"),\n",
    "            word_token(token=[\"roses\", \"dollars\",\"dollar\", \"RMB\", \"EUR\", \"USD\", \"usd\"], is_required=\"false\",is_in_output=\"true\")\n",
    "   \n",
    "      ]\n",
    "    }\n",
    "\n",
    "field_rules = {\n",
    "  \"rules\": [\n",
    "      rule_23\n",
    "  ]\n",
    "}\n",
    "\n",
    "print \"text:\", d['text']\n",
    "results = c.extract_using_custom_spacy(d, config, field_rules=field_rules)\n",
    "tele_lst = []\n",
    "for i in results:\n",
    "    tele_lst.append(''.join((i.values()[1]).split()))\n",
    "tele_lst"
   ]
  },
  {
   "cell_type": "code",
   "execution_count": 29,
   "metadata": {},
   "outputs": [
    {
     "name": "stdout",
     "output_type": "stream",
     "text": [
      "text:   4 hours-600 USD ,1 hr 60 USD ,2 hrs 100 USD , 1 hr: 80 USd ,2 hrs: 135 USd ,1 hour-900 USD,1hours - 130 usd ,A + 150! Incall: Outcall: 20 mins-300 roses, 30 minutes - 200 roses 90 min - 450 roses 1h - 300 roses 350 roses 2h - 550 roses 600 roses 3h - 750 roses 800 roses night - 1300 roses\n",
      "(extra Roses ) RATES: 30min - 150 Roses ; 40min - 200 Roses ; 1H - 250 Roses ; 1H OUTCALL- 300 Roses ; 2H - 400 Roses ; 3H - 550 Roses ; 4H - 650 Roses ; 12H - 1200 Roses ;\n",
      "40!ss 40!ss 40!ss Specials! ? 60! hhr 60! hhr 60! hhr Speci\n",
      "120 hhr 120 hhr 120 hhr ，150 Hr 150 Hr 150 Hr 150 Hr 150 Hr 150 \n",
      "30 minutes 40 dollars 60 minutes 49.9 dollars 90 minutes 90 dollars 120 minutes 120 dollars  \n",
      " 1 shot 30 minutes 2500 RMB 1 hour 2 shots 4000 RMB 2 hours 6000 RMB Dinner date (6 hours) 10,000 RMB Overnight 12 hours 12,000 RMB \n",
      "   800 EUR(~912 USD ) 3 hours:    1,200 EUR(~1,369 USD ) 8 hours:    2,000 EUR(~2,281 USD ) 12 hours:    2,500 EUR(~2,851 USD ) 24 hours:    3,000 EUR(~3,421 USD ) 48 hours: \n",
      " $500 USD 1hr,$5500 USD 12hrs, $1800 USD 4hrs, 90 usd for 90mins, 90 usd per hour , 100 dollars per hours, 70 usd 30mn, \n",
      " 1 dollar for 1 minute, 30 dollars for 30 minutes, $260 USD 30 min, $140 USD 30 min, $50 dollar 40 min\n",
      " 2hrs for 2oo dollars , 3hrs for 300 dollars , 250 USD 120 minute\n",
      " thousand dollars per week \n",
      " hundred dollars half hour \n",
      " 1 hr 60 USD, 2 hrs 100 USD, One hour 63 USD, Two hours 123 USD \n",
      " 1hr = 200 USD ,1HR |120 USD\n",
      "200 to 300 USD 2-4 Hours, 400 to 500 USD Full Night,  \n",
      " 250 USD hh , 550 USD hr, \n",
      " 1 HOUR - $220 USD ● 2 HOUR - $420 USD ● 3 HOUR - $600 USD,  1 hour - $600 / 2 hours - $1200 / 3 hours - $1500   \n",
      " 123 USD Three hours ,183 USD Four hours, ,\n",
      "  90 minutes. $90 USD, 30 minutos: $200  \n",
      " 1 hr - 500 $ USD, 2 hr - 1000 $ USD\n",
      " 2 hour :600$ USD \n",
      " 180 USD / hour  \n",
      " 1 HOUR with me 400 usd, 2 HOUR with me 800 usd   \n",
      " 1 hour $140(1x) , 90 min for $180(2x) , 2 hours for $220  \n",
      " $80 for 15m $100 for 30m $180 for 60m  \n"
     ]
    },
    {
     "data": {
      "text/plain": [
       "['180USD-1hour']"
      ]
     },
     "execution_count": 29,
     "metadata": {},
     "output_type": "execute_result"
    }
   ],
   "source": [
    "#180 USD / hour \n",
    "rule_24 = {\n",
    "      \"identifier\": \"price_rule_us\",\n",
    "      \"description\": \"a description\",\n",
    "      \"is_active\": \"true\",\n",
    "      \"output_format\": \"{1}{2}-1{3}\",\n",
    "      \"pattern\": [\n",
    "            number_token(is_in_output=\"true\"),\n",
    "            word_token(token=[\"roses\", \"dollars\",\"dollar\", \"RMB\", \"EUR\", \"USD\", \"usd\"], is_required=\"false\",is_in_output=\"true\"),\n",
    "            punctuation_token(token=[\"/\"], is_in_output=\"false\"),\n",
    "            word_token(token=[\"h\",\"H\",\"hr\",\"hour\",\"hours\"], is_in_output=\"true\")\n",
    "      ]\n",
    "    }\n",
    "\n",
    "field_rules = {\n",
    "  \"rules\": [\n",
    "      rule_24\n",
    "  ]\n",
    "}\n",
    "\n",
    "print \"text:\", d['text']\n",
    "results = c.extract_using_custom_spacy(d, config, field_rules=field_rules)\n",
    "tele_lst = []\n",
    "for i in results:\n",
    "    tele_lst.append(''.join((i.values()[1]).split()))\n",
    "tele_lst"
   ]
  },
  {
   "cell_type": "code",
   "execution_count": 30,
   "metadata": {},
   "outputs": [
    {
     "name": "stdout",
     "output_type": "stream",
     "text": [
      "text:   4 hours-600 USD ,1 hr 60 USD ,2 hrs 100 USD , 1 hr: 80 USd ,2 hrs: 135 USd ,1 hour-900 USD,1hours - 130 usd ,A + 150! Incall: Outcall: 20 mins-300 roses, 30 minutes - 200 roses 90 min - 450 roses 1h - 300 roses 350 roses 2h - 550 roses 600 roses 3h - 750 roses 800 roses night - 1300 roses\n",
      "(extra Roses ) RATES: 30min - 150 Roses ; 40min - 200 Roses ; 1H - 250 Roses ; 1H OUTCALL- 300 Roses ; 2H - 400 Roses ; 3H - 550 Roses ; 4H - 650 Roses ; 12H - 1200 Roses ;\n",
      "40!ss 40!ss 40!ss Specials! ? 60! hhr 60! hhr 60! hhr Speci\n",
      "120 hhr 120 hhr 120 hhr ，150 Hr 150 Hr 150 Hr 150 Hr 150 Hr 150 \n",
      "30 minutes 40 dollars 60 minutes 49.9 dollars 90 minutes 90 dollars 120 minutes 120 dollars  \n",
      " 1 shot 30 minutes 2500 RMB 1 hour 2 shots 4000 RMB 2 hours 6000 RMB Dinner date (6 hours) 10,000 RMB Overnight 12 hours 12,000 RMB \n",
      "   800 EUR(~912 USD ) 3 hours:    1,200 EUR(~1,369 USD ) 8 hours:    2,000 EUR(~2,281 USD ) 12 hours:    2,500 EUR(~2,851 USD ) 24 hours:    3,000 EUR(~3,421 USD ) 48 hours: \n",
      " $500 USD 1hr,$5500 USD 12hrs, $1800 USD 4hrs, 90 usd for 90mins, 90 usd per hour , 100 dollars per hours, 70 usd 30mn, \n",
      " 1 dollar for 1 minute, 30 dollars for 30 minutes, $260 USD 30 min, $140 USD 30 min, $50 dollar 40 min\n",
      " 2hrs for 2oo dollars , 3hrs for 300 dollars , 250 USD 120 minute\n",
      " thousand dollars per week \n",
      " hundred dollars half hour \n",
      " 1 hr 60 USD, 2 hrs 100 USD, One hour 63 USD, Two hours 123 USD \n",
      " 1hr = 200 USD ,1HR |120 USD\n",
      "200 to 300 USD 2-4 Hours, 400 to 500 USD Full Night,  \n",
      " 250 USD hh , 550 USD hr, \n",
      " 1 HOUR - $220 USD ● 2 HOUR - $420 USD ● 3 HOUR - $600 USD,  1 hour - $600 / 2 hours - $1200 / 3 hours - $1500   \n",
      " 123 USD Three hours ,183 USD Four hours, ,\n",
      "  90 minutes. $90 USD, 30 minutos: $200  \n",
      " 1 hr - 500 $ USD, 2 hr - 1000 $ USD\n",
      " 2 hour :600$ USD \n",
      " 180 USD / hour  \n",
      " 1 HOUR with me 400 usd, 2 HOUR with me 800 usd   \n",
      " 1 hour $140(1x) , 90 min for $180(2x) , 2 hours for $220  \n",
      " $80 for 15m $100 for 30m $180 for 60m  \n"
     ]
    },
    {
     "data": {
      "text/plain": [
       "['1HOUR-400usd', '2HOUR-800usd']"
      ]
     },
     "execution_count": 30,
     "metadata": {},
     "output_type": "execute_result"
    }
   ],
   "source": [
    "#1 HOUR with me 400 usd\n",
    "rule_25 = {\n",
    "      \"identifier\": \"price_rule_us\",\n",
    "      \"description\": \"a description\",\n",
    "      \"is_active\": \"true\",\n",
    "      \"output_format\": \"{1}{2}-{3}{4}\",\n",
    "      \"pattern\": [\n",
    "            number_token(is_in_output=\"true\"),\n",
    "            word_token(token=[\"min\",\"mins\",\"minutes\", \"minute\",\"minutos\",\"h\",\"H\",\"hr\",\"hour\",\"hours\"], is_in_output=\"true\"),\n",
    "            word_token(token=[\"with\"], is_in_output=\"false\"),\n",
    "            word_token(token=[\"me\"], is_in_output=\"false\"),\n",
    "            number_token(is_in_output=\"true\"),\n",
    "            word_token(token=[\"roses\", \"dollars\",\"dollar\", \"RMB\", \"EUR\", \"USD\", \"usd\"], is_required=\"false\",is_in_output=\"true\")\n",
    "   \n",
    "      ]\n",
    "    }\n",
    "\n",
    "field_rules = {\n",
    "  \"rules\": [\n",
    "      rule_25\n",
    "  ]\n",
    "}\n",
    "\n",
    "print \"text:\", d['text']\n",
    "results = c.extract_using_custom_spacy(d, config, field_rules=field_rules)\n",
    "tele_lst = []\n",
    "for i in results:\n",
    "    tele_lst.append(''.join((i.values()[1]).split()))\n",
    "tele_lst"
   ]
  },
  {
   "cell_type": "code",
   "execution_count": 31,
   "metadata": {},
   "outputs": [
    {
     "name": "stdout",
     "output_type": "stream",
     "text": [
      "text:   4 hours-600 USD ,1 hr 60 USD ,2 hrs 100 USD , 1 hr: 80 USd ,2 hrs: 135 USd ,1 hour-900 USD,1hours - 130 usd ,A + 150! Incall: Outcall: 20 mins-300 roses, 30 minutes - 200 roses 90 min - 450 roses 1h - 300 roses 350 roses 2h - 550 roses 600 roses 3h - 750 roses 800 roses night - 1300 roses\n",
      "(extra Roses ) RATES: 30min - 150 Roses ; 40min - 200 Roses ; 1H - 250 Roses ; 1H OUTCALL- 300 Roses ; 2H - 400 Roses ; 3H - 550 Roses ; 4H - 650 Roses ; 12H - 1200 Roses ;\n",
      "40!ss 40!ss 40!ss Specials! ? 60! hhr 60! hhr 60! hhr Speci\n",
      "120 hhr 120 hhr 120 hhr ，150 Hr 150 Hr 150 Hr 150 Hr 150 Hr 150 \n",
      "30 minutes 40 dollars 60 minutes 49.9 dollars 90 minutes 90 dollars 120 minutes 120 dollars  \n",
      " 1 shot 30 minutes 2500 RMB 1 hour 2 shots 4000 RMB 2 hours 6000 RMB Dinner date (6 hours) 10,000 RMB Overnight 12 hours 12,000 RMB \n",
      "   800 EUR(~912 USD ) 3 hours:    1,200 EUR(~1,369 USD ) 8 hours:    2,000 EUR(~2,281 USD ) 12 hours:    2,500 EUR(~2,851 USD ) 24 hours:    3,000 EUR(~3,421 USD ) 48 hours: \n",
      " $500 USD 1hr,$5500 USD 12hrs, $1800 USD 4hrs, 90 usd for 90mins, 90 usd per hour , 100 dollars per hours, 70 usd 30mn, \n",
      " 1 dollar for 1 minute, 30 dollars for 30 minutes, $260 USD 30 min, $140 USD 30 min, $50 dollar 40 min\n",
      " 2hrs for 2oo dollars , 3hrs for 300 dollars , 250 USD 120 minute\n",
      " thousand dollars per week \n",
      " hundred dollars half hour \n",
      " 1 hr 60 USD, 2 hrs 100 USD, One hour 63 USD, Two hours 123 USD \n",
      " 1hr = 200 USD ,1HR |120 USD\n",
      "200 to 300 USD 2-4 Hours, 400 to 500 USD Full Night,  \n",
      " 250 USD hh , 550 USD hr, \n",
      " 1 HOUR - $220 USD ● 2 HOUR - $420 USD ● 3 HOUR - $600 USD,  1 hour - $600 / 2 hours - $1200 / 3 hours - $1500   \n",
      " 123 USD Three hours ,183 USD Four hours, ,\n",
      "  90 minutes. $90 USD, 30 minutos: $200  \n",
      " 1 hr - 500 $ USD, 2 hr - 1000 $ USD\n",
      " 2 hour :600$ USD \n",
      " 180 USD / hour  \n",
      " 1 HOUR with me 400 usd, 2 HOUR with me 800 usd   \n",
      " 1 hour $140(1x) , 90 min for $180(2x) , 2 hours for $220  \n",
      " $80 for 15m $100 for 30m $180 for 60m  \n"
     ]
    },
    {
     "data": {
      "text/plain": [
       "['90min-$180', '2hours-$220']"
      ]
     },
     "execution_count": 31,
     "metadata": {},
     "output_type": "execute_result"
    }
   ],
   "source": [
    "# 1 hour $140(1x) , 90 min for $180(2x) , 2 hours for $220\n",
    "rule_26 = {\n",
    "      \"identifier\": \"price_rule_us\",\n",
    "      \"description\": \"a description\",\n",
    "      \"is_active\": \"true\",\n",
    "      \"output_format\": \"{1}{2}-{3}{4}\",\n",
    "      \"pattern\": [\n",
    "            number_token(is_in_output=\"true\"),\n",
    "            word_token(token=[\"min\",\"mins\",\"minutes\", \"minute\",\"minutos\",\"h\",\"H\",\"hr\",\"hour\",\"hours\"], is_in_output=\"true\"),\n",
    "            word_token(token=[\"for\"], is_in_output=\"false\"),\n",
    "            punctuation_token(token=[\"$\"], is_in_output=\"true\"),\n",
    "            number_token(is_in_output=\"true\")\n",
    "            \n",
    "      ]\n",
    "    }\n",
    "\n",
    "field_rules = {\n",
    "  \"rules\": [\n",
    "      rule_26\n",
    "  ]\n",
    "}\n",
    "\n",
    "print \"text:\", d['text']\n",
    "results = c.extract_using_custom_spacy(d, config, field_rules=field_rules)\n",
    "tele_lst = []\n",
    "for i in results:\n",
    "    tele_lst.append(''.join((i.values()[1]).split()))\n",
    "tele_lst"
   ]
  },
  {
   "cell_type": "code",
   "execution_count": 32,
   "metadata": {},
   "outputs": [
    {
     "name": "stdout",
     "output_type": "stream",
     "text": [
      "text:   4 hours-600 USD ,1 hr 60 USD ,2 hrs 100 USD , 1 hr: 80 USd ,2 hrs: 135 USd ,1 hour-900 USD,1hours - 130 usd ,A + 150! Incall: Outcall: 20 mins-300 roses, 30 minutes - 200 roses 90 min - 450 roses 1h - 300 roses 350 roses 2h - 550 roses 600 roses 3h - 750 roses 800 roses night - 1300 roses\n",
      "(extra Roses ) RATES: 30min - 150 Roses ; 40min - 200 Roses ; 1H - 250 Roses ; 1H OUTCALL- 300 Roses ; 2H - 400 Roses ; 3H - 550 Roses ; 4H - 650 Roses ; 12H - 1200 Roses ;\n",
      "40!ss 40!ss 40!ss Specials! ? 60! hhr 60! hhr 60! hhr Speci\n",
      "120 hhr 120 hhr 120 hhr ，150 Hr 150 Hr 150 Hr 150 Hr 150 Hr 150 \n",
      "30 minutes 40 dollars 60 minutes 49.9 dollars 90 minutes 90 dollars 120 minutes 120 dollars  \n",
      " 1 shot 30 minutes 2500 RMB 1 hour 2 shots 4000 RMB 2 hours 6000 RMB Dinner date (6 hours) 10,000 RMB Overnight 12 hours 12,000 RMB \n",
      "   800 EUR(~912 USD ) 3 hours:    1,200 EUR(~1,369 USD ) 8 hours:    2,000 EUR(~2,281 USD ) 12 hours:    2,500 EUR(~2,851 USD ) 24 hours:    3,000 EUR(~3,421 USD ) 48 hours: \n",
      " $500 USD 1hr,$5500 USD 12hrs, $1800 USD 4hrs, 90 usd for 90mins, 90 usd per hour , 100 dollars per hours, 70 usd 30mn, \n",
      " 1 dollar for 1 minute, 30 dollars for 30 minutes, $260 USD 30 min, $140 USD 30 min, $50 dollar 40 min\n",
      " 2hrs for 2oo dollars , 3hrs for 300 dollars , 250 USD 120 minute\n",
      " thousand dollars per week \n",
      " hundred dollars half hour \n",
      " 1 hr 60 USD, 2 hrs 100 USD, One hour 63 USD, Two hours 123 USD \n",
      " 1hr = 200 USD ,1HR |120 USD\n",
      "200 to 300 USD 2-4 Hours, 400 to 500 USD Full Night,  \n",
      " 250 USD hh , 550 USD hr, \n",
      " 1 HOUR - $220 USD ● 2 HOUR - $420 USD ● 3 HOUR - $600 USD,  1 hour - $600 / 2 hours - $1200 / 3 hours - $1500   \n",
      " 123 USD Three hours ,183 USD Four hours, ,\n",
      "  90 minutes. $90 USD, 30 minutos: $200  \n",
      " 1 hr - 500 $ USD, 2 hr - 1000 $ USD\n",
      " 2 hour :600$ USD \n",
      " 180 USD / hour  \n",
      " 1 HOUR with me 400 usd, 2 HOUR with me 800 usd   \n",
      " 1 hour $140(1x) , 90 min for $180(2x) , 2 hours for $220  \n",
      " $80 for 15m $100 for 30m $180 for 60m  \n"
     ]
    },
    {
     "data": {
      "text/plain": [
       "[]"
      ]
     },
     "execution_count": 32,
     "metadata": {},
     "output_type": "execute_result"
    }
   ],
   "source": [
    "# $80 for 15m $100 for 30m $180 for 60m \n",
    "rule_27 = {\n",
    "      \"identifier\": \"price_rule_us\",\n",
    "      \"description\": \"a description\",\n",
    "      \"is_active\": \"true\",\n",
    "      \"output_format\": \"{1}{2}-{3}\",\n",
    "      \"pattern\": [\n",
    "            punctuation_token(token=[\"$\"], is_required=\"false\", is_in_output=\"true\"),\n",
    "            number_token(is_in_output=\"true\"),\n",
    "            word_token(token=[\"for\"], is_in_output=\"false\"),\n",
    "            number_token(number =[\"15m\",\"30m\",\"60m\",\"20min\",\"30min\",\"40min\",\"50min\",\"60min\",\"90min\",\"20mins\",\"30mins\",\"40mins\",\"50mins\",\"60mins\",\"90mins\", \"20mn\",\"30mn\",\"40mn\",\"50mn\",\"60mn\",\"90mn\",\"1H\",\"2H\",\"3H\",\"4H\",\"12H\",\"1hr\",\"2hrs\",\"3hrs\",\"4hrs\",\"5hrs\",\"6hrs\",\"7hrs\",\"1HR\",\"2HR\",\"3HR\"],is_in_output=\"true\")\n",
    "       \n",
    "      ]\n",
    "    }\n",
    "\n",
    "field_rules = {\n",
    "  \"rules\": [\n",
    "      rule_27\n",
    "  ]\n",
    "}\n",
    "\n",
    "print \"text:\", d['text']\n",
    "results = c.extract_using_custom_spacy(d, config, field_rules=field_rules)\n",
    "tele_lst = []\n",
    "for i in results:\n",
    "    tele_lst.append(''.join((i.values()[1]).split()))\n",
    "tele_lst"
   ]
  },
  {
   "cell_type": "code",
   "execution_count": null,
   "metadata": {
    "collapsed": true
   },
   "outputs": [],
   "source": []
  },
  {
   "cell_type": "markdown",
   "metadata": {},
   "source": [
    "## Test Several Rules"
   ]
  },
  {
   "cell_type": "code",
   "execution_count": 35,
   "metadata": {},
   "outputs": [
    {
     "name": "stdout",
     "output_type": "stream",
     "text": [
      "['4hours-600USD', '1hr-60USD', '2hrs-100USD', '1hr-80USd', '2hrs-135USd', '1hour-900USD', '20mins-300roses', '30minutes-200roses', '90min-450roses', '30minutes-40dollars', '90minutes-90dollars', '120minutes-120dollars', '30minutes-2500RMB', '2hours-6000RMB', '1hr-60USD', '2hrs-100USD', '120-1.5h', '120-1.5h', '120-1.5h', '800EUR-3hours', '1,200EUR-8hours', '2,000EUR-12hours', '2,500EUR-24hours', '3,000EUR-48hours', '60minutes-49.9dollars]', '1hours-130usd', '30min-150Roses', '40min-200Roses', '1H-250Roses', '1H-300Roses', '2H-400Roses', '3H-550Roses', '4H-650Roses', '12H-1200Roses', '60-hhr', '60-hhr', '60-hhr', '1hour-4000RMB', '500USD-1hr', '5500USD-12hrs', '1800USD-4hrs', '90usd-90mins', '70usd-30mn', '90usd-perhour', '100dollars-perhours', '123USD-Threehours', '183USD-Fourhours', '200roses-90min', '40dollars-60minutes', '9dollars-90minutes', '90dollars-120minutes', '2500RMB-1hour', '4000RMB-2hours', '1dollar-1minute', '30dollars-30minutes', '260USD-30min', '140USD-30min', '50dollar-40min', '250USD-120minute', '3hrs-300dollars', 'thousanddollars-1week', 'thousanddollars-perweek', 'hundreddollars-halfhour', '1hr-200USD', '1HR-120USD', '200to300USD-2-4Hours', '400to500USD-FullNight', '250USD-hh', '550USD-hr', '1HOUR-$220', '2HOUR-$420', '3HOUR-$600', '1hour-$600', '2hours-$1200', '3hours-$1500', 'Onehour-63USD', 'Twohours-123USD', '90minutes-$90', '30minutos-$200', '1hr-500$', '2hr-1000$', '2hour-600$', '180USD-1hour', '1HOUR-400usd', '2HOUR-800usd', '90min-$180', '2hours-$220', '$80-15m', '$100-30m', '$180-60m']\n"
     ]
    }
   ],
   "source": [
    "field_rules = {\n",
    "  \"rules\": [\n",
    "    rule_01, \n",
    "    rule_02,\n",
    "    rule_03,\n",
    "    rule_04,\n",
    "    rule_05,\n",
    "    rule_06,\n",
    "    rule_07,\n",
    "    rule_08,\n",
    "    rule_09,\n",
    "    rule_10,\n",
    "    rule_11,\n",
    "    rule_12,\n",
    "    rule_13,\n",
    "    rule_14,\n",
    "    rule_15,\n",
    "    rule_16,\n",
    "    rule_17,\n",
    "    rule_18,\n",
    "    rule_19,\n",
    "    rule_20,\n",
    "    rule_21,\n",
    "    rule_22,\n",
    "    rule_23,\n",
    "    rule_24,\n",
    "    rule_25,\n",
    "    rule_26,\n",
    "    rule_27\n",
    " \n",
    "  ],\n",
    "    \"test_text\": d['text'],\n",
    "    \"test_tokens\": c.extract_tokens_from_crf(c.extract_crftokens(d['text'], lowercase=False))\n",
    "}\n",
    "\n",
    "\n",
    "\n",
    "results = c.extract_using_custom_spacy(d, config, field_rules=field_rules)\n",
    "\n",
    "price_lst = []\n",
    "for i in results:\n",
    "    price_lst.append(''.join((i.values()[1]).split()))\n",
    "results.append(price_lst)\n",
    "field_rules['results']=results\n",
    "\n",
    "s = json.dumps(field_rules)\n",
    "print price_lst\n",
    "\n",
    "import codecs\n",
    "o = codecs.open('price_file.jl', 'w')\n",
    "o.write(s)\n",
    "o.close()\n",
    "\n",
    "\n",
    "\n"
   ]
  },
  {
   "cell_type": "code",
   "execution_count": 34,
   "metadata": {},
   "outputs": [
    {
     "name": "stdout",
     "output_type": "stream",
     "text": [
      "{'prefix': '', 'suffix': '', 'capitalization': [], 'part_of_speech': [], 'length': [], 'maximum': '', 'shapes': [], 'token': ['hello'], 'minimum': '', 'numbers': [], 'contain_digit': '', 'is_in_vocabulary': '', 'is_out_of_vocabulary': '', 'is_required': 'true', 'type': 'word', 'is_in_output': 'false'}\n"
     ]
    }
   ],
   "source": [
    "\n",
    "print word_token(token=[\"hello\"])"
   ]
  }
 ],
 "metadata": {
  "kernelspec": {
   "display_name": "Python [conda env:etk_env]",
   "language": "python",
   "name": "conda-env-etk_env-py"
  },
  "language_info": {
   "codemirror_mode": {
    "name": "ipython",
    "version": 2
   },
   "file_extension": ".py",
   "mimetype": "text/x-python",
   "name": "python",
   "nbconvert_exporter": "python",
   "pygments_lexer": "ipython2",
   "version": "2.7.12"
  }
 },
 "nbformat": 4,
 "nbformat_minor": 1
}
